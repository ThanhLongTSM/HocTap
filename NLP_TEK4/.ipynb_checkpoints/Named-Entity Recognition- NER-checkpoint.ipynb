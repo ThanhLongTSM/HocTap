{
 "cells": [
  {
   "cell_type": "code",
   "execution_count": 1,
   "id": "c71bc034",
   "metadata": {},
   "outputs": [
    {
     "name": "stderr",
     "output_type": "stream",
     "text": [
      "[nltk_data] Downloading package averaged_perceptron_tagger to\n",
      "[nltk_data]     C:\\Users\\thesh\\AppData\\Roaming\\nltk_data...\n",
      "[nltk_data]   Package averaged_perceptron_tagger is already up-to-\n",
      "[nltk_data]       date!\n",
      "[nltk_data] Downloading package maxent_ne_chunker to\n",
      "[nltk_data]     C:\\Users\\thesh\\AppData\\Roaming\\nltk_data...\n",
      "[nltk_data]   Package maxent_ne_chunker is already up-to-date!\n",
      "[nltk_data] Downloading package words to\n",
      "[nltk_data]     C:\\Users\\thesh\\AppData\\Roaming\\nltk_data...\n",
      "[nltk_data]   Package words is already up-to-date!\n"
     ]
    },
    {
     "data": {
      "text/plain": [
       "True"
      ]
     },
     "execution_count": 1,
     "metadata": {},
     "output_type": "execute_result"
    }
   ],
   "source": [
    "import nltk\n",
    "nltk.download('averaged_perceptron_tagger')\n",
    "nltk.download('maxent_ne_chunker')\n",
    "nltk.download('words')"
   ]
  },
  {
   "cell_type": "code",
   "execution_count": 2,
   "id": "67bebd70",
   "metadata": {},
   "outputs": [],
   "source": [
    "import nltk\n",
    "sentences = '''In New York, I like to ride the Metro to visit MOMA and some restaurants rated well by Ruth Reichl.'''\n",
    "tokenized_sent = nltk.word_tokenize(sentences)"
   ]
  },
  {
   "cell_type": "code",
   "execution_count": 3,
   "id": "35a32434",
   "metadata": {},
   "outputs": [],
   "source": [
    "tagged_sent = nltk.pos_tag(tokenized_sent)"
   ]
  },
  {
   "cell_type": "code",
   "execution_count": 4,
   "id": "0b874fb8",
   "metadata": {},
   "outputs": [
    {
     "data": {
      "text/plain": [
       "[('In', 'IN'),\n",
       " ('New', 'NNP'),\n",
       " ('York', 'NNP'),\n",
       " (',', ','),\n",
       " ('I', 'PRP'),\n",
       " ('like', 'VBP'),\n",
       " ('to', 'TO'),\n",
       " ('ride', 'VB'),\n",
       " ('the', 'DT'),\n",
       " ('Metro', 'NNP'),\n",
       " ('to', 'TO'),\n",
       " ('visit', 'VB'),\n",
       " ('MOMA', 'NNP'),\n",
       " ('and', 'CC'),\n",
       " ('some', 'DT'),\n",
       " ('restaurants', 'NNS'),\n",
       " ('rated', 'VBN'),\n",
       " ('well', 'RB'),\n",
       " ('by', 'IN'),\n",
       " ('Ruth', 'NNP'),\n",
       " ('Reichl', 'NNP'),\n",
       " ('.', '.')]"
      ]
     },
     "execution_count": 4,
     "metadata": {},
     "output_type": "execute_result"
    }
   ],
   "source": [
    "tagged_sent"
   ]
  },
  {
   "cell_type": "code",
   "execution_count": 5,
   "id": "bf43ec58",
   "metadata": {},
   "outputs": [
    {
     "name": "stdout",
     "output_type": "stream",
     "text": [
      "(S\n",
      "  In/IN\n",
      "  (GPE New/NNP York/NNP)\n",
      "  ,/,\n",
      "  I/PRP\n",
      "  like/VBP\n",
      "  to/TO\n",
      "  ride/VB\n",
      "  the/DT\n",
      "  (ORGANIZATION Metro/NNP)\n",
      "  to/TO\n",
      "  visit/VB\n",
      "  (ORGANIZATION MOMA/NNP)\n",
      "  and/CC\n",
      "  some/DT\n",
      "  restaurants/NNS\n",
      "  rated/VBN\n",
      "  well/RB\n",
      "  by/IN\n",
      "  (PERSON Ruth/NNP Reichl/NNP)\n",
      "  ./.)\n"
     ]
    }
   ],
   "source": [
    "print(nltk.ne_chunk(tagged_sent))"
   ]
  },
  {
   "cell_type": "markdown",
   "id": "14c87214",
   "metadata": {},
   "source": [
    "### NER với NLTK"
   ]
  },
  {
   "cell_type": "markdown",
   "id": "52f806dc",
   "metadata": {},
   "source": [
    "Thực hành với tính năng nhận dạng thực thể(NER)! Một bài báo được đại diện bởi biến article đã được tải trước vào không gian làm việc của bản. Nhiệm vụ của bạn là sử dụng nltk để tìm các thực thể có tên (NER) trong bài báo này.\n",
    "Bài báo có thể nói về điều gì, với những cái tên bạn tim thấy? <br>\n",
    "Các hàm `nltk`, `sent_tokenize` và `word_tokenize` đã được nhập trước"
   ]
  },
  {
   "cell_type": "code",
   "execution_count": 6,
   "id": "5d698e8b",
   "metadata": {},
   "outputs": [],
   "source": [
    "articles = 'Hanoi is the second-largest city in Vietnam with a total land area of 3,329 km². Hanoi has a long history dating back 3,000 BC. It has had several names from the ancient Thăng Long period to the French occupation in the 1870s. The charming capital is home to about 7.7 million people of different faiths and ethnicities.The capital has been projected to be the fastest-growing city in the world in terms of gross domestic product from 2008 to 2025. Industrial production is the city’s largest industry, followed by trade and tourism. Populated with small expat communities, it is a breeze for assignees to join one and build a social circle. The locals, with their mild demeanour, are generally also very approachable.It is not uncommon for some Vietnamese to know of Mandarin and English, but it remains a minority. Vietnamese is closely associated with the Cambodian language Khmer. Many of the educated population and older people educated in the former South Vietnam speak French. Descendants of families with close ties with the earlier Soviet bloc communicate in Russian, German, Czech and Polish. Expats are encouraged to take up basic Vietnamese lessons as some conversational phrases can be incredibly useful in daily life.The cost of living in Hanoi and other parts of Vietnam is low even by Asian standards, making it a truly attractive destination for Westerners. Rent, utilities, food and entertainment cost a fraction of the costs in the US or Britain. A fully-furnished one-bedroom apartment in the expat neighbourhood of Tay Ho is for US$300 to US$400 per month. There’s a lot of options when it comes to housing accommodations, from extravagant French villas to functional studio flats.The city enjoys a warm humid subtropical climate with four distinct seasons: summer (May-August), fall (September-October), winter (November-January) and spring (February-April). Residents experience heavy precipitation most of the year, especially in summer. Hanoi earned its nickname, the Paris of the East, from the picturesque tree-lined boulevards adorned with French-style villas and buildings. Expats in their free time can enjoy the serenity by one of Hanoi’s many lakes with a good book and brewed coffee. The city is truly a beautiful infusion of Eastern and Western cultures. Many of the relics from ancient dynasties survived wars and the wear and tear of time. Grand Opera House, Hotel Metropole and Hanoi Museum are just some of its famous landmarks.'"
   ]
  },
  {
   "cell_type": "code",
   "execution_count": 7,
   "id": "315a7bbb",
   "metadata": {
    "scrolled": false
   },
   "outputs": [
    {
     "data": {
      "text/plain": [
       "'Hanoi is the second-largest city in Vietnam with a total land area of 3,329 km². Hanoi has a long history dating back 3,000 BC. It has had several names from the ancient Thăng Long period to the French occupation in the 1870s. The charming capital is home to about 7.7 million people of different faiths and ethnicities.The capital has been projected to be the fastest-growing city in the world in terms of gross domestic product from 2008 to 2025. Industrial production is the city’s largest industry, followed by trade and tourism. Populated with small expat communities, it is a breeze for assignees to join one and build a social circle. The locals, with their mild demeanour, are generally also very approachable.It is not uncommon for some Vietnamese to know of Mandarin and English, but it remains a minority. Vietnamese is closely associated with the Cambodian language Khmer. Many of the educated population and older people educated in the former South Vietnam speak French. Descendants of families with close ties with the earlier Soviet bloc communicate in Russian, German, Czech and Polish. Expats are encouraged to take up basic Vietnamese lessons as some conversational phrases can be incredibly useful in daily life.The cost of living in Hanoi and other parts of Vietnam is low even by Asian standards, making it a truly attractive destination for Westerners. Rent, utilities, food and entertainment cost a fraction of the costs in the US or Britain. A fully-furnished one-bedroom apartment in the expat neighbourhood of Tay Ho is for US$300 to US$400 per month. There’s a lot of options when it comes to housing accommodations, from extravagant French villas to functional studio flats.The city enjoys a warm humid subtropical climate with four distinct seasons: summer (May-August), fall (September-October), winter (November-January) and spring (February-April). Residents experience heavy precipitation most of the year, especially in summer. Hanoi earned its nickname, the Paris of the East, from the picturesque tree-lined boulevards adorned with French-style villas and buildings. Expats in their free time can enjoy the serenity by one of Hanoi’s many lakes with a good book and brewed coffee. The city is truly a beautiful infusion of Eastern and Western cultures. Many of the relics from ancient dynasties survived wars and the wear and tear of time. Grand Opera House, Hotel Metropole and Hanoi Museum are just some of its famous landmarks.'"
      ]
     },
     "execution_count": 7,
     "metadata": {},
     "output_type": "execute_result"
    }
   ],
   "source": [
    "articles"
   ]
  },
  {
   "cell_type": "code",
   "execution_count": 8,
   "id": "6cf2256d",
   "metadata": {},
   "outputs": [],
   "source": [
    "from nltk.tokenize import sent_tokenize,word_tokenize\n"
   ]
  },
  {
   "cell_type": "code",
   "execution_count": 9,
   "id": "cd98854f",
   "metadata": {},
   "outputs": [],
   "source": [
    "sent_articles = sent_tokenize(articles)\n",
    "word_articles = [nltk.pos_tag(word_tokenize(sent)) for sent in sent_articles]\n"
   ]
  },
  {
   "cell_type": "code",
   "execution_count": 10,
   "id": "f6ba206f",
   "metadata": {},
   "outputs": [],
   "source": [
    "chunked_sentences = nltk.ne_chunk_sents(word_articles,binary = True)"
   ]
  },
  {
   "cell_type": "code",
   "execution_count": 11,
   "id": "4a751475",
   "metadata": {},
   "outputs": [
    {
     "name": "stdout",
     "output_type": "stream",
     "text": [
      "(NE Hanoi/NNP)\n",
      "(NE Vietnam/NNP)\n",
      "(NE Hanoi/NNP)\n",
      "(NE Thăng/NNP Long/NNP)\n",
      "(NE French/JJ)\n",
      "(NE Industrial/NNP)\n",
      "(NE Mandarin/NNP)\n",
      "(NE English/NNP)\n",
      "(NE Vietnamese/JJ)\n",
      "(NE Cambodian/JJ)\n",
      "(NE South/NNP Vietnam/NNP)\n",
      "(NE French/NNP)\n",
      "(NE Soviet/JJ)\n",
      "(NE Russian/NNP)\n",
      "(NE German/NNP)\n",
      "(NE Czech/NNP)\n",
      "(NE Polish/NNP)\n",
      "(NE Hanoi/NNP)\n",
      "(NE Vietnam/NNP)\n",
      "(NE Asian/JJ)\n",
      "(NE Westerners/NNP)\n",
      "(NE Rent/NN)\n",
      "(NE US/NNP)\n",
      "(NE Britain/NNP)\n",
      "(NE Tay/NNP Ho/NNP)\n",
      "(NE US/NNP)\n",
      "(NE US/NNP)\n",
      "(NE French/JJ)\n",
      "(NE Hanoi/NNP)\n",
      "(NE Paris/NNP)\n",
      "(NE East/NNP)\n",
      "(NE Hanoi/NNP)\n",
      "(NE Eastern/NNP)\n",
      "(NE Western/JJ)\n",
      "(NE Grand/NNP Opera/NNP House/NNP)\n",
      "(NE Hotel/NNP Metropole/NNP)\n",
      "(NE Hanoi/NNP Museum/NNP)\n"
     ]
    }
   ],
   "source": [
    "for sent in chunked_sentences :\n",
    "    for chunk in sent:\n",
    "        if hasattr(chunk,'label') and chunk.label()=='NE':\n",
    "            print(chunk)"
   ]
  },
  {
   "cell_type": "markdown",
   "id": "b5253252",
   "metadata": {},
   "source": [
    "### Do it again"
   ]
  },
  {
   "cell_type": "code",
   "execution_count": 12,
   "id": "8528082c",
   "metadata": {},
   "outputs": [],
   "source": [
    "from nltk.tokenize import word_tokenize, sent_tokenize\n",
    "import nltk"
   ]
  },
  {
   "cell_type": "code",
   "execution_count": 14,
   "id": "6e2857ba",
   "metadata": {},
   "outputs": [
    {
     "name": "stdout",
     "output_type": "stream",
     "text": [
      "(NE Hanoi/NNP)\n",
      "(NE Vietnam/NNP)\n",
      "(NE Hanoi/NNP)\n",
      "(NE Thăng/NNP Long/NNP)\n",
      "(NE French/JJ)\n",
      "(NE Industrial/NNP)\n",
      "(NE Mandarin/NNP)\n",
      "(NE English/NNP)\n",
      "(NE Vietnamese/JJ)\n",
      "(NE Cambodian/JJ)\n",
      "(NE South/NNP Vietnam/NNP)\n",
      "(NE French/NNP)\n",
      "(NE Soviet/JJ)\n",
      "(NE Russian/NNP)\n",
      "(NE German/NNP)\n",
      "(NE Czech/NNP)\n",
      "(NE Polish/NNP)\n",
      "(NE Hanoi/NNP)\n",
      "(NE Vietnam/NNP)\n",
      "(NE Asian/JJ)\n",
      "(NE Westerners/NNP)\n",
      "(NE Rent/NN)\n",
      "(NE US/NNP)\n",
      "(NE Britain/NNP)\n",
      "(NE Tay/NNP Ho/NNP)\n",
      "(NE US/NNP)\n",
      "(NE US/NNP)\n",
      "(NE French/JJ)\n",
      "(NE Hanoi/NNP)\n",
      "(NE Paris/NNP)\n",
      "(NE East/NNP)\n",
      "(NE Hanoi/NNP)\n",
      "(NE Eastern/NNP)\n",
      "(NE Western/JJ)\n",
      "(NE Grand/NNP Opera/NNP House/NNP)\n",
      "(NE Hotel/NNP Metropole/NNP)\n",
      "(NE Hanoi/NNP Museum/NNP)\n"
     ]
    }
   ],
   "source": [
    "sentences = sent_tokenize(articles)\n",
    "token_sentences = [word_tokenize(sent) for sent in sentences]\n",
    "pos_sentences = [nltk.pos_tag(sent) for sent in token_sentences]\n",
    "chunked_sent = nltk.ne_chunk_sents(pos_sentences,binary = True)\n",
    "for sent in chunked_sent :\n",
    "    for chunk in sent:\n",
    "        if hasattr(chunk,'label') and (chunk.label() == 'NE'):\n",
    "            print(chunk)\n",
    "            "
   ]
  },
  {
   "cell_type": "code",
   "execution_count": 43,
   "id": "267261b8",
   "metadata": {},
   "outputs": [],
   "source": [
    "from collections import defaultdict\n",
    "import matplotlib.pyplot as plt\n",
    "%matplotlib inline\n",
    "ner_categories = defaultdict(int)"
   ]
  },
  {
   "cell_type": "code",
   "execution_count": 61,
   "id": "a585fddf",
   "metadata": {},
   "outputs": [],
   "source": [
    "for sent in chunked_sentences:\n",
    "    for chunk in sent:\n",
    "        if hasattr(chunk,'label'):\n",
    "            ner_categories[chunk.label()]+=1\n"
   ]
  },
  {
   "cell_type": "code",
   "execution_count": 59,
   "id": "5bae1e89",
   "metadata": {},
   "outputs": [
    {
     "ename": "AttributeError",
     "evalue": "'tuple' object has no attribute 'label'",
     "output_type": "error",
     "traceback": [
      "\u001b[1;31m---------------------------------------------------------------------------\u001b[0m",
      "\u001b[1;31mAttributeError\u001b[0m                            Traceback (most recent call last)",
      "Input \u001b[1;32mIn [59]\u001b[0m, in \u001b[0;36m<cell line: 1>\u001b[1;34m()\u001b[0m\n\u001b[1;32m----> 1\u001b[0m ner_categories[\u001b[43mchunk\u001b[49m\u001b[38;5;241;43m.\u001b[39;49m\u001b[43mlabel\u001b[49m()]\n",
      "\u001b[1;31mAttributeError\u001b[0m: 'tuple' object has no attribute 'label'"
     ]
    }
   ],
   "source": []
  },
  {
   "cell_type": "code",
   "execution_count": 58,
   "id": "9ccefcca",
   "metadata": {},
   "outputs": [
    {
     "data": {
      "text/plain": [
       "[]"
      ]
     },
     "execution_count": 58,
     "metadata": {},
     "output_type": "execute_result"
    }
   ],
   "source": [
    "labels = list(ner_categories.keys())\n"
   ]
  },
  {
   "cell_type": "code",
   "execution_count": 52,
   "id": "5db4bc83",
   "metadata": {},
   "outputs": [],
   "source": [
    "values = [ ner_categories.get(v) for v in labels]"
   ]
  },
  {
   "cell_type": "code",
   "execution_count": 53,
   "id": "2daaf706",
   "metadata": {},
   "outputs": [
    {
     "data": {
      "text/plain": [
       "([], [], [])"
      ]
     },
     "execution_count": 53,
     "metadata": {},
     "output_type": "execute_result"
    },
    {
     "data": {
      "image/png": "[encoded data removed]",
      "text/plain": [
       "<Figure size 640x480 with 1 Axes>"
      ]
     },
     "metadata": {},
     "output_type": "display_data"
    }
   ],
   "source": [
    "plt.pie(values,labels=labels,autopct='%1.1f%%',startangle=140)"
   ]
  }
 ],
 "metadata": {
  "kernelspec": {
   "display_name": "Python 3 (ipykernel)",
   "language": "python",
   "name": "python3"
  },
  "language_info": {
   "codemirror_mode": {
    "name": "ipython",
    "version": 3
   },
   "file_extension": ".py",
   "mimetype": "text/x-python",
   "name": "python",
   "nbconvert_exporter": "python",
   "pygments_lexer": "ipython3",
   "version": "3.9.0"
  }
 },
 "nbformat": 4,
 "nbformat_minor": 5
}
