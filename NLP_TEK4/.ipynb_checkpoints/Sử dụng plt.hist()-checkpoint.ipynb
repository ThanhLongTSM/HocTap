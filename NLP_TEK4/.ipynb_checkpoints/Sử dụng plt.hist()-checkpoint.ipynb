{
 "cells": [
  {
   "cell_type": "code",
   "execution_count": 19,
   "id": "2e4254ff",
   "metadata": {},
   "outputs": [
    {
     "name": "stdout",
     "output_type": "stream",
     "text": [
      "[]\n"
     ]
    }
   ],
   "source": [
    "from nltk.tokenize import TweetTokenizer,regexp_tokenize\n",
    "ht = '#xinchaovn'\n",
    "# Định nghĩa pattern1\n",
    "pattern1 = '#\\w+'\n",
    "# Sử dụng pattern1  trên tweet đầu tiên trong danh sách tweet\n",
    "hashtags = regexp_tokenize(ht[0], pattern1)\n",
    "# pattern2 = ([__]\\w+)\n",
    "# # Sử dụng pattern2 trên tweet cuối cùng trong danh sách tweet\n",
    "# mentions_hashtags = ____(____[__], ____)\n",
    "# # Use the TweetTokenizer to tokenize all tweets into one list\n",
    "# tknzr = ____\n",
    "# all_tokens = [____(_) for t in tweets]\n",
    "print(hashtags)"
   ]
  }
 ],
 "metadata": {
  "kernelspec": {
   "display_name": "Python 3 (ipykernel)",
   "language": "python",
   "name": "python3"
  },
  "language_info": {
   "codemirror_mode": {
    "name": "ipython",
    "version": 3
   },
   "file_extension": ".py",
   "mimetype": "text/x-python",
   "name": "python",
   "nbconvert_exporter": "python",
   "pygments_lexer": "ipython3",
   "version": "3.9.0"
  }
 },
 "nbformat": 4,
 "nbformat_minor": 5
}
