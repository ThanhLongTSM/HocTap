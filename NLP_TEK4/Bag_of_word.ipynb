{
 "cells": [
  {
   "cell_type": "code",
   "execution_count": 1,
   "id": "285f5426",
   "metadata": {},
   "outputs": [
    {
     "name": "stderr",
     "output_type": "stream",
     "text": [
      "[nltk_data] Downloading package omw-1.4 to\n",
      "[nltk_data]     C:\\Users\\thesh\\AppData\\Roaming\\nltk_data...\n",
      "[nltk_data]   Package omw-1.4 is already up-to-date!\n"
     ]
    },
    {
     "data": {
      "text/plain": [
       "True"
      ]
     },
     "execution_count": 1,
     "metadata": {},
     "output_type": "execute_result"
    }
   ],
   "source": [
    "# Download and import Library\n",
    "import nltk\n",
    "nltk.download('omw-1.4')"
   ]
  },
  {
   "cell_type": "code",
   "execution_count": 2,
   "id": "86093850",
   "metadata": {},
   "outputs": [],
   "source": [
    "from nltk.tokenize import word_tokenize\n",
    "from collections import Counter"
   ]
  },
  {
   "cell_type": "code",
   "execution_count": 3,
   "id": "cd9a96bf",
   "metadata": {},
   "outputs": [
    {
     "name": "stdout",
     "output_type": "stream",
     "text": [
      "Counter({'The': 2, 'cat': 2, 'box': 2, '.': 2, 'is': 1, 'in': 1, 'the': 1})\n"
     ]
    }
   ],
   "source": [
    "counter = Counter(word_tokenize(\"\"\"The cat is in the box. The cat box.\"\"\"))\n",
    "print(counter)"
   ]
  },
  {
   "cell_type": "code",
   "execution_count": 4,
   "id": "bf3660e2",
   "metadata": {},
   "outputs": [
    {
     "data": {
      "text/plain": [
       "[('The', 2), ('cat', 2)]"
      ]
     },
     "execution_count": 4,
     "metadata": {},
     "output_type": "execute_result"
    }
   ],
   "source": [
    "counter.most_common(2)  # trả về 2 giá token đứng đầu về tần suất xuất hiện"
   ]
  },
  {
   "cell_type": "markdown",
   "id": "96076958",
   "metadata": {},
   "source": [
    "### Test"
   ]
  },
  {
   "cell_type": "code",
   "execution_count": 5,
   "id": "0c173400",
   "metadata": {},
   "outputs": [],
   "source": [
    "article_title  = 'người Mỹ thi đấu từ năm 1940 đến năm 1965. Ông có tên trong Đại sảnh Danh vọng Quyền Anh Quốc tế năm 1990. Ông thường được coi là võ sĩ quyền Anh liên hạng vĩ đại nhất mọi thời đại. Robinson từng là tay đấm nghiệp dư nổi trội. Nhưng thành tích nghiệp dư hiện chưa rõ, thường hay được liệt kê với tỷ lệ 85–0 với 69 lần hạ đo ván, 40 lần thắng ở hiệp thứ nhất. Tuy nhiên có thông tin cho rằng Walker Smith Jr. tuổi thiếu niên đã thua trước Billy Graham và Patsy Pesca. Ông bước lên chuyên nghiệp năm 1940 khi 19 tuổi và đến năm 1951 có trong tay kỷ lục 128–1–2 với 84 trận thắng nốc ao.'"
   ]
  },
  {
   "cell_type": "code",
   "execution_count": 6,
   "id": "5638e4a9",
   "metadata": {},
   "outputs": [
    {
     "name": "stdout",
     "output_type": "stream",
     "text": [
      "[('.', 7), ('năm', 5), ('ông', 3), ('có', 3), ('đại', 3), ('nghiệp', 3), ('với', 3), ('1940', 2), ('đến', 2), ('trong', 2)]\n"
     ]
    }
   ],
   "source": [
    "from collections import Counter\n",
    "tokens = word_tokenize (article_title)\n",
    "\n",
    "lower_tokens = [x.lower() for x in tokens]\n",
    "bow_simple = Counter(lower_tokens)\n",
    "\n",
    "print(bow_simple.most_common(10))"
   ]
  },
  {
   "cell_type": "code",
   "execution_count": 7,
   "id": "c0af7a45",
   "metadata": {},
   "outputs": [
    {
     "data": {
      "text/plain": [
       "[('.', 7),\n",
       " ('năm', 5),\n",
       " ('ông', 3),\n",
       " ('có', 3),\n",
       " ('đại', 3),\n",
       " ('nghiệp', 3),\n",
       " ('với', 3),\n",
       " ('1940', 2),\n",
       " ('đến', 2),\n",
       " ('trong', 2)]"
      ]
     },
     "execution_count": 7,
     "metadata": {},
     "output_type": "execute_result"
    }
   ],
   "source": [
    "from collections import Counter\n",
    "tokens = word_tokenize(article_title)\n",
    "lower_tokens = [word.lower() for word in tokens]\n",
    "bow_simple = Counter(lower_tokens)\n",
    "bow_simple.most_common(10)"
   ]
  },
  {
   "cell_type": "markdown",
   "id": "460b3886",
   "metadata": {},
   "source": [
    "### Tiền xử lý"
   ]
  },
  {
   "cell_type": "markdown",
   "id": "c564d306",
   "metadata": {},
   "source": [
    "Xử lý văn bản giúp tạo ra dữ liệu đầu vào tốt hơn khi thực hiện học máy hoặc các phương pháp về số liệu thống kê khác. Ví dụ: trong một vài bài tập gần đây nhất, chúng ta đã áp dụng các quy trình tiền xử lý nhỏ (như tokenization) để tạo một túi từ. Bạn cũng nhận thấy rằng việc áp dụng các kỹ thuật đơn giản như viết thường tất cả các token, có thể dẫn đến kết quả tốt hơn một chút cho mô hình bag-of-words. Các bước tiền xử lý như tokenization hoặc viết thường các từ thường được sử dụng trong NLP. Các kỹ thuật phổ biến khác bao gồm lemmatization hay stemming, trong đó, chúng ta rút ngắn các từ về dạng gốc của chúng hoặc các kỹ thuật như loại bỏ các từ không có ý nghĩa, là những từ phổ biến trong một ngôn ngữ mà không mang nhiều ý nghĩa, chẳng hạn như 'and' hoặc 'the', xóa dấu chấm câu hoặc các token không mong muốn. Tất nhiên, mỗi mô hình và quy trình sẽ có kết quả khác nhau, vì vậy tốt hơn là chúng ta nên thử một vài cách tiếp cận khác nhau để xử lý trước và xem cách nào phù hợp nhất với nhiệm vụ và mục tiêu mà chúng ta đặt ra."
   ]
  },
  {
   "cell_type": "code",
   "execution_count": 8,
   "id": "eb9a1c9a",
   "metadata": {},
   "outputs": [],
   "source": [
    "from nltk.corpus import stopwords"
   ]
  },
  {
   "cell_type": "code",
   "execution_count": 9,
   "id": "5b1d5872",
   "metadata": {},
   "outputs": [],
   "source": [
    "text = 'The fish, cats, the dog and pig are so stupid, but the cat is more inteligent than fish'"
   ]
  },
  {
   "cell_type": "code",
   "execution_count": 10,
   "id": "b6fb687f",
   "metadata": {},
   "outputs": [],
   "source": [
    "token = [w for w in word_tokenize(text.lower())\n",
    "        if w.isalpha()]"
   ]
  },
  {
   "cell_type": "code",
   "execution_count": 11,
   "id": "70c64f02",
   "metadata": {},
   "outputs": [
    {
     "data": {
      "text/plain": [
       "['fish', 'cats', 'dog', 'pig', 'stupid', 'cat', 'inteligent', 'fish']"
      ]
     },
     "execution_count": 11,
     "metadata": {},
     "output_type": "execute_result"
    }
   ],
   "source": [
    "no_stops = [t for t in token\n",
    "           if t not in stopwords.words('english')]\n",
    "no_stops"
   ]
  },
  {
   "cell_type": "code",
   "execution_count": 12,
   "id": "d7628c25",
   "metadata": {},
   "outputs": [
    {
     "data": {
      "text/plain": [
       "[('fish', 2), ('cats', 1)]"
      ]
     },
     "execution_count": 12,
     "metadata": {},
     "output_type": "execute_result"
    }
   ],
   "source": [
    "Counter(no_stops).most_common(2)"
   ]
  },
  {
   "cell_type": "markdown",
   "id": "524d188b",
   "metadata": {},
   "source": [
    "### Text preprocessing practice"
   ]
  },
  {
   "cell_type": "code",
   "execution_count": 13,
   "id": "2cbebb7c",
   "metadata": {},
   "outputs": [],
   "source": [
    "from nltk.stem import WordNetLemmatizer"
   ]
  },
  {
   "cell_type": "code",
   "execution_count": 14,
   "id": "6ea47ec9",
   "metadata": {},
   "outputs": [],
   "source": [
    "text = 'Messi was born on June 24, 1987, in Rosario, Argentina. As a young boy, Messi tagged along when his two older brothers played soccer with their friends, unintimidated by the bigger boys. At the age of 8, he was recruited to join the youth system of Newell\\'s Old Boys, a Rosario-based club.Recognizably smaller than most of the kids in his age group, Messi was eventually diagnosed by doctors as suffering from a hormone deficiency that restricted his growth. Messi\\'s parents, Jorge and Ceclia, decided on a regimen of nightly growth-hormone injections for their son, though it soon proved impossible to pay several hundred dollars per month for the medication. '"
   ]
  },
  {
   "cell_type": "code",
   "execution_count": 15,
   "id": "f6662eb4",
   "metadata": {},
   "outputs": [],
   "source": [
    "from nltk.corpus import stopwords\n",
    "from collections import Counter\n",
    "from nltk.tokenize import word_tokenize,sent_tokenize"
   ]
  },
  {
   "cell_type": "code",
   "execution_count": 16,
   "id": "3682563b",
   "metadata": {},
   "outputs": [
    {
     "data": {
      "text/plain": [
       "[('the', 5),\n",
       " ('messi', 4),\n",
       " ('a', 4),\n",
       " ('of', 4),\n",
       " ('was', 3),\n",
       " ('his', 3),\n",
       " ('on', 2),\n",
       " ('in', 2),\n",
       " ('as', 2),\n",
       " ('their', 2)]"
      ]
     },
     "execution_count": 16,
     "metadata": {},
     "output_type": "execute_result"
    }
   ],
   "source": [
    "alpha_only = [w for w in word_tokenize(text.lower())\n",
    "        if w.isalpha()]\n",
    "bow_raw0 = Counter(alpha_only).most_common(10)\n",
    "bow_raw0"
   ]
  },
  {
   "cell_type": "code",
   "execution_count": 22,
   "id": "50241ab5",
   "metadata": {},
   "outputs": [
    {
     "data": {
      "text/plain": [
       "[('messi', 4),\n",
       " ('boys', 2),\n",
       " ('age', 2),\n",
       " ('born', 1),\n",
       " ('june', 1),\n",
       " ('rosario', 1),\n",
       " ('argentina', 1),\n",
       " ('young', 1),\n",
       " ('boy', 1),\n",
       " ('tagged', 1)]"
      ]
     },
     "execution_count": 22,
     "metadata": {},
     "output_type": "execute_result"
    }
   ],
   "source": [
    "no_stops = [w for w in alpha_only\n",
    "           if w not in stopwords.words('english')]\n",
    "bow_raw = Counter(no_stops).most_common(10)\n",
    "bow_raw"
   ]
  },
  {
   "cell_type": "code",
   "execution_count": 18,
   "id": "f3f8fae5",
   "metadata": {},
   "outputs": [],
   "source": [
    "wordnet_lemmatizer =  WordNetLemmatizer()\n",
    "lemmatized = [wordnet_lemmatizer.lemmatize(word) for word in no_stops]\n"
   ]
  },
  {
   "cell_type": "code",
   "execution_count": 20,
   "id": "66dd178a",
   "metadata": {},
   "outputs": [
    {
     "data": {
      "text/plain": [
       "[('messi', 4),\n",
       " ('boy', 3),\n",
       " ('age', 2),\n",
       " ('born', 1),\n",
       " ('june', 1),\n",
       " ('rosario', 1),\n",
       " ('argentina', 1),\n",
       " ('young', 1),\n",
       " ('tagged', 1),\n",
       " ('along', 1)]"
      ]
     },
     "execution_count": 20,
     "metadata": {},
     "output_type": "execute_result"
    }
   ],
   "source": [
    "bow = Counter(lemmatized).most_common(10)\n",
    "bow"
   ]
  },
  {
   "cell_type": "markdown",
   "id": "b6c7e1a3",
   "metadata": {},
   "source": [
    "### Thực hành tiền xử lý văn bản"
   ]
  },
  {
   "cell_type": "code",
   "execution_count": 33,
   "id": "84655283",
   "metadata": {},
   "outputs": [],
   "source": [
    "from nltk.stem import WordNetLemmatizer"
   ]
  },
  {
   "cell_type": "code",
   "execution_count": 28,
   "id": "dfc92008",
   "metadata": {},
   "outputs": [],
   "source": [
    "alpha_only = [w for w in word_tokenize(text)\n",
    "             if w.isalpha()]"
   ]
  },
  {
   "cell_type": "code",
   "execution_count": 31,
   "id": "4fda9212",
   "metadata": {},
   "outputs": [],
   "source": [
    "no_stops = [word for word in alpha_only\n",
    "           if word not in stopwords.words('english')]"
   ]
  },
  {
   "cell_type": "code",
   "execution_count": 35,
   "id": "cc230000",
   "metadata": {},
   "outputs": [],
   "source": [
    "wordnet_lemmantizer =WordNetLemmatizer\n",
    "lemmatized = [wordnet_lemmatizer.lemmatize(w) for w in no_stops]"
   ]
  },
  {
   "cell_type": "code",
   "execution_count": 38,
   "id": "9ab983e2",
   "metadata": {},
   "outputs": [],
   "source": [
    "bow = Counter(lemmatized)"
   ]
  },
  {
   "cell_type": "code",
   "execution_count": 40,
   "id": "92874f3b",
   "metadata": {},
   "outputs": [
    {
     "data": {
      "text/plain": [
       "[('Messi', 4), ('boy', 2), ('age', 2)]"
      ]
     },
     "execution_count": 40,
     "metadata": {},
     "output_type": "execute_result"
    }
   ],
   "source": [
    "bow.most_common(3)"
   ]
  }
 ],
 "metadata": {
  "kernelspec": {
   "display_name": "Python 3 (ipykernel)",
   "language": "python",
   "name": "python3"
  },
  "language_info": {
   "codemirror_mode": {
    "name": "ipython",
    "version": 3
   },
   "file_extension": ".py",
   "mimetype": "text/x-python",
   "name": "python",
   "nbconvert_exporter": "python",
   "pygments_lexer": "ipython3",
   "version": "3.9.0"
  }
 },
 "nbformat": 4,
 "nbformat_minor": 5
}
