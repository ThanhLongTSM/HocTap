{
 "cells": [
  {
   "cell_type": "code",
   "execution_count": 1,
   "id": "f813e154",
   "metadata": {},
   "outputs": [
    {
     "name": "stdout",
     "output_type": "stream",
     "text": [
      "(Berlin, Germany, Angela Merkel)\n",
      "Berlin  \t GPE\n",
      "Germany  \t GPE\n",
      "Angela Merkel  \t PERSON\n"
     ]
    }
   ],
   "source": [
    "import spacy\n",
    "nlp = spacy.load('en_core_web_sm')\n",
    "doc = nlp(\"\"\"Berlin is the capitat of Germany;\n",
    "             and the residence of Chancellor Angela Merkel.\"\"\")\n",
    "print(doc.ents)\n",
    "for i in range(3):\n",
    "    print(doc.ents[i] , ' \\t',doc.ents[i].label_)"
   ]
  },
  {
   "cell_type": "markdown",
   "id": "fe3091c1",
   "metadata": {},
   "source": [
    "### Comparing NLTK with spaCy NER"
   ]
  },
  {
   "cell_type": "code",
   "execution_count": 2,
   "id": "b2b6cd3a",
   "metadata": {},
   "outputs": [
    {
     "name": "stdout",
     "output_type": "stream",
     "text": [
      "GPE Berlin\n",
      "GPE Germany\n",
      "PERSON Angela Merkel\n"
     ]
    },
    {
     "name": "stderr",
     "output_type": "stream",
     "text": [
      "C:\\Users\\thesh\\anaconda3\\envs\\tf-gpu\\lib\\site-packages\\spacy\\pipeline\\lemmatizer.py:211: UserWarning: [W108] The rule-based lemmatizer did not find POS annotation for one or more tokens. Check that your pipeline includes components that assign token.pos, typically 'tagger'+'attribute_ruler' or 'morphologizer'.\n",
      "  warnings.warn(Warnings.W108)\n"
     ]
    }
   ],
   "source": [
    "import spacy\n",
    "nlp=spacy.load('en_core_web_sm',disable = ['tagger','parser','matcher'])\n",
    "articles = '''Berlin is the capitat of Germany;\n",
    "             and the residence of Chancellor Angela Merkel.'''\n",
    "doc = nlp(articles)\n",
    "for ent in doc.ents:\n",
    "    print(ent.label_,ent.text)"
   ]
  },
  {
   "cell_type": "markdown",
   "id": "47842a33",
   "metadata": {},
   "source": [
    "### Polyglot"
   ]
  },
  {
   "cell_type": "code",
   "execution_count": 4,
   "id": "3d152f83",
   "metadata": {},
   "outputs": [
    {
     "ename": "ModuleNotFoundError",
     "evalue": "No module named 'polyglot'",
     "output_type": "error",
     "traceback": [
      "\u001b[1;31m---------------------------------------------------------------------------\u001b[0m",
      "\u001b[1;31mModuleNotFoundError\u001b[0m                       Traceback (most recent call last)",
      "Input \u001b[1;32mIn [4]\u001b[0m, in \u001b[0;36m<cell line: 1>\u001b[1;34m()\u001b[0m\n\u001b[1;32m----> 1\u001b[0m \u001b[38;5;28;01mimport\u001b[39;00m \u001b[38;5;21;01mpolyglot\u001b[39;00m\n",
      "\u001b[1;31mModuleNotFoundError\u001b[0m: No module named 'polyglot'"
     ]
    }
   ],
   "source": [
    "import polyglot\n",
    "\n"
   ]
  },
  {
   "cell_type": "code",
   "execution_count": 4,
   "id": "cc3769aa",
   "metadata": {},
   "outputs": [
    {
     "ename": "ModuleNotFoundError",
     "evalue": "No module named 'polyglot'",
     "output_type": "error",
     "traceback": [
      "\u001b[1;31m---------------------------------------------------------------------------\u001b[0m",
      "\u001b[1;31mModuleNotFoundError\u001b[0m                       Traceback (most recent call last)",
      "Input \u001b[1;32mIn [4]\u001b[0m, in \u001b[0;36m<cell line: 1>\u001b[1;34m()\u001b[0m\n\u001b[1;32m----> 1\u001b[0m \u001b[38;5;28;01mfrom\u001b[39;00m \u001b[38;5;21;01mpolyglot\u001b[39;00m\u001b[38;5;21;01m.\u001b[39;00m\u001b[38;5;21;01mtext\u001b[39;00m \u001b[38;5;28;01mimport\u001b[39;00m Text\n\u001b[0;32m      2\u001b[0m text \u001b[38;5;241m=\u001b[39m \u001b[38;5;124m\"\"\"\u001b[39m\u001b[38;5;124mEl presidente de la Generalitat de cataluña,\u001b[39m\n\u001b[0;32m      3\u001b[0m \u001b[38;5;124m          Carles Puigdemont, ha afirmado hoy a la alcaldesa\u001b[39m\n\u001b[0;32m      4\u001b[0m \u001b[38;5;124m          de Madrid, Manuela Carmena, que en su etapa de\u001b[39m\n\u001b[0;32m      5\u001b[0m \u001b[38;5;124m          alcalde de Girona (de julio de 2011 a enero de 2016)\u001b[39m\n\u001b[0;32m      6\u001b[0m \u001b[38;5;124m          hizo una gran promoción de Madrid. \u001b[39m\u001b[38;5;124m\"\"\"\u001b[39m\n\u001b[0;32m      7\u001b[0m ptext \u001b[38;5;241m=\u001b[39m Text(tetx)\n",
      "\u001b[1;31mModuleNotFoundError\u001b[0m: No module named 'polyglot'"
     ]
    }
   ],
   "source": [
    "from polyglot.text import Text\n",
    "text = \"\"\"El presidente de la Generalitat de cataluña,\n",
    "          Carles Puigdemont, ha afirmado hoy a la alcaldesa\n",
    "          de Madrid, Manuela Carmena, que en su etapa de\n",
    "          alcalde de Girona (de julio de 2011 a enero de 2016)\n",
    "          hizo una gran promoción de Madrid. \"\"\"\n",
    "ptext = Text(tetx)"
   ]
  }
 ],
 "metadata": {
  "kernelspec": {
   "display_name": "Python 3 (ipykernel)",
   "language": "python",
   "name": "python3"
  },
  "language_info": {
   "codemirror_mode": {
    "name": "ipython",
    "version": 3
   },
   "file_extension": ".py",
   "mimetype": "text/x-python",
   "name": "python",
   "nbconvert_exporter": "python",
   "pygments_lexer": "ipython3",
   "version": "3.9.0"
  }
 },
 "nbformat": 4,
 "nbformat_minor": 5
}
