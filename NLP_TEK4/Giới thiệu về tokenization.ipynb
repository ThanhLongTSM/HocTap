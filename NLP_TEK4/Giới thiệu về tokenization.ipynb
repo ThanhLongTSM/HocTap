{
 "cells": [
  {
   "cell_type": "code",
   "execution_count": 1,
   "id": "0849cdbc",
   "metadata": {},
   "outputs": [
    {
     "data": {
      "text/plain": [
       "['Xin', 'chao', 'toi', 'la', 'Long', '!']"
      ]
     },
     "execution_count": 1,
     "metadata": {},
     "output_type": "execute_result"
    }
   ],
   "source": [
    "from nltk.tokenize import word_tokenize\n",
    "word_tokenize(\"Xin chao toi la Long!\")"
   ]
  },
  {
   "cell_type": "code",
   "execution_count": 2,
   "id": "7106fd85",
   "metadata": {},
   "outputs": [
    {
     "data": {
      "text/plain": [
       "<re.Match object; span=(0, 3), match='abc'>"
      ]
     },
     "execution_count": 2,
     "metadata": {},
     "output_type": "execute_result"
    }
   ],
   "source": [
    "import re\n",
    "re.match('abc','abcde')"
   ]
  },
  {
   "cell_type": "code",
   "execution_count": 3,
   "id": "bd1567d0",
   "metadata": {},
   "outputs": [
    {
     "data": {
      "text/plain": [
       "<re.Match object; span=(8, 13), match='abcde'>"
      ]
     },
     "execution_count": 3,
     "metadata": {},
     "output_type": "execute_result"
    }
   ],
   "source": [
    "re.search('abcde','weuiriojabcdeiuqiu')"
   ]
  },
  {
   "cell_type": "markdown",
   "id": "a05eba42",
   "metadata": {},
   "source": [
    "### Mã hoá từ với NLTK\n"
   ]
  },
  {
   "cell_type": "code",
   "execution_count": 4,
   "id": "86fac0fd",
   "metadata": {},
   "outputs": [
    {
     "name": "stdout",
     "output_type": "stream",
     "text": [
      "SCENE 1: [wind] [clop clop clop] \n",
      "KING ARTHUR: Whoa there! [clop clop clop] \n",
      "SOLDIER #1: Halt! Who goes there?\n",
      "ARTHUR: It is I, Arthur, son of Uther Pendragon, from the castle of Camelot. King of the Britons, defeator of the Saxons, sovereign of all England!\n",
      "SOLDIER #1: Pull the other one!\n",
      "ARTHUR: I am, … and this is my trusty servant Patsy. We have ridden the length and breadth of the land in search of knights who will join me in my court at Camelot. I must speak with your lord and master.\n",
      "SOLDIER #1: What? Ridden on a horse?\n",
      "ARTHUR: Yes!\n",
      "SOLDIER #1: You’re using coconuts!\n",
      "ARTHUR: What?\n",
      "SOLDIER #1: You’ve got two empty halves of coconut and you’re bangin’ ’em together.\n",
      "ARTHUR: So? We have ridden since the snows of winter covered this land, through the kingdom of Mercea, through–\n",
      "SOLDIER #1: Where’d you get the coconuts?\n",
      "ARTHUR: We found them.\n",
      "SOLDIER #1: Found them? In Mercea? The coconut’s tropical!\n",
      "ARTHUR: What do you mean?\n",
      "SOLDIER #1: Well, this is a temperate zone.\n",
      "ARTHUR: The swallow may fly south with the sun or the house martin or the plover may seek warmer climes in winter, yet these are not strangers to our land?\n",
      "SOLDIER #1: Are you suggesting coconuts migrate?\n",
      "ARTHUR: Not at all. They could be carried.\n",
      "SOLDIER #1: What? A swallow carrying a coconut?\n",
      "ARTHUR: It could grip it by the husk!\n",
      "SOLDIER #1: It’s not a question of where he grips it! It’s a simple question of weight ratios! A five ounce bird could not carry a one pound coconut.\n",
      "ARTHUR: Well, it doesn’t matter. Will you go and tell your master that Arthur from the Court of Camelot is here.\n",
      "SOLDIER #1: Listen. In order to maintain air-speed velocity, a swallow needs to beat its wings forty-three times every second, right?\n",
      "ARTHUR: Please!\n",
      "SOLDIER #1: Am I right?\n",
      "ARTHUR: I’m not interested!\n",
      "SOLDIER #2: It could be carried by an African swallow!\n",
      "SOLDIER #1: Oh, yeah, an African swallow maybe, but not a European swallow. That’s my point.\n",
      "SOLDIER #2: Oh, yeah, I agree with that.\n",
      "ARTHUR: Will you ask your master if he wants to join my court at Camelot?!\n",
      "SOLDIER #1: But then of course a– African swallows are non-migratory.\n",
      "SOLDIER #2: Oh, yeah…\n",
      "SOLDIER #1: So they couldn’t bring a coconut back anyway… [clop clop clop] \n",
      "SOLDIER #2: Wait a minute! Supposing two swallows carried it together?\n",
      "SOLDIER #1: No, they’d have to have it on a line.\n",
      "SOLDIER #2: Well, simple! They’d just use a strand of creeper!\n",
      "SOLDIER #1: What, held under the dorsal guiding feathers?\n",
      "SOLDIER #2: Well, why not?\n",
      "\n"
     ]
    }
   ],
   "source": [
    "scene_one = 'SCENE 1: [wind] [clop clop clop] \\nKING ARTHUR: Whoa there! [clop clop clop] \\nSOLDIER #1: Halt! Who goes there?\\nARTHUR: It is I, Arthur, son of Uther Pendragon, from the castle of Camelot. King of the Britons, defeator of the Saxons, sovereign of all England!\\nSOLDIER #1: Pull the other one!\\nARTHUR: I am, … and this is my trusty servant Patsy. We have ridden the length and breadth of the land in search of knights who will join me in my court at Camelot. I must speak with your lord and master.\\nSOLDIER #1: What? Ridden on a horse?\\nARTHUR: Yes!\\nSOLDIER #1: You’re using coconuts!\\nARTHUR: What?\\nSOLDIER #1: You’ve got two empty halves of coconut and you’re bangin’ ’em together.\\nARTHUR: So? We have ridden since the snows of winter covered this land, through the kingdom of Mercea, through–\\nSOLDIER #1: Where’d you get the coconuts?\\nARTHUR: We found them.\\nSOLDIER #1: Found them? In Mercea? The coconut’s tropical!\\nARTHUR: What do you mean?\\nSOLDIER #1: Well, this is a temperate zone.\\nARTHUR: The swallow may fly south with the sun or the house martin or the plover may seek warmer climes in winter, yet these are not strangers to our land?\\nSOLDIER #1: Are you suggesting coconuts migrate?\\nARTHUR: Not at all. They could be carried.\\nSOLDIER #1: What? A swallow carrying a coconut?\\nARTHUR: It could grip it by the husk!\\nSOLDIER #1: It’s not a question of where he grips it! It’s a simple question of weight ratios! A five ounce bird could not carry a one pound coconut.\\nARTHUR: Well, it doesn’t matter. Will you go and tell your master that Arthur from the Court of Camelot is here.\\nSOLDIER #1: Listen. In order to maintain air-speed velocity, a swallow needs to beat its wings forty-three times every second, right?\\nARTHUR: Please!\\nSOLDIER #1: Am I right?\\nARTHUR: I’m not interested!\\nSOLDIER #2: It could be carried by an African swallow!\\nSOLDIER #1: Oh, yeah, an African swallow maybe, but not a European swallow. That’s my point.\\nSOLDIER #2: Oh, yeah, I agree with that.\\nARTHUR: Will you ask your master if he wants to join my court at Camelot?!\\nSOLDIER #1: But then of course a– African swallows are non-migratory.\\nSOLDIER #2: Oh, yeah…\\nSOLDIER #1: So they couldn’t bring a coconut back anyway… [clop clop clop] \\nSOLDIER #2: Wait a minute! Supposing two swallows carried it together?\\nSOLDIER #1: No, they’d have to have it on a line.\\nSOLDIER #2: Well, simple! They’d just use a strand of creeper!\\nSOLDIER #1: What, held under the dorsal guiding feathers?\\nSOLDIER #2: Well, why not?\\n'\n",
    "\n",
    "print(scene_one)"
   ]
  },
  {
   "cell_type": "code",
   "execution_count": 5,
   "id": "c0c88b28",
   "metadata": {},
   "outputs": [],
   "source": [
    "from nltk.tokenize import sent_tokenize,  word_tokenize"
   ]
  },
  {
   "cell_type": "code",
   "execution_count": 6,
   "id": "645a91c6",
   "metadata": {},
   "outputs": [
    {
     "data": {
      "text/plain": [
       "['SCENE 1: [wind] [clop clop clop] \\nKING ARTHUR: Whoa there!',\n",
       " '[clop clop clop] \\nSOLDIER #1: Halt!',\n",
       " 'Who goes there?',\n",
       " 'ARTHUR: It is I, Arthur, son of Uther Pendragon, from the castle of Camelot.',\n",
       " 'King of the Britons, defeator of the Saxons, sovereign of all England!',\n",
       " 'SOLDIER #1: Pull the other one!',\n",
       " 'ARTHUR: I am, … and this is my trusty servant Patsy.',\n",
       " 'We have ridden the length and breadth of the land in search of knights who will join me in my court at Camelot.',\n",
       " 'I must speak with your lord and master.',\n",
       " 'SOLDIER #1: What?',\n",
       " 'Ridden on a horse?',\n",
       " 'ARTHUR: Yes!',\n",
       " 'SOLDIER #1: You’re using coconuts!',\n",
       " 'ARTHUR: What?',\n",
       " 'SOLDIER #1: You’ve got two empty halves of coconut and you’re bangin’ ’em together.',\n",
       " 'ARTHUR: So?',\n",
       " 'We have ridden since the snows of winter covered this land, through the kingdom of Mercea, through–\\nSOLDIER #1: Where’d you get the coconuts?',\n",
       " 'ARTHUR: We found them.',\n",
       " 'SOLDIER #1: Found them?',\n",
       " 'In Mercea?',\n",
       " 'The coconut’s tropical!',\n",
       " 'ARTHUR: What do you mean?',\n",
       " 'SOLDIER #1: Well, this is a temperate zone.',\n",
       " 'ARTHUR: The swallow may fly south with the sun or the house martin or the plover may seek warmer climes in winter, yet these are not strangers to our land?',\n",
       " 'SOLDIER #1: Are you suggesting coconuts migrate?',\n",
       " 'ARTHUR: Not at all.',\n",
       " 'They could be carried.',\n",
       " 'SOLDIER #1: What?',\n",
       " 'A swallow carrying a coconut?',\n",
       " 'ARTHUR: It could grip it by the husk!',\n",
       " 'SOLDIER #1: It’s not a question of where he grips it!',\n",
       " 'It’s a simple question of weight ratios!',\n",
       " 'A five ounce bird could not carry a one pound coconut.',\n",
       " 'ARTHUR: Well, it doesn’t matter.',\n",
       " 'Will you go and tell your master that Arthur from the Court of Camelot is here.',\n",
       " 'SOLDIER #1: Listen.',\n",
       " 'In order to maintain air-speed velocity, a swallow needs to beat its wings forty-three times every second, right?',\n",
       " 'ARTHUR: Please!',\n",
       " 'SOLDIER #1: Am I right?',\n",
       " 'ARTHUR: I’m not interested!',\n",
       " 'SOLDIER #2: It could be carried by an African swallow!',\n",
       " 'SOLDIER #1: Oh, yeah, an African swallow maybe, but not a European swallow.',\n",
       " 'That’s my point.',\n",
       " 'SOLDIER #2: Oh, yeah, I agree with that.',\n",
       " 'ARTHUR: Will you ask your master if he wants to join my court at Camelot?!',\n",
       " 'SOLDIER #1: But then of course a– African swallows are non-migratory.',\n",
       " 'SOLDIER #2: Oh, yeah…\\nSOLDIER #1: So they couldn’t bring a coconut back anyway… [clop clop clop] \\nSOLDIER #2: Wait a minute!',\n",
       " 'Supposing two swallows carried it together?',\n",
       " 'SOLDIER #1: No, they’d have to have it on a line.',\n",
       " 'SOLDIER #2: Well, simple!',\n",
       " 'They’d just use a strand of creeper!',\n",
       " 'SOLDIER #1: What, held under the dorsal guiding feathers?',\n",
       " 'SOLDIER #2: Well, why not?']"
      ]
     },
     "execution_count": 6,
     "metadata": {},
     "output_type": "execute_result"
    }
   ],
   "source": [
    "sent_tokenize(scene_one)"
   ]
  },
  {
   "cell_type": "code",
   "execution_count": 7,
   "id": "c467cf49",
   "metadata": {},
   "outputs": [
    {
     "data": {
      "text/plain": [
       "['SCENE',\n",
       " '1',\n",
       " ':',\n",
       " '[',\n",
       " 'wind',\n",
       " ']',\n",
       " '[',\n",
       " 'clop',\n",
       " 'clop',\n",
       " 'clop',\n",
       " ']',\n",
       " 'KING',\n",
       " 'ARTHUR',\n",
       " ':',\n",
       " 'Whoa',\n",
       " 'there',\n",
       " '!',\n",
       " '[',\n",
       " 'clop',\n",
       " 'clop',\n",
       " 'clop',\n",
       " ']',\n",
       " 'SOLDIER',\n",
       " '#',\n",
       " '1',\n",
       " ':',\n",
       " 'Halt',\n",
       " '!',\n",
       " 'Who',\n",
       " 'goes',\n",
       " 'there',\n",
       " '?',\n",
       " 'ARTHUR',\n",
       " ':',\n",
       " 'It',\n",
       " 'is',\n",
       " 'I',\n",
       " ',',\n",
       " 'Arthur',\n",
       " ',',\n",
       " 'son',\n",
       " 'of',\n",
       " 'Uther',\n",
       " 'Pendragon',\n",
       " ',',\n",
       " 'from',\n",
       " 'the',\n",
       " 'castle',\n",
       " 'of',\n",
       " 'Camelot',\n",
       " '.',\n",
       " 'King',\n",
       " 'of',\n",
       " 'the',\n",
       " 'Britons',\n",
       " ',',\n",
       " 'defeator',\n",
       " 'of',\n",
       " 'the',\n",
       " 'Saxons',\n",
       " ',',\n",
       " 'sovereign',\n",
       " 'of',\n",
       " 'all',\n",
       " 'England',\n",
       " '!',\n",
       " 'SOLDIER',\n",
       " '#',\n",
       " '1',\n",
       " ':',\n",
       " 'Pull',\n",
       " 'the',\n",
       " 'other',\n",
       " 'one',\n",
       " '!',\n",
       " 'ARTHUR',\n",
       " ':',\n",
       " 'I',\n",
       " 'am',\n",
       " ',',\n",
       " '…',\n",
       " 'and',\n",
       " 'this',\n",
       " 'is',\n",
       " 'my',\n",
       " 'trusty',\n",
       " 'servant',\n",
       " 'Patsy',\n",
       " '.',\n",
       " 'We',\n",
       " 'have',\n",
       " 'ridden',\n",
       " 'the',\n",
       " 'length',\n",
       " 'and',\n",
       " 'breadth',\n",
       " 'of',\n",
       " 'the',\n",
       " 'land',\n",
       " 'in',\n",
       " 'search',\n",
       " 'of',\n",
       " 'knights',\n",
       " 'who',\n",
       " 'will',\n",
       " 'join',\n",
       " 'me',\n",
       " 'in',\n",
       " 'my',\n",
       " 'court',\n",
       " 'at',\n",
       " 'Camelot',\n",
       " '.',\n",
       " 'I',\n",
       " 'must',\n",
       " 'speak',\n",
       " 'with',\n",
       " 'your',\n",
       " 'lord',\n",
       " 'and',\n",
       " 'master',\n",
       " '.',\n",
       " 'SOLDIER',\n",
       " '#',\n",
       " '1',\n",
       " ':',\n",
       " 'What',\n",
       " '?',\n",
       " 'Ridden',\n",
       " 'on',\n",
       " 'a',\n",
       " 'horse',\n",
       " '?',\n",
       " 'ARTHUR',\n",
       " ':',\n",
       " 'Yes',\n",
       " '!',\n",
       " 'SOLDIER',\n",
       " '#',\n",
       " '1',\n",
       " ':',\n",
       " 'You',\n",
       " '’',\n",
       " 're',\n",
       " 'using',\n",
       " 'coconuts',\n",
       " '!',\n",
       " 'ARTHUR',\n",
       " ':',\n",
       " 'What',\n",
       " '?',\n",
       " 'SOLDIER',\n",
       " '#',\n",
       " '1',\n",
       " ':',\n",
       " 'You',\n",
       " '’',\n",
       " 've',\n",
       " 'got',\n",
       " 'two',\n",
       " 'empty',\n",
       " 'halves',\n",
       " 'of',\n",
       " 'coconut',\n",
       " 'and',\n",
       " 'you',\n",
       " '’',\n",
       " 're',\n",
       " 'bangin',\n",
       " '’',\n",
       " '’',\n",
       " 'em',\n",
       " 'together',\n",
       " '.',\n",
       " 'ARTHUR',\n",
       " ':',\n",
       " 'So',\n",
       " '?',\n",
       " 'We',\n",
       " 'have',\n",
       " 'ridden',\n",
       " 'since',\n",
       " 'the',\n",
       " 'snows',\n",
       " 'of',\n",
       " 'winter',\n",
       " 'covered',\n",
       " 'this',\n",
       " 'land',\n",
       " ',',\n",
       " 'through',\n",
       " 'the',\n",
       " 'kingdom',\n",
       " 'of',\n",
       " 'Mercea',\n",
       " ',',\n",
       " 'through–',\n",
       " 'SOLDIER',\n",
       " '#',\n",
       " '1',\n",
       " ':',\n",
       " 'Where',\n",
       " '’',\n",
       " 'd',\n",
       " 'you',\n",
       " 'get',\n",
       " 'the',\n",
       " 'coconuts',\n",
       " '?',\n",
       " 'ARTHUR',\n",
       " ':',\n",
       " 'We',\n",
       " 'found',\n",
       " 'them',\n",
       " '.',\n",
       " 'SOLDIER',\n",
       " '#',\n",
       " '1',\n",
       " ':',\n",
       " 'Found',\n",
       " 'them',\n",
       " '?',\n",
       " 'In',\n",
       " 'Mercea',\n",
       " '?',\n",
       " 'The',\n",
       " 'coconut',\n",
       " '’',\n",
       " 's',\n",
       " 'tropical',\n",
       " '!',\n",
       " 'ARTHUR',\n",
       " ':',\n",
       " 'What',\n",
       " 'do',\n",
       " 'you',\n",
       " 'mean',\n",
       " '?',\n",
       " 'SOLDIER',\n",
       " '#',\n",
       " '1',\n",
       " ':',\n",
       " 'Well',\n",
       " ',',\n",
       " 'this',\n",
       " 'is',\n",
       " 'a',\n",
       " 'temperate',\n",
       " 'zone',\n",
       " '.',\n",
       " 'ARTHUR',\n",
       " ':',\n",
       " 'The',\n",
       " 'swallow',\n",
       " 'may',\n",
       " 'fly',\n",
       " 'south',\n",
       " 'with',\n",
       " 'the',\n",
       " 'sun',\n",
       " 'or',\n",
       " 'the',\n",
       " 'house',\n",
       " 'martin',\n",
       " 'or',\n",
       " 'the',\n",
       " 'plover',\n",
       " 'may',\n",
       " 'seek',\n",
       " 'warmer',\n",
       " 'climes',\n",
       " 'in',\n",
       " 'winter',\n",
       " ',',\n",
       " 'yet',\n",
       " 'these',\n",
       " 'are',\n",
       " 'not',\n",
       " 'strangers',\n",
       " 'to',\n",
       " 'our',\n",
       " 'land',\n",
       " '?',\n",
       " 'SOLDIER',\n",
       " '#',\n",
       " '1',\n",
       " ':',\n",
       " 'Are',\n",
       " 'you',\n",
       " 'suggesting',\n",
       " 'coconuts',\n",
       " 'migrate',\n",
       " '?',\n",
       " 'ARTHUR',\n",
       " ':',\n",
       " 'Not',\n",
       " 'at',\n",
       " 'all',\n",
       " '.',\n",
       " 'They',\n",
       " 'could',\n",
       " 'be',\n",
       " 'carried',\n",
       " '.',\n",
       " 'SOLDIER',\n",
       " '#',\n",
       " '1',\n",
       " ':',\n",
       " 'What',\n",
       " '?',\n",
       " 'A',\n",
       " 'swallow',\n",
       " 'carrying',\n",
       " 'a',\n",
       " 'coconut',\n",
       " '?',\n",
       " 'ARTHUR',\n",
       " ':',\n",
       " 'It',\n",
       " 'could',\n",
       " 'grip',\n",
       " 'it',\n",
       " 'by',\n",
       " 'the',\n",
       " 'husk',\n",
       " '!',\n",
       " 'SOLDIER',\n",
       " '#',\n",
       " '1',\n",
       " ':',\n",
       " 'It',\n",
       " '’',\n",
       " 's',\n",
       " 'not',\n",
       " 'a',\n",
       " 'question',\n",
       " 'of',\n",
       " 'where',\n",
       " 'he',\n",
       " 'grips',\n",
       " 'it',\n",
       " '!',\n",
       " 'It',\n",
       " '’',\n",
       " 's',\n",
       " 'a',\n",
       " 'simple',\n",
       " 'question',\n",
       " 'of',\n",
       " 'weight',\n",
       " 'ratios',\n",
       " '!',\n",
       " 'A',\n",
       " 'five',\n",
       " 'ounce',\n",
       " 'bird',\n",
       " 'could',\n",
       " 'not',\n",
       " 'carry',\n",
       " 'a',\n",
       " 'one',\n",
       " 'pound',\n",
       " 'coconut',\n",
       " '.',\n",
       " 'ARTHUR',\n",
       " ':',\n",
       " 'Well',\n",
       " ',',\n",
       " 'it',\n",
       " 'doesn',\n",
       " '’',\n",
       " 't',\n",
       " 'matter',\n",
       " '.',\n",
       " 'Will',\n",
       " 'you',\n",
       " 'go',\n",
       " 'and',\n",
       " 'tell',\n",
       " 'your',\n",
       " 'master',\n",
       " 'that',\n",
       " 'Arthur',\n",
       " 'from',\n",
       " 'the',\n",
       " 'Court',\n",
       " 'of',\n",
       " 'Camelot',\n",
       " 'is',\n",
       " 'here',\n",
       " '.',\n",
       " 'SOLDIER',\n",
       " '#',\n",
       " '1',\n",
       " ':',\n",
       " 'Listen',\n",
       " '.',\n",
       " 'In',\n",
       " 'order',\n",
       " 'to',\n",
       " 'maintain',\n",
       " 'air-speed',\n",
       " 'velocity',\n",
       " ',',\n",
       " 'a',\n",
       " 'swallow',\n",
       " 'needs',\n",
       " 'to',\n",
       " 'beat',\n",
       " 'its',\n",
       " 'wings',\n",
       " 'forty-three',\n",
       " 'times',\n",
       " 'every',\n",
       " 'second',\n",
       " ',',\n",
       " 'right',\n",
       " '?',\n",
       " 'ARTHUR',\n",
       " ':',\n",
       " 'Please',\n",
       " '!',\n",
       " 'SOLDIER',\n",
       " '#',\n",
       " '1',\n",
       " ':',\n",
       " 'Am',\n",
       " 'I',\n",
       " 'right',\n",
       " '?',\n",
       " 'ARTHUR',\n",
       " ':',\n",
       " 'I',\n",
       " '’',\n",
       " 'm',\n",
       " 'not',\n",
       " 'interested',\n",
       " '!',\n",
       " 'SOLDIER',\n",
       " '#',\n",
       " '2',\n",
       " ':',\n",
       " 'It',\n",
       " 'could',\n",
       " 'be',\n",
       " 'carried',\n",
       " 'by',\n",
       " 'an',\n",
       " 'African',\n",
       " 'swallow',\n",
       " '!',\n",
       " 'SOLDIER',\n",
       " '#',\n",
       " '1',\n",
       " ':',\n",
       " 'Oh',\n",
       " ',',\n",
       " 'yeah',\n",
       " ',',\n",
       " 'an',\n",
       " 'African',\n",
       " 'swallow',\n",
       " 'maybe',\n",
       " ',',\n",
       " 'but',\n",
       " 'not',\n",
       " 'a',\n",
       " 'European',\n",
       " 'swallow',\n",
       " '.',\n",
       " 'That',\n",
       " '’',\n",
       " 's',\n",
       " 'my',\n",
       " 'point',\n",
       " '.',\n",
       " 'SOLDIER',\n",
       " '#',\n",
       " '2',\n",
       " ':',\n",
       " 'Oh',\n",
       " ',',\n",
       " 'yeah',\n",
       " ',',\n",
       " 'I',\n",
       " 'agree',\n",
       " 'with',\n",
       " 'that',\n",
       " '.',\n",
       " 'ARTHUR',\n",
       " ':',\n",
       " 'Will',\n",
       " 'you',\n",
       " 'ask',\n",
       " 'your',\n",
       " 'master',\n",
       " 'if',\n",
       " 'he',\n",
       " 'wants',\n",
       " 'to',\n",
       " 'join',\n",
       " 'my',\n",
       " 'court',\n",
       " 'at',\n",
       " 'Camelot',\n",
       " '?',\n",
       " '!',\n",
       " 'SOLDIER',\n",
       " '#',\n",
       " '1',\n",
       " ':',\n",
       " 'But',\n",
       " 'then',\n",
       " 'of',\n",
       " 'course',\n",
       " 'a–',\n",
       " 'African',\n",
       " 'swallows',\n",
       " 'are',\n",
       " 'non-migratory',\n",
       " '.',\n",
       " 'SOLDIER',\n",
       " '#',\n",
       " '2',\n",
       " ':',\n",
       " 'Oh',\n",
       " ',',\n",
       " 'yeah…',\n",
       " 'SOLDIER',\n",
       " '#',\n",
       " '1',\n",
       " ':',\n",
       " 'So',\n",
       " 'they',\n",
       " 'couldn',\n",
       " '’',\n",
       " 't',\n",
       " 'bring',\n",
       " 'a',\n",
       " 'coconut',\n",
       " 'back',\n",
       " 'anyway…',\n",
       " '[',\n",
       " 'clop',\n",
       " 'clop',\n",
       " 'clop',\n",
       " ']',\n",
       " 'SOLDIER',\n",
       " '#',\n",
       " '2',\n",
       " ':',\n",
       " 'Wait',\n",
       " 'a',\n",
       " 'minute',\n",
       " '!',\n",
       " 'Supposing',\n",
       " 'two',\n",
       " 'swallows',\n",
       " 'carried',\n",
       " 'it',\n",
       " 'together',\n",
       " '?',\n",
       " 'SOLDIER',\n",
       " '#',\n",
       " '1',\n",
       " ':',\n",
       " 'No',\n",
       " ',',\n",
       " 'they',\n",
       " '’',\n",
       " 'd',\n",
       " 'have',\n",
       " 'to',\n",
       " 'have',\n",
       " 'it',\n",
       " 'on',\n",
       " 'a',\n",
       " 'line',\n",
       " '.',\n",
       " 'SOLDIER',\n",
       " '#',\n",
       " '2',\n",
       " ':',\n",
       " 'Well',\n",
       " ',',\n",
       " 'simple',\n",
       " '!',\n",
       " 'They',\n",
       " '’',\n",
       " 'd',\n",
       " 'just',\n",
       " 'use',\n",
       " 'a',\n",
       " 'strand',\n",
       " 'of',\n",
       " 'creeper',\n",
       " '!',\n",
       " 'SOLDIER',\n",
       " '#',\n",
       " '1',\n",
       " ':',\n",
       " 'What',\n",
       " ',',\n",
       " 'held',\n",
       " 'under',\n",
       " 'the',\n",
       " 'dorsal',\n",
       " 'guiding',\n",
       " 'feathers',\n",
       " '?',\n",
       " 'SOLDIER',\n",
       " '#',\n",
       " '2',\n",
       " ':',\n",
       " 'Well',\n",
       " ',',\n",
       " 'why',\n",
       " 'not',\n",
       " '?']"
      ]
     },
     "execution_count": 7,
     "metadata": {},
     "output_type": "execute_result"
    }
   ],
   "source": [
    "word_tokenize(scene_one)"
   ]
  },
  {
   "cell_type": "code",
   "execution_count": 8,
   "id": "de6b4604",
   "metadata": {},
   "outputs": [
    {
     "name": "stdout",
     "output_type": "stream",
     "text": [
      "ARTHUR: It is I, Arthur, son of Uther Pendragon, from the castle of Camelot.\n",
      "{'?', 'halves', 'wind', 'I', 'must', 'bangin', 'together', 'Please', 'land', 'two', 'Well', 'snows', 'air-speed', 'through', 'trusty', 'sun', 'swallows', 'me', 'horse', 'clop', 'am', 'simple', 'since', 'breadth', 'minute', 'servant', 'who', 'he', 'second', 'if', 'kingdom', 'seek', 'Camelot', 'doesn', 'Who', '.', 'on', 'them', 'Ridden', ',', 'ARTHUR', 'climes', 'then', 'its', 'son', 'go', 'ratios', 'creeper', 'of', 'course', 'will', 'defeator', 'temperate', 'just', 'at', 'get', 'But', 'No', 'Supposing', 'by', 'order', 'from', 'and', 'my', 'strangers', 'strand', 'sovereign', 'Yes', 'swallow', 'We', 'carrying', 'an', 'England', 've', 'Found', 'other', 'KING', 'that', 'south', 'where', 'back', 'lord', 'Arthur', 'migrate', 'forty-three', 'goes', 'couldn', 'right', 'covered', 'So', 'here', 'carry', 'Not', 're', 'court', ']', 'it', 'yeah', 'yet', 'are', 'master', 'not', 'coconuts', 'join', 'search', 'em', 'SCENE', 'In', 'weight', 'maybe', 'European', 'tropical', 'needs', 'through–', ':', 'Am', 'a–', 'why', 'wants', 'martin', 'winter', 'speak', 'SOLDIER', 'The', 'grips', 'Will', 'maintain', 'Court', 'Uther', 'guiding', 'Saxons', 'our', '2', 'knights', 'could', 'Listen', 'coconut', 'velocity', 'African', '…', 'It', 'question', 'house', 'or', 'Patsy', 'castle', 'husk', 'with', 'ask', 'your', 'one', 'Where', 'beat', 'yeah…', 'is', 'the', 'plover', 'Are', 'wings', 'ounce', 'line', 'held', 'a', 'grip', 'times', 'point', 'That', 'got', 'bird', 'found', 'Pull', 'may', 'have', 'They', 'matter', 'warmer', 'Pendragon', 'interested', 'non-migratory', '!', 'under', 'm', 'Halt', 'fly', 'Oh', 'bring', 'every', 'ridden', 'you', 'to', 'these', 'length', 'tell', 'dorsal', 'King', 'agree', 'zone', 'five', 'A', 'this', 'Britons', 'there', 'use', '’', 'anyway…', 'all', 'suggesting', 'using', 't', 'but', 'in', 'What', 'empty', 'be', 'You', 'Whoa', 'Mercea', 'carried', 'feathers', 's', 'they', '1', '[', 'pound', '#', 'd', 'mean', 'Wait', 'do'}\n"
     ]
    }
   ],
   "source": [
    "from nltk.tokenize import sent_tokenize,  word_tokenize\n",
    "scene_one = 'SCENE 1: [wind] [clop clop clop] \\nKING ARTHUR: Whoa there! [clop clop clop] \\nSOLDIER #1: Halt! Who goes there?\\nARTHUR: It is I, Arthur, son of Uther Pendragon, from the castle of Camelot. King of the Britons, defeator of the Saxons, sovereign of all England!\\nSOLDIER #1: Pull the other one!\\nARTHUR: I am, … and this is my trusty servant Patsy. We have ridden the length and breadth of the land in search of knights who will join me in my court at Camelot. I must speak with your lord and master.\\nSOLDIER #1: What? Ridden on a horse?\\nARTHUR: Yes!\\nSOLDIER #1: You’re using coconuts!\\nARTHUR: What?\\nSOLDIER #1: You’ve got two empty halves of coconut and you’re bangin’ ’em together.\\nARTHUR: So? We have ridden since the snows of winter covered this land, through the kingdom of Mercea, through–\\nSOLDIER #1: Where’d you get the coconuts?\\nARTHUR: We found them.\\nSOLDIER #1: Found them? In Mercea? The coconut’s tropical!\\nARTHUR: What do you mean?\\nSOLDIER #1: Well, this is a temperate zone.\\nARTHUR: The swallow may fly south with the sun or the house martin or the plover may seek warmer climes in winter, yet these are not strangers to our land?\\nSOLDIER #1: Are you suggesting coconuts migrate?\\nARTHUR: Not at all. They could be carried.\\nSOLDIER #1: What? A swallow carrying a coconut?\\nARTHUR: It could grip it by the husk!\\nSOLDIER #1: It’s not a question of where he grips it! It’s a simple question of weight ratios! A five ounce bird could not carry a one pound coconut.\\nARTHUR: Well, it doesn’t matter. Will you go and tell your master that Arthur from the Court of Camelot is here.\\nSOLDIER #1: Listen. In order to maintain air-speed velocity, a swallow needs to beat its wings forty-three times every second, right?\\nARTHUR: Please!\\nSOLDIER #1: Am I right?\\nARTHUR: I’m not interested!\\nSOLDIER #2: It could be carried by an African swallow!\\nSOLDIER #1: Oh, yeah, an African swallow maybe, but not a European swallow. That’s my point.\\nSOLDIER #2: Oh, yeah, I agree with that.\\nARTHUR: Will you ask your master if he wants to join my court at Camelot?!\\nSOLDIER #1: But then of course a– African swallows are non-migratory.\\nSOLDIER #2: Oh, yeah…\\nSOLDIER #1: So they couldn’t bring a coconut back anyway… [clop clop clop] \\nSOLDIER #2: Wait a minute! Supposing two swallows carried it together?\\nSOLDIER #1: No, they’d have to have it on a line.\\nSOLDIER #2: Well, simple! They’d just use a strand of creeper!\\nSOLDIER #1: What, held under the dorsal guiding feathers?\\nSOLDIER #2: Well, why not?\\n'\n",
    "# Tách scene_one thành các câu được lưu trữ trong sentences\n",
    "sentences = sent_tokenize(scene_one)\n",
    "# Sử dụng word_tokenize để mã hoá câu thứ tư và sau đó lưu kết quả vào biến tokenized_sent\n",
    "print(sentences[3])\n",
    "tokenized_sent = word_tokenize(sentences[3])\n",
    "# Tạo một tập hợp chứa các mã duy nhất và lưu kết quả vào biến  unique_tokens\n",
    "unique_tokens = set(word_tokenize(scene_one))\n",
    "# In các mã duy nhất tìm được\n",
    "print(unique_tokens)"
   ]
  },
  {
   "cell_type": "code",
   "execution_count": 9,
   "id": "9c9c09cb",
   "metadata": {},
   "outputs": [
    {
     "name": "stdout",
     "output_type": "stream",
     "text": [
      "SCENE 1: [wind] [clop clop clop] \n",
      "KING ARTHUR: Whoa there! [clop clop clop] \n",
      "SOLDIER #1: Halt! Who goes there?\n",
      "ARTHUR: It is I, Arthur, son of Uther Pendragon, from the castle of Camelot. King of the Britons, defeator of the Saxons, sovereign of all England!\n",
      "SOLDIER #1: Pull the other one!\n",
      "ARTHUR: I am, … and this is my trusty servant Patsy. We have ridden the length and breadth of the land in search of knights who will join me in my court at Camelot. I must speak with your lord and master.\n",
      "SOLDIER #1: What? Ridden on a horse?\n",
      "ARTHUR: Yes!\n",
      "SOLDIER #1: You’re using coconuts!\n",
      "ARTHUR: What?\n",
      "SOLDIER #1: You’ve got two empty halves of coconut and you’re bangin’ ’em together.\n",
      "ARTHUR: So? We have ridden since the snows of winter covered this land, through the kingdom of Mercea, through–\n",
      "SOLDIER #1: Where’d you get the coconuts?\n",
      "ARTHUR: We found them.\n",
      "SOLDIER #1: Found them? In Mercea? The coconut’s tropical!\n",
      "ARTHUR: What do you mean?\n",
      "SOLDIER #1: Well, this is a temperate zone.\n",
      "ARTHUR: The swallow may fly south with the sun or the house martin or the plover may seek warmer climes in winter, yet these are not strangers to our land?\n",
      "SOLDIER #1: Are you suggesting coconuts migrate?\n",
      "ARTHUR: Not at all. They could be carried.\n",
      "SOLDIER #1: What? A swallow carrying a coconut?\n",
      "ARTHUR: It could grip it by the husk!\n",
      "SOLDIER #1: It’s not a question of where he grips it! It’s a simple question of weight ratios! A five ounce bird could not carry a one pound coconut.\n",
      "ARTHUR: Well, it doesn’t matter. Will you go and tell your master that Arthur from the Court of Camelot is here.\n",
      "SOLDIER #1: Listen. In order to maintain air-speed velocity, a swallow needs to beat its wings forty-three times every second, right?\n",
      "ARTHUR: Please!\n",
      "SOLDIER #1: Am I right?\n",
      "ARTHUR: I’m not interested!\n",
      "SOLDIER #2: It could be carried by an African swallow!\n",
      "SOLDIER #1: Oh, yeah, an African swallow maybe, but not a European swallow. That’s my point.\n",
      "SOLDIER #2: Oh, yeah, I agree with that.\n",
      "ARTHUR: Will you ask your master if he wants to join my court at Camelot?!\n",
      "SOLDIER #1: But then of course a– African swallows are non-migratory.\n",
      "SOLDIER #2: Oh, yeah…\n",
      "SOLDIER #1: So they couldn’t bring a coconut back anyway… [clop clop clop] \n",
      "SOLDIER #2: Wait a minute! Supposing two swallows carried it together?\n",
      "SOLDIER #1: No, they’d have to have it on a line.\n",
      "SOLDIER #2: Well, simple! They’d just use a strand of creeper!\n",
      "SOLDIER #1: What, held under the dorsal guiding feathers?\n",
      "SOLDIER #2: Well, why not?\n",
      "\n"
     ]
    }
   ],
   "source": [
    "scene_one = 'SCENE 1: [wind] [clop clop clop] \\nKING ARTHUR: Whoa there! [clop clop clop] \\nSOLDIER #1: Halt! Who goes there?\\nARTHUR: It is I, Arthur, son of Uther Pendragon, from the castle of Camelot. King of the Britons, defeator of the Saxons, sovereign of all England!\\nSOLDIER #1: Pull the other one!\\nARTHUR: I am, … and this is my trusty servant Patsy. We have ridden the length and breadth of the land in search of knights who will join me in my court at Camelot. I must speak with your lord and master.\\nSOLDIER #1: What? Ridden on a horse?\\nARTHUR: Yes!\\nSOLDIER #1: You’re using coconuts!\\nARTHUR: What?\\nSOLDIER #1: You’ve got two empty halves of coconut and you’re bangin’ ’em together.\\nARTHUR: So? We have ridden since the snows of winter covered this land, through the kingdom of Mercea, through–\\nSOLDIER #1: Where’d you get the coconuts?\\nARTHUR: We found them.\\nSOLDIER #1: Found them? In Mercea? The coconut’s tropical!\\nARTHUR: What do you mean?\\nSOLDIER #1: Well, this is a temperate zone.\\nARTHUR: The swallow may fly south with the sun or the house martin or the plover may seek warmer climes in winter, yet these are not strangers to our land?\\nSOLDIER #1: Are you suggesting coconuts migrate?\\nARTHUR: Not at all. They could be carried.\\nSOLDIER #1: What? A swallow carrying a coconut?\\nARTHUR: It could grip it by the husk!\\nSOLDIER #1: It’s not a question of where he grips it! It’s a simple question of weight ratios! A five ounce bird could not carry a one pound coconut.\\nARTHUR: Well, it doesn’t matter. Will you go and tell your master that Arthur from the Court of Camelot is here.\\nSOLDIER #1: Listen. In order to maintain air-speed velocity, a swallow needs to beat its wings forty-three times every second, right?\\nARTHUR: Please!\\nSOLDIER #1: Am I right?\\nARTHUR: I’m not interested!\\nSOLDIER #2: It could be carried by an African swallow!\\nSOLDIER #1: Oh, yeah, an African swallow maybe, but not a European swallow. That’s my point.\\nSOLDIER #2: Oh, yeah, I agree with that.\\nARTHUR: Will you ask your master if he wants to join my court at Camelot?!\\nSOLDIER #1: But then of course a– African swallows are non-migratory.\\nSOLDIER #2: Oh, yeah…\\nSOLDIER #1: So they couldn’t bring a coconut back anyway… [clop clop clop] \\nSOLDIER #2: Wait a minute! Supposing two swallows carried it together?\\nSOLDIER #1: No, they’d have to have it on a line.\\nSOLDIER #2: Well, simple! They’d just use a strand of creeper!\\nSOLDIER #1: What, held under the dorsal guiding feathers?\\nSOLDIER #2: Well, why not?\\n'\n",
    "\n",
    "print(scene_one)"
   ]
  },
  {
   "cell_type": "code",
   "execution_count": 10,
   "id": "8b79c8e9",
   "metadata": {},
   "outputs": [
    {
     "name": "stdout",
     "output_type": "stream",
     "text": [
      "['SCENE 1: [wind] [clop clop clop] \\nKING ARTHUR: Whoa there!', '[clop clop clop] \\nSOLDIER #1: Halt!', 'Who goes there?', 'ARTHUR: It is I, Arthur, son of Uther Pendragon, from the castle of Camelot.', 'King of the Britons, defeator of the Saxons, sovereign of all England!', 'SOLDIER #1: Pull the other one!', 'ARTHUR: I am, … and this is my trusty servant Patsy.', 'We have ridden the length and breadth of the land in search of knights who will join me in my court at Camelot.', 'I must speak with your lord and master.', 'SOLDIER #1: What?', 'Ridden on a horse?', 'ARTHUR: Yes!', 'SOLDIER #1: You’re using coconuts!', 'ARTHUR: What?', 'SOLDIER #1: You’ve got two empty halves of coconut and you’re bangin’ ’em together.', 'ARTHUR: So?', 'We have ridden since the snows of winter covered this land, through the kingdom of Mercea, through–\\nSOLDIER #1: Where’d you get the coconuts?', 'ARTHUR: We found them.', 'SOLDIER #1: Found them?', 'In Mercea?', 'The coconut’s tropical!', 'ARTHUR: What do you mean?', 'SOLDIER #1: Well, this is a temperate zone.', 'ARTHUR: The swallow may fly south with the sun or the house martin or the plover may seek warmer climes in winter, yet these are not strangers to our land?', 'SOLDIER #1: Are you suggesting coconuts migrate?', 'ARTHUR: Not at all.', 'They could be carried.', 'SOLDIER #1: What?', 'A swallow carrying a coconut?', 'ARTHUR: It could grip it by the husk!', 'SOLDIER #1: It’s not a question of where he grips it!', 'It’s a simple question of weight ratios!', 'A five ounce bird could not carry a one pound coconut.', 'ARTHUR: Well, it doesn’t matter.', 'Will you go and tell your master that Arthur from the Court of Camelot is here.', 'SOLDIER #1: Listen.', 'In order to maintain air-speed velocity, a swallow needs to beat its wings forty-three times every second, right?', 'ARTHUR: Please!', 'SOLDIER #1: Am I right?', 'ARTHUR: I’m not interested!', 'SOLDIER #2: It could be carried by an African swallow!', 'SOLDIER #1: Oh, yeah, an African swallow maybe, but not a European swallow.', 'That’s my point.', 'SOLDIER #2: Oh, yeah, I agree with that.', 'ARTHUR: Will you ask your master if he wants to join my court at Camelot?!', 'SOLDIER #1: But then of course a– African swallows are non-migratory.', 'SOLDIER #2: Oh, yeah…\\nSOLDIER #1: So they couldn’t bring a coconut back anyway… [clop clop clop] \\nSOLDIER #2: Wait a minute!', 'Supposing two swallows carried it together?', 'SOLDIER #1: No, they’d have to have it on a line.', 'SOLDIER #2: Well, simple!', 'They’d just use a strand of creeper!', 'SOLDIER #1: What, held under the dorsal guiding feathers?', 'SOLDIER #2: Well, why not?']\n"
     ]
    }
   ],
   "source": [
    "sentences = sent_tokenize(scene_one)\n",
    "print(sentences)"
   ]
  },
  {
   "cell_type": "code",
   "execution_count": 11,
   "id": "88c0a4ac",
   "metadata": {},
   "outputs": [
    {
     "name": "stdout",
     "output_type": "stream",
     "text": [
      "ARTHUR: It is I, Arthur, son of Uther Pendragon, from the castle of Camelot.\n"
     ]
    }
   ],
   "source": [
    "print(sentences[3])"
   ]
  },
  {
   "cell_type": "code",
   "execution_count": 12,
   "id": "d1067c84",
   "metadata": {},
   "outputs": [
    {
     "name": "stdout",
     "output_type": "stream",
     "text": [
      "['ARTHUR', ':', 'It', 'is', 'I', ',', 'Arthur', ',', 'son', 'of', 'Uther', 'Pendragon', ',', 'from', 'the', 'castle', 'of', 'Camelot', '.']\n"
     ]
    }
   ],
   "source": [
    "tokenized_sent = word_tokenize(sentences[3])\n",
    "print(tokenized_sent)"
   ]
  },
  {
   "cell_type": "code",
   "execution_count": 13,
   "id": "10b32eb3",
   "metadata": {},
   "outputs": [],
   "source": [
    "unique_tokens = set(word_tokenize(scene_one))\n"
   ]
  },
  {
   "cell_type": "code",
   "execution_count": 14,
   "id": "e4a6c729",
   "metadata": {},
   "outputs": [
    {
     "name": "stdout",
     "output_type": "stream",
     "text": [
      "{'?', 'halves', 'wind', 'I', 'must', 'bangin', 'together', 'Please', 'land', 'two', 'Well', 'snows', 'air-speed', 'through', 'trusty', 'sun', 'swallows', 'me', 'horse', 'clop', 'am', 'simple', 'since', 'breadth', 'minute', 'servant', 'who', 'he', 'second', 'if', 'kingdom', 'seek', 'Camelot', 'doesn', 'Who', '.', 'on', 'them', 'Ridden', ',', 'ARTHUR', 'climes', 'then', 'its', 'son', 'go', 'ratios', 'creeper', 'of', 'course', 'will', 'defeator', 'temperate', 'just', 'at', 'get', 'But', 'No', 'Supposing', 'by', 'order', 'from', 'and', 'my', 'strangers', 'strand', 'sovereign', 'Yes', 'swallow', 'We', 'carrying', 'an', 'England', 've', 'Found', 'other', 'KING', 'that', 'south', 'where', 'back', 'lord', 'Arthur', 'migrate', 'forty-three', 'goes', 'couldn', 'right', 'covered', 'So', 'here', 'carry', 'Not', 're', 'court', ']', 'it', 'yeah', 'yet', 'are', 'master', 'not', 'coconuts', 'join', 'search', 'em', 'SCENE', 'In', 'weight', 'maybe', 'European', 'tropical', 'needs', 'through–', ':', 'Am', 'a–', 'why', 'wants', 'martin', 'winter', 'speak', 'SOLDIER', 'The', 'grips', 'Will', 'maintain', 'Court', 'Uther', 'guiding', 'Saxons', 'our', '2', 'knights', 'could', 'Listen', 'coconut', 'velocity', 'African', '…', 'It', 'question', 'house', 'or', 'Patsy', 'castle', 'husk', 'with', 'ask', 'your', 'one', 'Where', 'beat', 'yeah…', 'is', 'the', 'plover', 'Are', 'wings', 'ounce', 'line', 'held', 'a', 'grip', 'times', 'point', 'That', 'got', 'bird', 'found', 'Pull', 'may', 'have', 'They', 'matter', 'warmer', 'Pendragon', 'interested', 'non-migratory', '!', 'under', 'm', 'Halt', 'fly', 'Oh', 'bring', 'every', 'ridden', 'you', 'to', 'these', 'length', 'tell', 'dorsal', 'King', 'agree', 'zone', 'five', 'A', 'this', 'Britons', 'there', 'use', '’', 'anyway…', 'all', 'suggesting', 'using', 't', 'but', 'in', 'What', 'empty', 'be', 'You', 'Whoa', 'Mercea', 'carried', 'feathers', 's', 'they', '1', '[', 'pound', '#', 'd', 'mean', 'Wait', 'do'}\n"
     ]
    }
   ],
   "source": [
    "print(unique_tokens)"
   ]
  },
  {
   "cell_type": "code",
   "execution_count": 15,
   "id": "d52f2c1e",
   "metadata": {},
   "outputs": [
    {
     "name": "stdout",
     "output_type": "stream",
     "text": [
      "['SCENE', '1', ':', '[', 'wind', ']', '[', 'clop', 'clop', 'clop', ']', 'KING', 'ARTHUR', ':', 'Whoa', 'there', '!', '[', 'clop', 'clop', 'clop', ']', 'SOLDIER', '#', '1', ':', 'Halt', '!', 'Who', 'goes', 'there', '?', 'ARTHUR', ':', 'It', 'is', 'I', ',', 'Arthur', ',', 'son', 'of', 'Uther', 'Pendragon', ',', 'from', 'the', 'castle', 'of', 'Camelot', '.', 'King', 'of', 'the', 'Britons', ',', 'defeator', 'of', 'the', 'Saxons', ',', 'sovereign', 'of', 'all', 'England', '!', 'SOLDIER', '#', '1', ':', 'Pull', 'the', 'other', 'one', '!', 'ARTHUR', ':', 'I', 'am', ',', '…', 'and', 'this', 'is', 'my', 'trusty', 'servant', 'Patsy', '.', 'We', 'have', 'ridden', 'the', 'length', 'and', 'breadth', 'of', 'the', 'land', 'in', 'search', 'of', 'knights', 'who', 'will', 'join', 'me', 'in', 'my', 'court', 'at', 'Camelot', '.', 'I', 'must', 'speak', 'with', 'your', 'lord', 'and', 'master', '.', 'SOLDIER', '#', '1', ':', 'What', '?', 'Ridden', 'on', 'a', 'horse', '?', 'ARTHUR', ':', 'Yes', '!', 'SOLDIER', '#', '1', ':', 'You', '’', 're', 'using', 'coconuts', '!', 'ARTHUR', ':', 'What', '?', 'SOLDIER', '#', '1', ':', 'You', '’', 've', 'got', 'two', 'empty', 'halves', 'of', 'coconut', 'and', 'you', '’', 're', 'bangin', '’', '’', 'em', 'together', '.', 'ARTHUR', ':', 'So', '?', 'We', 'have', 'ridden', 'since', 'the', 'snows', 'of', 'winter', 'covered', 'this', 'land', ',', 'through', 'the', 'kingdom', 'of', 'Mercea', ',', 'through–', 'SOLDIER', '#', '1', ':', 'Where', '’', 'd', 'you', 'get', 'the', 'coconuts', '?', 'ARTHUR', ':', 'We', 'found', 'them', '.', 'SOLDIER', '#', '1', ':', 'Found', 'them', '?', 'In', 'Mercea', '?', 'The', 'coconut', '’', 's', 'tropical', '!', 'ARTHUR', ':', 'What', 'do', 'you', 'mean', '?', 'SOLDIER', '#', '1', ':', 'Well', ',', 'this', 'is', 'a', 'temperate', 'zone', '.', 'ARTHUR', ':', 'The', 'swallow', 'may', 'fly', 'south', 'with', 'the', 'sun', 'or', 'the', 'house', 'martin', 'or', 'the', 'plover', 'may', 'seek', 'warmer', 'climes', 'in', 'winter', ',', 'yet', 'these', 'are', 'not', 'strangers', 'to', 'our', 'land', '?', 'SOLDIER', '#', '1', ':', 'Are', 'you', 'suggesting', 'coconuts', 'migrate', '?', 'ARTHUR', ':', 'Not', 'at', 'all', '.', 'They', 'could', 'be', 'carried', '.', 'SOLDIER', '#', '1', ':', 'What', '?', 'A', 'swallow', 'carrying', 'a', 'coconut', '?', 'ARTHUR', ':', 'It', 'could', 'grip', 'it', 'by', 'the', 'husk', '!', 'SOLDIER', '#', '1', ':', 'It', '’', 's', 'not', 'a', 'question', 'of', 'where', 'he', 'grips', 'it', '!', 'It', '’', 's', 'a', 'simple', 'question', 'of', 'weight', 'ratios', '!', 'A', 'five', 'ounce', 'bird', 'could', 'not', 'carry', 'a', 'one', 'pound', 'coconut', '.', 'ARTHUR', ':', 'Well', ',', 'it', 'doesn', '’', 't', 'matter', '.', 'Will', 'you', 'go', 'and', 'tell', 'your', 'master', 'that', 'Arthur', 'from', 'the', 'Court', 'of', 'Camelot', 'is', 'here', '.', 'SOLDIER', '#', '1', ':', 'Listen', '.', 'In', 'order', 'to', 'maintain', 'air-speed', 'velocity', ',', 'a', 'swallow', 'needs', 'to', 'beat', 'its', 'wings', 'forty-three', 'times', 'every', 'second', ',', 'right', '?', 'ARTHUR', ':', 'Please', '!', 'SOLDIER', '#', '1', ':', 'Am', 'I', 'right', '?', 'ARTHUR', ':', 'I', '’', 'm', 'not', 'interested', '!', 'SOLDIER', '#', '2', ':', 'It', 'could', 'be', 'carried', 'by', 'an', 'African', 'swallow', '!', 'SOLDIER', '#', '1', ':', 'Oh', ',', 'yeah', ',', 'an', 'African', 'swallow', 'maybe', ',', 'but', 'not', 'a', 'European', 'swallow', '.', 'That', '’', 's', 'my', 'point', '.', 'SOLDIER', '#', '2', ':', 'Oh', ',', 'yeah', ',', 'I', 'agree', 'with', 'that', '.', 'ARTHUR', ':', 'Will', 'you', 'ask', 'your', 'master', 'if', 'he', 'wants', 'to', 'join', 'my', 'court', 'at', 'Camelot', '?', '!', 'SOLDIER', '#', '1', ':', 'But', 'then', 'of', 'course', 'a–', 'African', 'swallows', 'are', 'non-migratory', '.', 'SOLDIER', '#', '2', ':', 'Oh', ',', 'yeah…', 'SOLDIER', '#', '1', ':', 'So', 'they', 'couldn', '’', 't', 'bring', 'a', 'coconut', 'back', 'anyway…', '[', 'clop', 'clop', 'clop', ']', 'SOLDIER', '#', '2', ':', 'Wait', 'a', 'minute', '!', 'Supposing', 'two', 'swallows', 'carried', 'it', 'together', '?', 'SOLDIER', '#', '1', ':', 'No', ',', 'they', '’', 'd', 'have', 'to', 'have', 'it', 'on', 'a', 'line', '.', 'SOLDIER', '#', '2', ':', 'Well', ',', 'simple', '!', 'They', '’', 'd', 'just', 'use', 'a', 'strand', 'of', 'creeper', '!', 'SOLDIER', '#', '1', ':', 'What', ',', 'held', 'under', 'the', 'dorsal', 'guiding', 'feathers', '?', 'SOLDIER', '#', '2', ':', 'Well', ',', 'why', 'not', '?']\n"
     ]
    }
   ],
   "source": [
    "print(word_tokenize(scene_one))"
   ]
  },
  {
   "cell_type": "code",
   "execution_count": 16,
   "id": "372889c1",
   "metadata": {},
   "outputs": [
    {
     "name": "stdout",
     "output_type": "stream",
     "text": [
      "<re.Match object; span=(571, 579), match='coconuts'>\n"
     ]
    }
   ],
   "source": [
    "import re\n",
    "scene_one = 'SCENE 1: [wind] [clop clop clop] \\nKING ARTHUR: Whoa there! [clop clop clop] \\nSOLDIER #1: Halt! Who goes there?\\nARTHUR: It is I, Arthur, son of Uther Pendragon, from the castle of Camelot. King of the Britons, defeator of the Saxons, sovereign of all England!\\nSOLDIER #1: Pull the other one!\\nARTHUR: I am, … and this is my trusty servant Patsy. We have ridden the length and breadth of the land in search of knights who will join me in my court at Camelot. I must speak with your lord and master.\\nSOLDIER #1: What? Ridden on a horse?\\nARTHUR: Yes!\\nSOLDIER #1: You’re using coconuts!\\nARTHUR: What?\\nSOLDIER #1: You’ve got two empty halves of coconut and you’re bangin’ ’em together.\\nARTHUR: So? We have ridden since the snows of winter covered this land, through the kingdom of Mercea, through–\\nSOLDIER #1: Where’d you get the coconuts?\\nARTHUR: We found them.\\nSOLDIER #1: Found them? In Mercea? The coconut’s tropical!\\nARTHUR: What do you mean?\\nSOLDIER #1: Well, this is a temperate zone.\\nARTHUR: The swallow may fly south with the sun or the house martin or the plover may seek warmer climes in winter, yet these are not strangers to our land?\\nSOLDIER #1: Are you suggesting coconuts migrate?\\nARTHUR: Not at all. They could be carried.\\nSOLDIER #1: What? A swallow carrying a coconut?\\nARTHUR: It could grip it by the husk!\\nSOLDIER #1: It’s not a question of where he grips it! It’s a simple question of weight ratios! A five ounce bird could not carry a one pound coconut.\\nARTHUR: Well, it doesn’t matter. Will you go and tell your master that Arthur from the Court of Camelot is here.\\nSOLDIER #1: Listen. In order to maintain air-speed velocity, a swallow needs to beat its wings forty-three times every second, right?\\nARTHUR: Please!\\nSOLDIER #1: Am I right?\\nARTHUR: I’m not interested!\\nSOLDIER #2: It could be carried by an African swallow!\\nSOLDIER #1: Oh, yeah, an African swallow maybe, but not a European swallow. That’s my point.\\nSOLDIER #2: Oh, yeah, I agree with that.\\nARTHUR: Will you ask your master if he wants to join my court at Camelot?!\\nSOLDIER #1: But then of course a– African swallows are non-migratory.\\nSOLDIER #2: Oh, yeah…\\nSOLDIER #1: So they couldn’t bring a coconut back anyway… [clop clop clop] \\nSOLDIER #2: Wait a minute! Supposing two swallows carried it together?\\nSOLDIER #1: No, they’d have to have it on a line.\\nSOLDIER #2: Well, simple! They’d just use a strand of creeper!\\nSOLDIER #1: What, held under the dorsal guiding feathers?\\nSOLDIER #2: Well, why not?\\n'\n",
    "\n",
    "# Tìm kiếm từ “coconuts” đầu tiên trong scene_one và lưu trong biến match\n",
    "match = re.search('coconuts', scene_one)\n",
    "print(match)"
   ]
  },
  {
   "cell_type": "code",
   "execution_count": 17,
   "id": "2a6c6d20",
   "metadata": {},
   "outputs": [
    {
     "name": "stdout",
     "output_type": "stream",
     "text": [
      "571 579\n"
     ]
    }
   ],
   "source": [
    "print(match.start(),match.end())"
   ]
  },
  {
   "cell_type": "markdown",
   "id": "07e874a1",
   "metadata": {},
   "source": [
    "### using regex"
   ]
  },
  {
   "cell_type": "code",
   "execution_count": 18,
   "id": "e5c6d09e",
   "metadata": {},
   "outputs": [
    {
     "data": {
      "text/plain": [
       "['He', 'has', '11', 'cats']"
      ]
     },
     "execution_count": 18,
     "metadata": {},
     "output_type": "execute_result"
    }
   ],
   "source": [
    "import re\n",
    "match_digit_and_word = '(\\d+|\\w+)'\n",
    "re.findall(match_digit_and_word,'He has 11 cats.')"
   ]
  },
  {
   "cell_type": "code",
   "execution_count": 19,
   "id": "1d3b834c",
   "metadata": {},
   "outputs": [
    {
     "data": {
      "text/plain": [
       "[',', ' ', ' ', ' ']"
      ]
     },
     "execution_count": 19,
     "metadata": {},
     "output_type": "execute_result"
    }
   ],
   "source": [
    "yu = '\\s+|,'\n",
    "re.findall(yu,'He, has 11 cats.')"
   ]
  },
  {
   "cell_type": "code",
   "execution_count": 20,
   "id": "feaf6d9c",
   "metadata": {},
   "outputs": [
    {
     "data": {
      "text/plain": [
       "<re.Match object; span=(0, 24), match='Toi ten la Le Thanh Long'>"
      ]
     },
     "execution_count": 20,
     "metadata": {},
     "output_type": "execute_result"
    }
   ],
   "source": [
    "import re\n",
    "my_str = 'Toi ten la Le Thanh Long, hoc sinh'\n",
    "re.match('[A-Za-z\\ ]+', my_str)"
   ]
  },
  {
   "cell_type": "code",
   "execution_count": 21,
   "id": "1c5dab96",
   "metadata": {},
   "outputs": [
    {
     "data": {
      "text/plain": [
       "<re.Match object; span=(0, 33), match='match lowercase spaces nums like '>"
      ]
     },
     "execution_count": 21,
     "metadata": {},
     "output_type": "execute_result"
    }
   ],
   "source": [
    "import re\n",
    "my_str = 'match lowercase spaces nums like 12, but no commas'\n",
    "re.match('[A-Za-z\\ \\.]+ ', my_str)"
   ]
  },
  {
   "cell_type": "markdown",
   "id": "1f9dcc56",
   "metadata": {},
   "source": [
    "### Test"
   ]
  },
  {
   "cell_type": "code",
   "execution_count": 22,
   "id": "5e08af3f",
   "metadata": {},
   "outputs": [
    {
     "name": "stdout",
     "output_type": "stream",
     "text": [
      "SOLDIER #1: Found them? In Mercea? The coconut's tropical!\n"
     ]
    }
   ],
   "source": [
    "my_string = \"SOLDIER #1: Found them? In Mercea? The coconut's tropical!\" \n",
    "print(my_string)"
   ]
  },
  {
   "cell_type": "code",
   "execution_count": 23,
   "id": "9e9da6aa",
   "metadata": {},
   "outputs": [],
   "source": [
    "from nltk.tokenize import regexp_tokenize"
   ]
  },
  {
   "cell_type": "code",
   "execution_count": 24,
   "id": "95f527f6",
   "metadata": {},
   "outputs": [
    {
     "data": {
      "text/plain": [
       "[' ', ' ', ' ', ' ', ' ', ' ', ' ', ' ']"
      ]
     },
     "execution_count": 24,
     "metadata": {},
     "output_type": "execute_result"
    }
   ],
   "source": [
    "pattern='(\\s+)'\n",
    "regexp_tokenize(my_string,pattern)"
   ]
  },
  {
   "cell_type": "code",
   "execution_count": null,
   "id": "20f08ad9",
   "metadata": {},
   "outputs": [],
   "source": []
  }
 ],
 "metadata": {
  "kernelspec": {
   "display_name": "Python 3 (ipykernel)",
   "language": "python",
   "name": "python3"
  },
  "language_info": {
   "codemirror_mode": {
    "name": "ipython",
    "version": 3
   },
   "file_extension": ".py",
   "mimetype": "text/x-python",
   "name": "python",
   "nbconvert_exporter": "python",
   "pygments_lexer": "ipython3",
   "version": "3.9.0"
  }
 },
 "nbformat": 4,
 "nbformat_minor": 5
}
