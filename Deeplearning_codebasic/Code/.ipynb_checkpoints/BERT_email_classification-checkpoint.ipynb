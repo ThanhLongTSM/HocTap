{
 "cells": [
  {
   "cell_type": "code",
   "execution_count": 17,
   "id": "ebe511d5",
   "metadata": {},
   "outputs": [],
   "source": [
    "import tensorflow_hub as hub\n",
    "import tensorflow as tf\n",
    "import tensorflow_text as text\n",
    "import pandas as pd"
   ]
  },
  {
   "cell_type": "code",
   "execution_count": 18,
   "id": "4593d50e",
   "metadata": {},
   "outputs": [
    {
     "data": {
      "text/html": [
       "<div>\n",
       "<style scoped>\n",
       "    .dataframe tbody tr th:only-of-type {\n",
       "        vertical-align: middle;\n",
       "    }\n",
       "\n",
       "    .dataframe tbody tr th {\n",
       "        vertical-align: top;\n",
       "    }\n",
       "\n",
       "    .dataframe thead th {\n",
       "        text-align: right;\n",
       "    }\n",
       "</style>\n",
       "<table border=\"1\" class=\"dataframe\">\n",
       "  <thead>\n",
       "    <tr style=\"text-align: right;\">\n",
       "      <th></th>\n",
       "      <th>Category</th>\n",
       "      <th>Message</th>\n",
       "    </tr>\n",
       "  </thead>\n",
       "  <tbody>\n",
       "    <tr>\n",
       "      <th>0</th>\n",
       "      <td>ham</td>\n",
       "      <td>Go until jurong point, crazy.. Available only ...</td>\n",
       "    </tr>\n",
       "    <tr>\n",
       "      <th>1</th>\n",
       "      <td>ham</td>\n",
       "      <td>Ok lar... Joking wif u oni...</td>\n",
       "    </tr>\n",
       "    <tr>\n",
       "      <th>2</th>\n",
       "      <td>spam</td>\n",
       "      <td>Free entry in 2 a wkly comp to win FA Cup fina...</td>\n",
       "    </tr>\n",
       "    <tr>\n",
       "      <th>3</th>\n",
       "      <td>ham</td>\n",
       "      <td>U dun say so early hor... U c already then say...</td>\n",
       "    </tr>\n",
       "    <tr>\n",
       "      <th>4</th>\n",
       "      <td>ham</td>\n",
       "      <td>Nah I don't think he goes to usf, he lives aro...</td>\n",
       "    </tr>\n",
       "  </tbody>\n",
       "</table>\n",
       "</div>"
      ],
      "text/plain": [
       "  Category                                            Message\n",
       "0      ham  Go until jurong point, crazy.. Available only ...\n",
       "1      ham                      Ok lar... Joking wif u oni...\n",
       "2     spam  Free entry in 2 a wkly comp to win FA Cup fina...\n",
       "3      ham  U dun say so early hor... U c already then say...\n",
       "4      ham  Nah I don't think he goes to usf, he lives aro..."
      ]
     },
     "execution_count": 18,
     "metadata": {},
     "output_type": "execute_result"
    }
   ],
   "source": [
    "df = pd.read_csv(r'C:/AI/Deeplearning_codebasic/Data/spam.csv')\n",
    "df.head()"
   ]
  },
  {
   "cell_type": "code",
   "execution_count": 19,
   "id": "af12a1dc",
   "metadata": {},
   "outputs": [
    {
     "data": {
      "text/html": [
       "<div>\n",
       "<style scoped>\n",
       "    .dataframe tbody tr th:only-of-type {\n",
       "        vertical-align: middle;\n",
       "    }\n",
       "\n",
       "    .dataframe tbody tr th {\n",
       "        vertical-align: top;\n",
       "    }\n",
       "\n",
       "    .dataframe thead tr th {\n",
       "        text-align: left;\n",
       "    }\n",
       "\n",
       "    .dataframe thead tr:last-of-type th {\n",
       "        text-align: right;\n",
       "    }\n",
       "</style>\n",
       "<table border=\"1\" class=\"dataframe\">\n",
       "  <thead>\n",
       "    <tr>\n",
       "      <th></th>\n",
       "      <th colspan=\"4\" halign=\"left\">Message</th>\n",
       "    </tr>\n",
       "    <tr>\n",
       "      <th></th>\n",
       "      <th>count</th>\n",
       "      <th>unique</th>\n",
       "      <th>top</th>\n",
       "      <th>freq</th>\n",
       "    </tr>\n",
       "    <tr>\n",
       "      <th>Category</th>\n",
       "      <th></th>\n",
       "      <th></th>\n",
       "      <th></th>\n",
       "      <th></th>\n",
       "    </tr>\n",
       "  </thead>\n",
       "  <tbody>\n",
       "    <tr>\n",
       "      <th>ham</th>\n",
       "      <td>4825</td>\n",
       "      <td>4516</td>\n",
       "      <td>Sorry, I'll call later</td>\n",
       "      <td>30</td>\n",
       "    </tr>\n",
       "    <tr>\n",
       "      <th>spam</th>\n",
       "      <td>747</td>\n",
       "      <td>641</td>\n",
       "      <td>Please call our customer service representativ...</td>\n",
       "      <td>4</td>\n",
       "    </tr>\n",
       "  </tbody>\n",
       "</table>\n",
       "</div>"
      ],
      "text/plain": [
       "         Message                                                            \\\n",
       "           count unique                                                top   \n",
       "Category                                                                     \n",
       "ham         4825   4516                             Sorry, I'll call later   \n",
       "spam         747    641  Please call our customer service representativ...   \n",
       "\n",
       "               \n",
       "         freq  \n",
       "Category       \n",
       "ham        30  \n",
       "spam        4  "
      ]
     },
     "execution_count": 19,
     "metadata": {},
     "output_type": "execute_result"
    }
   ],
   "source": [
    "df.groupby('Category').describe()"
   ]
  },
  {
   "cell_type": "code",
   "execution_count": 20,
   "id": "a909c2d3",
   "metadata": {},
   "outputs": [
    {
     "data": {
      "text/plain": [
       "(747, 2)"
      ]
     },
     "execution_count": 20,
     "metadata": {},
     "output_type": "execute_result"
    }
   ],
   "source": [
    "df_spam= df[df['Category']=='spam']\n",
    "df_spam.shape"
   ]
  },
  {
   "cell_type": "code",
   "execution_count": 21,
   "id": "ba0a6d90",
   "metadata": {},
   "outputs": [
    {
     "data": {
      "text/plain": [
       "(4825, 2)"
      ]
     },
     "execution_count": 21,
     "metadata": {},
     "output_type": "execute_result"
    }
   ],
   "source": [
    "df_ham= df[df['Category']=='ham']\n",
    "df_ham.shape"
   ]
  },
  {
   "cell_type": "code",
   "execution_count": 22,
   "id": "bb6e9354",
   "metadata": {},
   "outputs": [
    {
     "data": {
      "text/plain": [
       "(747, 2)"
      ]
     },
     "execution_count": 22,
     "metadata": {},
     "output_type": "execute_result"
    }
   ],
   "source": [
    "df_ham_downsampled = df_ham.sample(df_spam.shape[0])\n",
    "df_ham_downsampled.shape"
   ]
  },
  {
   "cell_type": "code",
   "execution_count": 23,
   "id": "2f50de5f",
   "metadata": {},
   "outputs": [
    {
     "data": {
      "text/plain": [
       "(1494, 2)"
      ]
     },
     "execution_count": 23,
     "metadata": {},
     "output_type": "execute_result"
    }
   ],
   "source": [
    "df_balanced = pd.concat([df_spam,df_ham_downsampled])\n",
    "df_balanced.shape"
   ]
  },
  {
   "cell_type": "code",
   "execution_count": 24,
   "id": "4b9e920a",
   "metadata": {},
   "outputs": [
    {
     "data": {
      "text/plain": [
       "spam    747\n",
       "ham     747\n",
       "Name: Category, dtype: int64"
      ]
     },
     "execution_count": 24,
     "metadata": {},
     "output_type": "execute_result"
    }
   ],
   "source": [
    "df_balanced['Category'].value_counts()"
   ]
  },
  {
   "cell_type": "code",
   "execution_count": 25,
   "id": "c2d1da85",
   "metadata": {},
   "outputs": [
    {
     "data": {
      "text/html": [
       "<div>\n",
       "<style scoped>\n",
       "    .dataframe tbody tr th:only-of-type {\n",
       "        vertical-align: middle;\n",
       "    }\n",
       "\n",
       "    .dataframe tbody tr th {\n",
       "        vertical-align: top;\n",
       "    }\n",
       "\n",
       "    .dataframe thead th {\n",
       "        text-align: right;\n",
       "    }\n",
       "</style>\n",
       "<table border=\"1\" class=\"dataframe\">\n",
       "  <thead>\n",
       "    <tr style=\"text-align: right;\">\n",
       "      <th></th>\n",
       "      <th>Category</th>\n",
       "      <th>Message</th>\n",
       "    </tr>\n",
       "  </thead>\n",
       "  <tbody>\n",
       "    <tr>\n",
       "      <th>3742</th>\n",
       "      <td>spam</td>\n",
       "      <td>2/2 146tf150p</td>\n",
       "    </tr>\n",
       "    <tr>\n",
       "      <th>65</th>\n",
       "      <td>spam</td>\n",
       "      <td>As a valued customer, I am pleased to advise y...</td>\n",
       "    </tr>\n",
       "    <tr>\n",
       "      <th>3172</th>\n",
       "      <td>ham</td>\n",
       "      <td>Still otside le..u come 2morrow maga..</td>\n",
       "    </tr>\n",
       "    <tr>\n",
       "      <th>442</th>\n",
       "      <td>ham</td>\n",
       "      <td>You were supposed to wake ME up &amp;gt;:(</td>\n",
       "    </tr>\n",
       "    <tr>\n",
       "      <th>964</th>\n",
       "      <td>ham</td>\n",
       "      <td>Yo chad which gymnastics class do you wanna ta...</td>\n",
       "    </tr>\n",
       "  </tbody>\n",
       "</table>\n",
       "</div>"
      ],
      "text/plain": [
       "     Category                                            Message\n",
       "3742     spam                                      2/2 146tf150p\n",
       "65       spam  As a valued customer, I am pleased to advise y...\n",
       "3172      ham             Still otside le..u come 2morrow maga..\n",
       "442       ham             You were supposed to wake ME up &gt;:(\n",
       "964       ham  Yo chad which gymnastics class do you wanna ta..."
      ]
     },
     "execution_count": 25,
     "metadata": {},
     "output_type": "execute_result"
    }
   ],
   "source": [
    "df_balanced.sample(5)"
   ]
  },
  {
   "cell_type": "code",
   "execution_count": 26,
   "id": "65077eb3",
   "metadata": {},
   "outputs": [
    {
     "data": {
      "text/html": [
       "<div>\n",
       "<style scoped>\n",
       "    .dataframe tbody tr th:only-of-type {\n",
       "        vertical-align: middle;\n",
       "    }\n",
       "\n",
       "    .dataframe tbody tr th {\n",
       "        vertical-align: top;\n",
       "    }\n",
       "\n",
       "    .dataframe thead th {\n",
       "        text-align: right;\n",
       "    }\n",
       "</style>\n",
       "<table border=\"1\" class=\"dataframe\">\n",
       "  <thead>\n",
       "    <tr style=\"text-align: right;\">\n",
       "      <th></th>\n",
       "      <th>Category</th>\n",
       "      <th>Message</th>\n",
       "      <th>spam</th>\n",
       "    </tr>\n",
       "  </thead>\n",
       "  <tbody>\n",
       "    <tr>\n",
       "      <th>401</th>\n",
       "      <td>spam</td>\n",
       "      <td>FREE RINGTONE text FIRST to 87131 for a poly o...</td>\n",
       "      <td>1</td>\n",
       "    </tr>\n",
       "    <tr>\n",
       "      <th>1664</th>\n",
       "      <td>ham</td>\n",
       "      <td>S but mostly not like that.</td>\n",
       "      <td>0</td>\n",
       "    </tr>\n",
       "    <tr>\n",
       "      <th>4768</th>\n",
       "      <td>spam</td>\n",
       "      <td>Your unique user ID is 1172. For removal send ...</td>\n",
       "      <td>1</td>\n",
       "    </tr>\n",
       "    <tr>\n",
       "      <th>1338</th>\n",
       "      <td>ham</td>\n",
       "      <td>Then she buying today? Ü no need to c meh...</td>\n",
       "      <td>0</td>\n",
       "    </tr>\n",
       "    <tr>\n",
       "      <th>3218</th>\n",
       "      <td>ham</td>\n",
       "      <td>Come to mahal bus stop.. &amp;lt;DECIMAL&amp;gt;</td>\n",
       "      <td>0</td>\n",
       "    </tr>\n",
       "    <tr>\n",
       "      <th>2264</th>\n",
       "      <td>spam</td>\n",
       "      <td>Not heard from U4 a while. Call 4 rude chat pr...</td>\n",
       "      <td>1</td>\n",
       "    </tr>\n",
       "    <tr>\n",
       "      <th>4036</th>\n",
       "      <td>spam</td>\n",
       "      <td>YOU ARE CHOSEN TO RECEIVE A £350 AWARD! Pls ca...</td>\n",
       "      <td>1</td>\n",
       "    </tr>\n",
       "    <tr>\n",
       "      <th>1989</th>\n",
       "      <td>ham</td>\n",
       "      <td>Sorry, I'll call later</td>\n",
       "      <td>0</td>\n",
       "    </tr>\n",
       "    <tr>\n",
       "      <th>2879</th>\n",
       "      <td>spam</td>\n",
       "      <td>Hey Boys. Want hot XXX pics sent direct 2 ur p...</td>\n",
       "      <td>1</td>\n",
       "    </tr>\n",
       "    <tr>\n",
       "      <th>4735</th>\n",
       "      <td>spam</td>\n",
       "      <td>Buy Space Invaders 4 a chance 2 win orig Arcad...</td>\n",
       "      <td>1</td>\n",
       "    </tr>\n",
       "  </tbody>\n",
       "</table>\n",
       "</div>"
      ],
      "text/plain": [
       "     Category                                            Message  spam\n",
       "401      spam  FREE RINGTONE text FIRST to 87131 for a poly o...     1\n",
       "1664      ham                        S but mostly not like that.     0\n",
       "4768     spam  Your unique user ID is 1172. For removal send ...     1\n",
       "1338      ham       Then she buying today? Ü no need to c meh...     0\n",
       "3218      ham           Come to mahal bus stop.. &lt;DECIMAL&gt;     0\n",
       "2264     spam  Not heard from U4 a while. Call 4 rude chat pr...     1\n",
       "4036     spam  YOU ARE CHOSEN TO RECEIVE A £350 AWARD! Pls ca...     1\n",
       "1989      ham                             Sorry, I'll call later     0\n",
       "2879     spam  Hey Boys. Want hot XXX pics sent direct 2 ur p...     1\n",
       "4735     spam  Buy Space Invaders 4 a chance 2 win orig Arcad...     1"
      ]
     },
     "execution_count": 26,
     "metadata": {},
     "output_type": "execute_result"
    }
   ],
   "source": [
    "df_balanced['spam']= df_balanced['Category'].apply(lambda x:1 if x=='spam' else 0)\n",
    "df_balanced.sample(10)"
   ]
  },
  {
   "cell_type": "code",
   "execution_count": 30,
   "id": "da465325",
   "metadata": {},
   "outputs": [],
   "source": [
    "from sklearn.model_selection import train_test_split\n",
    "X_train,X_test,y_train,y_test = train_test_split(df_balanced['Message'],df_balanced['spam'],stratify =df_balanced['spam'],\n",
    "                                                random_state=0)"
   ]
  },
  {
   "cell_type": "code",
   "execution_count": 32,
   "id": "fc3d2d7e",
   "metadata": {},
   "outputs": [
    {
     "data": {
      "text/plain": [
       "2868    Mum, i've sent you many many messages since i ...\n",
       "2318    Waqt se pehle or naseeb se zyada kisi ko kuch ...\n",
       "3421    As a valued customer, I am pleased to advise y...\n",
       "4591    Tomorrow i am not going to theatre. . . So i c...\n",
       "Name: Message, dtype: object"
      ]
     },
     "execution_count": 32,
     "metadata": {},
     "output_type": "execute_result"
    }
   ],
   "source": [
    "X_train.head(4)"
   ]
  },
  {
   "cell_type": "code",
   "execution_count": 33,
   "id": "c8731e28",
   "metadata": {},
   "outputs": [
    {
     "name": "stdout",
     "output_type": "stream",
     "text": [
      "WARNING:tensorflow:Please fix your imports. Module tensorflow.python.training.tracking.data_structures has been moved to tensorflow.python.trackable.data_structures. The old module will be deleted in version 2.11.\n"
     ]
    }
   ],
   "source": [
    "bert_preprocess = hub.KerasLayer(\"https://tfhub.dev/tensorflow/bert_en_uncased_preprocess/3\")\n",
    "bert_encoder = hub.KerasLayer(\"https://tfhub.dev/tensorflow/bert_en_uncased_L-12_H-768_A-12/4\")"
   ]
  },
  {
   "cell_type": "code",
   "execution_count": 37,
   "id": "4f1bda5c",
   "metadata": {},
   "outputs": [
    {
     "data": {
      "text/plain": [
       "<tf.Tensor: shape=(2, 768), dtype=float32, numpy=\n",
       "array([[-0.8312363 , -0.4663339 , -0.83479226, ..., -0.7606116 ,\n",
       "        -0.7258616 ,  0.8813407 ],\n",
       "       [-0.93225294, -0.2920476 , -0.42893142, ..., -0.21647796,\n",
       "        -0.6645842 ,  0.94452375]], dtype=float32)>"
      ]
     },
     "execution_count": 37,
     "metadata": {},
     "output_type": "execute_result"
    }
   ],
   "source": [
    "def get_sentence_embeding(sentences):\n",
    "    preprocess_text  = bert_preprocess(sentences)\n",
    "    return bert_encoder(preprocess_text)['pooled_output']   # return keys() pooled_output, trả về giá trị (1,768) cho từng sentence\n",
    "\n",
    "get_sentence_embeding([\n",
    "    'Hi, my name is Long',\n",
    "    'How are you'\n",
    "])"
   ]
  },
  {
   "cell_type": "code",
   "execution_count": 43,
   "id": "27039ba8",
   "metadata": {},
   "outputs": [],
   "source": [
    "e = get_sentence_embeding([\n",
    "    'banana',\n",
    "    'grapes',\n",
    "    'mango',\n",
    "    'jeff bezos',\n",
    "    'elon musk',\n",
    "    'bill gates'\n",
    "])"
   ]
  },
  {
   "cell_type": "code",
   "execution_count": 39,
   "id": "34ba3a2b",
   "metadata": {},
   "outputs": [],
   "source": [
    "from sklearn.metrics.pairwise import cosine_similarity"
   ]
  },
  {
   "cell_type": "code",
   "execution_count": 47,
   "id": "70df85f6",
   "metadata": {},
   "outputs": [
    {
     "data": {
      "text/plain": [
       "array([[0.98720354]], dtype=float32)"
      ]
     },
     "execution_count": 47,
     "metadata": {},
     "output_type": "execute_result"
    }
   ],
   "source": [
    "cosine_similarity([e[3]],[e[4]])"
   ]
  },
  {
   "cell_type": "code",
   "execution_count": 51,
   "id": "8be74ead",
   "metadata": {},
   "outputs": [],
   "source": [
    "# Bert layers\n",
    "text_input = tf.keras.layers.Input(shape=(), dtype=tf.string, name='text')\n",
    "preprocessed_text = bert_preprocess(text_input)\n",
    "outputs = bert_encoder(preprocessed_text)\n",
    "\n",
    "# Neural network layers\n",
    "l = tf.keras.layers.Dropout(0.1, name=\"dropout\")(outputs['pooled_output'])\n",
    "l = tf.keras.layers.Dense(1, activation='sigmoid', name=\"output\")(l)\n",
    "\n",
    "# Use inputs and outputs to construct a final model\n",
    "model = tf.keras.Model(inputs=[text_input], outputs = [l])"
   ]
  },
  {
   "cell_type": "code",
   "execution_count": 52,
   "id": "22170ab0",
   "metadata": {},
   "outputs": [
    {
     "name": "stdout",
     "output_type": "stream",
     "text": [
      "Model: \"model_1\"\n",
      "__________________________________________________________________________________________________\n",
      " Layer (type)                   Output Shape         Param #     Connected to                     \n",
      "==================================================================================================\n",
      " text (InputLayer)              [(None,)]            0           []                               \n",
      "                                                                                                  \n",
      " keras_layer (KerasLayer)       {'input_word_ids':   0           ['text[0][0]']                   \n",
      "                                (None, 128),                                                      \n",
      "                                 'input_type_ids':                                                \n",
      "                                (None, 128),                                                      \n",
      "                                 'input_mask': (Non                                               \n",
      "                                e, 128)}                                                          \n",
      "                                                                                                  \n",
      " keras_layer_1 (KerasLayer)     {'default': (None,   109482241   ['keras_layer[1][0]',            \n",
      "                                768),                             'keras_layer[1][1]',            \n",
      "                                 'encoder_outputs':               'keras_layer[1][2]']            \n",
      "                                 [(None, 128, 768),                                               \n",
      "                                 (None, 128, 768),                                                \n",
      "                                 (None, 128, 768),                                                \n",
      "                                 (None, 128, 768),                                                \n",
      "                                 (None, 128, 768),                                                \n",
      "                                 (None, 128, 768),                                                \n",
      "                                 (None, 128, 768),                                                \n",
      "                                 (None, 128, 768),                                                \n",
      "                                 (None, 128, 768),                                                \n",
      "                                 (None, 128, 768),                                                \n",
      "                                 (None, 128, 768),                                                \n",
      "                                 (None, 128, 768)],                                               \n",
      "                                 'sequence_output':                                               \n",
      "                                 (None, 128, 768),                                                \n",
      "                                 'pooled_output': (                                               \n",
      "                                None, 768)}                                                       \n",
      "                                                                                                  \n",
      " dropout (Dropout)              (None, 768)          0           ['keras_layer_1[1][13]']         \n",
      "                                                                                                  \n",
      " output (Dense)                 (None, 1)            769         ['dropout[0][0]']                \n",
      "                                                                                                  \n",
      "==================================================================================================\n",
      "Total params: 109,483,010\n",
      "Trainable params: 769\n",
      "Non-trainable params: 109,482,241\n",
      "__________________________________________________________________________________________________\n"
     ]
    }
   ],
   "source": [
    "model.summary()"
   ]
  },
  {
   "cell_type": "code",
   "execution_count": 53,
   "id": "620a3055",
   "metadata": {},
   "outputs": [],
   "source": [
    "METRICS = [\n",
    "    tf.keras.metrics.BinaryAccuracy(name = 'accuracy'),\n",
    "    tf.keras.metrics.Precision(name = 'precision'),\n",
    "    tf.keras.metrics.Recall(name = 'recall')\n",
    "]\n",
    "\n",
    "model.compile(optimizer = 'adam',\n",
    "             loss ='binary_crossentropy',\n",
    "             metrics = METRICS)"
   ]
  },
  {
   "cell_type": "code",
   "execution_count": 54,
   "id": "e0f3f2b0",
   "metadata": {},
   "outputs": [
    {
     "name": "stdout",
     "output_type": "stream",
     "text": [
      "Epoch 1/5\n",
      "35/35 [==============================] - 35s 708ms/step - loss: 0.5959 - accuracy: 0.7232 - precision: 0.7306 - recall: 0.7071\n",
      "Epoch 2/5\n",
      "35/35 [==============================] - 25s 719ms/step - loss: 0.4870 - accuracy: 0.8232 - precision: 0.8198 - recall: 0.8286\n",
      "Epoch 3/5\n",
      "35/35 [==============================] - 25s 726ms/step - loss: 0.4194 - accuracy: 0.8652 - precision: 0.8508 - recall: 0.8857\n",
      "Epoch 4/5\n",
      "35/35 [==============================] - 26s 753ms/step - loss: 0.3763 - accuracy: 0.8804 - precision: 0.8698 - recall: 0.8946\n",
      "Epoch 5/5\n",
      "35/35 [==============================] - 26s 755ms/step - loss: 0.3461 - accuracy: 0.8821 - precision: 0.8690 - recall: 0.9000\n"
     ]
    },
    {
     "data": {
      "text/plain": [
       "<keras.callbacks.History at 0x21b44883e80>"
      ]
     },
     "execution_count": 54,
     "metadata": {},
     "output_type": "execute_result"
    }
   ],
   "source": [
    "model.fit(X_train,y_train,epochs =5)"
   ]
  },
  {
   "cell_type": "code",
   "execution_count": 55,
   "id": "8ac75a55",
   "metadata": {},
   "outputs": [
    {
     "name": "stdout",
     "output_type": "stream",
     "text": [
      "12/12 [==============================] - 10s 690ms/step - loss: 0.3650 - accuracy: 0.8743 - precision: 0.8535 - recall: 0.9037\n"
     ]
    },
    {
     "data": {
      "text/plain": [
       "[0.36497125029563904, 0.874331533908844, 0.8535353541374207, 0.903743326663971]"
      ]
     },
     "execution_count": 55,
     "metadata": {},
     "output_type": "execute_result"
    }
   ],
   "source": [
    "model.evaluate(X_test,y_test)"
   ]
  },
  {
   "cell_type": "code",
   "execution_count": 56,
   "id": "3d69b2f6",
   "metadata": {
    "collapsed": true
   },
   "outputs": [
    {
     "name": "stdout",
     "output_type": "stream",
     "text": [
      "12/12 [==============================] - 9s 694ms/step\n"
     ]
    },
    {
     "data": {
      "text/plain": [
       "array([[0.24734358],\n",
       "       [0.9201784 ],\n",
       "       [0.8210146 ],\n",
       "       [0.6611783 ],\n",
       "       [0.50061893],\n",
       "       [0.7630678 ],\n",
       "       [0.5841898 ],\n",
       "       [0.21255097],\n",
       "       [0.5226563 ],\n",
       "       [0.52837807],\n",
       "       [0.7357876 ],\n",
       "       [0.928031  ],\n",
       "       [0.64284515],\n",
       "       [0.797046  ],\n",
       "       [0.63384145],\n",
       "       [0.83271885],\n",
       "       [0.4297067 ],\n",
       "       [0.2755428 ],\n",
       "       [0.15630725],\n",
       "       [0.5067479 ],\n",
       "       [0.0780169 ],\n",
       "       [0.6264794 ],\n",
       "       [0.06649176],\n",
       "       [0.89394146],\n",
       "       [0.70212257],\n",
       "       [0.92568   ],\n",
       "       [0.9036623 ],\n",
       "       [0.12447415],\n",
       "       [0.17616238],\n",
       "       [0.95368016],\n",
       "       [0.9140474 ],\n",
       "       [0.87381697],\n",
       "       [0.21371774],\n",
       "       [0.7179421 ],\n",
       "       [0.0612142 ],\n",
       "       [0.20241138],\n",
       "       [0.6542932 ],\n",
       "       [0.06922712],\n",
       "       [0.57481974],\n",
       "       [0.7621675 ],\n",
       "       [0.5314553 ],\n",
       "       [0.09664387],\n",
       "       [0.875669  ],\n",
       "       [0.69691366],\n",
       "       [0.06965111],\n",
       "       [0.7963338 ],\n",
       "       [0.55838835],\n",
       "       [0.5564863 ],\n",
       "       [0.91459423],\n",
       "       [0.764705  ],\n",
       "       [0.16479336],\n",
       "       [0.7326879 ],\n",
       "       [0.06968295],\n",
       "       [0.9185428 ],\n",
       "       [0.2928978 ],\n",
       "       [0.82064486],\n",
       "       [0.8874364 ],\n",
       "       [0.18181162],\n",
       "       [0.29862228],\n",
       "       [0.42112914],\n",
       "       [0.14492962],\n",
       "       [0.22115907],\n",
       "       [0.70451075],\n",
       "       [0.78681636],\n",
       "       [0.46861762],\n",
       "       [0.7192034 ],\n",
       "       [0.5325045 ],\n",
       "       [0.28904322],\n",
       "       [0.7216747 ],\n",
       "       [0.72843057],\n",
       "       [0.13463075],\n",
       "       [0.73332083],\n",
       "       [0.06416756],\n",
       "       [0.14799267],\n",
       "       [0.12315354],\n",
       "       [0.63303864],\n",
       "       [0.33128855],\n",
       "       [0.08671872],\n",
       "       [0.7536217 ],\n",
       "       [0.09573951],\n",
       "       [0.64733446],\n",
       "       [0.05954581],\n",
       "       [0.87806207],\n",
       "       [0.1443898 ],\n",
       "       [0.30113465],\n",
       "       [0.91277564],\n",
       "       [0.06932074],\n",
       "       [0.44633222],\n",
       "       [0.37877074],\n",
       "       [0.86132085],\n",
       "       [0.46453792],\n",
       "       [0.6097311 ],\n",
       "       [0.08596695],\n",
       "       [0.22115645],\n",
       "       [0.07975663],\n",
       "       [0.29830515],\n",
       "       [0.45430923],\n",
       "       [0.3387098 ],\n",
       "       [0.19801937],\n",
       "       [0.64733446],\n",
       "       [0.8173344 ],\n",
       "       [0.41351393],\n",
       "       [0.09533831],\n",
       "       [0.8742938 ],\n",
       "       [0.03876733],\n",
       "       [0.22669041],\n",
       "       [0.09778363],\n",
       "       [0.11848287],\n",
       "       [0.80817914],\n",
       "       [0.6017721 ],\n",
       "       [0.3710743 ],\n",
       "       [0.4867672 ],\n",
       "       [0.5098571 ],\n",
       "       [0.32612008],\n",
       "       [0.2178352 ],\n",
       "       [0.8454669 ],\n",
       "       [0.80454177],\n",
       "       [0.94752514],\n",
       "       [0.7657482 ],\n",
       "       [0.6758562 ],\n",
       "       [0.34431657],\n",
       "       [0.8507312 ],\n",
       "       [0.23717616],\n",
       "       [0.69941217],\n",
       "       [0.33103234],\n",
       "       [0.1036292 ],\n",
       "       [0.13474599],\n",
       "       [0.42854294],\n",
       "       [0.39467022],\n",
       "       [0.43340826],\n",
       "       [0.16670382],\n",
       "       [0.12060352],\n",
       "       [0.17138079],\n",
       "       [0.16939157],\n",
       "       [0.8285028 ],\n",
       "       [0.05820413],\n",
       "       [0.82064486],\n",
       "       [0.26650104],\n",
       "       [0.385806  ],\n",
       "       [0.5540131 ],\n",
       "       [0.3169509 ],\n",
       "       [0.70355034],\n",
       "       [0.7782523 ],\n",
       "       [0.12217375],\n",
       "       [0.30812964],\n",
       "       [0.7304361 ],\n",
       "       [0.12234833],\n",
       "       [0.07234681],\n",
       "       [0.87806207],\n",
       "       [0.7407109 ],\n",
       "       [0.44254547],\n",
       "       [0.7302195 ],\n",
       "       [0.03189126],\n",
       "       [0.20705962],\n",
       "       [0.20052058],\n",
       "       [0.07477393],\n",
       "       [0.09372642],\n",
       "       [0.77536815],\n",
       "       [0.30265933],\n",
       "       [0.10591897],\n",
       "       [0.5399234 ],\n",
       "       [0.6837927 ],\n",
       "       [0.41825503],\n",
       "       [0.22289069],\n",
       "       [0.1464055 ],\n",
       "       [0.6701715 ],\n",
       "       [0.5889962 ],\n",
       "       [0.92886984],\n",
       "       [0.8186233 ],\n",
       "       [0.786348  ],\n",
       "       [0.48671857],\n",
       "       [0.7943466 ],\n",
       "       [0.89437604],\n",
       "       [0.7869532 ],\n",
       "       [0.12807888],\n",
       "       [0.64861083],\n",
       "       [0.5884122 ],\n",
       "       [0.19779292],\n",
       "       [0.9475651 ],\n",
       "       [0.96063656],\n",
       "       [0.1161569 ],\n",
       "       [0.16738462],\n",
       "       [0.27726775],\n",
       "       [0.84779245],\n",
       "       [0.92356837],\n",
       "       [0.48305336],\n",
       "       [0.15985063],\n",
       "       [0.08273254],\n",
       "       [0.78293014],\n",
       "       [0.15102571],\n",
       "       [0.6982228 ],\n",
       "       [0.0617443 ],\n",
       "       [0.85794246],\n",
       "       [0.1202087 ],\n",
       "       [0.5226563 ],\n",
       "       [0.40408775],\n",
       "       [0.2963158 ],\n",
       "       [0.8105824 ],\n",
       "       [0.23351412],\n",
       "       [0.6263205 ],\n",
       "       [0.2902403 ],\n",
       "       [0.10609674],\n",
       "       [0.04412239],\n",
       "       [0.1826511 ],\n",
       "       [0.5946465 ],\n",
       "       [0.10736105],\n",
       "       [0.07788595],\n",
       "       [0.71171105],\n",
       "       [0.12598607],\n",
       "       [0.6189647 ],\n",
       "       [0.03559581],\n",
       "       [0.83474034],\n",
       "       [0.575266  ],\n",
       "       [0.84373707],\n",
       "       [0.6189647 ],\n",
       "       [0.8579744 ],\n",
       "       [0.13735512],\n",
       "       [0.9310683 ],\n",
       "       [0.69848967],\n",
       "       [0.1060814 ],\n",
       "       [0.8411906 ],\n",
       "       [0.29323375],\n",
       "       [0.7571653 ],\n",
       "       [0.15724385],\n",
       "       [0.903429  ],\n",
       "       [0.6692799 ],\n",
       "       [0.72520405],\n",
       "       [0.84674287],\n",
       "       [0.20981705],\n",
       "       [0.9322974 ],\n",
       "       [0.7562065 ],\n",
       "       [0.04379935],\n",
       "       [0.7291295 ],\n",
       "       [0.24722502],\n",
       "       [0.65220165],\n",
       "       [0.7435094 ],\n",
       "       [0.69495785],\n",
       "       [0.04768562],\n",
       "       [0.19255589],\n",
       "       [0.05217437],\n",
       "       [0.13350616],\n",
       "       [0.81066585],\n",
       "       [0.26945716],\n",
       "       [0.81593156],\n",
       "       [0.23028389],\n",
       "       [0.16914432],\n",
       "       [0.29067263],\n",
       "       [0.5149655 ],\n",
       "       [0.37287655],\n",
       "       [0.5579678 ],\n",
       "       [0.5531077 ],\n",
       "       [0.70840365],\n",
       "       [0.5183014 ],\n",
       "       [0.81137   ],\n",
       "       [0.8378519 ],\n",
       "       [0.39740947],\n",
       "       [0.49072647],\n",
       "       [0.14025292],\n",
       "       [0.13957837],\n",
       "       [0.10169549],\n",
       "       [0.30284172],\n",
       "       [0.1403784 ],\n",
       "       [0.34249398],\n",
       "       [0.67640203],\n",
       "       [0.5779149 ],\n",
       "       [0.8744548 ],\n",
       "       [0.7216747 ],\n",
       "       [0.5138801 ],\n",
       "       [0.6555996 ],\n",
       "       [0.9098156 ],\n",
       "       [0.75890225],\n",
       "       [0.6598829 ],\n",
       "       [0.35870364],\n",
       "       [0.14958028],\n",
       "       [0.5775432 ],\n",
       "       [0.758499  ],\n",
       "       [0.7524095 ],\n",
       "       [0.2390666 ],\n",
       "       [0.69033366],\n",
       "       [0.5910093 ],\n",
       "       [0.85311663],\n",
       "       [0.57079065],\n",
       "       [0.62830323],\n",
       "       [0.82809156],\n",
       "       [0.55446047],\n",
       "       [0.12495776],\n",
       "       [0.5311316 ],\n",
       "       [0.8273834 ],\n",
       "       [0.12094615],\n",
       "       [0.6300821 ],\n",
       "       [0.09198114],\n",
       "       [0.70578873],\n",
       "       [0.844332  ],\n",
       "       [0.34812337],\n",
       "       [0.031581  ],\n",
       "       [0.6256398 ],\n",
       "       [0.7157706 ],\n",
       "       [0.8356072 ],\n",
       "       [0.6259935 ],\n",
       "       [0.05808852],\n",
       "       [0.22928421],\n",
       "       [0.32140365],\n",
       "       [0.33444718],\n",
       "       [0.20607926],\n",
       "       [0.85533524],\n",
       "       [0.09053715],\n",
       "       [0.82030517],\n",
       "       [0.9028337 ],\n",
       "       [0.6843124 ],\n",
       "       [0.05153385],\n",
       "       [0.07108837],\n",
       "       [0.03453681],\n",
       "       [0.0478358 ],\n",
       "       [0.7813404 ],\n",
       "       [0.9200772 ],\n",
       "       [0.32696304],\n",
       "       [0.5264927 ],\n",
       "       [0.40667346],\n",
       "       [0.14172281],\n",
       "       [0.06063872],\n",
       "       [0.5657276 ],\n",
       "       [0.85820305],\n",
       "       [0.7850399 ],\n",
       "       [0.9024711 ],\n",
       "       [0.13735512],\n",
       "       [0.4240898 ],\n",
       "       [0.61230916],\n",
       "       [0.86709553],\n",
       "       [0.8757435 ],\n",
       "       [0.6122429 ],\n",
       "       [0.7276457 ],\n",
       "       [0.5075204 ],\n",
       "       [0.0498918 ],\n",
       "       [0.86041903],\n",
       "       [0.7076691 ],\n",
       "       [0.07635149],\n",
       "       [0.09027681],\n",
       "       [0.9639172 ],\n",
       "       [0.7468038 ],\n",
       "       [0.13870247],\n",
       "       [0.66793185],\n",
       "       [0.86329293],\n",
       "       [0.94752514],\n",
       "       [0.9063342 ],\n",
       "       [0.11000506],\n",
       "       [0.7833531 ],\n",
       "       [0.6598829 ],\n",
       "       [0.5173219 ],\n",
       "       [0.12948707],\n",
       "       [0.8988398 ],\n",
       "       [0.03385176],\n",
       "       [0.89937496],\n",
       "       [0.56092083],\n",
       "       [0.4345787 ],\n",
       "       [0.70360273],\n",
       "       [0.45631796],\n",
       "       [0.6506548 ],\n",
       "       [0.0630486 ],\n",
       "       [0.7230529 ],\n",
       "       [0.05649592],\n",
       "       [0.11521636],\n",
       "       [0.40283373],\n",
       "       [0.87676823],\n",
       "       [0.07996445],\n",
       "       [0.84037423],\n",
       "       [0.43943238],\n",
       "       [0.93890464],\n",
       "       [0.88185483],\n",
       "       [0.50283056],\n",
       "       [0.0793376 ],\n",
       "       [0.09343285],\n",
       "       [0.7357876 ],\n",
       "       [0.12724747],\n",
       "       [0.70840365]], dtype=float32)"
      ]
     },
     "execution_count": 56,
     "metadata": {},
     "output_type": "execute_result"
    }
   ],
   "source": [
    "y_pred = model.predict(X_test)"
   ]
  },
  {
   "cell_type": "code",
   "execution_count": 59,
   "id": "a142f118",
   "metadata": {},
   "outputs": [],
   "source": [
    "y_pred =y_pred.flatten()"
   ]
  },
  {
   "cell_type": "code",
   "execution_count": 61,
   "id": "62d4ea12",
   "metadata": {},
   "outputs": [
    {
     "data": {
      "text/plain": [
       "array([0, 1, 1, 1, 1, 1, 1, 0, 1, 1, 1, 1, 1, 1, 1, 1, 0, 0, 0, 1, 0, 1,\n",
       "       0, 1, 1, 1, 1, 0, 0, 1, 1, 1, 0, 1, 0, 0, 1, 0, 1, 1, 1, 0, 1, 1,\n",
       "       0, 1, 1, 1, 1, 1, 0, 1, 0, 1, 0, 1, 1, 0, 0, 0, 0, 0, 1, 1, 0, 1,\n",
       "       1, 0, 1, 1, 0, 1, 0, 0, 0, 1, 0, 0, 1, 0, 1, 0, 1, 0, 0, 1, 0, 0,\n",
       "       0, 1, 0, 1, 0, 0, 0, 0, 0, 0, 0, 1, 1, 0, 0, 1, 0, 0, 0, 0, 1, 1,\n",
       "       0, 0, 1, 0, 0, 1, 1, 1, 1, 1, 0, 1, 0, 1, 0, 0, 0, 0, 0, 0, 0, 0,\n",
       "       0, 0, 1, 0, 1, 0, 0, 1, 0, 1, 1, 0, 0, 1, 0, 0, 1, 1, 0, 1, 0, 0,\n",
       "       0, 0, 0, 1, 0, 0, 1, 1, 0, 0, 0, 1, 1, 1, 1, 1, 0, 1, 1, 1, 0, 1,\n",
       "       1, 0, 1, 1, 0, 0, 0, 1, 1, 0, 0, 0, 1, 0, 1, 0, 1, 0, 1, 0, 0, 1,\n",
       "       0, 1, 0, 0, 0, 0, 1, 0, 0, 1, 0, 1, 0, 1, 1, 1, 1, 1, 0, 1, 1, 0,\n",
       "       1, 0, 1, 0, 1, 1, 1, 1, 0, 1, 1, 0, 1, 0, 1, 1, 1, 0, 0, 0, 0, 1,\n",
       "       0, 1, 0, 0, 0, 1, 0, 1, 1, 1, 1, 1, 1, 0, 0, 0, 0, 0, 0, 0, 0, 1,\n",
       "       1, 1, 1, 1, 1, 1, 1, 1, 0, 0, 1, 1, 1, 0, 1, 1, 1, 1, 1, 1, 1, 0,\n",
       "       1, 1, 0, 1, 0, 1, 1, 0, 0, 1, 1, 1, 1, 0, 0, 0, 0, 0, 1, 0, 1, 1,\n",
       "       1, 0, 0, 0, 0, 1, 1, 0, 1, 0, 0, 0, 1, 1, 1, 1, 0, 0, 1, 1, 1, 1,\n",
       "       1, 1, 0, 1, 1, 0, 0, 1, 1, 0, 1, 1, 1, 1, 0, 1, 1, 1, 0, 1, 0, 1,\n",
       "       1, 0, 1, 0, 1, 0, 1, 0, 0, 0, 1, 0, 1, 0, 1, 1, 1, 0, 0, 1, 0, 1])"
      ]
     },
     "execution_count": 61,
     "metadata": {},
     "output_type": "execute_result"
    }
   ],
   "source": [
    "import numpy as np\n",
    "y_pred  = np.where(y_pred>0.5,1,0)\n",
    "y_pred"
   ]
  },
  {
   "cell_type": "code",
   "execution_count": 62,
   "id": "555ffe7e",
   "metadata": {},
   "outputs": [
    {
     "data": {
      "text/plain": [
       "Text(50.722222222222214, 0.5, 'Truth')"
      ]
     },
     "execution_count": 62,
     "metadata": {},
     "output_type": "execute_result"
    },
    {
     "data": {
      "image/png": "[encoded data removed]",
      "text/plain": [
       "<Figure size 640x480 with 2 Axes>"
      ]
     },
     "metadata": {},
     "output_type": "display_data"
    }
   ],
   "source": [
    "from sklearn.metrics import confusion_matrix,classification_report\n",
    "cm = confusion_matrix(y_test,y_pred)\n",
    "import matplotlib.pyplot as plt\n",
    "import seaborn as sns\n",
    "sns.heatmap(cm,annot=True,fmt='d')\n",
    "plt.xlabel('Predict')\n",
    "plt.ylabel('Truth')"
   ]
  },
  {
   "cell_type": "code",
   "execution_count": 63,
   "id": "cb49d7a0",
   "metadata": {},
   "outputs": [
    {
     "name": "stdout",
     "output_type": "stream",
     "text": [
      "              precision    recall  f1-score   support\n",
      "\n",
      "           0       0.90      0.84      0.87       187\n",
      "           1       0.85      0.90      0.88       187\n",
      "\n",
      "    accuracy                           0.87       374\n",
      "   macro avg       0.88      0.87      0.87       374\n",
      "weighted avg       0.88      0.87      0.87       374\n",
      "\n"
     ]
    }
   ],
   "source": [
    "print(classification_report(y_test,y_pred))"
   ]
  },
  {
   "cell_type": "code",
   "execution_count": 64,
   "id": "f60c7bdf",
   "metadata": {},
   "outputs": [
    {
     "name": "stdout",
     "output_type": "stream",
     "text": [
      "1/1 [==============================] - 1s 986ms/step\n"
     ]
    },
    {
     "data": {
      "text/plain": [
       "array([[0.66395795],\n",
       "       [0.69162667],\n",
       "       [0.7103908 ],\n",
       "       [0.27144548],\n",
       "       [0.16331449]], dtype=float32)"
      ]
     },
     "execution_count": 64,
     "metadata": {},
     "output_type": "execute_result"
    }
   ],
   "source": [
    "reviews = [\n",
    "    'Enter a chance to win $5000, hurry up, offer valid until march 31, 2021',\n",
    "    'You are awarded a SiPix Digital Camera! call 09061221061 from landline. Delivery within 28days. T Cs Box177. M221BP. 2yr warranty. 150ppm. 16 . p pÂ£3.99',\n",
    "    'it to 80488. Your 500 free text messages are valid until 31 December 2005.',\n",
    "    'Hey Sam, Are you coming for a cricket game tomorrow',\n",
    "    \"Why don't you wait 'til at least wednesday to see if you get your .\"\n",
    "]\n",
    "model.predict(reviews)"
   ]
  }
 ],
 "metadata": {
  "kernelspec": {
   "display_name": "Python 3 (ipykernel)",
   "language": "python",
   "name": "python3"
  },
  "language_info": {
   "codemirror_mode": {
    "name": "ipython",
    "version": 3
   },
   "file_extension": ".py",
   "mimetype": "text/x-python",
   "name": "python",
   "nbconvert_exporter": "python",
   "pygments_lexer": "ipython3",
   "version": "3.9.15"
  }
 },
 "nbformat": 4,
 "nbformat_minor": 5
}
