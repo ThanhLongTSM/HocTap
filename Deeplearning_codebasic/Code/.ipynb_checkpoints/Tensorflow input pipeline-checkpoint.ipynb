{
 "cells": [
  {
   "cell_type": "code",
   "execution_count": 466,
   "id": "40cc6f9d",
   "metadata": {},
   "outputs": [],
   "source": [
    "import tensorflow as tf"
   ]
  },
  {
   "cell_type": "code",
   "execution_count": 467,
   "id": "eec5e035",
   "metadata": {},
   "outputs": [],
   "source": [
    "daily_sales_numbers = [21,22,-108,31,-1,32,34,31]"
   ]
  },
  {
   "cell_type": "code",
   "execution_count": 468,
   "id": "a0b77260",
   "metadata": {},
   "outputs": [
    {
     "data": {
      "text/plain": [
       "<TensorSliceDataset element_spec=TensorSpec(shape=(), dtype=tf.int32, name=None)>"
      ]
     },
     "execution_count": 468,
     "metadata": {},
     "output_type": "execute_result"
    }
   ],
   "source": [
    "tf_dataset = tf.data.Dataset.from_tensor_slices(daily_sales_numbers)\n",
    "tf_dataset"
   ]
  },
  {
   "cell_type": "code",
   "execution_count": 469,
   "id": "7239ae93",
   "metadata": {},
   "outputs": [
    {
     "name": "stdout",
     "output_type": "stream",
     "text": [
      "21\n",
      "22\n",
      "-108\n",
      "31\n",
      "-1\n",
      "32\n",
      "34\n",
      "31\n"
     ]
    }
   ],
   "source": [
    "for sale in tf_dataset:\n",
    "    print(sale.numpy())"
   ]
  },
  {
   "cell_type": "code",
   "execution_count": 470,
   "id": "940a3231",
   "metadata": {},
   "outputs": [
    {
     "name": "stdout",
     "output_type": "stream",
     "text": [
      "21\n",
      "22\n",
      "-108\n",
      "31\n",
      "-1\n",
      "32\n",
      "34\n",
      "31\n"
     ]
    }
   ],
   "source": [
    "for sale in tf_dataset.as_numpy_iterator():\n",
    "    print(sale)"
   ]
  },
  {
   "cell_type": "code",
   "execution_count": 471,
   "id": "5654d445",
   "metadata": {},
   "outputs": [
    {
     "name": "stdout",
     "output_type": "stream",
     "text": [
      "21\n",
      "22\n",
      "-108\n"
     ]
    }
   ],
   "source": [
    "for sale in tf_dataset.take(3):\n",
    "    print(sale.numpy())"
   ]
  },
  {
   "cell_type": "code",
   "execution_count": 472,
   "id": "95740f16",
   "metadata": {},
   "outputs": [
    {
     "name": "stdout",
     "output_type": "stream",
     "text": [
      "21\n",
      "22\n",
      "31\n",
      "32\n",
      "34\n",
      "31\n"
     ]
    }
   ],
   "source": [
    "tf_dataset = tf_dataset.filter(lambda x:x>0)\n",
    "for sale in tf_dataset.as_numpy_iterator():\n",
    "    print(sale)"
   ]
  },
  {
   "cell_type": "code",
   "execution_count": 473,
   "id": "3a01c7ae",
   "metadata": {},
   "outputs": [
    {
     "name": "stdout",
     "output_type": "stream",
     "text": [
      "1512\n",
      "1584\n",
      "2232\n",
      "2304\n",
      "2448\n",
      "2232\n"
     ]
    }
   ],
   "source": [
    "tf_dataset = tf_dataset.map(lambda x: x*72)\n",
    "for sale in tf_dataset.as_numpy_iterator():\n",
    "    print(sale)"
   ]
  },
  {
   "cell_type": "code",
   "execution_count": 474,
   "id": "6dbd239c",
   "metadata": {},
   "outputs": [
    {
     "name": "stdout",
     "output_type": "stream",
     "text": [
      "1512\n",
      "1584\n",
      "2232\n",
      "2304\n",
      "2448\n",
      "2232\n"
     ]
    }
   ],
   "source": [
    "tf_dataset = tf_dataset.shuffle(2)\n",
    "for sale in tf_dataset.as_numpy_iterator():\n",
    "    print(sale)"
   ]
  },
  {
   "cell_type": "code",
   "execution_count": 475,
   "id": "b9c5c8a4",
   "metadata": {},
   "outputs": [
    {
     "name": "stdout",
     "output_type": "stream",
     "text": [
      "[1512 1584]\n",
      "[2232 2304]\n",
      "[2448 2232]\n"
     ]
    }
   ],
   "source": [
    "for sales_batchs in tf_dataset.batch(2):\n",
    "    print(sales_batchs.numpy())"
   ]
  },
  {
   "cell_type": "code",
   "execution_count": 476,
   "id": "585db3e1",
   "metadata": {},
   "outputs": [
    {
     "name": "stdout",
     "output_type": "stream",
     "text": [
      "[1512 2232]\n",
      "[1584 2448]\n",
      "[2304 2232]\n"
     ]
    }
   ],
   "source": [
    "#using pipeline\n",
    "tf_dataset = tf.data.Dataset.from_tensor_slices(daily_sales_numbers)\n",
    "tf_dataset = tf_dataset.filter(lambda x: x>0).map(lambda y:y*72).shuffle(2).batch(2)\n",
    "for sale in tf_dataset:\n",
    "    print(sale.numpy())"
   ]
  },
  {
   "cell_type": "code",
   "execution_count": 477,
   "id": "4f42e486",
   "metadata": {},
   "outputs": [],
   "source": [
    "images_ds = tf.data.Dataset.list_files('E:/AI/Deeplearning_codebasic/Data/image/*/*',shuffle = False)"
   ]
  },
  {
   "cell_type": "code",
   "execution_count": 478,
   "id": "eaaf6d7c",
   "metadata": {},
   "outputs": [
    {
     "name": "stdout",
     "output_type": "stream",
     "text": [
      "b'E:\\\\AI\\\\Deeplearning_codebasic\\\\Data\\\\image\\\\cat\\\\_DS_Store'\n",
      "b'E:\\\\AI\\\\Deeplearning_codebasic\\\\Data\\\\image\\\\cat\\\\cat.1.jpg'\n",
      "b'E:\\\\AI\\\\Deeplearning_codebasic\\\\Data\\\\image\\\\cat\\\\cat.10.jpg'\n",
      "b'E:\\\\AI\\\\Deeplearning_codebasic\\\\Data\\\\image\\\\cat\\\\cat.100.jpg'\n",
      "b'E:\\\\AI\\\\Deeplearning_codebasic\\\\Data\\\\image\\\\cat\\\\cat.101.jpg'\n"
     ]
    }
   ],
   "source": [
    "for file in images_ds.take(5):\n",
    "    print(file.numpy())"
   ]
  },
  {
   "cell_type": "code",
   "execution_count": 479,
   "id": "0e723645",
   "metadata": {},
   "outputs": [
    {
     "name": "stdout",
     "output_type": "stream",
     "text": [
      "b'E:\\\\AI\\\\Deeplearning_codebasic\\\\Data\\\\image\\\\cat\\\\cat.169.jpg'\n",
      "b'E:\\\\AI\\\\Deeplearning_codebasic\\\\Data\\\\image\\\\cat\\\\cat.120.jpg'\n",
      "b'E:\\\\AI\\\\Deeplearning_codebasic\\\\Data\\\\image\\\\cat\\\\cat.19.jpg'\n",
      "b'E:\\\\AI\\\\Deeplearning_codebasic\\\\Data\\\\image\\\\cat\\\\cat.10.jpg'\n",
      "b'E:\\\\AI\\\\Deeplearning_codebasic\\\\Data\\\\image\\\\cat\\\\cat.134.jpg'\n"
     ]
    }
   ],
   "source": [
    "images_ds = images_ds.shuffle(200)\n",
    "for file in images_ds.take(5):\n",
    "    print(file.numpy())"
   ]
  },
  {
   "cell_type": "code",
   "execution_count": 480,
   "id": "7e043e4b",
   "metadata": {},
   "outputs": [],
   "source": [
    "class_names = ['cat','dog']"
   ]
  },
  {
   "cell_type": "code",
   "execution_count": 481,
   "id": "ed688e5f",
   "metadata": {},
   "outputs": [
    {
     "data": {
      "text/plain": [
       "390"
      ]
     },
     "execution_count": 481,
     "metadata": {},
     "output_type": "execute_result"
    }
   ],
   "source": [
    "image_count = len(images_ds)\n",
    "image_count"
   ]
  },
  {
   "cell_type": "code",
   "execution_count": 482,
   "id": "7803702a",
   "metadata": {},
   "outputs": [],
   "source": [
    "train_size = int(image_count*0.8)\n",
    "train_ds = images_ds.take(train_size)\n",
    "test_ds = images_ds.skip(train_size)"
   ]
  },
  {
   "cell_type": "code",
   "execution_count": 483,
   "id": "5a85b29b",
   "metadata": {},
   "outputs": [
    {
     "data": {
      "text/plain": [
       "312"
      ]
     },
     "execution_count": 483,
     "metadata": {},
     "output_type": "execute_result"
    }
   ],
   "source": [
    "len(train_ds)"
   ]
  },
  {
   "cell_type": "code",
   "execution_count": 484,
   "id": "5e3b97c7",
   "metadata": {},
   "outputs": [
    {
     "data": {
      "text/plain": [
       "78"
      ]
     },
     "execution_count": 484,
     "metadata": {},
     "output_type": "execute_result"
    }
   ],
   "source": [
    "len(test_ds)"
   ]
  },
  {
   "cell_type": "code",
   "execution_count": 485,
   "id": "126466e6",
   "metadata": {},
   "outputs": [],
   "source": [
    "import os\n",
    "def get_label(file_path):\n",
    "    return tf.strings.split(file_path,os.path.sep)[-2]"
   ]
  },
  {
   "cell_type": "code",
   "execution_count": 486,
   "id": "b3a0f54d",
   "metadata": {},
   "outputs": [],
   "source": [
    "def process_image(file_path):\n",
    "    label = get_label(file_path)\n",
    "    \n",
    "    img = tf.io.read_file(file_path)\n",
    "    img = tf.image.decode_jpeg(img)\n",
    "    img = tf.image.resize(img,[128,128])\n",
    "    return img,label"
   ]
  },
  {
   "cell_type": "code",
   "execution_count": 487,
   "id": "78f75c70",
   "metadata": {},
   "outputs": [],
   "source": [
    "def scale(img,label):\n",
    "    return img/255,label"
   ]
  },
  {
   "cell_type": "code",
   "execution_count": 488,
   "id": "e3339023",
   "metadata": {},
   "outputs": [
    {
     "name": "stdout",
     "output_type": "stream",
     "text": [
      "b'E:\\\\AI\\\\Deeplearning_codebasic\\\\Data\\\\image\\\\cat\\\\cat.154.jpg'\n",
      "b'E:\\\\AI\\\\Deeplearning_codebasic\\\\Data\\\\image\\\\cat\\\\cat.58.jpg'\n",
      "b'E:\\\\AI\\\\Deeplearning_codebasic\\\\Data\\\\image\\\\cat\\\\cat.76.jpg'\n",
      "b'E:\\\\AI\\\\Deeplearning_codebasic\\\\Data\\\\image\\\\cat\\\\cat.4.jpg'\n"
     ]
    }
   ],
   "source": [
    "for t in train_ds.take(4):\n",
    "    print(t.numpy())"
   ]
  },
  {
   "cell_type": "code",
   "execution_count": 489,
   "id": "76efa7e5",
   "metadata": {},
   "outputs": [
    {
     "name": "stdout",
     "output_type": "stream",
     "text": [
      "**** tf.Tensor(\n",
      "[[[ 65.80859    48.26172    37.16797  ]\n",
      "  [ 68.605286   55.76953    47.714783 ]\n",
      "  [ 38.578735   25.78186     8.904053 ]\n",
      "  ...\n",
      "  [ 82.63843    57.904053   53.169678 ]\n",
      "  [ 89.19141    60.910156   44.55078  ]\n",
      "  [ 86.625      66.625      59.625    ]]\n",
      "\n",
      " [[ 72.46466    53.42572    40.578003 ]\n",
      "  [ 69.58557    55.65216    47.597107 ]\n",
      "  [ 25.038147   12.241272    3.984375 ]\n",
      "  ...\n",
      "  [ 80.68628    53.929077   45.703125 ]\n",
      "  [ 74.84039    46.895447   31.266357 ]\n",
      "  [ 78.87085    54.784912   49.32788  ]]\n",
      "\n",
      " [[ 73.19531    50.149536   36.36438  ]\n",
      "  [ 72.0072     55.24939    47.761414 ]\n",
      "  [ 29.794434   15.263184    3.7038574]\n",
      "  ...\n",
      "  [ 91.90155    61.90155    51.66327  ]\n",
      "  [ 85.237366   57.87799    41.956116 ]\n",
      "  [ 68.421875   43.529846   39.529846 ]]\n",
      "\n",
      " ...\n",
      "\n",
      " [[125.713135  126.713135  120.91376  ]\n",
      "  [126.98828   127.26953   111.35547  ]\n",
      "  [139.03906   137.7461    116.62579  ]\n",
      "  ...\n",
      "  [ 81.21808    77.68683    72.95245  ]\n",
      "  [ 65.700745   63.981995   58.981995 ]\n",
      "  [ 79.64441    80.64441    64.16785  ]]\n",
      "\n",
      " [[127.027405  126.777466  129.03522  ]\n",
      "  [125.16797   123.99219   115.55859  ]\n",
      "  [130.1283    127.74127   114.233765 ]\n",
      "  ...\n",
      "  [ 73.15387    69.62262    64.888245 ]\n",
      "  [ 83.56586    81.84711    76.84711  ]\n",
      "  [ 84.918396   85.918396   69.918396 ]]\n",
      "\n",
      " [[130.52606   128.97919   138.61981  ]\n",
      "  [133.6211    130.90234   130.57434  ]\n",
      "  [130.65796   127.12671   120.69702  ]\n",
      "  ...\n",
      "  [ 67.70123    64.16998    59.435608 ]\n",
      "  [ 55.328552   53.609802   48.609802 ]\n",
      "  [ 54.234375   55.08203    41.38672  ]]], shape=(128, 128, 3), dtype=float32)\n",
      "**** tf.Tensor(b'cat', shape=(), dtype=string)\n"
     ]
    }
   ],
   "source": [
    "train_ds = train_ds.map(process_image)\n",
    "test_ds = test_ds.map(process_image)\n",
    "for image, label in train_ds.take(1):\n",
    "    print(\"****\",image)\n",
    "    print(\"****\",label)"
   ]
  },
  {
   "cell_type": "code",
   "execution_count": 490,
   "id": "7a527eeb",
   "metadata": {},
   "outputs": [
    {
     "name": "stdout",
     "output_type": "stream",
     "text": [
      "*******Image: [0.27622548 0.9977941  0.9977941 ]\n",
      "*******Label: tf.Tensor(b'cat', shape=(), dtype=string)\n",
      "*******Image: [0.5679104  0.53261626 0.27232212]\n",
      "*******Label: tf.Tensor(b'cat', shape=(), dtype=string)\n",
      "*******Image: [0.12415616 0.18297969 0.17121498]\n",
      "*******Label: tf.Tensor(b'cat', shape=(), dtype=string)\n",
      "*******Image: [0.6356924 0.6239277 0.5987745]\n",
      "*******Label: tf.Tensor(b'cat', shape=(), dtype=string)\n",
      "*******Image: [0.23123468 0.16064645 0.10574449]\n",
      "*******Label: tf.Tensor(b'cat', shape=(), dtype=string)\n"
     ]
    }
   ],
   "source": [
    "train_ds = train_ds.map(scale)\n",
    "for image,label in train_ds.take(5):\n",
    "    print('*******Image:',image.numpy()[0][0])\n",
    "    print('*******Label:',label)"
   ]
  },
  {
   "cell_type": "markdown",
   "id": "ddecf151",
   "metadata": {},
   "source": [
    "# Exercise"
   ]
  },
  {
   "cell_type": "code",
   "execution_count": 491,
   "id": "45fb1a34",
   "metadata": {},
   "outputs": [],
   "source": [
    "tf_ds = tf.data.Dataset.list_files(r'E:/AI/Deeplearning_codebasic/Data/reviews/*/*')"
   ]
  },
  {
   "cell_type": "code",
   "execution_count": 492,
   "id": "bebfd605",
   "metadata": {},
   "outputs": [
    {
     "name": "stdout",
     "output_type": "stream",
     "text": [
      "b'E:\\\\AI\\\\Deeplearning_codebasic\\\\Data\\\\reviews\\\\positive\\\\pos_1.txt'\n",
      "b'E:\\\\AI\\\\Deeplearning_codebasic\\\\Data\\\\reviews\\\\positive\\\\pos_3.txt'\n",
      "b'E:\\\\AI\\\\Deeplearning_codebasic\\\\Data\\\\reviews\\\\negative\\\\neg_1.txt'\n",
      "b'E:\\\\AI\\\\Deeplearning_codebasic\\\\Data\\\\reviews\\\\negative\\\\neg_2.txt'\n",
      "b'E:\\\\AI\\\\Deeplearning_codebasic\\\\Data\\\\reviews\\\\positive\\\\pos_2.txt'\n",
      "b'E:\\\\AI\\\\Deeplearning_codebasic\\\\Data\\\\reviews\\\\negative\\\\neg_3.txt'\n"
     ]
    }
   ],
   "source": [
    "for file in tf_ds:\n",
    "    print(file.numpy())"
   ]
  },
  {
   "cell_type": "code",
   "execution_count": 493,
   "id": "d78e9afe",
   "metadata": {},
   "outputs": [],
   "source": [
    "import os\n",
    "def get_label(file_path):\n",
    "    return tf.strings.split(file_path,os.path.sep)[-2]"
   ]
  },
  {
   "cell_type": "code",
   "execution_count": 494,
   "id": "7f1577b9",
   "metadata": {},
   "outputs": [],
   "source": [
    "def read(file_path):\n",
    "    label = get_label(file_path)\n",
    "    \n",
    "    text = tf.io.read_file(file_path)\n",
    "    return text,label"
   ]
  },
  {
   "cell_type": "code",
   "execution_count": 495,
   "id": "0860788a",
   "metadata": {},
   "outputs": [
    {
     "name": "stdout",
     "output_type": "stream",
     "text": [
      "text:  b'A wonderful little production. <br /><br />The fil'\n",
      "label:  b'positive'\n",
      "\n",
      "\n",
      "text:  b'One of the other reviewers has mentioned that afte'\n",
      "label:  b'positive'\n",
      "\n",
      "\n",
      "text:  b'This show was an amazing, fresh & innovative idea '\n",
      "label:  b'negative'\n",
      "\n",
      "\n",
      "text:  b''\n",
      "label:  b'negative'\n",
      "\n",
      "\n",
      "text:  b\"Basically there's a family where a little boy (Jak\"\n",
      "label:  b'negative'\n",
      "\n",
      "\n",
      "text:  b''\n",
      "label:  b'positive'\n",
      "\n",
      "\n"
     ]
    }
   ],
   "source": [
    "tf_ds = tf_ds.map(read)\n",
    "for text,label in tf_ds:\n",
    "    print('text: ',text.numpy()[:50])\n",
    "    print('label: ',label.numpy())\n",
    "    print('\\n')"
   ]
  },
  {
   "cell_type": "code",
   "execution_count": 498,
   "id": "05182413",
   "metadata": {},
   "outputs": [
    {
     "name": "stdout",
     "output_type": "stream",
     "text": [
      "text:  b'A wonderful little production. <br /><br />The fil'\n",
      "label:  b'positive'\n",
      "\n",
      "\n",
      "text:  b'This show was an amazing, fresh & innovative idea '\n",
      "label:  b'negative'\n",
      "\n",
      "\n",
      "text:  b'One of the other reviewers has mentioned that afte'\n",
      "label:  b'positive'\n",
      "\n",
      "\n",
      "text:  b\"Basically there's a family where a little boy (Jak\"\n",
      "label:  b'negative'\n",
      "\n",
      "\n"
     ]
    }
   ],
   "source": [
    "tf_ds = tf_ds.filter(lambda text,label : text!=\"\")\n",
    "for text,label in tf_ds:\n",
    "    print('text: ',text.numpy()[:50])\n",
    "    print('label: ',label.numpy())\n",
    "    print('\\n')"
   ]
  },
  {
   "cell_type": "code",
   "execution_count": 508,
   "id": "12d51ee2",
   "metadata": {},
   "outputs": [
    {
     "name": "stdout",
     "output_type": "stream",
     "text": [
      "text:  b\"Basically there's a family where a little boy (Jak\"\n",
      "label:  b'negative'\n",
      "\n",
      "\n",
      "text:  b'One of the other reviewers has mentioned that afte'\n",
      "label:  b'positive'\n",
      "\n",
      "\n",
      "text:  b'A wonderful little production. <br /><br />The fil'\n",
      "label:  b'positive'\n",
      "\n",
      "\n",
      "text:  b'This show was an amazing, fresh & innovative idea '\n",
      "label:  b'negative'\n",
      "\n",
      "\n"
     ]
    }
   ],
   "source": [
    "final_ds = tf.data.Dataset.list_files(r'E:/AI/Deeplearning_codebasic/Data/reviews/*/*')\n",
    "final_ds = final_ds.map(read).filter(lambda text,label:text!='').shuffle(3)\n",
    "for text,label in final_ds:\n",
    "    print('text: ',text.numpy()[:50])\n",
    "    print('label: ',label.numpy())\n",
    "    print('\\n')"
   ]
  }
 ],
 "metadata": {
  "kernelspec": {
   "display_name": "Python 3 (ipykernel)",
   "language": "python",
   "name": "python3"
  },
  "language_info": {
   "codemirror_mode": {
    "name": "ipython",
    "version": 3
   },
   "file_extension": ".py",
   "mimetype": "text/x-python",
   "name": "python",
   "nbconvert_exporter": "python",
   "pygments_lexer": "ipython3",
   "version": "3.9.15"
  }
 },
 "nbformat": 4,
 "nbformat_minor": 5
}
