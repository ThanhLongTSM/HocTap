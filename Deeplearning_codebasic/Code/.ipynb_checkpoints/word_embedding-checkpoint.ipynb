{
 "cells": [
  {
   "cell_type": "code",
   "execution_count": 12,
   "id": "c976d834",
   "metadata": {},
   "outputs": [],
   "source": [
    "import numpy as np\n",
    "from tensorflow.keras.preprocessing.text import one_hot\n",
    "from tensorflow.keras.preprocessing.sequence import pad_sequences\n",
    "from tensorflow.keras.models import Sequential\n",
    "from tensorflow.keras.layers import Dense\n",
    "from tensorflow.keras.layers import Flatten\n",
    "from tensorflow.keras.layers import Embedding\n",
    "\n",
    "reviews = ['nice food',\n",
    "        'amazing restaurant',\n",
    "        'too good',\n",
    "        'just loved it!',\n",
    "        'will go again',\n",
    "        'horrible food',\n",
    "        'never go there',\n",
    "        'poor service',\n",
    "        'poor quality',\n",
    "        'needs improvement']\n",
    "\n",
    "sentiment = np.array([1,1,1,1,1,0,0,0,0,0])"
   ]
  },
  {
   "cell_type": "code",
   "execution_count": 5,
   "id": "16b35267",
   "metadata": {},
   "outputs": [
    {
     "data": {
      "text/plain": [
       "[25, 1]"
      ]
     },
     "execution_count": 5,
     "metadata": {},
     "output_type": "execute_result"
    }
   ],
   "source": [
    "one_hot('nice food',50)"
   ]
  },
  {
   "cell_type": "code",
   "execution_count": 7,
   "id": "b043e72d",
   "metadata": {},
   "outputs": [
    {
     "data": {
      "text/plain": [
       "[[25, 1],\n",
       " [32, 7],\n",
       " [3, 36],\n",
       " [36, 24, 37],\n",
       " [7, 22, 10],\n",
       " [41, 1],\n",
       " [16, 22, 2],\n",
       " [49, 38],\n",
       " [49, 36],\n",
       " [46, 15]]"
      ]
     },
     "execution_count": 7,
     "metadata": {},
     "output_type": "execute_result"
    }
   ],
   "source": [
    "vocab_size = 50\n",
    "encoded_reviews = [one_hot(x,vocab_size) for x in reviews]\n",
    "encoded_reviews"
   ]
  },
  {
   "cell_type": "code",
   "execution_count": 8,
   "id": "4d7f58fa",
   "metadata": {},
   "outputs": [
    {
     "data": {
      "text/plain": [
       "array([[25,  1,  0],\n",
       "       [32,  7,  0],\n",
       "       [ 3, 36,  0],\n",
       "       [36, 24, 37],\n",
       "       [ 7, 22, 10],\n",
       "       [41,  1,  0],\n",
       "       [16, 22,  2],\n",
       "       [49, 38,  0],\n",
       "       [49, 36,  0],\n",
       "       [46, 15,  0]])"
      ]
     },
     "execution_count": 8,
     "metadata": {},
     "output_type": "execute_result"
    }
   ],
   "source": [
    "max_length = 3\n",
    "padded_reviews = pad_sequences(encoded_reviews,maxlen = max_length,padding ='post')\n",
    "padded_reviews"
   ]
  },
  {
   "cell_type": "code",
   "execution_count": 15,
   "id": "55d30a41",
   "metadata": {},
   "outputs": [],
   "source": [
    "embedded_vertor_size = 4\n",
    "model = Sequential()\n",
    "model.add(Embedding(vocab_size,embedded_vertor_size,input_length=max_length,name = 'Embedding'))\n",
    "model.add(Flatten())\n",
    "model.add(Dense(1,activation = 'sigmoid'))"
   ]
  },
  {
   "cell_type": "code",
   "execution_count": 18,
   "id": "11ef478d",
   "metadata": {},
   "outputs": [],
   "source": [
    "X = padded_reviews\n",
    "y = sentiment"
   ]
  },
  {
   "cell_type": "code",
   "execution_count": 19,
   "id": "0e701c1c",
   "metadata": {},
   "outputs": [
    {
     "name": "stdout",
     "output_type": "stream",
     "text": [
      "Model: \"sequential_2\"\n",
      "_________________________________________________________________\n",
      " Layer (type)                Output Shape              Param #   \n",
      "=================================================================\n",
      " Embedding (Embedding)       (None, 3, 4)              200       \n",
      "                                                                 \n",
      " flatten (Flatten)           (None, 12)                0         \n",
      "                                                                 \n",
      " dense (Dense)               (None, 1)                 13        \n",
      "                                                                 \n",
      "=================================================================\n",
      "Total params: 213\n",
      "Trainable params: 213\n",
      "Non-trainable params: 0\n",
      "_________________________________________________________________\n",
      "None\n"
     ]
    }
   ],
   "source": [
    "model.compile(optimizer = 'adam',loss ='binary_crossentropy',metrics = ['accuracy'])\n",
    "print(model.summary())"
   ]
  },
  {
   "cell_type": "code",
   "execution_count": 20,
   "id": "feb6778a",
   "metadata": {},
   "outputs": [
    {
     "data": {
      "text/plain": [
       "<keras.callbacks.History at 0x1cc04dc3af0>"
      ]
     },
     "execution_count": 20,
     "metadata": {},
     "output_type": "execute_result"
    }
   ],
   "source": [
    "model.fit(X,y,epochs = 50,verbose =0)"
   ]
  },
  {
   "cell_type": "code",
   "execution_count": 21,
   "id": "4e1d266d",
   "metadata": {},
   "outputs": [
    {
     "name": "stdout",
     "output_type": "stream",
     "text": [
      "1/1 [==============================] - 0s 138ms/step - loss: 0.6399 - accuracy: 1.0000\n"
     ]
    }
   ],
   "source": [
    "loss,accuracy = model.evaluate(X,y)"
   ]
  },
  {
   "cell_type": "code",
   "execution_count": 27,
   "id": "104c0b8e",
   "metadata": {},
   "outputs": [
    {
     "name": "stdout",
     "output_type": "stream",
     "text": [
      "[[ 0.07896517  0.07071421  0.04844485  0.06734242]\n",
      " [-0.04168663  0.02457347  0.0128927   0.01606642]\n",
      " [ 0.05467347  0.03468471  0.03967237  0.03582621]]\n",
      "len weight =  50\n"
     ]
    }
   ],
   "source": [
    "weights = model.get_layer('Embedding').get_weights()[0]\n",
    "print(weights[:3])\n",
    "print('len weight = ',len(weights))"
   ]
  }
 ],
 "metadata": {
  "kernelspec": {
   "display_name": "Python 3 (ipykernel)",
   "language": "python",
   "name": "python3"
  },
  "language_info": {
   "codemirror_mode": {
    "name": "ipython",
    "version": 3
   },
   "file_extension": ".py",
   "mimetype": "text/x-python",
   "name": "python",
   "nbconvert_exporter": "python",
   "pygments_lexer": "ipython3",
   "version": "3.9.15"
  }
 },
 "nbformat": 4,
 "nbformat_minor": 5
}
