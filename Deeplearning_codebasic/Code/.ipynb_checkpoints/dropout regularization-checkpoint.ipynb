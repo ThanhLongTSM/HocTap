{
 "cells": [
  {
   "cell_type": "code",
   "execution_count": 18,
   "id": "57467d32",
   "metadata": {},
   "outputs": [],
   "source": [
    "import pandas as pd\n",
    "import numpy as np\n",
    "import matplotlib.pyplot as plt\n",
    "import tensorflow as tf\n",
    "from tensorflow import keras\n",
    "%matplotlib inline\n",
    "from sklearn.model_selection import train_test_split\n",
    "from sklearn.metrics import confusion_matrix, classification_report\n",
    "import seaborn as sns"
   ]
  },
  {
   "cell_type": "code",
   "execution_count": 3,
   "id": "9c541077",
   "metadata": {},
   "outputs": [
    {
     "data": {
      "text/html": [
       "<div>\n",
       "<style scoped>\n",
       "    .dataframe tbody tr th:only-of-type {\n",
       "        vertical-align: middle;\n",
       "    }\n",
       "\n",
       "    .dataframe tbody tr th {\n",
       "        vertical-align: top;\n",
       "    }\n",
       "\n",
       "    .dataframe thead th {\n",
       "        text-align: right;\n",
       "    }\n",
       "</style>\n",
       "<table border=\"1\" class=\"dataframe\">\n",
       "  <thead>\n",
       "    <tr style=\"text-align: right;\">\n",
       "      <th></th>\n",
       "      <th>0</th>\n",
       "      <th>1</th>\n",
       "      <th>2</th>\n",
       "      <th>3</th>\n",
       "      <th>4</th>\n",
       "      <th>5</th>\n",
       "      <th>6</th>\n",
       "      <th>7</th>\n",
       "      <th>8</th>\n",
       "      <th>9</th>\n",
       "      <th>...</th>\n",
       "      <th>51</th>\n",
       "      <th>52</th>\n",
       "      <th>53</th>\n",
       "      <th>54</th>\n",
       "      <th>55</th>\n",
       "      <th>56</th>\n",
       "      <th>57</th>\n",
       "      <th>58</th>\n",
       "      <th>59</th>\n",
       "      <th>60</th>\n",
       "    </tr>\n",
       "  </thead>\n",
       "  <tbody>\n",
       "    <tr>\n",
       "      <th>0</th>\n",
       "      <td>0.0200</td>\n",
       "      <td>0.0371</td>\n",
       "      <td>0.0428</td>\n",
       "      <td>0.0207</td>\n",
       "      <td>0.0954</td>\n",
       "      <td>0.0986</td>\n",
       "      <td>0.1539</td>\n",
       "      <td>0.1601</td>\n",
       "      <td>0.3109</td>\n",
       "      <td>0.2111</td>\n",
       "      <td>...</td>\n",
       "      <td>0.0027</td>\n",
       "      <td>0.0065</td>\n",
       "      <td>0.0159</td>\n",
       "      <td>0.0072</td>\n",
       "      <td>0.0167</td>\n",
       "      <td>0.0180</td>\n",
       "      <td>0.0084</td>\n",
       "      <td>0.0090</td>\n",
       "      <td>0.0032</td>\n",
       "      <td>R</td>\n",
       "    </tr>\n",
       "    <tr>\n",
       "      <th>1</th>\n",
       "      <td>0.0453</td>\n",
       "      <td>0.0523</td>\n",
       "      <td>0.0843</td>\n",
       "      <td>0.0689</td>\n",
       "      <td>0.1183</td>\n",
       "      <td>0.2583</td>\n",
       "      <td>0.2156</td>\n",
       "      <td>0.3481</td>\n",
       "      <td>0.3337</td>\n",
       "      <td>0.2872</td>\n",
       "      <td>...</td>\n",
       "      <td>0.0084</td>\n",
       "      <td>0.0089</td>\n",
       "      <td>0.0048</td>\n",
       "      <td>0.0094</td>\n",
       "      <td>0.0191</td>\n",
       "      <td>0.0140</td>\n",
       "      <td>0.0049</td>\n",
       "      <td>0.0052</td>\n",
       "      <td>0.0044</td>\n",
       "      <td>R</td>\n",
       "    </tr>\n",
       "    <tr>\n",
       "      <th>2</th>\n",
       "      <td>0.0262</td>\n",
       "      <td>0.0582</td>\n",
       "      <td>0.1099</td>\n",
       "      <td>0.1083</td>\n",
       "      <td>0.0974</td>\n",
       "      <td>0.2280</td>\n",
       "      <td>0.2431</td>\n",
       "      <td>0.3771</td>\n",
       "      <td>0.5598</td>\n",
       "      <td>0.6194</td>\n",
       "      <td>...</td>\n",
       "      <td>0.0232</td>\n",
       "      <td>0.0166</td>\n",
       "      <td>0.0095</td>\n",
       "      <td>0.0180</td>\n",
       "      <td>0.0244</td>\n",
       "      <td>0.0316</td>\n",
       "      <td>0.0164</td>\n",
       "      <td>0.0095</td>\n",
       "      <td>0.0078</td>\n",
       "      <td>R</td>\n",
       "    </tr>\n",
       "    <tr>\n",
       "      <th>3</th>\n",
       "      <td>0.0100</td>\n",
       "      <td>0.0171</td>\n",
       "      <td>0.0623</td>\n",
       "      <td>0.0205</td>\n",
       "      <td>0.0205</td>\n",
       "      <td>0.0368</td>\n",
       "      <td>0.1098</td>\n",
       "      <td>0.1276</td>\n",
       "      <td>0.0598</td>\n",
       "      <td>0.1264</td>\n",
       "      <td>...</td>\n",
       "      <td>0.0121</td>\n",
       "      <td>0.0036</td>\n",
       "      <td>0.0150</td>\n",
       "      <td>0.0085</td>\n",
       "      <td>0.0073</td>\n",
       "      <td>0.0050</td>\n",
       "      <td>0.0044</td>\n",
       "      <td>0.0040</td>\n",
       "      <td>0.0117</td>\n",
       "      <td>R</td>\n",
       "    </tr>\n",
       "    <tr>\n",
       "      <th>4</th>\n",
       "      <td>0.0762</td>\n",
       "      <td>0.0666</td>\n",
       "      <td>0.0481</td>\n",
       "      <td>0.0394</td>\n",
       "      <td>0.0590</td>\n",
       "      <td>0.0649</td>\n",
       "      <td>0.1209</td>\n",
       "      <td>0.2467</td>\n",
       "      <td>0.3564</td>\n",
       "      <td>0.4459</td>\n",
       "      <td>...</td>\n",
       "      <td>0.0031</td>\n",
       "      <td>0.0054</td>\n",
       "      <td>0.0105</td>\n",
       "      <td>0.0110</td>\n",
       "      <td>0.0015</td>\n",
       "      <td>0.0072</td>\n",
       "      <td>0.0048</td>\n",
       "      <td>0.0107</td>\n",
       "      <td>0.0094</td>\n",
       "      <td>R</td>\n",
       "    </tr>\n",
       "    <tr>\n",
       "      <th>...</th>\n",
       "      <td>...</td>\n",
       "      <td>...</td>\n",
       "      <td>...</td>\n",
       "      <td>...</td>\n",
       "      <td>...</td>\n",
       "      <td>...</td>\n",
       "      <td>...</td>\n",
       "      <td>...</td>\n",
       "      <td>...</td>\n",
       "      <td>...</td>\n",
       "      <td>...</td>\n",
       "      <td>...</td>\n",
       "      <td>...</td>\n",
       "      <td>...</td>\n",
       "      <td>...</td>\n",
       "      <td>...</td>\n",
       "      <td>...</td>\n",
       "      <td>...</td>\n",
       "      <td>...</td>\n",
       "      <td>...</td>\n",
       "      <td>...</td>\n",
       "    </tr>\n",
       "    <tr>\n",
       "      <th>203</th>\n",
       "      <td>0.0187</td>\n",
       "      <td>0.0346</td>\n",
       "      <td>0.0168</td>\n",
       "      <td>0.0177</td>\n",
       "      <td>0.0393</td>\n",
       "      <td>0.1630</td>\n",
       "      <td>0.2028</td>\n",
       "      <td>0.1694</td>\n",
       "      <td>0.2328</td>\n",
       "      <td>0.2684</td>\n",
       "      <td>...</td>\n",
       "      <td>0.0116</td>\n",
       "      <td>0.0098</td>\n",
       "      <td>0.0199</td>\n",
       "      <td>0.0033</td>\n",
       "      <td>0.0101</td>\n",
       "      <td>0.0065</td>\n",
       "      <td>0.0115</td>\n",
       "      <td>0.0193</td>\n",
       "      <td>0.0157</td>\n",
       "      <td>M</td>\n",
       "    </tr>\n",
       "    <tr>\n",
       "      <th>204</th>\n",
       "      <td>0.0323</td>\n",
       "      <td>0.0101</td>\n",
       "      <td>0.0298</td>\n",
       "      <td>0.0564</td>\n",
       "      <td>0.0760</td>\n",
       "      <td>0.0958</td>\n",
       "      <td>0.0990</td>\n",
       "      <td>0.1018</td>\n",
       "      <td>0.1030</td>\n",
       "      <td>0.2154</td>\n",
       "      <td>...</td>\n",
       "      <td>0.0061</td>\n",
       "      <td>0.0093</td>\n",
       "      <td>0.0135</td>\n",
       "      <td>0.0063</td>\n",
       "      <td>0.0063</td>\n",
       "      <td>0.0034</td>\n",
       "      <td>0.0032</td>\n",
       "      <td>0.0062</td>\n",
       "      <td>0.0067</td>\n",
       "      <td>M</td>\n",
       "    </tr>\n",
       "    <tr>\n",
       "      <th>205</th>\n",
       "      <td>0.0522</td>\n",
       "      <td>0.0437</td>\n",
       "      <td>0.0180</td>\n",
       "      <td>0.0292</td>\n",
       "      <td>0.0351</td>\n",
       "      <td>0.1171</td>\n",
       "      <td>0.1257</td>\n",
       "      <td>0.1178</td>\n",
       "      <td>0.1258</td>\n",
       "      <td>0.2529</td>\n",
       "      <td>...</td>\n",
       "      <td>0.0160</td>\n",
       "      <td>0.0029</td>\n",
       "      <td>0.0051</td>\n",
       "      <td>0.0062</td>\n",
       "      <td>0.0089</td>\n",
       "      <td>0.0140</td>\n",
       "      <td>0.0138</td>\n",
       "      <td>0.0077</td>\n",
       "      <td>0.0031</td>\n",
       "      <td>M</td>\n",
       "    </tr>\n",
       "    <tr>\n",
       "      <th>206</th>\n",
       "      <td>0.0303</td>\n",
       "      <td>0.0353</td>\n",
       "      <td>0.0490</td>\n",
       "      <td>0.0608</td>\n",
       "      <td>0.0167</td>\n",
       "      <td>0.1354</td>\n",
       "      <td>0.1465</td>\n",
       "      <td>0.1123</td>\n",
       "      <td>0.1945</td>\n",
       "      <td>0.2354</td>\n",
       "      <td>...</td>\n",
       "      <td>0.0086</td>\n",
       "      <td>0.0046</td>\n",
       "      <td>0.0126</td>\n",
       "      <td>0.0036</td>\n",
       "      <td>0.0035</td>\n",
       "      <td>0.0034</td>\n",
       "      <td>0.0079</td>\n",
       "      <td>0.0036</td>\n",
       "      <td>0.0048</td>\n",
       "      <td>M</td>\n",
       "    </tr>\n",
       "    <tr>\n",
       "      <th>207</th>\n",
       "      <td>0.0260</td>\n",
       "      <td>0.0363</td>\n",
       "      <td>0.0136</td>\n",
       "      <td>0.0272</td>\n",
       "      <td>0.0214</td>\n",
       "      <td>0.0338</td>\n",
       "      <td>0.0655</td>\n",
       "      <td>0.1400</td>\n",
       "      <td>0.1843</td>\n",
       "      <td>0.2354</td>\n",
       "      <td>...</td>\n",
       "      <td>0.0146</td>\n",
       "      <td>0.0129</td>\n",
       "      <td>0.0047</td>\n",
       "      <td>0.0039</td>\n",
       "      <td>0.0061</td>\n",
       "      <td>0.0040</td>\n",
       "      <td>0.0036</td>\n",
       "      <td>0.0061</td>\n",
       "      <td>0.0115</td>\n",
       "      <td>M</td>\n",
       "    </tr>\n",
       "  </tbody>\n",
       "</table>\n",
       "<p>208 rows × 61 columns</p>\n",
       "</div>"
      ],
      "text/plain": [
       "         0       1       2       3       4       5       6       7       8   \\\n",
       "0    0.0200  0.0371  0.0428  0.0207  0.0954  0.0986  0.1539  0.1601  0.3109   \n",
       "1    0.0453  0.0523  0.0843  0.0689  0.1183  0.2583  0.2156  0.3481  0.3337   \n",
       "2    0.0262  0.0582  0.1099  0.1083  0.0974  0.2280  0.2431  0.3771  0.5598   \n",
       "3    0.0100  0.0171  0.0623  0.0205  0.0205  0.0368  0.1098  0.1276  0.0598   \n",
       "4    0.0762  0.0666  0.0481  0.0394  0.0590  0.0649  0.1209  0.2467  0.3564   \n",
       "..      ...     ...     ...     ...     ...     ...     ...     ...     ...   \n",
       "203  0.0187  0.0346  0.0168  0.0177  0.0393  0.1630  0.2028  0.1694  0.2328   \n",
       "204  0.0323  0.0101  0.0298  0.0564  0.0760  0.0958  0.0990  0.1018  0.1030   \n",
       "205  0.0522  0.0437  0.0180  0.0292  0.0351  0.1171  0.1257  0.1178  0.1258   \n",
       "206  0.0303  0.0353  0.0490  0.0608  0.0167  0.1354  0.1465  0.1123  0.1945   \n",
       "207  0.0260  0.0363  0.0136  0.0272  0.0214  0.0338  0.0655  0.1400  0.1843   \n",
       "\n",
       "         9   ...      51      52      53      54      55      56      57  \\\n",
       "0    0.2111  ...  0.0027  0.0065  0.0159  0.0072  0.0167  0.0180  0.0084   \n",
       "1    0.2872  ...  0.0084  0.0089  0.0048  0.0094  0.0191  0.0140  0.0049   \n",
       "2    0.6194  ...  0.0232  0.0166  0.0095  0.0180  0.0244  0.0316  0.0164   \n",
       "3    0.1264  ...  0.0121  0.0036  0.0150  0.0085  0.0073  0.0050  0.0044   \n",
       "4    0.4459  ...  0.0031  0.0054  0.0105  0.0110  0.0015  0.0072  0.0048   \n",
       "..      ...  ...     ...     ...     ...     ...     ...     ...     ...   \n",
       "203  0.2684  ...  0.0116  0.0098  0.0199  0.0033  0.0101  0.0065  0.0115   \n",
       "204  0.2154  ...  0.0061  0.0093  0.0135  0.0063  0.0063  0.0034  0.0032   \n",
       "205  0.2529  ...  0.0160  0.0029  0.0051  0.0062  0.0089  0.0140  0.0138   \n",
       "206  0.2354  ...  0.0086  0.0046  0.0126  0.0036  0.0035  0.0034  0.0079   \n",
       "207  0.2354  ...  0.0146  0.0129  0.0047  0.0039  0.0061  0.0040  0.0036   \n",
       "\n",
       "         58      59  60  \n",
       "0    0.0090  0.0032   R  \n",
       "1    0.0052  0.0044   R  \n",
       "2    0.0095  0.0078   R  \n",
       "3    0.0040  0.0117   R  \n",
       "4    0.0107  0.0094   R  \n",
       "..      ...     ...  ..  \n",
       "203  0.0193  0.0157   M  \n",
       "204  0.0062  0.0067   M  \n",
       "205  0.0077  0.0031   M  \n",
       "206  0.0036  0.0048   M  \n",
       "207  0.0061  0.0115   M  \n",
       "\n",
       "[208 rows x 61 columns]"
      ]
     },
     "execution_count": 3,
     "metadata": {},
     "output_type": "execute_result"
    }
   ],
   "source": [
    "df = pd.read_csv(r'C:\\Users\\thesh\\OneDrive\\Computer\\AI\\Deeplearning_codebasic\\Data\\sonar_dataset.csv',header = None)\n",
    "df"
   ]
  },
  {
   "cell_type": "code",
   "execution_count": 5,
   "id": "46b2f215",
   "metadata": {},
   "outputs": [
    {
     "data": {
      "text/plain": [
       "0      R\n",
       "1      R\n",
       "2      R\n",
       "3      R\n",
       "4      R\n",
       "      ..\n",
       "203    M\n",
       "204    M\n",
       "205    M\n",
       "206    M\n",
       "207    M\n",
       "Name: 60, Length: 208, dtype: object"
      ]
     },
     "execution_count": 5,
     "metadata": {},
     "output_type": "execute_result"
    }
   ],
   "source": [
    "df[60]"
   ]
  },
  {
   "cell_type": "code",
   "execution_count": 11,
   "id": "46a76e0b",
   "metadata": {},
   "outputs": [],
   "source": [
    "df[60] =pd.get_dummies(df[60],drop_first= True)"
   ]
  },
  {
   "cell_type": "code",
   "execution_count": 13,
   "id": "0f44b2ef",
   "metadata": {},
   "outputs": [],
   "source": [
    "X= df.drop(60,axis = 'columns')\n",
    "y = df[60]"
   ]
  },
  {
   "cell_type": "code",
   "execution_count": 14,
   "id": "447aef53",
   "metadata": {},
   "outputs": [],
   "source": [
    "X_train,X_test ,y_train,y_test = train_test_split(X,y,test_size=0.25,random_state=1)"
   ]
  },
  {
   "cell_type": "code",
   "execution_count": 15,
   "id": "0596490e",
   "metadata": {
    "scrolled": true
   },
   "outputs": [
    {
     "name": "stdout",
     "output_type": "stream",
     "text": [
      "Epoch 1/50\n",
      "20/20 [==============================] - 2s 6ms/step - loss: 0.6833 - accuracy: 0.5385\n",
      "Epoch 2/50\n",
      "20/20 [==============================] - 0s 6ms/step - loss: 0.6757 - accuracy: 0.5385\n",
      "Epoch 3/50\n",
      "20/20 [==============================] - 0s 5ms/step - loss: 0.6606 - accuracy: 0.5449\n",
      "Epoch 4/50\n",
      "20/20 [==============================] - 0s 6ms/step - loss: 0.6506 - accuracy: 0.5769\n",
      "Epoch 5/50\n",
      "20/20 [==============================] - 0s 5ms/step - loss: 0.6346 - accuracy: 0.6603\n",
      "Epoch 6/50\n",
      "20/20 [==============================] - 0s 5ms/step - loss: 0.6208 - accuracy: 0.6667\n",
      "Epoch 7/50\n",
      "20/20 [==============================] - 0s 6ms/step - loss: 0.6044 - accuracy: 0.7115\n",
      "Epoch 8/50\n",
      "20/20 [==============================] - 0s 6ms/step - loss: 0.5827 - accuracy: 0.7179\n",
      "Epoch 9/50\n",
      "20/20 [==============================] - 0s 5ms/step - loss: 0.5531 - accuracy: 0.7500\n",
      "Epoch 10/50\n",
      "20/20 [==============================] - 0s 6ms/step - loss: 0.5224 - accuracy: 0.8013\n",
      "Epoch 11/50\n",
      "20/20 [==============================] - 0s 5ms/step - loss: 0.4904 - accuracy: 0.8077\n",
      "Epoch 12/50\n",
      "20/20 [==============================] - 0s 6ms/step - loss: 0.4615 - accuracy: 0.8333\n",
      "Epoch 13/50\n",
      "20/20 [==============================] - 0s 5ms/step - loss: 0.4391 - accuracy: 0.8269\n",
      "Epoch 14/50\n",
      "20/20 [==============================] - 0s 5ms/step - loss: 0.4189 - accuracy: 0.8590\n",
      "Epoch 15/50\n",
      "20/20 [==============================] - 0s 5ms/step - loss: 0.3845 - accuracy: 0.8462\n",
      "Epoch 16/50\n",
      "20/20 [==============================] - 0s 6ms/step - loss: 0.3887 - accuracy: 0.8462\n",
      "Epoch 17/50\n",
      "20/20 [==============================] - 0s 6ms/step - loss: 0.3620 - accuracy: 0.8590\n",
      "Epoch 18/50\n",
      "20/20 [==============================] - 0s 5ms/step - loss: 0.3296 - accuracy: 0.8782\n",
      "Epoch 19/50\n",
      "20/20 [==============================] - 0s 5ms/step - loss: 0.3030 - accuracy: 0.8974\n",
      "Epoch 20/50\n",
      "20/20 [==============================] - 0s 5ms/step - loss: 0.3456 - accuracy: 0.8397\n",
      "Epoch 21/50\n",
      "20/20 [==============================] - 0s 5ms/step - loss: 0.2903 - accuracy: 0.9038\n",
      "Epoch 22/50\n",
      "20/20 [==============================] - 0s 6ms/step - loss: 0.2732 - accuracy: 0.9359\n",
      "Epoch 23/50\n",
      "20/20 [==============================] - 0s 5ms/step - loss: 0.2602 - accuracy: 0.9231\n",
      "Epoch 24/50\n",
      "20/20 [==============================] - 0s 5ms/step - loss: 0.2562 - accuracy: 0.9167\n",
      "Epoch 25/50\n",
      "20/20 [==============================] - 0s 5ms/step - loss: 0.2809 - accuracy: 0.8846\n",
      "Epoch 26/50\n",
      "20/20 [==============================] - 0s 5ms/step - loss: 0.2322 - accuracy: 0.9231\n",
      "Epoch 27/50\n",
      "20/20 [==============================] - 0s 5ms/step - loss: 0.2252 - accuracy: 0.9295\n",
      "Epoch 28/50\n",
      "20/20 [==============================] - 0s 5ms/step - loss: 0.2093 - accuracy: 0.9231\n",
      "Epoch 29/50\n",
      "20/20 [==============================] - 0s 5ms/step - loss: 0.1972 - accuracy: 0.9359\n",
      "Epoch 30/50\n",
      "20/20 [==============================] - 0s 5ms/step - loss: 0.1843 - accuracy: 0.9423\n",
      "Epoch 31/50\n",
      "20/20 [==============================] - 0s 5ms/step - loss: 0.1876 - accuracy: 0.9423\n",
      "Epoch 32/50\n",
      "20/20 [==============================] - 0s 5ms/step - loss: 0.1685 - accuracy: 0.9423\n",
      "Epoch 33/50\n",
      "20/20 [==============================] - 0s 5ms/step - loss: 0.1751 - accuracy: 0.9423\n",
      "Epoch 34/50\n",
      "20/20 [==============================] - 0s 5ms/step - loss: 0.1497 - accuracy: 0.9551\n",
      "Epoch 35/50\n",
      "20/20 [==============================] - 0s 5ms/step - loss: 0.1656 - accuracy: 0.9359\n",
      "Epoch 36/50\n",
      "20/20 [==============================] - 0s 5ms/step - loss: 0.1409 - accuracy: 0.9551\n",
      "Epoch 37/50\n",
      "20/20 [==============================] - 0s 5ms/step - loss: 0.1291 - accuracy: 0.9615\n",
      "Epoch 38/50\n",
      "20/20 [==============================] - 0s 5ms/step - loss: 0.1437 - accuracy: 0.9551\n",
      "Epoch 39/50\n",
      "20/20 [==============================] - 0s 5ms/step - loss: 0.1147 - accuracy: 0.9487\n",
      "Epoch 40/50\n",
      "20/20 [==============================] - 0s 5ms/step - loss: 0.1360 - accuracy: 0.9551\n",
      "Epoch 41/50\n",
      "20/20 [==============================] - 0s 5ms/step - loss: 0.1211 - accuracy: 0.9615\n",
      "Epoch 42/50\n",
      "20/20 [==============================] - 0s 5ms/step - loss: 0.0887 - accuracy: 0.9744\n",
      "Epoch 43/50\n",
      "20/20 [==============================] - 0s 5ms/step - loss: 0.0818 - accuracy: 0.9808\n",
      "Epoch 44/50\n",
      "20/20 [==============================] - 0s 6ms/step - loss: 0.0817 - accuracy: 0.9872\n",
      "Epoch 45/50\n",
      "20/20 [==============================] - 0s 6ms/step - loss: 0.0808 - accuracy: 0.9744\n",
      "Epoch 46/50\n",
      "20/20 [==============================] - 0s 6ms/step - loss: 0.0716 - accuracy: 0.9872\n",
      "Epoch 47/50\n",
      "20/20 [==============================] - 0s 6ms/step - loss: 0.0670 - accuracy: 0.9936\n",
      "Epoch 48/50\n",
      "20/20 [==============================] - 0s 6ms/step - loss: 0.0715 - accuracy: 0.9808\n",
      "Epoch 49/50\n",
      "20/20 [==============================] - 0s 5ms/step - loss: 0.0586 - accuracy: 0.9872\n",
      "Epoch 50/50\n",
      "20/20 [==============================] - 0s 5ms/step - loss: 0.0556 - accuracy: 0.9872\n"
     ]
    },
    {
     "data": {
      "text/plain": [
       "<keras.callbacks.History at 0x267dce253a0>"
      ]
     },
     "execution_count": 15,
     "metadata": {},
     "output_type": "execute_result"
    }
   ],
   "source": [
    "model = keras.Sequential([\n",
    "    keras.layers.Dense(60,input_shape = (60,),activation = 'relu'),\n",
    "    keras.layers.Dense(30,activation='relu'),\n",
    "    keras.layers.Dense(10,activation='relu'),\n",
    "    keras.layers.Dense(1,activation='sigmoid')\n",
    "])\n",
    "model.compile(loss = 'binary_crossentropy',optimizer = 'adam',metrics = ['accuracy'])\n",
    "model.fit(X_train,y_train,epochs=50,batch_size = 8)"
   ]
  },
  {
   "cell_type": "code",
   "execution_count": 16,
   "id": "705cd384",
   "metadata": {},
   "outputs": [
    {
     "name": "stdout",
     "output_type": "stream",
     "text": [
      "2/2 [==============================] - 0s 7ms/step - loss: 0.4779 - accuracy: 0.7500\n"
     ]
    },
    {
     "data": {
      "text/plain": [
       "[0.47791391611099243, 0.75]"
      ]
     },
     "execution_count": 16,
     "metadata": {},
     "output_type": "execute_result"
    }
   ],
   "source": [
    "model.evaluate(X_test,y_test)"
   ]
  },
  {
   "cell_type": "code",
   "execution_count": 23,
   "id": "e2711e86",
   "metadata": {},
   "outputs": [
    {
     "name": "stdout",
     "output_type": "stream",
     "text": [
      "2/2 [==============================] - 0s 5ms/step\n"
     ]
    }
   ],
   "source": [
    "y_pred = model.predict(X_test)\n",
    "y_pred = np.round(y_pred)\n",
    "y_pred=y_pred.reshape(len(y_pred),)"
   ]
  },
  {
   "cell_type": "code",
   "execution_count": 27,
   "id": "c35d24e1",
   "metadata": {},
   "outputs": [
    {
     "name": "stdout",
     "output_type": "stream",
     "text": [
      "              precision    recall  f1-score   support\n",
      "\n",
      "           0       0.73      0.81      0.77        27\n",
      "           1       0.77      0.68      0.72        25\n",
      "\n",
      "    accuracy                           0.75        52\n",
      "   macro avg       0.75      0.75      0.75        52\n",
      "weighted avg       0.75      0.75      0.75        52\n",
      "\n"
     ]
    }
   ],
   "source": [
    "print(classification_report(y_test,y_pred))"
   ]
  },
  {
   "cell_type": "code",
   "execution_count": 26,
   "id": "5828ea41",
   "metadata": {},
   "outputs": [
    {
     "data": {
      "text/plain": [
       "Text(50.722222222222214, 0.5, 'Truth')"
      ]
     },
     "execution_count": 26,
     "metadata": {},
     "output_type": "execute_result"
    },
    {
     "data": {
      "image/png": "[encoded data removed]",
      "text/plain": [
       "<Figure size 640x480 with 2 Axes>"
      ]
     },
     "metadata": {},
     "output_type": "display_data"
    }
   ],
   "source": [
    "cm = confusion_matrix(y_test,y_pred)\n",
    "sns.heatmap(cm,annot=True,fmt='d')\n",
    "plt.xlabel('Predict')\n",
    "plt.ylabel('Truth')"
   ]
  },
  {
   "cell_type": "code",
   "execution_count": 31,
   "id": "534725af",
   "metadata": {
    "scrolled": true
   },
   "outputs": [
    {
     "name": "stdout",
     "output_type": "stream",
     "text": [
      "Epoch 1/50\n",
      "20/20 [==============================] - 1s 7ms/step - loss: 0.7451 - accuracy: 0.5256\n",
      "Epoch 2/50\n",
      "20/20 [==============================] - 0s 9ms/step - loss: 0.7548 - accuracy: 0.4872\n",
      "Epoch 3/50\n",
      "20/20 [==============================] - 0s 8ms/step - loss: 0.7336 - accuracy: 0.4679\n",
      "Epoch 4/50\n",
      "20/20 [==============================] - 0s 7ms/step - loss: 0.7301 - accuracy: 0.4679\n",
      "Epoch 5/50\n",
      "20/20 [==============================] - 0s 7ms/step - loss: 0.6956 - accuracy: 0.5385\n",
      "Epoch 6/50\n",
      "20/20 [==============================] - 0s 8ms/step - loss: 0.7201 - accuracy: 0.4744\n",
      "Epoch 7/50\n",
      "20/20 [==============================] - 0s 7ms/step - loss: 0.6805 - accuracy: 0.5385\n",
      "Epoch 8/50\n",
      "20/20 [==============================] - 0s 8ms/step - loss: 0.6860 - accuracy: 0.5641\n",
      "Epoch 9/50\n",
      "20/20 [==============================] - 0s 8ms/step - loss: 0.6637 - accuracy: 0.5897\n",
      "Epoch 10/50\n",
      "20/20 [==============================] - 0s 7ms/step - loss: 0.6774 - accuracy: 0.5833\n",
      "Epoch 11/50\n",
      "20/20 [==============================] - 0s 8ms/step - loss: 0.6942 - accuracy: 0.5385\n",
      "Epoch 12/50\n",
      "20/20 [==============================] - 0s 8ms/step - loss: 0.6577 - accuracy: 0.6026\n",
      "Epoch 13/50\n",
      "20/20 [==============================] - 0s 7ms/step - loss: 0.7120 - accuracy: 0.5705\n",
      "Epoch 14/50\n",
      "20/20 [==============================] - 0s 8ms/step - loss: 0.6639 - accuracy: 0.6026\n",
      "Epoch 15/50\n",
      "20/20 [==============================] - 0s 8ms/step - loss: 0.6701 - accuracy: 0.5705\n",
      "Epoch 16/50\n",
      "20/20 [==============================] - 0s 7ms/step - loss: 0.6807 - accuracy: 0.5385\n",
      "Epoch 17/50\n",
      "20/20 [==============================] - 0s 8ms/step - loss: 0.6534 - accuracy: 0.6026\n",
      "Epoch 18/50\n",
      "20/20 [==============================] - 0s 7ms/step - loss: 0.6642 - accuracy: 0.6218\n",
      "Epoch 19/50\n",
      "20/20 [==============================] - 0s 6ms/step - loss: 0.6503 - accuracy: 0.5962\n",
      "Epoch 20/50\n",
      "20/20 [==============================] - 0s 6ms/step - loss: 0.6463 - accuracy: 0.6090\n",
      "Epoch 21/50\n",
      "20/20 [==============================] - 0s 7ms/step - loss: 0.6537 - accuracy: 0.5705\n",
      "Epoch 22/50\n",
      "20/20 [==============================] - 0s 7ms/step - loss: 0.6391 - accuracy: 0.6410\n",
      "Epoch 23/50\n",
      "20/20 [==============================] - 0s 6ms/step - loss: 0.6275 - accuracy: 0.6859\n",
      "Epoch 24/50\n",
      "20/20 [==============================] - 0s 6ms/step - loss: 0.6546 - accuracy: 0.5833\n",
      "Epoch 25/50\n",
      "20/20 [==============================] - 0s 7ms/step - loss: 0.6308 - accuracy: 0.6538\n",
      "Epoch 26/50\n",
      "20/20 [==============================] - 0s 7ms/step - loss: 0.6195 - accuracy: 0.6667\n",
      "Epoch 27/50\n",
      "20/20 [==============================] - 0s 6ms/step - loss: 0.6250 - accuracy: 0.6731\n",
      "Epoch 28/50\n",
      "20/20 [==============================] - 0s 7ms/step - loss: 0.6141 - accuracy: 0.6667\n",
      "Epoch 29/50\n",
      "20/20 [==============================] - 0s 7ms/step - loss: 0.5746 - accuracy: 0.7051\n",
      "Epoch 30/50\n",
      "20/20 [==============================] - 0s 7ms/step - loss: 0.5751 - accuracy: 0.6923\n",
      "Epoch 31/50\n",
      "20/20 [==============================] - 0s 7ms/step - loss: 0.5438 - accuracy: 0.6923\n",
      "Epoch 32/50\n",
      "20/20 [==============================] - 0s 7ms/step - loss: 0.6020 - accuracy: 0.7051\n",
      "Epoch 33/50\n",
      "20/20 [==============================] - 0s 6ms/step - loss: 0.6006 - accuracy: 0.6667\n",
      "Epoch 34/50\n",
      "20/20 [==============================] - 0s 6ms/step - loss: 0.6155 - accuracy: 0.7115\n",
      "Epoch 35/50\n",
      "20/20 [==============================] - 0s 6ms/step - loss: 0.5840 - accuracy: 0.6667\n",
      "Epoch 36/50\n",
      "20/20 [==============================] - 0s 7ms/step - loss: 0.5626 - accuracy: 0.7244\n",
      "Epoch 37/50\n",
      "20/20 [==============================] - 0s 9ms/step - loss: 0.5575 - accuracy: 0.7115\n",
      "Epoch 38/50\n",
      "20/20 [==============================] - 0s 7ms/step - loss: 0.5247 - accuracy: 0.7051\n",
      "Epoch 39/50\n",
      "20/20 [==============================] - 0s 7ms/step - loss: 0.5600 - accuracy: 0.6859\n",
      "Epoch 40/50\n",
      "20/20 [==============================] - 0s 7ms/step - loss: 0.5220 - accuracy: 0.7564\n",
      "Epoch 41/50\n",
      "20/20 [==============================] - 0s 7ms/step - loss: 0.5308 - accuracy: 0.7500\n",
      "Epoch 42/50\n",
      "20/20 [==============================] - 0s 6ms/step - loss: 0.5582 - accuracy: 0.7308\n",
      "Epoch 43/50\n",
      "20/20 [==============================] - 0s 7ms/step - loss: 0.5256 - accuracy: 0.7244\n",
      "Epoch 44/50\n",
      "20/20 [==============================] - 0s 7ms/step - loss: 0.4815 - accuracy: 0.7949\n",
      "Epoch 45/50\n",
      "20/20 [==============================] - 0s 7ms/step - loss: 0.5085 - accuracy: 0.7500\n",
      "Epoch 46/50\n",
      "20/20 [==============================] - 0s 7ms/step - loss: 0.5319 - accuracy: 0.7692\n",
      "Epoch 47/50\n",
      "20/20 [==============================] - 0s 6ms/step - loss: 0.4759 - accuracy: 0.7885\n",
      "Epoch 48/50\n",
      "20/20 [==============================] - 0s 7ms/step - loss: 0.4763 - accuracy: 0.7628\n",
      "Epoch 49/50\n",
      "20/20 [==============================] - 0s 7ms/step - loss: 0.4870 - accuracy: 0.7500\n",
      "Epoch 50/50\n",
      "20/20 [==============================] - 0s 7ms/step - loss: 0.5134 - accuracy: 0.7436\n"
     ]
    },
    {
     "data": {
      "text/plain": [
       "<keras.callbacks.History at 0x267f3521880>"
      ]
     },
     "execution_count": 31,
     "metadata": {},
     "output_type": "execute_result"
    }
   ],
   "source": [
    "model1 = keras.Sequential([\n",
    "    keras.layers.Dense(60,input_shape = (60,),activation = 'relu'),\n",
    "    keras.layers.Dropout(0.5),\n",
    "    keras.layers.Dense(30,activation='relu'),\n",
    "    keras.layers.Dropout(0.5),    \n",
    "    keras.layers.Dense(10,activation='relu'),\n",
    "    keras.layers.Dropout(0.5),\n",
    "    keras.layers.Dense(1,activation='sigmoid')\n",
    "])\n",
    "model1.compile(loss = 'binary_crossentropy',optimizer = 'adam',metrics = ['accuracy'])\n",
    "model1.fit(X_train,y_train,epochs=50,batch_size = 8)"
   ]
  },
  {
   "cell_type": "code",
   "execution_count": 32,
   "id": "49f4c5d0",
   "metadata": {},
   "outputs": [
    {
     "name": "stdout",
     "output_type": "stream",
     "text": [
      "2/2 [==============================] - 0s 7ms/step - loss: 0.4857 - accuracy: 0.7692\n"
     ]
    },
    {
     "data": {
      "text/plain": [
       "[0.48574402928352356, 0.7692307829856873]"
      ]
     },
     "execution_count": 32,
     "metadata": {},
     "output_type": "execute_result"
    }
   ],
   "source": [
    "model1.evaluate(X_test,y_test)"
   ]
  },
  {
   "cell_type": "code",
   "execution_count": 30,
   "id": "7a71cba2",
   "metadata": {},
   "outputs": [
    {
     "name": "stdout",
     "output_type": "stream",
     "text": [
      "2/2 [==============================] - 0s 5ms/step\n"
     ]
    }
   ],
   "source": [
    "y_pred = model.predict(X_test)\n",
    "y_pred.reshape(len(y_pred),)\n",
    "y_pred = np.round(y_pred)"
   ]
  },
  {
   "cell_type": "code",
   "execution_count": 33,
   "id": "03cb9832",
   "metadata": {},
   "outputs": [
    {
     "data": {
      "text/plain": [
       "Text(50.722222222222214, 0.5, 'Truth')"
      ]
     },
     "execution_count": 33,
     "metadata": {},
     "output_type": "execute_result"
    },
    {
     "data": {
      "image/png": "[encoded data removed]",
      "text/plain": [
       "<Figure size 640x480 with 2 Axes>"
      ]
     },
     "metadata": {},
     "output_type": "display_data"
    }
   ],
   "source": [
    "cm= confusion_matrix(y_test,y_pred)\n",
    "sns.heatmap(cm,annot=True,fmt='d')\n",
    "plt.xlabel('Predict')\n",
    "plt.ylabel('Truth')"
   ]
  },
  {
   "cell_type": "code",
   "execution_count": 34,
   "id": "c5a06b16",
   "metadata": {},
   "outputs": [
    {
     "name": "stdout",
     "output_type": "stream",
     "text": [
      "              precision    recall  f1-score   support\n",
      "\n",
      "           0       0.73      0.81      0.77        27\n",
      "           1       0.77      0.68      0.72        25\n",
      "\n",
      "    accuracy                           0.75        52\n",
      "   macro avg       0.75      0.75      0.75        52\n",
      "weighted avg       0.75      0.75      0.75        52\n",
      "\n"
     ]
    }
   ],
   "source": [
    "print(classification_report(y_test,y_pred))"
   ]
  }
 ],
 "metadata": {
  "kernelspec": {
   "display_name": "Python 3 (ipykernel)",
   "language": "python",
   "name": "python3"
  },
  "language_info": {
   "codemirror_mode": {
    "name": "ipython",
    "version": 3
   },
   "file_extension": ".py",
   "mimetype": "text/x-python",
   "name": "python",
   "nbconvert_exporter": "python",
   "pygments_lexer": "ipython3",
   "version": "3.9.0"
  }
 },
 "nbformat": 4,
 "nbformat_minor": 5
}
