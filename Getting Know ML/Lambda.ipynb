{
 "cells": [
  {
   "cell_type": "markdown",
   "id": "feb3dc1c",
   "metadata": {},
   "source": [
    "# Ham lambda"
   ]
  },
  {
   "cell_type": "code",
   "execution_count": 12,
   "id": "a039083f",
   "metadata": {},
   "outputs": [
    {
     "name": "stdout",
     "output_type": "stream",
     "text": [
      "[(-1, 3), (2, 10), (6, 9), (9, 6)]\n",
      "[(-1, 3), (9, 6), (6, 9), (2, 10)]\n"
     ]
    }
   ],
   "source": [
    "#custom sorting using a lambda dunction as key paramater\n",
    "\n",
    "coordinate2D = [(6,9),(9,6),(-1,3),(2,10)]\n",
    "print(sorted(coordinate2D))\n",
    "print(sorted(coordinate2D,key=lambda point:point[1]))"
   ]
  },
  {
   "cell_type": "code",
   "execution_count": 15,
   "id": "8342bd39",
   "metadata": {},
   "outputs": [],
   "source": [
    "number_list=[5,3,-2,4,1,-1,4,3,5]"
   ]
  },
  {
   "cell_type": "code",
   "execution_count": 17,
   "id": "2b5adc78",
   "metadata": {},
   "outputs": [
    {
     "data": {
      "text/plain": [
       "[-2, -1, 1, 3, 3, 4, 4, 5, 5]"
      ]
     },
     "execution_count": 17,
     "metadata": {},
     "output_type": "execute_result"
    }
   ],
   "source": [
    "sorted(number_list)"
   ]
  },
  {
   "cell_type": "code",
   "execution_count": 19,
   "id": "46ed16e1",
   "metadata": {},
   "outputs": [
    {
     "data": {
      "text/plain": [
       "[1, -1, -2, 3, 3, 4, 4, 5, 5]"
      ]
     },
     "execution_count": 19,
     "metadata": {},
     "output_type": "execute_result"
    }
   ],
   "source": [
    "sorted(number_list,key=lambda x: abs(x))"
   ]
  },
  {
   "cell_type": "code",
   "execution_count": 25,
   "id": "e2b46715",
   "metadata": {},
   "outputs": [
    {
     "data": {
      "text/plain": [
       "['Codexplore', 'Welcome', 'Cac Ban']"
      ]
     },
     "execution_count": 25,
     "metadata": {},
     "output_type": "execute_result"
    }
   ],
   "source": [
    "list_keyword=[\"codexplore\",\"welcome\",'cac ban']\n",
    "\n",
    "list(map(lambda x: x.title(),list_keyword))\n"
   ]
  },
  {
   "cell_type": "code",
   "execution_count": 28,
   "id": "5326109d",
   "metadata": {},
   "outputs": [
    {
     "data": {
      "text/plain": [
       "['Codexplore', 'Welcome', 'Cac Ban']"
      ]
     },
     "execution_count": 28,
     "metadata": {},
     "output_type": "execute_result"
    }
   ],
   "source": [
    "new_list=[keyword.title() for keyword in list_keyword]\n",
    "new_list"
   ]
  },
  {
   "cell_type": "markdown",
   "id": "9302c2fb",
   "metadata": {},
   "source": [
    "## use lambda for filter function"
   ]
  },
  {
   "cell_type": "code",
   "execution_count": 32,
   "id": "cbd84b11",
   "metadata": {},
   "outputs": [
    {
     "data": {
      "text/plain": [
       "[1, 3, 5, 7, 9]"
      ]
     },
     "execution_count": 32,
     "metadata": {},
     "output_type": "execute_result"
    }
   ],
   "source": [
    "list_number=[1,2,3,4,5,6,7,8,9,10]\n",
    "list(filter(lambda x: x%2!=0,list_number))"
   ]
  },
  {
   "cell_type": "code",
   "execution_count": 35,
   "id": "cff8b713",
   "metadata": {},
   "outputs": [
    {
     "data": {
      "text/plain": [
       "[1, 3, 5, 7, 9]"
      ]
     },
     "execution_count": 35,
     "metadata": {},
     "output_type": "execute_result"
    }
   ],
   "source": [
    "new_list=[x for x in list_number if x%2!=0]\n",
    "new_list"
   ]
  },
  {
   "cell_type": "markdown",
   "id": "3d3918fc",
   "metadata": {},
   "source": [
    "## Use lambda for reduce function\n",
    "required 2 argument"
   ]
  },
  {
   "cell_type": "code",
   "execution_count": 37,
   "id": "8c6a4db4",
   "metadata": {},
   "outputs": [],
   "source": [
    "from functools import reduce "
   ]
  },
  {
   "cell_type": "code",
   "execution_count": 39,
   "id": "284b5ea5",
   "metadata": {},
   "outputs": [
    {
     "data": {
      "text/plain": [
       "36"
      ]
     },
     "execution_count": 39,
     "metadata": {},
     "output_type": "execute_result"
    }
   ],
   "source": [
    "sequence =[1,3,5,9,6,2,2,8]\n",
    "reduce(lambda a,b: a+b,sequence)"
   ]
  },
  {
   "cell_type": "code",
   "execution_count": 41,
   "id": "cabaa92d",
   "metadata": {},
   "outputs": [
    {
     "data": {
      "text/plain": [
       "9"
      ]
     },
     "execution_count": 41,
     "metadata": {},
     "output_type": "execute_result"
    }
   ],
   "source": [
    "#Tim gia tri maximum trong sequence\n",
    "\n",
    "reduce(lambda a,b: a if a>b else b,sequence)"
   ]
  }
 ],
 "metadata": {
  "kernelspec": {
   "display_name": "Python 3 (ipykernel)",
   "language": "python",
   "name": "python3"
  },
  "language_info": {
   "codemirror_mode": {
    "name": "ipython",
    "version": 3
   },
   "file_extension": ".py",
   "mimetype": "text/x-python",
   "name": "python",
   "nbconvert_exporter": "python",
   "pygments_lexer": "ipython3",
   "version": "3.9.12"
  }
 },
 "nbformat": 4,
 "nbformat_minor": 5
}
