{
 "cells": [
  {
   "cell_type": "code",
   "execution_count": 1,
   "id": "1ec84d26",
   "metadata": {},
   "outputs": [],
   "source": [
    "import spacy\n",
    "nlp = spacy.load('en_core_web_lg')"
   ]
  },
  {
   "cell_type": "code",
   "execution_count": 2,
   "id": "788e4686",
   "metadata": {},
   "outputs": [
    {
     "name": "stdout",
     "output_type": "stream",
     "text": [
      "Thanh  Vector: True  OOV: False\n",
      "Long  Vector: True  OOV: False\n",
      "is  Vector: True  OOV: False\n",
      "a  Vector: True  OOV: False\n",
      "name  Vector: True  OOV: False\n"
     ]
    }
   ],
   "source": [
    "doc = nlp('Thanh Long is a name')\n",
    "for token in doc:\n",
    "    print(token.text,' Vector:',token.has_vector,' OOV:',token.is_oov)"
   ]
  },
  {
   "cell_type": "code",
   "execution_count": 4,
   "id": "a6ea02c0",
   "metadata": {
    "scrolled": true
   },
   "outputs": [
    {
     "data": {
      "text/plain": [
       "array([-0.35699 , -2.0094  , -3.9447  ,  0.23081 ,  4.2168  ,  1.8783  ,\n",
       "       -1.2855  , -2.4173  ,  0.80206 , -3.154   , -1.5684  ,  1.6487  ,\n",
       "       -0.40688 , -1.9578  , -0.80173 ,  0.07298 ,  1.5556  , -0.32939 ,\n",
       "        0.46987 ,  2.0713  , -2.5292  ,  1.355   , -2.1519  ,  0.12601 ,\n",
       "        0.91056 , -2.1185  , -0.75324 , -1.5965  ,  0.028472, -1.509   ,\n",
       "        1.4318  , -0.38027 , -1.5786  ,  1.6892  ,  0.33301 , -0.74893 ,\n",
       "       -2.9973  ,  2.5471  , -3.4251  , -1.4261  , -5.7858  , -0.05436 ,\n",
       "       -2.5503  , -0.63885 ,  1.4306  ,  1.5221  , -5.5219  , -3.5331  ,\n",
       "       -0.99971 ,  0.19022 ,  1.0771  , -4.4029  , -2.8561  , -0.20648 ,\n",
       "       -0.085555,  0.070009,  0.46284 , -3.8466  ,  3.1983  , -2.7865  ,\n",
       "       -2.2481  ,  2.1586  , -1.666   ,  2.8813  ,  0.077091,  0.98092 ,\n",
       "        0.96261 ,  0.18695 ,  0.98042 ,  1.8584  , -3.9339  , -0.17907 ,\n",
       "        0.42224 , -4.7638  , -0.68011 ,  3.8277  , -0.59425 ,  2.0701  ,\n",
       "       -1.151   ,  1.9472  ,  3.3893  ,  0.93959 , -2.0725  , -3.3827  ,\n",
       "        1.8048  ,  0.78573 ,  2.2322  ,  2.9043  , -5.5986  , -1.737   ,\n",
       "        2.4616  ,  2.9954  , -2.2429  ,  3.2588  , -0.78654 , -0.32818 ,\n",
       "       -0.93079 , -0.092463,  1.2333  , -2.1959  ,  1.0229  , -2.2659  ,\n",
       "       -1.8377  , -0.70123 , -2.8863  , -0.040538, -0.63907 , -0.74332 ,\n",
       "        2.2919  , -1.0596  , -0.89473 ,  2.9572  , -0.36701 ,  0.10575 ,\n",
       "        0.9828  , -2.8562  , -0.4442  ,  0.99185 ,  0.59131 ,  1.6941  ,\n",
       "        0.27296 ,  1.9627  , -1.2032  , -0.51881 ,  3.6798  ,  2.1604  ,\n",
       "        3.3546  ,  2.7516  , -2.5376  , -1.0543  , -1.6036  ,  6.4271  ,\n",
       "       -3.5463  , -0.95613 , -2.0935  , -0.72149 ,  0.51353 , -0.19289 ,\n",
       "        2.6743  , -1.1888  , -1.5442  , -0.19285 ,  1.1184  ,  1.9869  ,\n",
       "        1.298   , -2.445   , -2.5243  , -1.6641  ,  1.8641  ,  0.59331 ,\n",
       "        2.2579  , -0.43706 ,  1.1058  ,  4.18    ,  1.6005  ,  1.441   ,\n",
       "       -0.88872 ,  3.0007  ,  0.83769 , -3.0643  ,  3.2122  , -2.1736  ,\n",
       "        0.056783, -0.75898 , -1.3004  , -1.1991  ,  0.43581 ,  0.72083 ,\n",
       "        1.0925  , -1.3923  ,  4.5205  , -3.4253  , -1.5329  ,  1.268   ,\n",
       "       -0.33409 ,  0.42009 ,  0.033734, -2.6806  ,  0.32233 ,  1.9279  ,\n",
       "        2.7416  , -2.5918  , -2.3952  ,  2.5979  , -2.682   ,  0.71708 ,\n",
       "       -2.2025  , -0.047673,  1.0178  ,  0.70914 , -0.78531 ,  0.082855,\n",
       "       -0.48572 ,  2.2085  , -0.21775 , -2.04    , -3.3164  , -0.86127 ,\n",
       "       -1.5551  ,  3.922   , -0.64294 , -0.70136 ,  3.7514  ,  1.1424  ,\n",
       "       -0.40787 , -0.74362 , -0.10011 , -0.26382 ,  2.0412  ,  2.2631  ,\n",
       "       -2.2791  ,  3.0435  ,  0.42251 , -0.67317 , -2.7433  ,  4.0766  ,\n",
       "        1.5273  ,  0.50705 ,  2.08    , -0.51457 , -0.33161 , -0.57173 ,\n",
       "       -2.2314  ,  0.30995 , -0.29678 , -3.3782  , -2.3508  ,  0.62621 ,\n",
       "       -3.8164  , -0.77578 , -2.5806  ,  3.0737  , -1.4349  , -3.0885  ,\n",
       "       -0.33689 , -2.7932  , -1.3161  , -0.62894 , -3.9768  ,  0.023756,\n",
       "        2.463   , -0.41524 , -1.2449  , -0.68903 , -0.74095 ,  1.0525  ,\n",
       "       -2.1314  , -4.7051  , -1.8547  ,  2.2239  , -0.28147 , -2.1681  ,\n",
       "       -0.88053 , -6.6483  , -4.9627  ,  0.023609,  1.5581  ,  0.72806 ,\n",
       "       -1.0672  , -1.5489  , -0.39476 , -2.3615  , -0.38848 , -1.4259  ,\n",
       "       -0.12903 , -2.1161  , -1.6348  ,  0.75842 ,  1.0537  ,  1.4065  ,\n",
       "       -0.83056 ,  0.19125 , -0.95198 , -0.61201 ,  1.6717  ,  2.5437  ,\n",
       "        4.2255  , -3.0841  ,  2.2742  , -1.9418  ,  2.5285  , -4.2674  ,\n",
       "        1.3485  ,  0.67094 ,  0.66757 , -3.8688  , -1.3589  ,  0.10566 ,\n",
       "       -4.018   , -0.93011 ,  1.0925  , -0.099435, -0.97887 , -0.98665 ,\n",
       "       -0.47192 , -2.4554  , -1.3917  ,  0.35476 , -1.3614  ,  1.5329  ],\n",
       "      dtype=float32)"
      ]
     },
     "execution_count": 4,
     "metadata": {},
     "output_type": "execute_result"
    }
   ],
   "source": [
    "doc[0].vector #has 300 dimentions"
   ]
  },
  {
   "cell_type": "code",
   "execution_count": 8,
   "id": "7e3ff46b",
   "metadata": {},
   "outputs": [
    {
     "data": {
      "text/plain": [
       "(300,)"
      ]
     },
     "execution_count": 8,
     "metadata": {},
     "output_type": "execute_result"
    }
   ],
   "source": [
    "base_token = nlp('bread')\n",
    "base_token.vector.shape"
   ]
  },
  {
   "cell_type": "code",
   "execution_count": 15,
   "id": "b332ec27",
   "metadata": {},
   "outputs": [
    {
     "name": "stdout",
     "output_type": "stream",
     "text": [
      "bread <-> bread: 1.0\n",
      "sandwich <-> bread: 0.6341067010130894\n",
      "burger <-> bread: 0.47520687769584247\n",
      "car <-> bread: 0.06451533308853552\n",
      "tiger <-> bread: 0.04764611675903374\n",
      "human <-> bread: 0.2151154210812192\n",
      "wheat <-> bread: 0.6150360888607199\n"
     ]
    }
   ],
   "source": [
    "doc = nlp('bread sandwich burger car tiger human wheat')\n",
    "\n",
    "for token in doc:\n",
    "    print(f\"{token.text} <-> {base_token.text}:\",token.similarity(base_token))"
   ]
  },
  {
   "cell_type": "code",
   "execution_count": 16,
   "id": "a1fe8790",
   "metadata": {},
   "outputs": [],
   "source": [
    "def print_similarity(base_word,words_to_compare):\n",
    "    base_token = nlp(base_word)\n",
    "    doc = nlp(words_to_compare)\n",
    "    \n",
    "    for token in doc:\n",
    "        print(f\"{token.text} <-> {base_token.text}:\",token.similarity(base_token))"
   ]
  },
  {
   "cell_type": "code",
   "execution_count": 17,
   "id": "5564f404",
   "metadata": {},
   "outputs": [
    {
     "name": "stdout",
     "output_type": "stream",
     "text": [
      "apple <-> iphone: 0.4387907401919904\n",
      "samsung <-> iphone: 0.670859081425417\n",
      "iphone <-> iphone: 1.0\n",
      "dog <-> iphone: 0.08211864228011527\n",
      "kitten <-> iphone: 0.10222317834969896\n"
     ]
    }
   ],
   "source": [
    "print_similarity('iphone','apple samsung iphone dog kitten')"
   ]
  },
  {
   "cell_type": "code",
   "execution_count": 21,
   "id": "22bd75d9",
   "metadata": {},
   "outputs": [],
   "source": [
    "king = nlp.vocab['king'].vector\n",
    "man = nlp.vocab['man'].vector\n",
    "woman = nlp.vocab['woman'].vector\n",
    "queen = nlp.vocab['queen'].vector\n",
    "\n",
    "result = king - man + woman"
   ]
  },
  {
   "cell_type": "code",
   "execution_count": 25,
   "id": "b653fa1c",
   "metadata": {},
   "outputs": [
    {
     "data": {
      "text/plain": [
       "array([[0.61780137]], dtype=float32)"
      ]
     },
     "execution_count": 25,
     "metadata": {},
     "output_type": "execute_result"
    }
   ],
   "source": [
    "from sklearn.metrics.pairwise import cosine_similarity\n",
    "cosine_similarity([result],[queen])"
   ]
  }
 ],
 "metadata": {
  "kernelspec": {
   "display_name": "Python 3 (ipykernel)",
   "language": "python",
   "name": "python3"
  },
  "language_info": {
   "codemirror_mode": {
    "name": "ipython",
    "version": 3
   },
   "file_extension": ".py",
   "mimetype": "text/x-python",
   "name": "python",
   "nbconvert_exporter": "python",
   "pygments_lexer": "ipython3",
   "version": "3.9.15"
  }
 },
 "nbformat": 4,
 "nbformat_minor": 5
}
