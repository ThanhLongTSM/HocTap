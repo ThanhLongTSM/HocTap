{
 "cells": [
  {
   "cell_type": "code",
   "execution_count": null,
   "id": "3b8e677b",
   "metadata": {},
   "outputs": [],
   "source": [
    "import spacy\n",
    "nlp = spacy.load('en_core_web_sm')\n",
    "doc = nlp('Elon flew to mars yesterday. He carried biryani masala with him')\n",
    "for token in doc:\n",
    "    print(token,'|' ,token.pos_,'|',spacy.explain(token.pos_))"
   ]
  },
  {
   "cell_type": "code",
   "execution_count": null,
   "id": "e66b114d",
   "metadata": {},
   "outputs": [],
   "source": [
    "doc = nlp('Wow! Dr. Strange made 265 million $ on the very first day')\n",
    "for token in doc:\n",
    "    print(token,'|',token.pos_,'|',spacy.explain(token.pos_))"
   ]
  },
  {
   "cell_type": "markdown",
   "id": "ef42b540",
   "metadata": {},
   "source": [
    "### Tag"
   ]
  },
  {
   "cell_type": "code",
   "execution_count": null,
   "id": "ccfe2675",
   "metadata": {},
   "outputs": [],
   "source": [
    "doc = nlp('He quits the job')\n",
    "print(doc[1].text,'|',doc[1].tag_,'|',spacy.explain(doc[1].tag_))"
   ]
  },
  {
   "cell_type": "code",
   "execution_count": null,
   "id": "21582b6f",
   "metadata": {},
   "outputs": [],
   "source": [
    "doc = nlp('He quit the job')\n",
    "print(doc[1].text,'|',doc[1].tag_,'|',spacy.explain(doc[1].tag_))"
   ]
  },
  {
   "cell_type": "markdown",
   "id": "b9c47f26",
   "metadata": {},
   "source": [
    "## Removing all SPACE, PUNCT, and X token from text"
   ]
  },
  {
   "cell_type": "code",
   "execution_count": null,
   "id": "ec684e2b",
   "metadata": {},
   "outputs": [],
   "source": [
    "earnings_text = \"\"\"Microsoft Corp. today announced the following results for the quarter ended December 31, 2021, as compared to the corresponding period of last fiscal year:\n",
    "\n",
    "·         Revenue was $51.7 billion and increased 20%\n",
    "·         Operating income was $22.2 billion and increased 24%\n",
    "·         Net income was $18.8 billion and increased 21%\n",
    "·         Diluted earnings per share was $2.48 and increased 22%\n",
    "“Digital technology is the most malleable resource at the world’s disposal to overcome constraints and reimagine everyday work and life,” said Satya Nadella, chairman and chief executive officer of Microsoft. “As tech as a percentage of global GDP continues to increase, we are innovating and investing across diverse and growing markets, with a common underlying technology stack and an operating model that reinforces a common strategy, culture, and sense of purpose.”\n",
    "“Solid commercial execution, represented by strong bookings growth driven by long-term Azure commitments, increased Microsoft Cloud revenue to $22.1 billion, up 32% year over year” said Amy Hood, executive vice president and chief financial officer of Microsoft.\"\"\"\n",
    "doc = nlp(earnings_text)\n",
    "filtered_token = []\n",
    "for token in doc:\n",
    "    if token.pos_ not in ['SPACE','PUNCT','X']:\n",
    "        filtered_token.append(token)\n",
    "filtered_token[:5]"
   ]
  },
  {
   "cell_type": "code",
   "execution_count": null,
   "id": "d3c9a7e9",
   "metadata": {},
   "outputs": [],
   "source": [
    "count = doc.count_by(spacy.attrs.POS)\n",
    "count"
   ]
  },
  {
   "cell_type": "code",
   "execution_count": null,
   "id": "37d6d2e6",
   "metadata": {},
   "outputs": [],
   "source": [
    "for k,v in count.items():\n",
    "    print(doc.vocab[k].text,'|',v)"
   ]
  },
  {
   "cell_type": "markdown",
   "id": "67945d26",
   "metadata": {},
   "source": [
    "# Exercise"
   ]
  },
  {
   "cell_type": "markdown",
   "id": "a8727861",
   "metadata": {},
   "source": [
    "##### Exercise for Spacy POS tutorial,\n",
    "\n",
    "1. You are parsing a news story from cnbc.com. News story is stores in news_story.txt which is available in this same folder on github. You need to,\n",
    "*  Extract all NOUN tokens from this story. You will have to read the file in python first to collect all the text and then extract NOUNs in a python list\n",
    "* Extract all numbers (NUM POS type) in a python list\n",
    "* Print a count of all POS tags in this story"
   ]
  },
  {
   "cell_type": "code",
   "execution_count": 52,
   "id": "7299483f",
   "metadata": {},
   "outputs": [
    {
     "name": "stdout",
     "output_type": "stream",
     "text": [
      "SPACE | 7\n",
      "NOUN | 94\n",
      "VERB | 27\n",
      "ADV | 15\n",
      "ADP | 39\n",
      "PROPN | 19\n",
      "PUNCT | 31\n",
      "DET | 34\n",
      "PRON | 4\n",
      "AUX | 13\n",
      "CCONJ | 10\n",
      "ADJ | 23\n",
      "NUM | 20\n",
      "PART | 4\n",
      "SCONJ | 8\n",
      "SYM | 1\n"
     ]
    }
   ],
   "source": [
    "with open ('./Data/news_story.txt') as f:\n",
    "    text = f.readlines()\n",
    "text = ' '.join(text)\n",
    "import spacy\n",
    "nlp = spacy.load('en_core_web_sm')\n",
    "doc = nlp(text)\n",
    "noun_list = []\n",
    "num_list=[]\n",
    "for token in doc:\n",
    "    if token.pos_ in ['NOUN']:\n",
    "        noun_list.append(token)\n",
    "for token in doc:\n",
    "    if token.pos_ in ['NUM']:\n",
    "        num_list.append(token)\n",
    "count = doc.count_by(spacy.attrs.POS)\n",
    "for k,v in count.items():\n",
    "    print(doc.vocab[k].text,'|',v)"
   ]
  },
  {
   "cell_type": "code",
   "execution_count": 53,
   "id": "56f0f9ca",
   "metadata": {},
   "outputs": [
    {
     "data": {
      "text/plain": [
       "[Inflation,\n",
       " climb,\n",
       " consumers,\n",
       " brink,\n",
       " expansion,\n",
       " consumer,\n",
       " price,\n",
       " index,\n",
       " measure,\n",
       " prices]"
      ]
     },
     "execution_count": 53,
     "metadata": {},
     "output_type": "execute_result"
    }
   ],
   "source": [
    "noun_list[:10]"
   ]
  },
  {
   "cell_type": "code",
   "execution_count": 51,
   "id": "3996d49a",
   "metadata": {},
   "outputs": [
    {
     "data": {
      "text/plain": [
       "[8.3, 8.1, 1982, 6.2, 6, â€, 0.3, 0.2, 0.6, 0.4]"
      ]
     },
     "execution_count": 51,
     "metadata": {},
     "output_type": "execute_result"
    }
   ],
   "source": [
    "num_list[:10]"
   ]
  }
 ],
 "metadata": {
  "kernelspec": {
   "display_name": "Python 3 (ipykernel)",
   "language": "python",
   "name": "python3"
  },
  "language_info": {
   "codemirror_mode": {
    "name": "ipython",
    "version": 3
   },
   "file_extension": ".py",
   "mimetype": "text/x-python",
   "name": "python",
   "nbconvert_exporter": "python",
   "pygments_lexer": "ipython3",
   "version": "3.9.15"
  }
 },
 "nbformat": 4,
 "nbformat_minor": 5
}
