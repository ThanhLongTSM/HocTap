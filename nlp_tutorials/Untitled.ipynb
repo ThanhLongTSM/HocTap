{
 "cells": [
  {
   "cell_type": "code",
   "execution_count": 1,
   "id": "e86650f9",
   "metadata": {},
   "outputs": [],
   "source": [
    "import gensim.downloader as api\n",
    "wv = api.load('word2vec-google-news-300')"
   ]
  },
  {
   "cell_type": "code",
   "execution_count": 2,
   "id": "351a2e9f",
   "metadata": {},
   "outputs": [
    {
     "data": {
      "text/plain": [
       "0.729151"
      ]
     },
     "execution_count": 2,
     "metadata": {},
     "output_type": "execute_result"
    }
   ],
   "source": [
    "wv.similarity(w1='great',w2='good')"
   ]
  },
  {
   "cell_type": "code",
   "execution_count": 3,
   "id": "08e44c0b",
   "metadata": {},
   "outputs": [],
   "source": [
    "wv_great = wv['great']\n",
    "wv_good = wv['good']"
   ]
  },
  {
   "cell_type": "code",
   "execution_count": 4,
   "id": "4b5933fe",
   "metadata": {},
   "outputs": [],
   "source": [
    "import pandas as pd\n",
    "\n",
    "df = pd.read_csv('./Data/Fake_Real_Data.csv')"
   ]
  },
  {
   "cell_type": "code",
   "execution_count": 5,
   "id": "58548679",
   "metadata": {},
   "outputs": [
    {
     "data": {
      "text/html": [
       "<div>\n",
       "<style scoped>\n",
       "    .dataframe tbody tr th:only-of-type {\n",
       "        vertical-align: middle;\n",
       "    }\n",
       "\n",
       "    .dataframe tbody tr th {\n",
       "        vertical-align: top;\n",
       "    }\n",
       "\n",
       "    .dataframe thead th {\n",
       "        text-align: right;\n",
       "    }\n",
       "</style>\n",
       "<table border=\"1\" class=\"dataframe\">\n",
       "  <thead>\n",
       "    <tr style=\"text-align: right;\">\n",
       "      <th></th>\n",
       "      <th>Text</th>\n",
       "      <th>label</th>\n",
       "    </tr>\n",
       "  </thead>\n",
       "  <tbody>\n",
       "    <tr>\n",
       "      <th>0</th>\n",
       "      <td>Top Trump Surrogate BRUTALLY Stabs Him In The...</td>\n",
       "      <td>Fake</td>\n",
       "    </tr>\n",
       "    <tr>\n",
       "      <th>1</th>\n",
       "      <td>U.S. conservative leader optimistic of common ...</td>\n",
       "      <td>Real</td>\n",
       "    </tr>\n",
       "    <tr>\n",
       "      <th>2</th>\n",
       "      <td>Trump proposes U.S. tax overhaul, stirs concer...</td>\n",
       "      <td>Real</td>\n",
       "    </tr>\n",
       "    <tr>\n",
       "      <th>3</th>\n",
       "      <td>Court Forces Ohio To Allow Millions Of Illega...</td>\n",
       "      <td>Fake</td>\n",
       "    </tr>\n",
       "    <tr>\n",
       "      <th>4</th>\n",
       "      <td>Democrats say Trump agrees to work on immigrat...</td>\n",
       "      <td>Real</td>\n",
       "    </tr>\n",
       "  </tbody>\n",
       "</table>\n",
       "</div>"
      ],
      "text/plain": [
       "                                                Text label\n",
       "0   Top Trump Surrogate BRUTALLY Stabs Him In The...  Fake\n",
       "1  U.S. conservative leader optimistic of common ...  Real\n",
       "2  Trump proposes U.S. tax overhaul, stirs concer...  Real\n",
       "3   Court Forces Ohio To Allow Millions Of Illega...  Fake\n",
       "4  Democrats say Trump agrees to work on immigrat...  Real"
      ]
     },
     "execution_count": 5,
     "metadata": {},
     "output_type": "execute_result"
    }
   ],
   "source": [
    "df.head()"
   ]
  },
  {
   "cell_type": "code",
   "execution_count": 6,
   "id": "7571af43",
   "metadata": {},
   "outputs": [],
   "source": [
    "df['label_num']=df['label'].map({'Fake':0,'Real':1})"
   ]
  },
  {
   "cell_type": "code",
   "execution_count": 7,
   "id": "8207bf48",
   "metadata": {},
   "outputs": [],
   "source": [
    "import spacy\n",
    "nlp = spacy.load('en_core_web_lg')\n",
    "def preprocess_and_vectorize(text):\n",
    "    doc = nlp(text)\n",
    "    filtered_tokens=[]\n",
    "    for token in doc:\n",
    "        if token.is_punct or token.is_stop:\n",
    "            continue\n",
    "        filtered_tokens.append(token.lemma_)\n",
    "    return wv.get_mean_vector(filtered_tokens)"
   ]
  },
  {
   "cell_type": "code",
   "execution_count": 8,
   "id": "74d6aac4",
   "metadata": {},
   "outputs": [
    {
     "data": {
      "text/plain": [
       "array([ 2.33738478e-02, -2.64660385e-03, -7.40598841e-03,  3.55755650e-02,\n",
       "        4.87089157e-03, -1.50732296e-02,  3.90400365e-02, -4.58122790e-02,\n",
       "        5.47190346e-02,  1.66951511e-02, -1.00811571e-02, -5.96696734e-02,\n",
       "        3.46883051e-02, -7.52686709e-03, -2.01580557e-03,  1.47714810e-02,\n",
       "        2.11633071e-02,  6.96659163e-02, -2.35075261e-02, -6.63120672e-02,\n",
       "       -2.11626515e-02,  3.19983736e-02,  3.30468193e-02,  3.13876010e-02,\n",
       "        4.91791479e-02, -6.96077058e-03, -2.07300950e-02, -5.25327884e-02,\n",
       "       -5.25226444e-03, -6.82936907e-02, -7.13493908e-03, -3.00915837e-02,\n",
       "        7.62140676e-02, -5.23094051e-02, -2.84775738e-02, -1.11878766e-02,\n",
       "       -1.99600626e-02,  2.46490538e-02,  2.67670695e-02,  5.15096150e-02,\n",
       "        5.64508475e-02, -1.92053057e-02,  5.05131893e-02, -1.73199195e-02,\n",
       "       -4.66615856e-02,  9.27811954e-03,  7.45154591e-03,  3.26672085e-02,\n",
       "        2.65876353e-02,  4.23127003e-02, -7.28106825e-03,  4.77878638e-02,\n",
       "       -1.51969157e-02, -4.22747195e-04,  3.02130263e-02, -4.69119474e-03,\n",
       "       -2.84390356e-02, -3.53073329e-02, -2.23659701e-03, -3.88859846e-02,\n",
       "        2.34207679e-02,  4.23583621e-03, -7.33179376e-02, -3.61295603e-02,\n",
       "       -1.77965499e-04,  2.16904078e-02, -4.04528081e-02,  1.02023007e-02,\n",
       "        1.91783514e-02,  7.57905245e-02, -9.29260568e-04, -1.66170171e-03,\n",
       "        2.72582099e-02, -4.05937666e-03, -9.75862741e-02, -1.68468039e-02,\n",
       "        1.61089431e-02,  4.78582792e-02,  3.79852690e-02,  6.85620382e-02,\n",
       "       -2.66074222e-02,  4.90347436e-03,  2.20828671e-02,  4.87643741e-02,\n",
       "        4.20183986e-02, -9.73115116e-03, -7.40674362e-02,  6.77713826e-02,\n",
       "       -5.28903864e-03, -2.40951795e-02,  1.86668560e-02,  2.27445234e-02,\n",
       "       -6.13331459e-02,  1.77535433e-02,  1.32095218e-02, -2.42047105e-02,\n",
       "        8.55141655e-02,  1.87339503e-02, -1.92656927e-02, -6.81349402e-03,\n",
       "        5.86894481e-03,  1.45561434e-02, -4.91162390e-02, -4.36434150e-02,\n",
       "        7.80648924e-03, -1.39199272e-02, -2.74681691e-02, -5.32110035e-02,\n",
       "        2.88374331e-02, -3.87323461e-02,  5.77613227e-02,  3.15148063e-04,\n",
       "       -5.82775474e-02,  1.87318269e-02,  9.14470013e-03, -1.41680976e-02,\n",
       "        3.54035720e-02,  1.77159254e-02, -4.01736386e-02,  2.91353520e-02,\n",
       "       -3.38617116e-02,  3.22079845e-02, -1.74206626e-02,  5.27836382e-02,\n",
       "        2.41214526e-03, -1.17603736e-02, -2.13388726e-02, -5.24335988e-02,\n",
       "       -1.14845084e-02,  2.38903966e-02, -2.25162759e-04, -3.00480127e-02,\n",
       "        1.18839247e-02,  7.34210014e-03,  6.15592406e-04, -2.80808825e-02,\n",
       "        8.48677754e-02,  6.19400851e-02, -4.48097698e-02,  2.90926900e-02,\n",
       "       -3.19888443e-02, -8.05044174e-02, -1.35891524e-03,  2.74542943e-02,\n",
       "       -6.95878780e-03,  2.16772873e-02,  2.99137086e-03, -1.05789863e-02,\n",
       "       -1.72275230e-02, -4.54511158e-02, -3.17540802e-02,  3.97292413e-02,\n",
       "       -2.42696125e-02,  3.42056341e-02, -8.83200392e-02, -2.91191507e-03,\n",
       "       -4.88037057e-02, -5.70408888e-02, -1.80417951e-02, -3.62230428e-02,\n",
       "       -2.83724833e-02,  3.68273072e-02,  6.27664849e-02, -2.52731740e-02,\n",
       "        4.05888930e-02,  8.09642952e-03,  4.86827604e-02, -1.59164611e-02,\n",
       "       -8.72293580e-03, -3.47365737e-02, -1.16832994e-01, -4.73703332e-02,\n",
       "        8.72000773e-03, -2.29557604e-02, -2.35264469e-02,  5.87743754e-03,\n",
       "        1.18491799e-02, -2.32407153e-02, -3.21451537e-02,  6.02340326e-03,\n",
       "       -2.40813922e-02,  5.99954044e-04,  9.56320763e-02,  6.48232698e-02,\n",
       "       -1.81229208e-02,  3.24909878e-03,  2.58284807e-03,  2.03912947e-02,\n",
       "       -7.22561078e-03,  2.65820269e-02, -3.10767232e-03, -6.53042868e-02,\n",
       "       -1.63876135e-02,  1.64451208e-02, -4.54675443e-02, -1.18546216e-02,\n",
       "        2.84162555e-02,  3.07935923e-02,  2.62429733e-02, -3.50874886e-02,\n",
       "        5.35043925e-02,  5.88309020e-02, -2.06596218e-02, -2.31489986e-02,\n",
       "        1.77485552e-02, -3.94218564e-02, -6.11135326e-02, -4.93462235e-02,\n",
       "       -4.15422469e-02, -1.30867986e-02, -1.09916180e-02,  1.28068924e-02,\n",
       "       -2.42877211e-02,  5.66964829e-03, -9.47436914e-02, -3.46572064e-02,\n",
       "       -3.54229589e-03, -1.43190101e-02, -5.91321252e-02, -1.29764071e-02,\n",
       "        1.75227914e-02,  7.54526025e-03, -2.35549156e-02, -3.25041823e-02,\n",
       "        1.25083029e-02, -8.72471835e-03, -2.55688783e-02,  2.11533215e-02,\n",
       "        1.09449807e-04,  1.54126249e-03, -4.81567718e-02, -8.20314977e-04,\n",
       "       -2.94721365e-04, -2.32210141e-02, -5.41478163e-03,  9.50280670e-03,\n",
       "       -2.42185611e-02, -4.31975685e-02, -8.79168231e-03, -3.76498420e-03,\n",
       "        1.58044882e-03, -3.62172280e-03,  4.17070426e-02, -4.47948687e-02,\n",
       "       -3.25684361e-02,  4.49149907e-02,  2.19827276e-02, -4.07861695e-02,\n",
       "       -2.89495736e-02, -3.27572264e-02, -2.51022428e-02, -3.35592567e-03,\n",
       "        7.94444233e-02,  3.13321054e-02, -6.00566864e-02, -1.92817822e-02,\n",
       "        1.50669888e-02,  3.43413092e-02,  1.79541726e-02,  3.13651375e-02,\n",
       "        1.46174617e-02,  7.35249072e-02, -7.05258772e-02, -3.25494520e-02,\n",
       "        5.21157077e-03,  3.77574749e-02, -1.85883641e-02, -2.47702915e-02,\n",
       "        2.12417357e-03, -4.54395711e-02, -3.63965444e-02,  7.90314749e-02,\n",
       "        1.51627436e-02, -3.01612597e-02, -3.09953615e-02, -3.66031788e-02,\n",
       "       -2.57376358e-02, -1.30058423e-01,  8.19188834e-04, -4.72691320e-02,\n",
       "        5.74638322e-03,  3.26286512e-03, -8.63037165e-03,  3.14769298e-02,\n",
       "       -2.64607500e-02, -3.02391755e-03,  6.02399791e-03,  7.57224634e-02,\n",
       "        2.63527017e-02, -2.98409089e-02,  4.45641279e-02,  1.63953211e-02,\n",
       "       -3.88051383e-02,  7.49409432e-03, -2.82638054e-03, -1.30197490e-02,\n",
       "       -1.11896107e-02, -5.04884124e-02, -8.72410927e-03, -7.76653597e-03],\n",
       "      dtype=float32)"
      ]
     },
     "execution_count": 8,
     "metadata": {},
     "output_type": "execute_result"
    }
   ],
   "source": [
    "preprocess_and_vectorize(\"don't worry if you don't have high score\")"
   ]
  },
  {
   "cell_type": "code",
   "execution_count": 9,
   "id": "1bead776",
   "metadata": {
    "scrolled": true
   },
   "outputs": [
    {
     "data": {
      "text/plain": [
       "(300,)"
      ]
     },
     "execution_count": 9,
     "metadata": {},
     "output_type": "execute_result"
    }
   ],
   "source": [
    "wv.get_mean_vector(['worry','understand']).shape"
   ]
  },
  {
   "cell_type": "code",
   "execution_count": 10,
   "id": "5f1b8263",
   "metadata": {},
   "outputs": [],
   "source": [
    "df['vector'] = df[\"Text\"].apply(lambda text:preprocess_and_vectorize(text))"
   ]
  },
  {
   "cell_type": "code",
   "execution_count": 12,
   "id": "e50ac8d7",
   "metadata": {},
   "outputs": [
    {
     "name": "stdout",
     "output_type": "stream",
     "text": [
      "Shape of X_train before reshaping:  (7920,)\n",
      "Shape of X_test before reshaping:  (1980,)\n",
      "Shape of X_train after reshaping:  (7920, 300)\n",
      "Shape of X_test after reshaping:  (1980, 300)\n"
     ]
    }
   ],
   "source": [
    "from sklearn.model_selection import train_test_split\n",
    "import numpy as np\n",
    "\n",
    "#Do the 'train-test' splitting with test size of 20% with random state of 2022 and stratify sampling too\n",
    "X_train, X_test, y_train, y_test = train_test_split(\n",
    "    df.vector.values, \n",
    "    df.label_num, \n",
    "    test_size=0.2, # 20% samples will go to test dataset\n",
    "    random_state=2022,\n",
    "    stratify=df.label_num\n",
    ")\n",
    "print(\"Shape of X_train before reshaping: \", X_train.shape)\n",
    "print(\"Shape of X_test before reshaping: \", X_test.shape)\n",
    "\n",
    "\n",
    "X_train_2d = np.stack(X_train)\n",
    "X_test_2d =  np.stack(X_test)\n",
    "\n",
    "print(\"Shape of X_train after reshaping: \", X_train_2d.shape)\n",
    "print(\"Shape of X_test after reshaping: \", X_test_2d.shape)"
   ]
  },
  {
   "cell_type": "code",
   "execution_count": 13,
   "id": "b2b6ba63",
   "metadata": {},
   "outputs": [
    {
     "name": "stdout",
     "output_type": "stream",
     "text": [
      "              precision    recall  f1-score   support\n",
      "\n",
      "           0       0.98      0.97      0.98      1000\n",
      "           1       0.97      0.98      0.98       980\n",
      "\n",
      "    accuracy                           0.98      1980\n",
      "   macro avg       0.98      0.98      0.98      1980\n",
      "weighted avg       0.98      0.98      0.98      1980\n",
      "\n"
     ]
    }
   ],
   "source": [
    "from sklearn.ensemble import GradientBoostingClassifier\n",
    "from sklearn.metrics import classification_report\n",
    "\n",
    "#1. creating a GradientBoosting model object\n",
    "clf = GradientBoostingClassifier()\n",
    "\n",
    "#2. fit with all_train_embeddings and y_train\n",
    "clf.fit(X_train_2d, y_train)\n",
    "\n",
    "\n",
    "#3. get the predictions for all_test_embeddings and store it in y_pred\n",
    "y_pred = clf.predict(X_test_2d)\n",
    "\n",
    "\n",
    "#4. print the classfication report\n",
    "print(classification_report(y_test, y_pred))"
   ]
  }
 ],
 "metadata": {
  "kernelspec": {
   "display_name": "Python 3 (ipykernel)",
   "language": "python",
   "name": "python3"
  },
  "language_info": {
   "codemirror_mode": {
    "name": "ipython",
    "version": 3
   },
   "file_extension": ".py",
   "mimetype": "text/x-python",
   "name": "python",
   "nbconvert_exporter": "python",
   "pygments_lexer": "ipython3",
   "version": "3.9.15"
  }
 },
 "nbformat": 4,
 "nbformat_minor": 5
}
