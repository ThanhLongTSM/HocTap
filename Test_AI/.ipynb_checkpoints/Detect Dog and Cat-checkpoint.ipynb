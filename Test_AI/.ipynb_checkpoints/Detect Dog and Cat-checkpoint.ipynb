{
 "cells": [
  {
   "cell_type": "code",
   "execution_count": 15,
   "id": "5dfa162c",
   "metadata": {},
   "outputs": [],
   "source": [
    "import tensorflow as tf\n",
    "import pandas as pd\n",
    "import numpy as np\n",
    "import matplotlib.pyplot as plt \n",
    "%matplotlib inline\n",
    "from keras.preprocessing.image import ImageDataGenerator\n",
    "from tensorflow.keras.models import Sequential\n",
    "from tensorflow.keras.layers import Dense, Conv2D, Flatten,MaxPool2D\n",
    "import tensorflow.keras.backend as K\n",
    "from tensorflow.keras.callbacks import EarlyStopping\n",
    "from tensorflow.keras.utils import to_categorical"
   ]
  },
  {
   "cell_type": "markdown",
   "id": "e9606667",
   "metadata": {},
   "source": [
    "### Tiền xử lý dữ liệu"
   ]
  },
  {
   "cell_type": "code",
   "execution_count": 16,
   "id": "89c56009",
   "metadata": {},
   "outputs": [
    {
     "name": "stdout",
     "output_type": "stream",
     "text": [
      "Found 8005 images belonging to 2 classes.\n"
     ]
    }
   ],
   "source": [
    "train_datagen = ImageDataGenerator(rescale=1./255,\n",
    "#                                   shear_range=0.2,\n",
    "#                                   zoom_range=0.2,\n",
    "#                                   horizontal_flip=True\n",
    "                                  )\n",
    "\n",
    "training_set = train_datagen.flow_from_directory(r'C:\\Users\\thesh\\OneDrive\\Máy tính\\AI\\data\\Cat and Dog\\training_set',\n",
    "                                                target_size = (64,64),\n",
    "                                                batch_size = 32,\n",
    "                                                class_mode='binary')"
   ]
  },
  {
   "cell_type": "code",
   "execution_count": 17,
   "id": "bfba66f6",
   "metadata": {},
   "outputs": [
    {
     "name": "stdout",
     "output_type": "stream",
     "text": [
      "Found 2023 images belonging to 2 classes.\n"
     ]
    }
   ],
   "source": [
    "# Load anh, chia loai, dinh lai co anh, rescale anh\n",
    "test_datagen = ImageDataGenerator(rescale=1./255,\n",
    "#                                   shear_range=0.2,\n",
    "#                                   zoom_range=0.2,\n",
    "#                                   horizontal_flip=True\n",
    "                                  )\n",
    "\n",
    "test_set = test_datagen.flow_from_directory(r'C:\\Users\\thesh\\OneDrive\\Máy tính\\AI\\data\\Cat and Dog\\test_set',\n",
    "                                                target_size = (64,64),\n",
    "                                                batch_size = 32,\n",
    "                                                class_mode='binary',\n",
    "                                                shuffle = False)"
   ]
  },
  {
   "cell_type": "code",
   "execution_count": 19,
   "id": "1d980046",
   "metadata": {},
   "outputs": [
    {
     "data": {
      "text/plain": [
       "{'cats': 0, 'dogs': 1}"
      ]
     },
     "execution_count": 19,
     "metadata": {},
     "output_type": "execute_result"
    }
   ],
   "source": [
    "training_set.class_indices"
   ]
  },
  {
   "cell_type": "markdown",
   "id": "562127fd",
   "metadata": {},
   "source": [
    "### Tao model"
   ]
  },
  {
   "cell_type": "code",
   "execution_count": 20,
   "id": "ef8293ea",
   "metadata": {},
   "outputs": [],
   "source": [
    "# tao model\n",
    "model = Sequential()"
   ]
  },
  {
   "cell_type": "code",
   "execution_count": 21,
   "id": "a2d9af6e",
   "metadata": {},
   "outputs": [
    {
     "name": "stdout",
     "output_type": "stream",
     "text": [
      "Model: \"sequential\"\n",
      "_________________________________________________________________\n",
      " Layer (type)                Output Shape              Param #   \n",
      "=================================================================\n",
      " conv2d (Conv2D)             (None, 64, 64, 32)        896       \n",
      "                                                                 \n",
      " max_pooling2d (MaxPooling2D  (None, 32, 32, 32)       0         \n",
      " )                                                               \n",
      "                                                                 \n",
      " conv2d_1 (Conv2D)           (None, 30, 30, 32)        9248      \n",
      "                                                                 \n",
      " max_pooling2d_1 (MaxPooling  (None, 15, 15, 32)       0         \n",
      " 2D)                                                             \n",
      "                                                                 \n",
      " flatten (Flatten)           (None, 7200)              0         \n",
      "                                                                 \n",
      " dense (Dense)               (None, 128)               921728    \n",
      "                                                                 \n",
      " dense_1 (Dense)             (None, 1)                 129       \n",
      "                                                                 \n",
      "=================================================================\n",
      "Total params: 932,001\n",
      "Trainable params: 932,001\n",
      "Non-trainable params: 0\n",
      "_________________________________________________________________\n"
     ]
    }
   ],
   "source": [
    "#them cac layers\n",
    "model.add(Conv2D(32,kernel_size =3,activation='relu',input_shape=(64,64,3),\n",
    "                padding = 'same'))\n",
    "model.add(MaxPool2D(pool_size = 2,strides = 2))\n",
    "model.add(Conv2D(32,kernel_size = 3,activation = 'relu'))\n",
    "model.add(MaxPool2D(pool_size=2,strides=2))\n",
    "model.add(Flatten())\n",
    "model.add(Dense(128,activation ='relu'))\n",
    "model.add(Dense(1,activation ='sigmoid'))\n",
    "\n",
    "model.summary()"
   ]
  },
  {
   "cell_type": "markdown",
   "id": "c9de9b14",
   "metadata": {},
   "source": [
    "### Training"
   ]
  },
  {
   "cell_type": "code",
   "execution_count": 22,
   "id": "a61eb9eb",
   "metadata": {},
   "outputs": [],
   "source": [
    "# THiet lap cac thong so\n",
    "model.compile(optimizer='adam',loss = 'binary_crossentropy',metrics='accuracy')"
   ]
  },
  {
   "cell_type": "code",
   "execution_count": 24,
   "id": "5698468e",
   "metadata": {},
   "outputs": [
    {
     "name": "stdout",
     "output_type": "stream",
     "text": [
      "Epoch 1/25\n",
      "251/251 [==============================] - 160s 597ms/step - loss: 0.6597 - accuracy: 0.5925 - val_loss: 0.5917 - val_accuracy: 0.6985\n",
      "Epoch 2/25\n",
      "251/251 [==============================] - 52s 208ms/step - loss: 0.5757 - accuracy: 0.7012 - val_loss: 0.5751 - val_accuracy: 0.7098\n",
      "Epoch 3/25\n",
      "251/251 [==============================] - 40s 157ms/step - loss: 0.5190 - accuracy: 0.7403 - val_loss: 0.5396 - val_accuracy: 0.7331\n",
      "Epoch 4/25\n",
      "251/251 [==============================] - 48s 193ms/step - loss: 0.4761 - accuracy: 0.7731 - val_loss: 0.5215 - val_accuracy: 0.7499\n",
      "Epoch 5/25\n",
      "251/251 [==============================] - 42s 167ms/step - loss: 0.4281 - accuracy: 0.8027 - val_loss: 0.5378 - val_accuracy: 0.7405\n",
      "Epoch 6/25\n",
      "251/251 [==============================] - 44s 175ms/step - loss: 0.3635 - accuracy: 0.8339 - val_loss: 0.5200 - val_accuracy: 0.7657\n",
      "Epoch 7/25\n",
      "251/251 [==============================] - 47s 187ms/step - loss: 0.3081 - accuracy: 0.8635 - val_loss: 0.5863 - val_accuracy: 0.7543\n",
      "Epoch 8/25\n",
      "251/251 [==============================] - 45s 178ms/step - loss: 0.2347 - accuracy: 0.9046 - val_loss: 0.6242 - val_accuracy: 0.7504\n",
      "Epoch 9/25\n",
      "251/251 [==============================] - 48s 189ms/step - loss: 0.1675 - accuracy: 0.9357 - val_loss: 0.7277 - val_accuracy: 0.7494\n",
      "Epoch 10/25\n",
      "251/251 [==============================] - 47s 186ms/step - loss: 0.1213 - accuracy: 0.9577 - val_loss: 0.7723 - val_accuracy: 0.7528\n",
      "Epoch 11/25\n",
      "251/251 [==============================] - 49s 196ms/step - loss: 0.0757 - accuracy: 0.9741 - val_loss: 0.9648 - val_accuracy: 0.7444\n",
      "Epoch 12/25\n",
      "251/251 [==============================] - 49s 195ms/step - loss: 0.0516 - accuracy: 0.9835 - val_loss: 1.0036 - val_accuracy: 0.7484\n",
      "Epoch 13/25\n",
      "251/251 [==============================] - 45s 181ms/step - loss: 0.0308 - accuracy: 0.9920 - val_loss: 1.2259 - val_accuracy: 0.7479\n",
      "Epoch 14/25\n",
      "251/251 [==============================] - 47s 188ms/step - loss: 0.0359 - accuracy: 0.9904 - val_loss: 1.1279 - val_accuracy: 0.7370\n",
      "Epoch 15/25\n",
      "251/251 [==============================] - 47s 188ms/step - loss: 0.0392 - accuracy: 0.9893 - val_loss: 1.1488 - val_accuracy: 0.7395\n",
      "Epoch 16/25\n",
      "251/251 [==============================] - 45s 177ms/step - loss: 0.0204 - accuracy: 0.9951 - val_loss: 1.3799 - val_accuracy: 0.7519\n",
      "Epoch 17/25\n",
      "251/251 [==============================] - 47s 185ms/step - loss: 0.0107 - accuracy: 0.9979 - val_loss: 1.5332 - val_accuracy: 0.7449\n",
      "Epoch 18/25\n",
      "251/251 [==============================] - 47s 188ms/step - loss: 0.0052 - accuracy: 0.9991 - val_loss: 1.5859 - val_accuracy: 0.7459\n",
      "Epoch 19/25\n",
      "251/251 [==============================] - 45s 178ms/step - loss: 0.0016 - accuracy: 1.0000 - val_loss: 1.7263 - val_accuracy: 0.7528\n",
      "Epoch 20/25\n",
      "251/251 [==============================] - 48s 190ms/step - loss: 8.0205e-04 - accuracy: 1.0000 - val_loss: 1.8069 - val_accuracy: 0.7484\n",
      "Epoch 21/25\n",
      "251/251 [==============================] - 46s 184ms/step - loss: 6.0912e-04 - accuracy: 1.0000 - val_loss: 1.8623 - val_accuracy: 0.7519\n",
      "Epoch 22/25\n",
      "251/251 [==============================] - 46s 181ms/step - loss: 4.5362e-04 - accuracy: 1.0000 - val_loss: 1.9109 - val_accuracy: 0.7489\n",
      "Epoch 23/25\n",
      "251/251 [==============================] - 44s 174ms/step - loss: 3.5751e-04 - accuracy: 1.0000 - val_loss: 1.9900 - val_accuracy: 0.7523\n",
      "Epoch 24/25\n",
      "251/251 [==============================] - 49s 197ms/step - loss: 2.8694e-04 - accuracy: 1.0000 - val_loss: 2.0154 - val_accuracy: 0.7509\n",
      "Epoch 25/25\n",
      "251/251 [==============================] - 47s 187ms/step - loss: 2.3291e-04 - accuracy: 1.0000 - val_loss: 2.0383 - val_accuracy: 0.7504\n"
     ]
    },
    {
     "data": {
      "text/plain": [
       "<keras.callbacks.History at 0x229f761a520>"
      ]
     },
     "execution_count": 24,
     "metadata": {},
     "output_type": "execute_result"
    }
   ],
   "source": [
    "# Huan luyen\n",
    "model.fit(x=training_set,validation_data=test_set,epochs=25)"
   ]
  },
  {
   "cell_type": "code",
   "execution_count": 25,
   "id": "61613234",
   "metadata": {},
   "outputs": [
    {
     "name": "stdout",
     "output_type": "stream",
     "text": [
      "64/64 [==============================] - 10s 150ms/step - loss: 2.0383 - accuracy: 0.7504\n"
     ]
    },
    {
     "data": {
      "text/plain": [
       "[2.0382542610168457, 0.7503707408905029]"
      ]
     },
     "execution_count": 25,
     "metadata": {},
     "output_type": "execute_result"
    }
   ],
   "source": [
    "model.evaluate(test_set)"
   ]
  },
  {
   "cell_type": "markdown",
   "id": "5af0f989",
   "metadata": {},
   "source": [
    "### Kiem thu"
   ]
  },
  {
   "cell_type": "code",
   "execution_count": 26,
   "id": "1ff5e258",
   "metadata": {},
   "outputs": [
    {
     "name": "stderr",
     "output_type": "stream",
     "text": [
      "C:\\Users\\thesh\\AppData\\Local\\Temp\\ipykernel_10812\\1198646994.py:1: UserWarning: `Model.predict_generator` is deprecated and will be removed in a future version. Please use `Model.predict`, which supports generators.\n",
      "  y_pred = model.predict_generator(test_set)\n"
     ]
    }
   ],
   "source": [
    "y_pred = model.predict_generator(test_set)"
   ]
  },
  {
   "cell_type": "code",
   "execution_count": 32,
   "id": "a0a79b5b",
   "metadata": {},
   "outputs": [
    {
     "data": {
      "text/plain": [
       "array([[ True],\n",
       "       [ True],\n",
       "       [False],\n",
       "       ...,\n",
       "       [False],\n",
       "       [False],\n",
       "       [ True]])"
      ]
     },
     "execution_count": 32,
     "metadata": {},
     "output_type": "execute_result"
    }
   ],
   "source": [
    "y_pred_class= y_pred > 0.5\n",
    "y_pred_class"
   ]
  },
  {
   "cell_type": "code",
   "execution_count": 34,
   "id": "fcb94bab",
   "metadata": {},
   "outputs": [
    {
     "data": {
      "text/plain": [
       "array([0, 0, 0, ..., 1, 1, 1])"
      ]
     },
     "execution_count": 34,
     "metadata": {},
     "output_type": "execute_result"
    }
   ],
   "source": [
    "test_set.classes"
   ]
  },
  {
   "cell_type": "code",
   "execution_count": 36,
   "id": "2f78261d",
   "metadata": {},
   "outputs": [
    {
     "name": "stdout",
     "output_type": "stream",
     "text": [
      "              precision    recall  f1-score   support\n",
      "\n",
      "           0       0.74      0.78      0.76      1011\n",
      "           1       0.77      0.72      0.74      1012\n",
      "\n",
      "    accuracy                           0.75      2023\n",
      "   macro avg       0.75      0.75      0.75      2023\n",
      "weighted avg       0.75      0.75      0.75      2023\n",
      "\n"
     ]
    }
   ],
   "source": [
    "from sklearn.metrics import classification_report\n",
    "print(classification_report(test_set.classes,y_pred_class))"
   ]
  },
  {
   "cell_type": "markdown",
   "id": "45495d9d",
   "metadata": {},
   "source": [
    "### Du doan 1 so anh"
   ]
  },
  {
   "cell_type": "code",
   "execution_count": 45,
   "id": "2abd772b",
   "metadata": {},
   "outputs": [
    {
     "name": "stdout",
     "output_type": "stream",
     "text": [
      "1/1 [==============================] - 0s 43ms/step\n",
      "Cat\n"
     ]
    },
    {
     "data": {
      "image/png": "[encoded data removed]",
      "text/plain": [
       "<Figure size 640x480 with 1 Axes>"
      ]
     },
     "metadata": {},
     "output_type": "display_data"
    }
   ],
   "source": [
    "from tensorflow.keras.preprocessing import image\n",
    "test_image = image.load_img(r'C:\\Users\\thesh\\OneDrive\\Máy tính\\AI\\data\\Cat and Dog\\test_set\\cats\\cat.4103.jpg',target_size=(64,64))\n",
    "test_image = image.img_to_array(test_image)\n",
    "plt.imshow(test_image/255)\n",
    "test_image = np.expand_dims(test_image,axis = 0)\n",
    "result = model.predict(test_image)\n",
    "print('Cat'if (result==False) else 'Dog')"
   ]
  },
  {
   "cell_type": "code",
   "execution_count": 46,
   "id": "13dcfd9f",
   "metadata": {},
   "outputs": [
    {
     "name": "stdout",
     "output_type": "stream",
     "text": [
      "1/1 [==============================] - 0s 35ms/step\n",
      "Dog\n"
     ]
    },
    {
     "data": {
      "image/png": "[encoded data removed]",
      "text/plain": [
       "<Figure size 640x480 with 1 Axes>"
      ]
     },
     "metadata": {},
     "output_type": "display_data"
    }
   ],
   "source": [
    "from tensorflow.keras.preprocessing import image\n",
    "test_image = image.load_img(r'C:\\Users\\thesh\\OneDrive\\Máy tính\\AI\\data\\Cat and Dog\\test_set\\dogs\\dog.4103.jpg',target_size=(64,64))\n",
    "test_image = image.img_to_array(test_image)\n",
    "plt.imshow(test_image/255)\n",
    "test_image = np.expand_dims(test_image,axis = 0)\n",
    "result = model.predict(test_image)\n",
    "print('Cat'if (result==False) else 'Dog')"
   ]
  }
 ],
 "metadata": {
  "kernelspec": {
   "display_name": "Python 3 (ipykernel)",
   "language": "python",
   "name": "python3"
  },
  "language_info": {
   "codemirror_mode": {
    "name": "ipython",
    "version": 3
   },
   "file_extension": ".py",
   "mimetype": "text/x-python",
   "name": "python",
   "nbconvert_exporter": "python",
   "pygments_lexer": "ipython3",
   "version": "3.9.0"
  }
 },
 "nbformat": 4,
 "nbformat_minor": 5
}
