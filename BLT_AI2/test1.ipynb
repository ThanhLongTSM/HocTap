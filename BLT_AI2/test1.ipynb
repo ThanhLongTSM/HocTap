{
 "cells": [
  {
   "cell_type": "code",
   "execution_count": 1,
   "id": "ceadede7",
   "metadata": {},
   "outputs": [],
   "source": [
    "import pandas as pd\n",
    "import numpy as np \n",
    "import matplotlib.pyplot as plt\n",
    "\n",
    "from sklearn.model_selection import train_test_split\n",
    "from sklearn.tree import DecisionTreeRegressor"
   ]
  },
  {
   "cell_type": "code",
   "execution_count": 3,
   "id": "1839f60a",
   "metadata": {},
   "outputs": [],
   "source": [
    "df=pd.read_csv('housing.csv', delim_whitespace=' ', header=0)\n",
    "df.index = np.arange(1, len(df)+1)"
   ]
  },
  {
   "cell_type": "code",
   "execution_count": 4,
   "id": "7f7e7d5a",
   "metadata": {},
   "outputs": [],
   "source": [
    "features=['rm','age','dis','tax','ptratio']\n",
    "X=df[features]\n",
    "y=df['medv']"
   ]
  },
  {
   "cell_type": "code",
   "execution_count": 13,
   "id": "9a5f207f",
   "metadata": {},
   "outputs": [],
   "source": [
    "X_train,X_valid,y_train,y_valid=train_test_split(X,y,train_size=0.8)"
   ]
  },
  {
   "cell_type": "markdown",
   "id": "0fcf7b5d",
   "metadata": {},
   "source": [
    "# ________ Test _________"
   ]
  },
  {
   "cell_type": "code",
   "execution_count": 22,
   "id": "c59cf2d2",
   "metadata": {},
   "outputs": [],
   "source": [
    "def predict(X,Theta):\n",
    "    return X@Theta"
   ]
  },
  {
   "cell_type": "code",
   "execution_count": 37,
   "id": "5cdf3014",
   "metadata": {},
   "outputs": [],
   "source": [
    "def computeCost(X,y,Theta):\n",
    "    error = predict(X,Theta) - y\n",
    "    m = np.size(y)\n",
    "    J = (1/(2*m))*np.transpose(error)@error\n",
    "    return J"
   ]
  },
  {
   "cell_type": "code",
   "execution_count": 40,
   "id": "acb26ce2",
   "metadata": {},
   "outputs": [],
   "source": [
    "def GradientDescent(X,y,alpha=0.02,iter=5000): #giá trị mặc định của alpha là 0.02, iter (số vòng lặp tối đa) là 5000\n",
    "    #Giá trị ban đầu của theta = 0\n",
    "    theta = np.zeros(np.size(X,1)) #số lượng theta bằng số cột của X\n",
    "    #array lưu lại các giá trị J trong quá trình lặp\n",
    "    J_hist = np.zeros((iter,2)) # kích thước là iter*2, cột đầu chỉ là các số từ 1 đến iter để tiện cho việc plot. Kích thước được truyền vào qua một tupple\n",
    "    #kích thước của training set\n",
    "    m = np.size(y)\n",
    "    #ma trận ngược (đảo hàng và cột) của X\n",
    "    X_T = np.transpose(X)\n",
    "    #biến tạm để kiểm tra tiến độ Gradient Descent\n",
    "    pre_cost = computeCost(X,y,theta)\n",
    "    for i in range(0,iter):\n",
    "#         printProgressBar(i,iter)\n",
    "        #tính sai số (predict – y)\n",
    "        error = predict(X,theta) - y\n",
    "        #thực hiện gradient descent để thay đổi theta\n",
    "        theta = theta - (alpha/m)*(X_T @ error)\n",
    "        #tính J hiện tại\n",
    "        cost = computeCost(X,y,theta)\n",
    "        #so sánh với J của vòng lặp trước, so sánh 15 chữ số thập phân\n",
    "        if np.round(cost,15) == np.round(pre_cost,15):\n",
    "            #in ra vòng lặp hiện tại và J để dễ debug\n",
    "            print('Reach optima at I = %d ; J = %.6f'%(i,cost))\n",
    "            #thêm tất cả các index còn lại sau khi break\n",
    "            J_hist[i:,0] = range(i,iter)\n",
    "            #giá trị J sau khi break sẽ như cũ\n",
    "            J_hist[i:,1] = cost\n",
    "            #thoát vòng lặp\n",
    "            break\n",
    "        #cập nhật pre_cost\n",
    "        pre_cost = cost\n",
    "        #lưu lại index vòng lặp hiện tại\n",
    "        J_hist[i, 0] = i\n",
    "        #lưu lại J hiện tại\n",
    "        J_hist[i, 1] = cost\n",
    "    yield theta\n",
    "    yield J_hist"
   ]
  },
  {
   "cell_type": "code",
   "execution_count": 43,
   "id": "cbe6f4f0",
   "metadata": {},
   "outputs": [
    {
     "name": "stdout",
     "output_type": "stream",
     "text": [
      "Reach optima at I = 41 ; J = 99382319031350236003672520892637616257192780319063374854275533537004300603249094213105474508083149901073649074191282765568610962721207462589763158543602964436894656345896450095565323863381737308573259613762439350968398440621392909247821546262955561896834345269103974613523425412887578656611994640031154176.000000\n"
     ]
    },
    {
     "data": {
      "text/plain": [
       "array([[0.00000000e+000, 2.93499592e+009],\n",
       "       [1.00000000e+000, 4.73858539e+016],\n",
       "       [2.00000000e+000, 7.65050708e+023],\n",
       "       ...,\n",
       "       [4.99700000e+003, 9.93823190e+304],\n",
       "       [4.99800000e+003, 9.93823190e+304],\n",
       "       [4.99900000e+003, 9.93823190e+304]])"
      ]
     },
     "execution_count": 43,
     "metadata": {},
     "output_type": "execute_result"
    }
   ],
   "source": [
    "Theta,J_hist=GradientDescent(X_train,y_train,0.02,5000);\n",
    "J_hist"
   ]
  },
  {
   "cell_type": "code",
   "execution_count": 27,
   "id": "31422fcb",
   "metadata": {},
   "outputs": [
    {
     "data": {
      "text/plain": [
       "array([0., 0., 0., 0., 0.])"
      ]
     },
     "execution_count": 27,
     "metadata": {},
     "output_type": "execute_result"
    }
   ],
   "source": [
    "theta=np.zeros(np.size(X_train,1))\n",
    "theta"
   ]
  }
 ],
 "metadata": {
  "kernelspec": {
   "display_name": "Python 3 (ipykernel)",
   "language": "python",
   "name": "python3"
  },
  "language_info": {
   "codemirror_mode": {
    "name": "ipython",
    "version": 3
   },
   "file_extension": ".py",
   "mimetype": "text/x-python",
   "name": "python",
   "nbconvert_exporter": "python",
   "pygments_lexer": "ipython3",
   "version": "3.9.12"
  }
 },
 "nbformat": 4,
 "nbformat_minor": 5
}
