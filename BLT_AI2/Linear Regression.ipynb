{
 "cells": [
  {
   "cell_type": "markdown",
   "metadata": {},
   "source": [
    "# Giới thiệu\n",
    "\n",
    "### Mục tiêu bài tập\n",
    "\n",
    "* Hiểu thêm về cách hoạt động của Numpy và Tensorflow \n",
    "* Có thể viết một thuật toán đơn giản (và debug) với `Tensorflow` và `Numpy` qua ví dụ về hồi quy tuyến tính.\n",
    "* Hiểu thêm về hồi quy tuyến tính.\n",
    "* Tối ưu các tham số của mô hình.\n",
    "\n",
    "# Giới thiệu bài toán và dữ liệu\n",
    "\n",
    "Bài toán lần này, chúng ta sẽ cùng nhau dự đoán giá nhà tại một thành phố Boston ở Mỹ với kích thước mẫu với 506 giá trị với 13 thuộc tính như sau\n",
    "\n",
    "```\n",
    "- CRIM per capita crime rate by town\n",
    "- ZN proportion of residential land zoned for lots over 25,000 sq.ft.\n",
    "- INDUS proportion of non-retail business acres per town\n",
    "- CHAS Charles River dummy variable (= 1 if tract bounds river; 0 otherwise)\n",
    "- NOX nitric oxides concentration (parts per 10 million)\n",
    "- RM average number of rooms per dwelling\n",
    "- AGE proportion of owner-occupied units built prior to 1940\n",
    "- DIS weighted distances to five Boston employment centres\n",
    "- RAD index of accessibility to radial highways\n",
    "- TAX full-value property-tax rate per $10,000\n",
    "- PTRATIO pupil-teacher ratio by town\n",
    "- B 1000(Bk - 0.63)ˆ2 where Bk is the proportion of blacks by town\n",
    "- LSTAT % lower status of the population\n",
    "- MEDV Median value of owner-occupied homes in $1000's\n",
    "```\n",
    "\n",
    "Với thông tin này, ta sẽ cùng nhau tiến hành xây dựng một hàm giả thuyết theo mô hình hồi quy tuyến tính dựa trên `numpy` và `tensorflow` để đưa ra giá nhà dựa trên tối đa 10 thuộc tính.\n",
    "# Chấm điểm\n",
    "Bài tập này chiếm 50% số điểm cuối kì của mỗi bạn. Điểm được chấm dựa trên các yếu tố sau:\n",
    "\n",
    "### Báo cáo đầy đủ rõ ràng các công việc đã làm, chứng minh được công việc đã làm thỏa các yêu cầu của đề bài (2 điểm)\n",
    "\n",
    "### Chương trình chạy được huấn luyện được mô hình, tính toán được Jtest, Jtrain\n",
    "+ load dữ liệu (1 điểm)\n",
    "+ trình bày dữ liệu trước khi huấn luyện (1 điểm)\n",
    "+ xây dựng được mô hình (1 điểm)\n",
    "+ tính được độ chính xác của mô hình với tập huấn luyện, tập cross validation, tập test (1 điểm)\n",
    "\n",
    "### Tối ưu hóa được các tham số của mô hình (4 điểm)\n",
    "+ tối ưu được các tham số cho mô hình và giải thích. Được chọn tối đa 10 thuộc tính trong số các thuộc tính được cung cấp.\n",
    "\n",
    "Ghi chú: khi vấn đáp mỗi thành viên sẽ được hỏi một câu bất kì liên quan đến các phần trên"
   ]
  },
  {
   "cell_type": "markdown",
   "metadata": {},
   "source": [
    "### I/ Tìm nghiệm bài toán Linear Regression bằng `Numpy`"
   ]
  },
  {
   "cell_type": "markdown",
   "metadata": {},
   "source": [
    "#### Nhập thư viện"
   ]
  },
  {
   "cell_type": "code",
   "execution_count": 55,
   "metadata": {},
   "outputs": [],
   "source": [
    "import numpy as np\n",
    "import pandas as pd\n",
    "import matplotlib.pyplot as plt\n",
    "%matplotlib inline"
   ]
  },
  {
   "cell_type": "markdown",
   "metadata": {},
   "source": [
    "#### Đọc dữ liệu"
   ]
  },
  {
   "cell_type": "code",
   "execution_count": 56,
   "metadata": {},
   "outputs": [],
   "source": [
    "data=pd.read_csv(r'C:\\Users\\Thanh Long\\Desktop\\AI\\data\\housing.csv', delim_whitespace=' ', header=None)\n",
    "# Thêm header cho dataframe\n",
    "data.columns = ['crim','zn','indus','chas','nox','rm','age','dis','rad','tax','ptratio','black','lstat','medv']\n",
    "# Index bắt đầu từ 1\n",
    "data.index = np.arange(1, len(data)+1)"
   ]
  },
  {
   "cell_type": "code",
   "execution_count": 57,
   "metadata": {},
   "outputs": [
    {
     "data": {
      "text/html": [
       "<div>\n",
       "<style scoped>\n",
       "    .dataframe tbody tr th:only-of-type {\n",
       "        vertical-align: middle;\n",
       "    }\n",
       "\n",
       "    .dataframe tbody tr th {\n",
       "        vertical-align: top;\n",
       "    }\n",
       "\n",
       "    .dataframe thead th {\n",
       "        text-align: right;\n",
       "    }\n",
       "</style>\n",
       "<table border=\"1\" class=\"dataframe\">\n",
       "  <thead>\n",
       "    <tr style=\"text-align: right;\">\n",
       "      <th></th>\n",
       "      <th>crim</th>\n",
       "      <th>zn</th>\n",
       "      <th>indus</th>\n",
       "      <th>chas</th>\n",
       "      <th>nox</th>\n",
       "      <th>rm</th>\n",
       "      <th>age</th>\n",
       "      <th>dis</th>\n",
       "      <th>rad</th>\n",
       "      <th>tax</th>\n",
       "      <th>ptratio</th>\n",
       "      <th>black</th>\n",
       "      <th>lstat</th>\n",
       "      <th>medv</th>\n",
       "    </tr>\n",
       "  </thead>\n",
       "  <tbody>\n",
       "    <tr>\n",
       "      <th>1</th>\n",
       "      <td>0.00632</td>\n",
       "      <td>18.0</td>\n",
       "      <td>2.31</td>\n",
       "      <td>0</td>\n",
       "      <td>0.538</td>\n",
       "      <td>6.575</td>\n",
       "      <td>65.2</td>\n",
       "      <td>4.0900</td>\n",
       "      <td>1</td>\n",
       "      <td>296.0</td>\n",
       "      <td>15.3</td>\n",
       "      <td>396.90</td>\n",
       "      <td>4.98</td>\n",
       "      <td>24.0</td>\n",
       "    </tr>\n",
       "    <tr>\n",
       "      <th>2</th>\n",
       "      <td>0.02731</td>\n",
       "      <td>0.0</td>\n",
       "      <td>7.07</td>\n",
       "      <td>0</td>\n",
       "      <td>0.469</td>\n",
       "      <td>6.421</td>\n",
       "      <td>78.9</td>\n",
       "      <td>4.9671</td>\n",
       "      <td>2</td>\n",
       "      <td>242.0</td>\n",
       "      <td>17.8</td>\n",
       "      <td>396.90</td>\n",
       "      <td>9.14</td>\n",
       "      <td>21.6</td>\n",
       "    </tr>\n",
       "    <tr>\n",
       "      <th>3</th>\n",
       "      <td>0.02729</td>\n",
       "      <td>0.0</td>\n",
       "      <td>7.07</td>\n",
       "      <td>0</td>\n",
       "      <td>0.469</td>\n",
       "      <td>7.185</td>\n",
       "      <td>61.1</td>\n",
       "      <td>4.9671</td>\n",
       "      <td>2</td>\n",
       "      <td>242.0</td>\n",
       "      <td>17.8</td>\n",
       "      <td>392.83</td>\n",
       "      <td>4.03</td>\n",
       "      <td>34.7</td>\n",
       "    </tr>\n",
       "    <tr>\n",
       "      <th>4</th>\n",
       "      <td>0.03237</td>\n",
       "      <td>0.0</td>\n",
       "      <td>2.18</td>\n",
       "      <td>0</td>\n",
       "      <td>0.458</td>\n",
       "      <td>6.998</td>\n",
       "      <td>45.8</td>\n",
       "      <td>6.0622</td>\n",
       "      <td>3</td>\n",
       "      <td>222.0</td>\n",
       "      <td>18.7</td>\n",
       "      <td>394.63</td>\n",
       "      <td>2.94</td>\n",
       "      <td>33.4</td>\n",
       "    </tr>\n",
       "    <tr>\n",
       "      <th>5</th>\n",
       "      <td>0.06905</td>\n",
       "      <td>0.0</td>\n",
       "      <td>2.18</td>\n",
       "      <td>0</td>\n",
       "      <td>0.458</td>\n",
       "      <td>7.147</td>\n",
       "      <td>54.2</td>\n",
       "      <td>6.0622</td>\n",
       "      <td>3</td>\n",
       "      <td>222.0</td>\n",
       "      <td>18.7</td>\n",
       "      <td>396.90</td>\n",
       "      <td>5.33</td>\n",
       "      <td>36.2</td>\n",
       "    </tr>\n",
       "  </tbody>\n",
       "</table>\n",
       "</div>"
      ],
      "text/plain": [
       "      crim    zn  indus  chas    nox     rm   age     dis  rad    tax  \\\n",
       "1  0.00632  18.0   2.31     0  0.538  6.575  65.2  4.0900    1  296.0   \n",
       "2  0.02731   0.0   7.07     0  0.469  6.421  78.9  4.9671    2  242.0   \n",
       "3  0.02729   0.0   7.07     0  0.469  7.185  61.1  4.9671    2  242.0   \n",
       "4  0.03237   0.0   2.18     0  0.458  6.998  45.8  6.0622    3  222.0   \n",
       "5  0.06905   0.0   2.18     0  0.458  7.147  54.2  6.0622    3  222.0   \n",
       "\n",
       "   ptratio   black  lstat  medv  \n",
       "1     15.3  396.90   4.98  24.0  \n",
       "2     17.8  396.90   9.14  21.6  \n",
       "3     17.8  392.83   4.03  34.7  \n",
       "4     18.7  394.63   2.94  33.4  \n",
       "5     18.7  396.90   5.33  36.2  "
      ]
     },
     "execution_count": 57,
     "metadata": {},
     "output_type": "execute_result"
    }
   ],
   "source": [
    "data.head()"
   ]
  },
  {
   "cell_type": "markdown",
   "metadata": {},
   "source": [
    "### Feature Selection"
   ]
  },
  {
   "cell_type": "code",
   "execution_count": 58,
   "metadata": {},
   "outputs": [],
   "source": [
    "features=['indus','age','rm','dis','lstat']"
   ]
  },
  {
   "cell_type": "markdown",
   "metadata": {},
   "source": [
    "### Splitting dataset into X and y"
   ]
  },
  {
   "cell_type": "code",
   "execution_count": 59,
   "metadata": {},
   "outputs": [],
   "source": [
    "X=data[features]\n",
    "y=data['medv']"
   ]
  },
  {
   "cell_type": "code",
   "execution_count": 60,
   "metadata": {},
   "outputs": [
    {
     "data": {
      "text/html": [
       "<div>\n",
       "<style scoped>\n",
       "    .dataframe tbody tr th:only-of-type {\n",
       "        vertical-align: middle;\n",
       "    }\n",
       "\n",
       "    .dataframe tbody tr th {\n",
       "        vertical-align: top;\n",
       "    }\n",
       "\n",
       "    .dataframe thead th {\n",
       "        text-align: right;\n",
       "    }\n",
       "</style>\n",
       "<table border=\"1\" class=\"dataframe\">\n",
       "  <thead>\n",
       "    <tr style=\"text-align: right;\">\n",
       "      <th></th>\n",
       "      <th>indus</th>\n",
       "      <th>age</th>\n",
       "      <th>rm</th>\n",
       "      <th>dis</th>\n",
       "      <th>lstat</th>\n",
       "    </tr>\n",
       "  </thead>\n",
       "  <tbody>\n",
       "    <tr>\n",
       "      <th>1</th>\n",
       "      <td>2.31</td>\n",
       "      <td>65.2</td>\n",
       "      <td>6.575</td>\n",
       "      <td>4.0900</td>\n",
       "      <td>4.98</td>\n",
       "    </tr>\n",
       "    <tr>\n",
       "      <th>2</th>\n",
       "      <td>7.07</td>\n",
       "      <td>78.9</td>\n",
       "      <td>6.421</td>\n",
       "      <td>4.9671</td>\n",
       "      <td>9.14</td>\n",
       "    </tr>\n",
       "    <tr>\n",
       "      <th>3</th>\n",
       "      <td>7.07</td>\n",
       "      <td>61.1</td>\n",
       "      <td>7.185</td>\n",
       "      <td>4.9671</td>\n",
       "      <td>4.03</td>\n",
       "    </tr>\n",
       "    <tr>\n",
       "      <th>4</th>\n",
       "      <td>2.18</td>\n",
       "      <td>45.8</td>\n",
       "      <td>6.998</td>\n",
       "      <td>6.0622</td>\n",
       "      <td>2.94</td>\n",
       "    </tr>\n",
       "    <tr>\n",
       "      <th>5</th>\n",
       "      <td>2.18</td>\n",
       "      <td>54.2</td>\n",
       "      <td>7.147</td>\n",
       "      <td>6.0622</td>\n",
       "      <td>5.33</td>\n",
       "    </tr>\n",
       "  </tbody>\n",
       "</table>\n",
       "</div>"
      ],
      "text/plain": [
       "   indus   age     rm     dis  lstat\n",
       "1   2.31  65.2  6.575  4.0900   4.98\n",
       "2   7.07  78.9  6.421  4.9671   9.14\n",
       "3   7.07  61.1  7.185  4.9671   4.03\n",
       "4   2.18  45.8  6.998  6.0622   2.94\n",
       "5   2.18  54.2  7.147  6.0622   5.33"
      ]
     },
     "execution_count": 60,
     "metadata": {},
     "output_type": "execute_result"
    }
   ],
   "source": [
    "X.head()"
   ]
  },
  {
   "cell_type": "code",
   "execution_count": 61,
   "metadata": {},
   "outputs": [],
   "source": [
    "from sklearn.model_selection import train_test_split\n",
    "X_train,X_test,y_train,y_test=train_test_split(X,y,train_size=0.8,random_state=0)"
   ]
  },
  {
   "cell_type": "code",
   "execution_count": 68,
   "metadata": {},
   "outputs": [],
   "source": [
    "X_train=X_train.values\n",
    "y_train=y_train.values"
   ]
  },
  {
   "cell_type": "markdown",
   "metadata": {},
   "source": [
    "Vừa rồi, ta vừa mới tải tập dữ liệu xuống và chiết ra thành 4 tập. \n",
    "\n",
    "Trong đó, `train_X` và `train_Y` được dùng để xây dựng mô hình. Còn `X_test`, `y_test` được giữ lại và chỉ được dùng để đánh giá độ tốt của mô hình ở phút cuối. \n",
    "\n",
    "Tỉ lệ được chia ra giữa các phần xây dựng và kiểm chứng là 1:4 Sau này, chúng ta sẽ học kỹ hơn về phần này nên phần đánh giá độ tốt của mô hình mình chỉ dừng lại ở mức là thực thi câu hàm đánh giá.\n",
    "\n",
    "Để đơn giản, dữ liệu được lấy vào chỉ gồm 5 đặc tính\n",
    "\n",
    "```\n",
    "    - indus\n",
    "    - age\n",
    "    - rm\n",
    "    - dis\n",
    "    - lstat\n",
    "```"
   ]
  },
  {
   "cell_type": "markdown",
   "metadata": {},
   "source": [
    "#### Minh họa dữ liệu"
   ]
  },
  {
   "cell_type": "code",
   "execution_count": 78,
   "metadata": {},
   "outputs": [
    {
     "data": {
      "text/plain": [
       "<matplotlib.collections.PathCollection at 0x1fbcc8df9d0>"
      ]
     },
     "execution_count": 78,
     "metadata": {},
     "output_type": "execute_result"
    },
    {
     "data": {
      "image/png": "[encoded data removed]",
      "text/plain": [
       "<Figure size 720x360 with 2 Axes>"
      ]
     },
     "metadata": {
      "needs_background": "light"
     },
     "output_type": "display_data"
    }
   ],
   "source": [
    "fig,ax=plt.subplots(nrows=1,ncols=2,figsize=(10,5));\n",
    "\n",
    "ax[0].scatter(X_train[:,0],y_train)\n",
    "ax[1].scatter(X_train[:,1],y_train)"
   ]
  },
  {
   "cell_type": "markdown",
   "metadata": {},
   "source": [
    "Hiên thời, vecto của ta đang có dạng như sau:"
   ]
  },
  {
   "cell_type": "code",
   "execution_count": 80,
   "metadata": {},
   "outputs": [
    {
     "name": "stdout",
     "output_type": "stream",
     "text": [
      "Size of data X train matrix (404, 5)\n",
      "Size of data Y train array (404,)\n",
      "Size of data X test matrix (102, 5)\n",
      "Size of data Y test array (102,)\n"
     ]
    }
   ],
   "source": [
    "print(\"Size of data X train matrix %s\"  % str(X_train.shape))\n",
    "print(\"Size of data Y train array %s\"  % str(y_train.shape))\n",
    "print(\"Size of data X test matrix %s\"  % str(X_test.shape))\n",
    "print(\"Size of data Y test array %s\"  % str(y_test.shape))"
   ]
  },
  {
   "cell_type": "markdown",
   "metadata": {},
   "source": [
    "#### Bài 1. Viết hàm cost function\n",
    "$$J(w) = \\frac{1}{m} \\sum_{i=1}^m loss(\\hat{y}^{(i)}, y^{(i)})= \\frac{1}{2m} \\sum_{i=1}^m (\\hat{y}^{(i)}-y^{(i)})^2 $$\n",
    "Khai triển, ta có kết quả:\n",
    "$$J(w) = \\frac{1}{2m} \\sum_{i=1}^m (w_1 x_1^{(i)} + w_2 x_2^{(i)} + b - y^{(i)})^2 $$"
   ]
  },
  {
   "cell_type": "markdown",
   "metadata": {},
   "source": [
    "#### 1.1. Viết chương trình"
   ]
  },
  {
   "cell_type": "code",
   "execution_count": 106,
   "metadata": {},
   "outputs": [],
   "source": [
    "def np_cost(w, b, X, y):\n",
    "    '''\n",
    "    Evaluate the cost function in a non-vectorized manner for \n",
    "    inputs `X` and targets `y`, at weights `w` and `b`.\n",
    "    \n",
    "    X: 2D array dataset that has (m, n) dimension. \n",
    "    y: list of targets that has (n, ) dimension.\n",
    "    w: list of weights that has (n, ) dimension\n",
    "    b: a scalar bias.\n",
    "    \n",
    "    Return a scalar cost value of `w`, `b`.\n",
    "    '''\n",
    "    \n",
    "    cost = 0\n",
    "    m = X.shape[0]\n",
    "    for i in range(m):\n",
    "        \n",
    "        # TODO: complete below expression to calculate cost function\n",
    "        y_hat = w[0]*X[i, 0] + w[1]*X[i, 1] + w[2]*X[i, 2] + w[3]*X[i, 3] + w[4]*X[i, 4] + b # hypothesis\n",
    "        cost += (y_hat - y[i])**2 # sum cost of each data point.\n",
    "        \n",
    "    return cost/(2*m)"
   ]
  },
  {
   "cell_type": "markdown",
   "metadata": {},
   "source": [
    "#### 1.2 Chạy thử chương trình "
   ]
  },
  {
   "cell_type": "code",
   "execution_count": 107,
   "metadata": {},
   "outputs": [
    {
     "data": {
      "text/plain": [
       "33631.86059655327"
      ]
     },
     "execution_count": 107,
     "metadata": {},
     "output_type": "execute_result"
    }
   ],
   "source": [
    "np_cost([1,2,3,4,5], 20, X_train, y_train)"
   ]
  },
  {
   "cell_type": "code",
   "execution_count": 108,
   "metadata": {},
   "outputs": [
    {
     "data": {
      "text/plain": [
       "28950.19433912752"
      ]
     },
     "execution_count": 108,
     "metadata": {},
     "output_type": "execute_result"
    }
   ],
   "source": [
    "np_cost([1,2,3,4,5], 0, X_train, y_train) "
   ]
  },
  {
   "cell_type": "markdown",
   "metadata": {},
   "source": [
    "#### Bài 2. Vector hóa hàm cost\n",
    "\n",
    "Ngoài ra, ta còn có thể viết lại công thức trên như sau:\n",
    "\n",
    "$$J(w) = \\frac{1}{2m} \\| X w + b  - y \\| ^2$$ "
   ]
  },
  {
   "cell_type": "markdown",
   "metadata": {},
   "source": [
    "#### 2.1 Viết chương trình"
   ]
  },
  {
   "cell_type": "code",
   "execution_count": 94,
   "metadata": {},
   "outputs": [],
   "source": [
    "def np_cost_vectorized(w, b, X, y):\n",
    "    '''\n",
    "    Evaluate the cost function in a vectorized manner for \n",
    "    inputs `X` and targets `t`, at weights `w` and `b`.\n",
    "    \n",
    "    X: dataset matrix has (m, n) dimension. \n",
    "    y: targets vector has (n, ) dimension.\n",
    "    w: weights vector has (n, ) dimension\n",
    "    b: a scalar bias.\n",
    "    \n",
    "    Return a scalar cost value of `w`, `b`.\n",
    "    '''\n",
    "    \n",
    "    #TODO: Complete the following expression\n",
    "    m = X.shape[0] # number of samples in dataset\n",
    "    w = np.array(w) # convert to numpy array\n",
    "    y_hat = np.dot(X, w) + b# hypothesis\n",
    "    \n",
    "    return np.sum((y_hat - y)**2)/(2*m)"
   ]
  },
  {
   "cell_type": "markdown",
   "metadata": {},
   "source": [
    "#### 2.2 Chạy thử chương trình"
   ]
  },
  {
   "cell_type": "code",
   "execution_count": 104,
   "metadata": {},
   "outputs": [
    {
     "data": {
      "text/plain": [
       "33631.86059655326"
      ]
     },
     "execution_count": 104,
     "metadata": {},
     "output_type": "execute_result"
    }
   ],
   "source": [
    "np_cost_vectorized([1,2,3,4,5], 20, X_train, y_train) # 2256.1627893564355"
   ]
  },
  {
   "cell_type": "code",
   "execution_count": 111,
   "metadata": {},
   "outputs": [
    {
     "data": {
      "text/plain": [
       "28950.194339127524"
      ]
     },
     "execution_count": 111,
     "metadata": {},
     "output_type": "execute_result"
    }
   ],
   "source": [
    "np_cost_vectorized([1,2,3,4,5], 0, X_train, y_train) # 1210.8142745049508"
   ]
  },
  {
   "cell_type": "code",
   "execution_count": 112,
   "metadata": {},
   "outputs": [
    {
     "data": {
      "text/plain": [
       "(102, 5)"
      ]
     },
     "execution_count": 112,
     "metadata": {},
     "output_type": "execute_result"
    }
   ],
   "source": [
    "X_test.shape"
   ]
  },
  {
   "cell_type": "markdown",
   "metadata": {},
   "source": [
    "### Tạo X_train_new có dạng [. . . . . . . 1]"
   ]
  },
  {
   "cell_type": "code",
   "execution_count": 169,
   "metadata": {},
   "outputs": [
    {
     "data": {
      "text/plain": [
       "array([[ 6.2   , 88.5   ,  6.951 ,  2.8617,  9.71  ,  1.    ],\n",
       "       [10.81  , 17.5   ,  5.961 ,  5.2873,  9.88  ,  1.    ],\n",
       "       [ 4.93  , 54.3   ,  6.897 ,  6.3361, 11.38  ,  1.    ],\n",
       "       ...,\n",
       "       [10.01  , 82.6   ,  6.021 ,  2.7474, 10.3   ,  1.    ],\n",
       "       [ 6.91  , 85.5   ,  6.03  ,  5.6894, 18.8   ,  1.    ],\n",
       "       [ 4.05  , 88.5   ,  5.572 ,  2.5961, 14.69  ,  1.    ]])"
      ]
     },
     "execution_count": 169,
     "metadata": {},
     "output_type": "execute_result"
    }
   ],
   "source": [
    "X_train_new=np.zeros([X_train.shape[0],X_train.shape[1]+1])\n",
    "X_train_new[:,-1]=1\n",
    "X_train_new[:,:-1]=X_train\n",
    "\n",
    "X_train_new"
   ]
  },
  {
   "cell_type": "code",
   "execution_count": 171,
   "metadata": {},
   "outputs": [],
   "source": [
    "X_test_new=np.zeros([X_test.shape[0],X_test.shape[1]+1])\n",
    "X_test_new[:,-1]=1\n",
    "X_test_new[:,:-1]=X_test"
   ]
  },
  {
   "cell_type": "markdown",
   "metadata": {},
   "source": [
    "#### Bài 4.Tính vector gradient của w\n",
    "\n",
    "Với $i = 1...m $ và $j = 1...n$ xét\n",
    "\n",
    "$$ \\frac{\\partial J}{\\partial w_j} = \\frac{1}{m}\\sum_{i=1}^m x_j^{(i)}(\\hat{y}^{(i)}-y^{(i)}) $$\n",
    "\n",
    "\n",
    "\n",
    "#### 4.1 Viết chương trình với vòng `for`"
   ]
  },
  {
   "cell_type": "code",
   "execution_count": 132,
   "metadata": {},
   "outputs": [],
   "source": [
    "def np_grad_fn(w, X, y):\n",
    "    '''\n",
    "    Given `w` - a current \"Guess\" of what our weights should be\n",
    "          `X` - matrix of shape (m, n + 1) of input features\n",
    "          `y` - target y values\n",
    "    Return gradient of each weight evaluated at the current value\n",
    "    '''\n",
    "    \n",
    "    #TODO: Complete the below followed the above expressions\n",
    "    grad_w = np.zeros(np.array(w).shape)\n",
    "    m = X.shape[0]\n",
    "    y_hat = np.dot(X, w)\n",
    "    for j in range(grad_w.shape[0]):\n",
    "        for i in range(m):\n",
    "            grad_w[j] += (y_hat[i] - y[i])*X[i, j]/m\n",
    "    return grad_w"
   ]
  },
  {
   "cell_type": "code",
   "execution_count": 136,
   "metadata": {},
   "outputs": [
    {
     "data": {
      "text/plain": [
       "array([103.9942521 , 504.1578294 ,   9.71058626,  -7.18257847,\n",
       "       135.34728975,   2.65763822])"
      ]
     },
     "execution_count": 136,
     "metadata": {},
     "output_type": "execute_result"
    }
   ],
   "source": [
    "w = [0.1, 0.2, 0.3, 0.4, 0.5, 0.6]\n",
    "np_grad_fn(w, X_train_new, y_train)"
   ]
  },
  {
   "cell_type": "markdown",
   "metadata": {},
   "source": [
    "#### 4.2 Viết chương trình theo dạng vectorized\n",
    "$$\\nabla J(w) = \\frac{1}{m} X^T \\left( Xw - y \\right)$$ "
   ]
  },
  {
   "cell_type": "code",
   "execution_count": 137,
   "metadata": {},
   "outputs": [],
   "source": [
    "def np_grad_fn_vectorized(w, X, y):\n",
    "    '''\n",
    "    Given `w` - a current \"Guess\" of what our weights should be\n",
    "          `X` - matrix of shape (m, n + 1) of input features\n",
    "          `y` - target y values\n",
    "    Return gradient of each weight evaluated at the current value\n",
    "    '''\n",
    "    \n",
    "    #TODO: Complete the below followed the above expressions\n",
    "    m, n = X.shape\n",
    "    y_hat = np.dot(X, w)\n",
    "    grad_w = np.dot(X.T, y_hat - y)/m\n",
    "    \n",
    "    return grad_w"
   ]
  },
  {
   "cell_type": "code",
   "execution_count": 139,
   "metadata": {},
   "outputs": [
    {
     "data": {
      "text/plain": [
       "array([103.9942521 , 504.1578294 ,   9.71058626,  -7.18257847,\n",
       "       135.34728975,   2.65763822])"
      ]
     },
     "execution_count": 139,
     "metadata": {},
     "output_type": "execute_result"
    }
   ],
   "source": [
    "w = [0.1, 0.2, 0.3, 0.4, 0.5, 0.6]\n",
    "np_grad_fn_vectorized(w, X_train_new, y_train) #[-183.46936646, -130.26687224,  -19.93917772]"
   ]
  },
  {
   "cell_type": "markdown",
   "metadata": {},
   "source": [
    "#### Bài  5. Tính dựa trên Gradient Descent\n",
    "\n",
    "Xấp xỉ giá trị $w$ như sau\n",
    "\n",
    "$$ w_j = w_j - \\alpha * \\frac{\\partial J}{\\partial w_j}$$\n",
    "\n",
    "#### 5.1 Viết chương trình"
   ]
  },
  {
   "cell_type": "code",
   "execution_count": 157,
   "metadata": {},
   "outputs": [],
   "source": [
    "def np_solve_via_gradient_descent(X, y, print_every=5000,\n",
    "                                  niter=100000, alpha=0.0002):\n",
    "    '''\n",
    "    Given `X` - matrix of shape (m, n+1) of input features\n",
    "          `y` - target y values\n",
    "    Solves for linear regression weights.\n",
    "    Return weights after `niter` iterations.\n",
    "    '''\n",
    "    m, n = X.shape\n",
    "    # initialize all the weights to zeros\n",
    "    w = np.zeros((n,))\n",
    "    for k in range(niter):\n",
    "        \n",
    "        #TODO: Complete the below followed the above expressions\n",
    "        dw = np_grad_fn_vectorized(w, X, y) \n",
    "        w = w - alpha*dw\n",
    "        \n",
    "        if k % print_every == 0:\n",
    "            print('Weight after %d iteration: %s' % (k, str(w)))\n",
    "    return w"
   ]
  },
  {
   "cell_type": "markdown",
   "metadata": {},
   "source": [
    "#### 5.2 Chạy thử chương trình"
   ]
  },
  {
   "cell_type": "code",
   "execution_count": 158,
   "metadata": {},
   "outputs": [
    {
     "name": "stdout",
     "output_type": "stream",
     "text": [
      "Weight after 0 iteration: [0.06530513 0.43613026 0.04410279 0.02719216 0.07094378 0.00678356]\n",
      "Weight after 5000 iteration: [-0.14438498  0.03206708  4.64174795  0.05482797 -0.64053881  0.57114184]\n",
      "Weight after 10000 iteration: [-2.06186031e-01 -1.33070846e-03  5.35065221e+00 -5.47902807e-01\n",
      " -5.82833390e-01  6.91533793e-01]\n",
      "Weight after 15000 iteration: [-0.22300177 -0.01034071  5.53665596 -0.71107885 -0.56760393  0.76522382]\n",
      "Weight after 20000 iteration: [-0.22772108 -0.0127934   5.58209624 -0.75606505 -0.5637932   0.8261006 ]\n",
      "Weight after 25000 iteration: [-0.22918681 -0.01348283  5.58977166 -0.76926669 -0.56305085  0.88327735]\n",
      "Weight after 30000 iteration: [-0.22977653 -0.013698    5.58732145 -0.77391556 -0.56313174  0.93920593]\n",
      "Weight after 35000 iteration: [-0.2301295  -0.01378546  5.58217679 -0.77625803 -0.56343223  0.99454714]\n",
      "Weight after 40000 iteration: [-0.23041761 -0.0138384   5.57633553 -0.77797359 -0.56379004  1.0494802 ]\n",
      "Weight after 45000 iteration: [-0.23068708 -0.01388188  5.57033464 -0.77951386 -0.56416154  1.10405487]\n",
      "Weight after 50000 iteration: [-0.23095034 -0.01392263  5.56431835 -0.7810003  -0.564535    1.15828606]\n",
      "Weight after 55000 iteration: [-0.23121075 -0.01396247  5.55832524 -0.7824656  -0.56490731  1.21217932]\n",
      "Weight after 60000 iteration: [-0.23146922 -0.01400188  5.55236553 -0.78391861 -0.56527761  1.26573766]\n",
      "Weight after 65000 iteration: [-0.231726   -0.01404101  5.5464418  -0.78536174 -0.56564569  1.3189634 ]\n",
      "Weight after 70000 iteration: [-0.23198116 -0.01407987  5.54055457 -0.78679568 -0.56601151  1.37185869]\n",
      "Weight after 75000 iteration: [-0.23223473 -0.01411849  5.53470381 -0.78822065 -0.56637507  1.42442558]\n",
      "Weight after 80000 iteration: [-0.23248672 -0.01415687  5.52888936 -0.78963676 -0.56673637  1.47666613]\n",
      "Weight after 85000 iteration: [-0.23273714 -0.01419502  5.523111   -0.79104408 -0.56709542  1.52858236]\n",
      "Weight after 90000 iteration: [-0.23298602 -0.01423292  5.51736851 -0.79244265 -0.56745225  1.58017628]\n",
      "Weight after 95000 iteration: [-0.23323334 -0.01427059  5.51166167 -0.79383254 -0.56780687  1.63144989]\n",
      "Weight after 100000 iteration: [-0.23347914 -0.01430803  5.50599026 -0.79521381 -0.56815928  1.68240519]\n",
      "Weight after 105000 iteration: [-0.2337234  -0.01434523  5.50035406 -0.7965865  -0.5685095   1.73304414]\n",
      "Weight after 110000 iteration: [-0.23396615 -0.0143822   5.49475285 -0.79795067 -0.56885755  1.78336872]\n",
      "Weight after 115000 iteration: [-0.23420739 -0.01441895  5.48918641 -0.79930636 -0.56920344  1.83338088]\n",
      "Weight after 120000 iteration: [-0.23444714 -0.01445546  5.48365453 -0.80065364 -0.56954718  1.88308254]\n",
      "Weight after 125000 iteration: [-0.23468539 -0.01449175  5.47815699 -0.80199256 -0.56988879  1.93247565]\n",
      "Weight after 130000 iteration: [-0.23492217 -0.01452781  5.47269359 -0.80332317 -0.57022828  1.98156212]\n",
      "Weight after 135000 iteration: [-0.23515748 -0.01456365  5.4672641  -0.80464551 -0.57056566  2.03034385]\n",
      "Weight after 140000 iteration: [-0.23539132 -0.01459927  5.46186832 -0.80595965 -0.57090094  2.07882273]\n",
      "Weight after 145000 iteration: [-0.23562372 -0.01463466  5.45650603 -0.80726562 -0.57123415  2.12700064]\n",
      "Weight after 150000 iteration: [-0.23585467 -0.01466984  5.45117704 -0.80856349 -0.57156528  2.17487946]\n",
      "Weight after 155000 iteration: [-0.23608419 -0.0147048   5.44588113 -0.8098533  -0.57189436  2.22246103]\n",
      "Weight after 160000 iteration: [-0.23631228 -0.01473954  5.4406181  -0.81113511 -0.5722214   2.26974721]\n",
      "Weight after 165000 iteration: [-0.23653896 -0.01477406  5.43538774 -0.81240895 -0.5725464   2.31673983]\n",
      "Weight after 170000 iteration: [-0.23676423 -0.01480837  5.43018985 -0.81367489 -0.57286939  2.3634407 ]\n",
      "Weight after 175000 iteration: [-0.2369881  -0.01484247  5.42502424 -0.81493297 -0.57319037  2.40985165]\n",
      "Weight after 180000 iteration: [-0.23721058 -0.01487636  5.41989069 -0.81618324 -0.57350936  2.45597447]\n",
      "Weight after 185000 iteration: [-0.23743168 -0.01491003  5.41478901 -0.81742575 -0.57382637  2.50181095]\n",
      "Weight after 190000 iteration: [-0.23765141 -0.0149435   5.40971901 -0.81866054 -0.57414142  2.54736287]\n",
      "Weight after 195000 iteration: [-0.23786977 -0.01497676  5.40468048 -0.81988767 -0.5744545   2.59263199]\n",
      "Weight after 200000 iteration: [-0.23808678 -0.01500981  5.39967323 -0.82110717 -0.57476564  2.63762007]\n",
      "Weight after 205000 iteration: [-0.23830244 -0.01504265  5.39469706 -0.82231911 -0.57507485  2.68232885]\n",
      "Weight after 210000 iteration: [-0.23851676 -0.0150753   5.38975179 -0.82352353 -0.57538215  2.72676008]\n",
      "Weight after 215000 iteration: [-0.23872975 -0.01510774  5.38483722 -0.82472046 -0.57568753  2.77091546]\n",
      "Weight after 220000 iteration: [-0.23894142 -0.01513998  5.37995317 -0.82590997 -0.57599102  2.81479672]\n",
      "Weight after 225000 iteration: [-0.23915178 -0.01517201  5.37509943 -0.82709209 -0.57629262  2.85840556]\n",
      "Weight after 230000 iteration: [-0.23936082 -0.01520385  5.37027582 -0.82826687 -0.57659235  2.90174366]\n",
      "Weight after 235000 iteration: [-0.23956858 -0.0152355   5.36548217 -0.82943436 -0.57689022  2.94481272]\n",
      "Weight after 240000 iteration: [-0.23977504 -0.01526694  5.36071827 -0.8305946  -0.57718624  2.98761439]\n",
      "Weight after 245000 iteration: [-0.23998022 -0.01529819  5.35598394 -0.83174764 -0.57748042  3.03015034]\n",
      "Weight after 250000 iteration: [-0.24018412 -0.01532925  5.35127901 -0.83289352 -0.57777278  3.07242221]\n",
      "Weight after 255000 iteration: [-0.24038676 -0.01536011  5.34660329 -0.83403228 -0.57806332  3.11443166]\n",
      "Weight after 260000 iteration: [-0.24058814 -0.01539078  5.3419566  -0.83516398 -0.57835206  3.1561803 ]\n",
      "Weight after 265000 iteration: [-0.24078828 -0.01542127  5.33733875 -0.83628865 -0.57863901  3.19766976]\n",
      "Weight after 270000 iteration: [-0.24098716 -0.01545156  5.33274957 -0.83740634 -0.57892417  3.23890164]\n",
      "Weight after 275000 iteration: [-0.24118482 -0.01548166  5.32818888 -0.83851709 -0.57920756  3.27987754]\n",
      "Weight after 280000 iteration: [-0.24138125 -0.01551158  5.32365651 -0.83962094 -0.5794892   3.32059906]\n",
      "Weight after 285000 iteration: [-0.24157645 -0.01554131  5.31915227 -0.84071794 -0.57976908  3.36106777]\n",
      "Weight after 290000 iteration: [-0.24177045 -0.01557086  5.314676   -0.84180813 -0.58004723  3.40128525]\n",
      "Weight after 295000 iteration: [-0.24196324 -0.01560022  5.31022752 -0.84289155 -0.58032365  3.44125304]\n"
     ]
    }
   ],
   "source": [
    "opt_w = np_solve_via_gradient_descent(X_train_new, y_train, niter=300000,alpha=0.0003)"
   ]
  },
  {
   "cell_type": "code",
   "execution_count": 159,
   "metadata": {},
   "outputs": [
    {
     "name": "stdout",
     "output_type": "stream",
     "text": [
      "Training cost: 13.440744635503254\n"
     ]
    }
   ],
   "source": [
    "print(\"Training cost:\", np_cost_vectorized(opt_w[:5], opt_w[-1], X_train, y_train)) "
   ]
  },
  {
   "cell_type": "code",
   "execution_count": 173,
   "metadata": {},
   "outputs": [
    {
     "name": "stdout",
     "output_type": "stream",
     "text": [
      "Testing cost: 18.213556936712056\n"
     ]
    }
   ],
   "source": [
    "print(\"Testing cost:\", np_cost_vectorized(opt_w[:5], opt_w[-1], X_test, y_test)) "
   ]
  },
  {
   "cell_type": "code",
   "execution_count": 174,
   "metadata": {},
   "outputs": [
    {
     "data": {
      "text/plain": [
       "(102, 6)"
      ]
     },
     "execution_count": 174,
     "metadata": {},
     "output_type": "execute_result"
    }
   ],
   "source": [
    "X_test_new.shape"
   ]
  },
  {
   "cell_type": "code",
   "execution_count": 193,
   "metadata": {},
   "outputs": [
    {
     "data": {
      "text/plain": [
       "(102,)"
      ]
     },
     "execution_count": 193,
     "metadata": {},
     "output_type": "execute_result"
    }
   ],
   "source": [
    "y_predict=X_test_new@opt_w\n",
    "y_predict.shape\n",
    "y_test.shape"
   ]
  },
  {
   "cell_type": "code",
   "execution_count": 202,
   "metadata": {},
   "outputs": [
    {
     "data": {
      "text/html": [
       "<div>\n",
       "<style scoped>\n",
       "    .dataframe tbody tr th:only-of-type {\n",
       "        vertical-align: middle;\n",
       "    }\n",
       "\n",
       "    .dataframe tbody tr th {\n",
       "        vertical-align: top;\n",
       "    }\n",
       "\n",
       "    .dataframe thead th {\n",
       "        text-align: right;\n",
       "    }\n",
       "</style>\n",
       "<table border=\"1\" class=\"dataframe\">\n",
       "  <thead>\n",
       "    <tr style=\"text-align: right;\">\n",
       "      <th></th>\n",
       "      <th>y</th>\n",
       "      <th>y_predict</th>\n",
       "    </tr>\n",
       "  </thead>\n",
       "  <tbody>\n",
       "    <tr>\n",
       "      <th>1</th>\n",
       "      <td>22.6</td>\n",
       "      <td>27.366689</td>\n",
       "    </tr>\n",
       "    <tr>\n",
       "      <th>2</th>\n",
       "      <td>50.0</td>\n",
       "      <td>23.996138</td>\n",
       "    </tr>\n",
       "    <tr>\n",
       "      <th>3</th>\n",
       "      <td>23.0</td>\n",
       "      <td>23.552390</td>\n",
       "    </tr>\n",
       "    <tr>\n",
       "      <th>4</th>\n",
       "      <td>8.3</td>\n",
       "      <td>13.062768</td>\n",
       "    </tr>\n",
       "    <tr>\n",
       "      <th>5</th>\n",
       "      <td>21.2</td>\n",
       "      <td>21.204289</td>\n",
       "    </tr>\n",
       "    <tr>\n",
       "      <th>...</th>\n",
       "      <td>...</td>\n",
       "      <td>...</td>\n",
       "    </tr>\n",
       "    <tr>\n",
       "      <th>98</th>\n",
       "      <td>24.7</td>\n",
       "      <td>25.506677</td>\n",
       "    </tr>\n",
       "    <tr>\n",
       "      <th>99</th>\n",
       "      <td>14.1</td>\n",
       "      <td>19.784430</td>\n",
       "    </tr>\n",
       "    <tr>\n",
       "      <th>100</th>\n",
       "      <td>18.7</td>\n",
       "      <td>17.931811</td>\n",
       "    </tr>\n",
       "    <tr>\n",
       "      <th>101</th>\n",
       "      <td>28.1</td>\n",
       "      <td>25.460435</td>\n",
       "    </tr>\n",
       "    <tr>\n",
       "      <th>102</th>\n",
       "      <td>19.8</td>\n",
       "      <td>25.063072</td>\n",
       "    </tr>\n",
       "  </tbody>\n",
       "</table>\n",
       "<p>102 rows × 2 columns</p>\n",
       "</div>"
      ],
      "text/plain": [
       "        y  y_predict\n",
       "1    22.6  27.366689\n",
       "2    50.0  23.996138\n",
       "3    23.0  23.552390\n",
       "4     8.3  13.062768\n",
       "5    21.2  21.204289\n",
       "..    ...        ...\n",
       "98   24.7  25.506677\n",
       "99   14.1  19.784430\n",
       "100  18.7  17.931811\n",
       "101  28.1  25.460435\n",
       "102  19.8  25.063072\n",
       "\n",
       "[102 rows x 2 columns]"
      ]
     },
     "execution_count": 202,
     "metadata": {},
     "output_type": "execute_result"
    }
   ],
   "source": [
    "result=pd.DataFrame({'y':y_test,'y_predict':y_predict})\n",
    "result.index = np.arange(1, len(result)+1)\n",
    "result"
   ]
  },
  {
   "cell_type": "code",
   "execution_count": 198,
   "metadata": {},
   "outputs": [
    {
     "data": {
      "text/plain": [
       "[<matplotlib.lines.Line2D at 0x1fbd0361580>]"
      ]
     },
     "execution_count": 198,
     "metadata": {},
     "output_type": "execute_result"
    },
    {
     "data": {
      "image/png": "[encoded data removed]",
      "text/plain": [
       "<Figure size 720x720 with 1 Axes>"
      ]
     },
     "metadata": {
      "needs_background": "light"
     },
     "output_type": "display_data"
    }
   ],
   "source": [
    "fig,ax=plt.subplots(figsize=[10,10])\n",
    "plt.scatter(y_test,y_predict)\n",
    "plt.plot(y_test,y_test,'r')"
   ]
  }
 ],
 "metadata": {
  "kernelspec": {
   "display_name": "Python 3 (ipykernel)",
   "language": "python",
   "name": "python3"
  },
  "language_info": {
   "codemirror_mode": {
    "name": "ipython",
    "version": 3
   },
   "file_extension": ".py",
   "mimetype": "text/x-python",
   "name": "python",
   "nbconvert_exporter": "python",
   "pygments_lexer": "ipython3",
   "version": "3.9.12"
  }
 },
 "nbformat": 4,
 "nbformat_minor": 4
}
