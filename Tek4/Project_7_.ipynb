{
 "cells": [
  {
   "cell_type": "code",
   "execution_count": 6,
   "id": "fc075ffd",
   "metadata": {},
   "outputs": [],
   "source": [
    "import pandas as pd\n",
    "import numpy as np\n",
    "import seaborn as sns\n",
    "from sklearn.preprocessing import StandardScaler\n",
    "from sklearn.preprocessing import LabelEncoder\n",
    "from sklearn.model_selection import train_test_split\n",
    "from sklearn import metrics\n",
    "from sklearn.model_selection import KFold\n",
    "from sklearn.model_selection import cross_val_score\n",
    "from sklearn.linear_model import LogisticRegression\n",
    "from sklearn.tree import DecisionTreeClassifier\n",
    "from sklearn.neighbors import KNeighborsClassifier\n",
    "from sklearn.ensemble import RandomForestClassifier\n",
    "from sklearn.naive_bayes import GaussianNB\n",
    "from sklearn.svm import SVC\n",
    "\n",
    "dataset= pd.read_csv(r'C:\\Users\\thesh\\OneDrive\\Máy tính\\AI\\data\\iphone_purchase_records.csv')\n",
    "X=dataset.iloc[:,:-1].values\n",
    "y=dataset.iloc[:,-1].values"
   ]
  },
  {
   "cell_type": "code",
   "execution_count": 7,
   "id": "a9bb782a",
   "metadata": {},
   "outputs": [
    {
     "data": {
      "text/plain": [
       "array([['Male', 19, 19000],\n",
       "       ['Male', 35, 20000],\n",
       "       ['Female', 26, 43000],\n",
       "       ...,\n",
       "       ['Female', 50, 20000],\n",
       "       ['Male', 36, 33000],\n",
       "       ['Female', 49, 36000]], dtype=object)"
      ]
     },
     "execution_count": 7,
     "metadata": {},
     "output_type": "execute_result"
    }
   ],
   "source": [
    "X"
   ]
  },
  {
   "cell_type": "code",
   "execution_count": 8,
   "id": "4ac861ea",
   "metadata": {},
   "outputs": [
    {
     "name": "stderr",
     "output_type": "stream",
     "text": [
      "C:\\Users\\thesh\\AppData\\Local\\Temp\\ipykernel_6576\\51806184.py:3: DeprecationWarning: `np.float` is a deprecated alias for the builtin `float`. To silence this warning, use `float` by itself. Doing this will not modify any behavior and is safe. If you specifically wanted the numpy scalar type, use `np.float64` here.\n",
      "Deprecated in NumPy 1.20; for more details and guidance: https://numpy.org/devdocs/release/1.20.0-notes.html#deprecations\n",
      "  X = np.vstack(X[:, :]).astype(np.float)\n"
     ]
    }
   ],
   "source": [
    "labelEncoder_gender =  LabelEncoder()\n",
    "X[:,0] = labelEncoder_gender.fit_transform(X[:,0])\n",
    "X = np.vstack(X[:, :]).astype(np.float)\n",
    "X_train, X_test, y_train, y_test = train_test_split(X, y, test_size=0.25, random_state=0)\n",
    "sc= StandardScaler()\n",
    "X_train = sc.fit_transform(X_train)\n",
    "X_test = sc.fit_transform(X_test)"
   ]
  },
  {
   "cell_type": "code",
   "execution_count": 9,
   "id": "5f421696",
   "metadata": {},
   "outputs": [
    {
     "data": {
      "text/plain": [
       "array([[1.0e+00, 1.9e+01, 1.9e+04],\n",
       "       [1.0e+00, 3.5e+01, 2.0e+04],\n",
       "       [0.0e+00, 2.6e+01, 4.3e+04],\n",
       "       ...,\n",
       "       [0.0e+00, 5.0e+01, 2.0e+04],\n",
       "       [1.0e+00, 3.6e+01, 3.3e+04],\n",
       "       [0.0e+00, 4.9e+01, 3.6e+04]])"
      ]
     },
     "execution_count": 9,
     "metadata": {},
     "output_type": "execute_result"
    }
   ],
   "source": [
    "X"
   ]
  },
  {
   "cell_type": "code",
   "execution_count": 34,
   "id": "113011d5",
   "metadata": {},
   "outputs": [
    {
     "name": "stdout",
     "output_type": "stream",
     "text": [
      "Classification Model:\n",
      " [('LogisticRegression', LogisticRegression(solver='liblinear')), ('K Nearest Neighbor', KNeighborsClassifier()), ('Kernel SVM', SVC(gamma='scaler')), ('Naive Bayes', GaussianNB()), ('Decision Tree', DecisionTreeClassifier(criterion='entropy')), ('Random Forest', RandomForestClassifier(criterion='entropy'))]\n",
      "LogisticRegression: Mean Accuracy = 64.25% - SD Accuracy = 32.64%\n",
      "K Nearest Neighbor: Mean Accuracy = 79.25% - SD Accuracy = 22.09%\n"
     ]
    },
    {
     "name": "stderr",
     "output_type": "stream",
     "text": [
      "C:\\Users\\thesh\\anaconda3\\lib\\site-packages\\sklearn\\model_selection\\_validation.py:372: FitFailedWarning: \n",
      "100 fits failed out of a total of 100.\n",
      "The score on these train-test partitions for these parameters will be set to nan.\n",
      "If these failures are not expected, you can try to debug them by setting error_score='raise'.\n",
      "\n",
      "Below are more details about the failures:\n",
      "--------------------------------------------------------------------------------\n",
      "100 fits failed with the following error:\n",
      "Traceback (most recent call last):\n",
      "  File \"C:\\Users\\thesh\\anaconda3\\lib\\site-packages\\sklearn\\model_selection\\_validation.py\", line 680, in _fit_and_score\n",
      "    estimator.fit(X_train, y_train, **fit_params)\n",
      "  File \"C:\\Users\\thesh\\anaconda3\\lib\\site-packages\\sklearn\\svm\\_base.py\", line 243, in fit\n",
      "    raise ValueError(\n",
      "ValueError: When 'gamma' is a string, it should be either 'scale' or 'auto'. Got 'scaler' instead.\n",
      "\n",
      "  warnings.warn(some_fits_failed_message, FitFailedWarning)\n"
     ]
    },
    {
     "name": "stdout",
     "output_type": "stream",
     "text": [
      "Kernel SVM: Mean Accuracy = nan% - SD Accuracy = nan%\n",
      "Naive Bayes: Mean Accuracy = 88.75% - SD Accuracy = 16.35%\n",
      "Decision Tree: Mean Accuracy = 86.00% - SD Accuracy = 17.44%\n",
      "Random Forest: Mean Accuracy = 89.00% - SD Accuracy = 16.70%\n"
     ]
    }
   ],
   "source": [
    "#modeling\n",
    "classification_model =[]\n",
    "classification_model.append(('LogisticRegression',LogisticRegression(solver='liblinear')))\n",
    "classification_model.append(('K Nearest Neighbor',KNeighborsClassifier(n_neighbors=5,metric='minkowski',p=2)))\n",
    "classification_model.append(('Kernel SVM',SVC(kernel='rbf',gamma ='scaler')))\n",
    "classification_model.append(('Naive Bayes',GaussianNB()))\n",
    "classification_model.append(('Decision Tree', DecisionTreeClassifier(criterion='entropy')))\n",
    "classification_model.append(('Random Forest',RandomForestClassifier(n_estimators=100,criterion='entropy')))\n",
    "\n",
    "# for name,model in classification_model:\n",
    "#     kfold = KFold(n_splits=10,random_state=7)\n",
    "#     result = cross_val_score(model,X,y,cv=kfold,scoring ='accuracy')\n",
    "#     print('%s : Mean Accuracy = %.2f%% - SD Accuracy = %.2f%%' %(name,result.mean()*100,result.std()*100))\n",
    "    \n",
    "    #modeling\n",
    "# classification_models = []\n",
    "# classification_models.append(('Logistic Regression', LogisticRegression(solver=\"liblinear\")))\n",
    "# classification_models.append(('K Nearest Neighbor', KNeighborsClassifier(n_neighbors=5, metric=\"minkowski\",p=2)))\n",
    "# classification_models.append(('Kernel SVM', SVC(kernel = 'rbf',gamma='scale')))\n",
    "# classification_models.append(('Naive Bayes', GaussianNB()))\n",
    "# classification_models.append(('Decision Tree', DecisionTreeClassifier(criterion = \"entropy\")))\n",
    "# classification_models.append(('Random Forest', RandomForestClassifier(n_estimators=100, criterion=\"entropy\")))\n",
    "print(\"Classification Model:\\n\",classification_model)\n",
    "for name, model in classification_model:\n",
    "    kfold = KFold(n_splits=100)\n",
    "    result = cross_val_score(model, X, y, cv=kfold, scoring='accuracy')\n",
    "    print(\"%s: Mean Accuracy = %.2f%% - SD Accuracy = %.2f%%\" % (name, result.mean()*100, result.std()*100));\n"
   ]
  },
  {
   "cell_type": "code",
   "execution_count": null,
   "id": "46e66ac1",
   "metadata": {},
   "outputs": [],
   "source": []
  }
 ],
 "metadata": {
  "kernelspec": {
   "display_name": "Python 3 (ipykernel)",
   "language": "python",
   "name": "python3"
  },
  "language_info": {
   "codemirror_mode": {
    "name": "ipython",
    "version": 3
   },
   "file_extension": ".py",
   "mimetype": "text/x-python",
   "name": "python",
   "nbconvert_exporter": "python",
   "pygments_lexer": "ipython3",
   "version": "3.9.12"
  }
 },
 "nbformat": 4,
 "nbformat_minor": 5
}
