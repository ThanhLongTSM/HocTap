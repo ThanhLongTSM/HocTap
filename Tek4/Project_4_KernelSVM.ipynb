{
 "cells": [
  {
   "cell_type": "markdown",
   "id": "d466771d",
   "metadata": {},
   "source": [
    "Như ta thấy trong các trường hợp trên, ta không thể tách rời các lớp bằng sử dụng SVM tiêu chuẩn, thuật toán SVM theo mặc định đưa ra giả định rằng dữ liệu có thể phân tách tuyến tính nên đối với những trường hợp phi tuyến tính SVM sẽ không hiệu quả, do đó trong những trường hợp này ta phải sử dụng đến kernel SVM. Có một số kernel có sẵn trong sklearn như sau:\n",
    "\n",
    "- Gaussian RBF Kernel\n",
    "- Sigmoid Kernel\n",
    "- Polynomial Kernel\n",
    "###### Trong bài viết này ta sẽ sử dụng RBF kernel."
   ]
  },
  {
   "cell_type": "code",
   "execution_count": 1,
   "id": "c811e8e9",
   "metadata": {},
   "outputs": [],
   "source": [
    "import pandas as pd\n",
    "import numpy as np\n",
    "import seaborn as sns\n",
    "import matplotlib.pyplot as plt\n",
    "from sklearn.preprocessing import StandardScaler\n",
    "from sklearn.preprocessing import LabelEncoder\n",
    "from sklearn.model_selection import train_test_split\n",
    "\n",
    "from sklearn.svm import SVC\n",
    "from sklearn import metrics\n",
    "\n",
    "dataset= pd.read_csv(r'C:\\Users\\thesh\\OneDrive\\Máy tính\\AI\\data\\iphone_purchase_records.csv')\n",
    "X=dataset.iloc[:,:-1].values\n",
    "y=dataset.iloc[:,-1].values"
   ]
  },
  {
   "cell_type": "code",
   "execution_count": 2,
   "id": "4ce83962",
   "metadata": {},
   "outputs": [],
   "source": [
    "labelEncoder = LabelEncoder()\n",
    "X[:,0]=labelEncoder.fit_transform(X[:,0])\n",
    "X=np.vstack(X[:,:]).astype(float)\n",
    "X_train,X_test,y_train,y_test= train_test_split(X,y)\n",
    "sc = StandardScaler()\n",
    "X_train = sc.fit_transform(X_train)\n",
    "X_test = sc.fit_transform(X_test)"
   ]
  },
  {
   "cell_type": "code",
   "execution_count": 5,
   "id": "0fdb17f7",
   "metadata": {},
   "outputs": [
    {
     "name": "stdout",
     "output_type": "stream",
     "text": [
      "Accuracy:\n",
      " 0.92\n"
     ]
    }
   ],
   "source": [
    "classifier = SVC(kernel='rbf',random_state = 0)\n",
    "classifier.fit(X_train,y_train)\n",
    "y_pred = classifier.predict(X_test)\n",
    "cm= metrics.confusion_matrix(y_test,y_pred)\n",
    "accuracy = metrics.accuracy_score(y_test,y_pred)\n",
    "precision = metrics.precision_score(y_test,y_pred)\n",
    "recall = metrics.recall_score(y_test,y_pred)\n",
    "print('Accuracy:\\n',accuracy)"
   ]
  },
  {
   "cell_type": "code",
   "execution_count": 6,
   "id": "e0960bbd",
   "metadata": {},
   "outputs": [
    {
     "data": {
      "text/plain": [
       "Text(0.5, 1.0, 'RBF_SVM')"
      ]
     },
     "execution_count": 6,
     "metadata": {},
     "output_type": "execute_result"
    },
    {
     "data": {
      "image/png": "[encoded data removed]",
      "text/plain": [
       "<Figure size 432x288 with 2 Axes>"
      ]
     },
     "metadata": {
      "needs_background": "light"
     },
     "output_type": "display_data"
    }
   ],
   "source": [
    "sns.heatmap(cm,annot=True,fmt='d').set_title('RBF_SVM')"
   ]
  }
 ],
 "metadata": {
  "kernelspec": {
   "display_name": "Python 3 (ipykernel)",
   "language": "python",
   "name": "python3"
  },
  "language_info": {
   "codemirror_mode": {
    "name": "ipython",
    "version": 3
   },
   "file_extension": ".py",
   "mimetype": "text/x-python",
   "name": "python",
   "nbconvert_exporter": "python",
   "pygments_lexer": "ipython3",
   "version": "3.9.12"
  }
 },
 "nbformat": 4,
 "nbformat_minor": 5
}
