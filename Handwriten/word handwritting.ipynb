{
 "cells": [
  {
   "cell_type": "code",
   "execution_count": 1,
   "id": "dca2e014",
   "metadata": {},
   "outputs": [],
   "source": [
    "import pandas as pd"
   ]
  },
  {
   "cell_type": "code",
   "execution_count": 2,
   "id": "d71a2e38",
   "metadata": {},
   "outputs": [],
   "source": [
    "data = pd.read_csv('./aug_word_data4.csv')"
   ]
  },
  {
   "cell_type": "code",
   "execution_count": 22,
   "id": "346277b9",
   "metadata": {},
   "outputs": [
    {
     "data": {
      "text/plain": [
       "0           Bản\n",
       "1          chất\n",
       "2           của\n",
       "3         thành\n",
       "4          công\n",
       "          ...  \n",
       "110741     trực\n",
       "110742     tiếp\n",
       "110743      đến\n",
       "110744       uy\n",
       "110745      ông\n",
       "Name: label, Length: 110746, dtype: object"
      ]
     },
     "execution_count": 22,
     "metadata": {},
     "output_type": "execute_result"
    }
   ],
   "source": [
    "data['label']"
   ]
  },
  {
   "cell_type": "code",
   "execution_count": 17,
   "id": "7e6f721f",
   "metadata": {},
   "outputs": [
    {
     "name": "stdout",
     "output_type": "stream",
     "text": [
      "26222    -2.0 0.0 0.0 0.0 0.0 0.0 0.0 -5.0 -5.0 0.0 0.0...\n",
      "Name: image, dtype: object\n"
     ]
    }
   ],
   "source": [
    "print(data.sample(1)['image'])"
   ]
  },
  {
   "cell_type": "code",
   "execution_count": 107,
   "id": "e9d59624",
   "metadata": {},
   "outputs": [
    {
     "data": {
      "image/png": "[encoded data removed]",
      "text/plain": [
       "<Figure size 640x480 with 1 Axes>"
      ]
     },
     "metadata": {},
     "output_type": "display_data"
    }
   ],
   "source": [
    "import matplotlib.pyplot as plt\n",
    "import cv2\n",
    "import numpy as np\n",
    "a = data.sample(1)['image'].values\n",
    "type(a)\n",
    "b = a[0].split(' ')\n",
    "lists = []\n",
    "for i in range(len(b)):\n",
    "    lists.append(float(b[i]))\n",
    "lists = np.array(lists)\n",
    "pic = np.reshape(lists,(128,32))\n",
    "pic\n",
    "\n",
    "plt.imshow(pic)\n",
    "plt.show()"
   ]
  },
  {
   "cell_type": "code",
   "execution_count": 55,
   "id": "eac07c9d",
   "metadata": {},
   "outputs": [
    {
     "data": {
      "text/plain": [
       "array([1, 2, 3, 4, 5, 6])"
      ]
     },
     "execution_count": 55,
     "metadata": {},
     "output_type": "execute_result"
    }
   ],
   "source": [
    "A = np.array([1,2,3,4,5,6])\n",
    "A"
   ]
  }
 ],
 "metadata": {
  "kernelspec": {
   "display_name": "Python 3 (ipykernel)",
   "language": "python",
   "name": "python3"
  },
  "language_info": {
   "codemirror_mode": {
    "name": "ipython",
    "version": 3
   },
   "file_extension": ".py",
   "mimetype": "text/x-python",
   "name": "python",
   "nbconvert_exporter": "python",
   "pygments_lexer": "ipython3",
   "version": "3.7.15"
  }
 },
 "nbformat": 4,
 "nbformat_minor": 5
}
