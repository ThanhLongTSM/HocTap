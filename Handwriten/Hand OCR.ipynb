{
 "cells": [
  {
   "cell_type": "code",
   "execution_count": 1,
   "id": "874945eb",
   "metadata": {},
   "outputs": [
    {
     "data": {
      "text/html": [
       "<style>.container { width:80% !important; }</style>"
      ],
      "text/plain": [
       "<IPython.core.display.HTML object>"
      ]
     },
     "metadata": {},
     "output_type": "display_data"
    }
   ],
   "source": [
    "from IPython.display import display, HTML\n",
    "display(HTML(\"<style>.container { width:80% !important; }</style>\"))"
   ]
  },
  {
   "cell_type": "code",
   "execution_count": 1,
   "id": "7d923bdc",
   "metadata": {},
   "outputs": [],
   "source": [
    "import os \n",
    "import cv2\n",
    "import numpy as np \n",
    "import pandas as pd\n",
    "import csv\n",
    "import datetime\n",
    "import random\n",
    "\n",
    "import tensorflow as tf\n",
    "from tensorflow import keras\n",
    "from tensorflow.keras import layers\n",
    "\n",
    "from sklearn.utils import shuffle\n",
    "\n",
    "from sklearn.model_selection import GridSearchCV, train_test_split, RepeatedStratifiedKFold, cross_val_score, KFold,StratifiedKFold \n",
    "import pyprind\n",
    "import matplotlib.pyplot as plt\n",
    "\n",
    "import warnings\n",
    "warnings.filterwarnings('ignore')"
   ]
  },
  {
   "cell_type": "code",
   "execution_count": 2,
   "id": "24df1ab5",
   "metadata": {},
   "outputs": [
    {
     "name": "stdout",
     "output_type": "stream",
     "text": [
      "datetime_object 2023-03-17\n",
      "data    label                                              image\n",
      "0    Bản  0.0 0.0 0.0 0.0 0.0 0.0 0.0 0.0 0.0 0.0 0.0 0....\n",
      "1   chất  0.0 0.0 0.0 0.0 0.0 0.0 0.0 0.0 0.0 0.0 0.0 0....\n",
      "2    của  0.0 0.0 0.0 0.0 0.0 0.0 0.0 0.0 0.0 0.0 0.0 0....\n",
      "3  thành  0.0 0.0 0.0 0.0 0.0 0.0 0.0 0.0 0.0 0.0 0.0 0....\n"
     ]
    }
   ],
   "source": [
    "data = []\n",
    "datetime_object = datetime.date.today() #I need it to save file bc I will train a lot \n",
    "print ('datetime_object',datetime_object)\n",
    "data = pd.read_csv('./aug_word_data4.csv')\n",
    "print ('data',data.head(4))"
   ]
  },
  {
   "cell_type": "code",
   "execution_count": 3,
   "id": "6d7a451f",
   "metadata": {},
   "outputs": [],
   "source": [
    "new_df = data.sample(1500)"
   ]
  },
  {
   "cell_type": "code",
   "execution_count": 4,
   "id": "7f2066d0",
   "metadata": {},
   "outputs": [],
   "source": [
    "new_df.reset_index()\n",
    "new_df = new_df[['label','image']]"
   ]
  },
  {
   "cell_type": "code",
   "execution_count": 5,
   "id": "3dbb026b",
   "metadata": {},
   "outputs": [
    {
     "data": {
      "text/html": [
       "<div>\n",
       "<style scoped>\n",
       "    .dataframe tbody tr th:only-of-type {\n",
       "        vertical-align: middle;\n",
       "    }\n",
       "\n",
       "    .dataframe tbody tr th {\n",
       "        vertical-align: top;\n",
       "    }\n",
       "\n",
       "    .dataframe thead th {\n",
       "        text-align: right;\n",
       "    }\n",
       "</style>\n",
       "<table border=\"1\" class=\"dataframe\">\n",
       "  <thead>\n",
       "    <tr style=\"text-align: right;\">\n",
       "      <th></th>\n",
       "      <th>label</th>\n",
       "      <th>image</th>\n",
       "    </tr>\n",
       "  </thead>\n",
       "  <tbody>\n",
       "    <tr>\n",
       "      <th>83128</th>\n",
       "      <td>một</td>\n",
       "      <td>0.0 0.0 0.0 0.0 0.0 0.0 0.0 0.0 0.0 0.0 0.0 0....</td>\n",
       "    </tr>\n",
       "    <tr>\n",
       "      <th>45057</th>\n",
       "      <td>xã</td>\n",
       "      <td>0.0 0.0 0.0 0.0 0.0 0.0 0.0 0.0 0.0 0.0 0.0 0....</td>\n",
       "    </tr>\n",
       "    <tr>\n",
       "      <th>40233</th>\n",
       "      <td>dự</td>\n",
       "      <td>0.0 0.0 0.0 0.0 0.0 0.0 0.0 0.0 0.0 0.0 0.0 0....</td>\n",
       "    </tr>\n",
       "    <tr>\n",
       "      <th>46845</th>\n",
       "      <td>nên</td>\n",
       "      <td>0.0 0.0 0.0 0.0 0.0 0.0 0.0 0.0 0.0 0.0 0.0 0....</td>\n",
       "    </tr>\n",
       "    <tr>\n",
       "      <th>35569</th>\n",
       "      <td>để</td>\n",
       "      <td>0.0 0.0 0.0 0.0 0.0 0.0 0.0 0.0 0.0 0.0 0.0 0....</td>\n",
       "    </tr>\n",
       "    <tr>\n",
       "      <th>...</th>\n",
       "      <td>...</td>\n",
       "      <td>...</td>\n",
       "    </tr>\n",
       "    <tr>\n",
       "      <th>105145</th>\n",
       "      <td>với</td>\n",
       "      <td>0.0 0.0 0.0 0.0 0.0 0.0 0.0 0.0 0.0 0.0 0.0 0....</td>\n",
       "    </tr>\n",
       "    <tr>\n",
       "      <th>40484</th>\n",
       "      <td>tư</td>\n",
       "      <td>0.0 0.0 0.0 0.0 0.0 0.0 0.0 0.0 0.0 0.0 0.0 0....</td>\n",
       "    </tr>\n",
       "    <tr>\n",
       "      <th>50622</th>\n",
       "      <td>xử</td>\n",
       "      <td>0.0 0.0 0.0 0.0 0.0 0.0 0.0 0.0 0.0 0.0 0.0 0....</td>\n",
       "    </tr>\n",
       "    <tr>\n",
       "      <th>34460</th>\n",
       "      <td>hà</td>\n",
       "      <td>0.0 0.0 0.0 0.0 0.0 0.0 0.0 0.0 0.0 0.0 0.0 0....</td>\n",
       "    </tr>\n",
       "    <tr>\n",
       "      <th>64901</th>\n",
       "      <td>anh</td>\n",
       "      <td>0.0 0.0 0.0 0.0 0.0 0.0 0.0 0.0 0.0 0.0 0.0 0....</td>\n",
       "    </tr>\n",
       "  </tbody>\n",
       "</table>\n",
       "<p>1500 rows × 2 columns</p>\n",
       "</div>"
      ],
      "text/plain": [
       "       label                                              image\n",
       "83128    một  0.0 0.0 0.0 0.0 0.0 0.0 0.0 0.0 0.0 0.0 0.0 0....\n",
       "45057     xã  0.0 0.0 0.0 0.0 0.0 0.0 0.0 0.0 0.0 0.0 0.0 0....\n",
       "40233     dự  0.0 0.0 0.0 0.0 0.0 0.0 0.0 0.0 0.0 0.0 0.0 0....\n",
       "46845    nên  0.0 0.0 0.0 0.0 0.0 0.0 0.0 0.0 0.0 0.0 0.0 0....\n",
       "35569     để  0.0 0.0 0.0 0.0 0.0 0.0 0.0 0.0 0.0 0.0 0.0 0....\n",
       "...      ...                                                ...\n",
       "105145   với  0.0 0.0 0.0 0.0 0.0 0.0 0.0 0.0 0.0 0.0 0.0 0....\n",
       "40484     tư  0.0 0.0 0.0 0.0 0.0 0.0 0.0 0.0 0.0 0.0 0.0 0....\n",
       "50622     xử  0.0 0.0 0.0 0.0 0.0 0.0 0.0 0.0 0.0 0.0 0.0 0....\n",
       "34460     hà  0.0 0.0 0.0 0.0 0.0 0.0 0.0 0.0 0.0 0.0 0.0 0....\n",
       "64901    anh  0.0 0.0 0.0 0.0 0.0 0.0 0.0 0.0 0.0 0.0 0.0 0....\n",
       "\n",
       "[1500 rows x 2 columns]"
      ]
     },
     "execution_count": 5,
     "metadata": {},
     "output_type": "execute_result"
    }
   ],
   "source": [
    "new_df"
   ]
  },
  {
   "cell_type": "code",
   "execution_count": 6,
   "id": "86a16120",
   "metadata": {},
   "outputs": [],
   "source": [
    "new_df.to_csv('./dataSamples.csv',index=False,encoding='utf-8')"
   ]
  },
  {
   "cell_type": "code",
   "execution_count": 39,
   "id": "748b8c36",
   "metadata": {},
   "outputs": [],
   "source": [
    "def show_sample_image(new_df):\n",
    "    labels = []\n",
    "    images = []\n",
    "    labels = new_df.iloc[: ,0].to_list() #If you want to take 100 image to test, use data.iloc[: 100 ,0].to_list()\n",
    "    images = new_df.iloc[: ,1].to_list()\n",
    "    t = []\n",
    "    for i,image in enumerate(images):\n",
    "        image = np.array(image.split(' '), dtype = float)\n",
    "        t.append(image)\n",
    "    images = t\n",
    "    t = []\n",
    "    images = np.array(images).reshape(-1, 128, 32, 1)\n",
    "    plt.figure(num = 'char',figsize  = (12,7))\n",
    "    for i in range(6):\n",
    "        rand = random.randint(0,len(images))\n",
    "        plt.subplot(3,2,i+1)\n",
    "        plt.title(labels[rand])\n",
    "        plt.imshow(np.rot90(np.fliplr(np.squeeze(images[rand,:,:,]))))\n",
    "        plt.axis('off')\n",
    "    plt.show()"
   ]
  },
  {
   "cell_type": "code",
   "execution_count": 40,
   "id": "c5730126",
   "metadata": {},
   "outputs": [
    {
     "data": {
      "image/png": "[encoded data removed]",
      "text/plain": [
       "<Figure size 1200x700 with 6 Axes>"
      ]
     },
     "metadata": {},
     "output_type": "display_data"
    }
   ],
   "source": [
    "show_sample_image(new_df)"
   ]
  },
  {
   "cell_type": "code",
   "execution_count": 9,
   "id": "f88e0509",
   "metadata": {},
   "outputs": [
    {
     "name": "stdout",
     "output_type": "stream",
     "text": [
      "\n",
      "The number of data 110746\n",
      "max_str_len 11\n"
     ]
    }
   ],
   "source": [
    "labels = []\n",
    "images = []\n",
    "\n",
    "labels = data.iloc[: ,0].to_list() #If you want to take 100 image to test, use data.iloc[: 100 ,0].to_list()\n",
    "images = data.iloc[: ,1].to_list()\n",
    "print ('\\nThe number of data', len(labels))\n",
    "max_str_len = max([len(str(label)) for i,label in enumerate(labels)])\n",
    "print ('max_str_len',max_str_len)\n",
    "\n",
    "data = [] #This code here for not exploding the RAM"
   ]
  },
  {
   "cell_type": "code",
   "execution_count": 10,
   "id": "904c3c06",
   "metadata": {},
   "outputs": [
    {
     "name": "stdout",
     "output_type": "stream",
     "text": [
      "The number of invalid data: 12\n",
      "The number of valid data left: 110734\n"
     ]
    }
   ],
   "source": [
    "count = 0\n",
    "for i, label in enumerate(labels):\n",
    "    if type(label) == float:\n",
    "        del labels[i]\n",
    "        del images[i]\n",
    "        count +=1\n",
    "print ('The number of invalid data:',count)\n",
    "print ('The number of valid data left:',len(labels))"
   ]
  },
  {
   "cell_type": "code",
   "execution_count": 11,
   "id": "dcc80b6e",
   "metadata": {},
   "outputs": [],
   "source": [
    "t = []\n",
    "for i,image in enumerate(images):\n",
    "    image = np.array(image.split(' '), dtype = float)\n",
    "    t.append(image)\n",
    "images = []"
   ]
  },
  {
   "cell_type": "code",
   "execution_count": 12,
   "id": "6b2696ed",
   "metadata": {},
   "outputs": [
    {
     "name": "stdout",
     "output_type": "stream",
     "text": [
      "len images 110734\n"
     ]
    }
   ],
   "source": [
    "images = t\n",
    "t = []\n",
    "print ('len images', len(images))"
   ]
  },
  {
   "cell_type": "code",
   "execution_count": 13,
   "id": "3be49c20",
   "metadata": {},
   "outputs": [],
   "source": [
    "images = np.array(images).reshape(-1, 128, 32, 1)"
   ]
  },
  {
   "cell_type": "code",
   "execution_count": null,
   "id": "c9a5499a",
   "metadata": {},
   "outputs": [],
   "source": []
  },
  {
   "cell_type": "markdown",
   "id": "da7a598c",
   "metadata": {},
   "source": [
    "# Split data to train_valid_test"
   ]
  },
  {
   "cell_type": "code",
   "execution_count": 14,
   "id": "c59375c2",
   "metadata": {},
   "outputs": [
    {
     "name": "stdout",
     "output_type": "stream",
     "text": [
      "\n",
      "len(X_train) 94123\n",
      "len(X_valid) 16611\n",
      "\n",
      " X_train.shape (94123, 128, 32, 1)\n",
      "\n",
      " X_valid.shape (16611, 128, 32, 1)\n"
     ]
    }
   ],
   "source": [
    "X_train, X_valid, y_train, y_valid = train_test_split(images, labels, train_size= 0.85, shuffle = True)\n",
    "\n",
    "images = []\n",
    "labels = [] #This code here for not exploding the RAM\n",
    "\n",
    "print ('\\nlen(X_train)',len(X_train))\n",
    "print ('len(X_valid)',len(X_valid))\n",
    "print ('\\n X_train.shape',X_train.shape) #  X_train.shape (94123, 128, 32, 1)\n",
    "print ('\\n X_valid.shape',X_valid.shape) # X_valid.shape (16611, 128, 32, 1)"
   ]
  },
  {
   "cell_type": "code",
   "execution_count": 15,
   "id": "a6f740fc",
   "metadata": {},
   "outputs": [
    {
     "data": {
      "text/plain": [
       "'có'"
      ]
     },
     "execution_count": 15,
     "metadata": {},
     "output_type": "execute_result"
    }
   ],
   "source": [
    "y_train[0] # 'đồng'"
   ]
  },
  {
   "cell_type": "code",
   "execution_count": 16,
   "id": "47fe2cc4",
   "metadata": {},
   "outputs": [
    {
     "data": {
      "image/png": "[encoded data removed]",
      "text/plain": [
       "<Figure size 1200x700 with 6 Axes>"
      ]
     },
     "metadata": {},
     "output_type": "display_data"
    }
   ],
   "source": [
    "plt.figure(num = 'char',figsize  = (12,7))\n",
    "for i in range(6):\n",
    "    rand = random.randint(0,len(X_train))\n",
    "    plt.subplot(3,2,i+1)\n",
    "    plt.title(y_train[rand])\n",
    "    plt.imshow(np.rot90(np.fliplr(np.squeeze(X_train[rand,:,:,]))))\n",
    "    plt.axis('off')\n",
    "plt.show()"
   ]
  },
  {
   "cell_type": "code",
   "execution_count": 17,
   "id": "40a61964",
   "metadata": {},
   "outputs": [
    {
     "data": {
      "image/png": "[encoded data removed]",
      "text/plain": [
       "<Figure size 1200x700 with 6 Axes>"
      ]
     },
     "metadata": {},
     "output_type": "display_data"
    }
   ],
   "source": [
    "plt.figure(num = 'char',figsize  = (12,7))\n",
    "for i in range(6):\n",
    "    rand = random.randint(0,len(X_train))\n",
    "    plt.subplot(3,2,i+1)\n",
    "    plt.title(y_train[rand])\n",
    "    plt.imshow((np.squeeze(X_train[rand,:,:,])))\n",
    "    plt.axis('off')\n",
    "plt.show()"
   ]
  },
  {
   "cell_type": "markdown",
   "id": "720ebc52",
   "metadata": {},
   "source": [
    "# Prepare for CTC Loss"
   ]
  },
  {
   "cell_type": "code",
   "execution_count": 18,
   "id": "a4b881a0",
   "metadata": {},
   "outputs": [
    {
     "name": "stdout",
     "output_type": "stream",
     "text": [
      "the number of characters: 147\n"
     ]
    }
   ],
   "source": [
    "alphabets = '0123456789ABCDEFGHIJKLMNOPQRSTUVWXYabcdefghijklmnopqrstuvxyzÀÁÂÔÚÝàáâãèéêìíòóôõùúýĂăĐđĩũƒƠơƯưạẢảẤấẦầẩẫậắằẳẵặẹẻẽếỀềỂểễỆệỉịọỏỐốỒồổỗộớờỞởỡợụỦủứừửữựỳỷỹ'\n",
    "print ('the number of characters:', len(alphabets))\n",
    "#max_str_len = 11 # max length of input labels\n",
    "num_of_characters = len(alphabets) + 1 # +1 for ctc pseudo blank\n",
    "num_of_timestamps = 31  # max length of predicted labels # Đặt num_of_timestamps <= shape(last Dense model)\n",
    "\n",
    "\n",
    "def label_to_num(label):\n",
    "    label_num = []\n",
    "    for ch in label:\n",
    "        label_num.append(alphabets.find(ch))\n",
    "        \n",
    "    return np.array(label_num)\n",
    "\n",
    "def num_to_label(num):\n",
    "    ret = \"\"\n",
    "    for ch in num:\n",
    "        if ch == -1:  # CTC Blank\n",
    "            break\n",
    "        else:\n",
    "            ret+=alphabets[ch]\n",
    "    return ret"
   ]
  },
  {
   "cell_type": "code",
   "execution_count": 19,
   "id": "8db78be6",
   "metadata": {},
   "outputs": [
    {
     "name": "stdout",
     "output_type": "stream",
     "text": [
      "len train_y 94123\n"
     ]
    }
   ],
   "source": [
    "train_y = np.ones([len(X_train), max_str_len]) * -1\n",
    "train_label_len = np.zeros([len(X_train), 1])\n",
    "train_input_len = np.ones([len(X_train), 1]) * (num_of_timestamps-2)\n",
    "train_output = np.zeros([len(X_train)])\n",
    "\n",
    "for i in range(len(X_train)):\n",
    "    train_label_len[i] = len(y_train[i])\n",
    "    train_y[i, 0:len(y_train[i])]= label_to_num(y_train[i])  \n",
    "\n",
    "print ('len train_y',len(train_y))"
   ]
  },
  {
   "cell_type": "code",
   "execution_count": 20,
   "id": "8d93f77e",
   "metadata": {},
   "outputs": [
    {
     "data": {
      "text/plain": [
       "array([0., 0., 0., ..., 0., 0., 0.])"
      ]
     },
     "execution_count": 20,
     "metadata": {},
     "output_type": "execute_result"
    }
   ],
   "source": [
    "train_y[0].shape #(11,)\n",
    "train_label_len[0] # array([4.]) là nhãn của y_train[0] có 4 ký tự\n",
    "train_input_len[0] # array([29.])\n",
    "train_output.shape # (94123,) là array gồm 94123 ký tự 0\n",
    "train_output #array([0., 0., 0., ..., 0., 0., 0.])"
   ]
  },
  {
   "cell_type": "code",
   "execution_count": 21,
   "id": "51dc06f0",
   "metadata": {},
   "outputs": [],
   "source": [
    "# print(train_y[5])\n",
    "# print(y_train[5])"
   ]
  },
  {
   "cell_type": "code",
   "execution_count": 22,
   "id": "1c18f6a6",
   "metadata": {},
   "outputs": [
    {
     "name": "stdout",
     "output_type": "stream",
     "text": [
      "len valid_y 16611\n"
     ]
    }
   ],
   "source": [
    "valid_y = np.ones([len(X_valid), max_str_len]) * -1\n",
    "valid_label_len = np.zeros([len(X_valid), 1])\n",
    "valid_input_len = np.ones([len(X_valid), 1]) * (num_of_timestamps-2)\n",
    "valid_output = np.zeros([len(X_valid)])\n",
    "\n",
    "for i in range(len(X_valid)):\n",
    "    valid_label_len[i] = len(y_valid[i])\n",
    "    valid_y[i, 0:len(y_valid[i])]= label_to_num(y_valid[i])  \n",
    "    \n",
    "print ('len valid_y', len(valid_y))\n",
    "#print('\\n True label_train  : ',y_train[10] , '\\ntrain_y : ',train_y[10],'\\ntrain_label_len : ',train_label_len[10], '\\ntrain_input_len : ', train_input_len[10])"
   ]
  },
  {
   "cell_type": "code",
   "execution_count": 21,
   "id": "acc644d9",
   "metadata": {
    "scrolled": true
   },
   "outputs": [
    {
     "name": "stdout",
     "output_type": "stream",
     "text": [
      "\n",
      " True label_train  :  tỉnh \n",
      "train_y :  [ 54. 119.  48.  42.  -1.  -1.  -1.  -1.  -1.  -1.  -1.] \n",
      "train_label_len :  [4.] \n",
      "train_input_len :  [29.]\n"
     ]
    }
   ],
   "source": [
    "print('\\n True label_train  : ',y_train[10] , '\\ntrain_y : ',train_y[10],'\\ntrain_label_len : ',train_label_len[10], '\\ntrain_input_len : ', train_input_len[10])"
   ]
  },
  {
   "cell_type": "markdown",
   "id": "774769d0",
   "metadata": {},
   "source": [
    "# Build CRNN + CTC Loss"
   ]
  },
  {
   "cell_type": "code",
   "execution_count": 31,
   "id": "c1260e1f",
   "metadata": {},
   "outputs": [
    {
     "name": "stdout",
     "output_type": "stream",
     "text": [
      "Model: \"ocr_model_v1\"\n",
      "__________________________________________________________________________________________________\n",
      " Layer (type)                   Output Shape         Param #     Connected to                     \n",
      "==================================================================================================\n",
      " image (InputLayer)             [(None, 128, 32, 1)  0           []                               \n",
      "                                ]                                                                 \n",
      "                                                                                                  \n",
      " Conv1 (Conv2D)                 (None, 128, 32, 64)  640         ['image[0][0]']                  \n",
      "                                                                                                  \n",
      " pool1 (MaxPooling2D)           (None, 64, 16, 64)   0           ['Conv1[0][0]']                  \n",
      "                                                                                                  \n",
      " Conv2 (Conv2D)                 (None, 64, 16, 128)  73856       ['pool1[0][0]']                  \n",
      "                                                                                                  \n",
      " pool2 (MaxPooling2D)           (None, 32, 8, 128)   0           ['Conv2[0][0]']                  \n",
      "                                                                                                  \n",
      " Conv3 (Conv2D)                 (None, 32, 8, 256)   295168      ['pool2[0][0]']                  \n",
      "                                                                                                  \n",
      " Conv4 (Conv2D)                 (None, 32, 8, 256)   590080      ['Conv3[0][0]']                  \n",
      "                                                                                                  \n",
      " pool4 (MaxPooling2D)           (None, 32, 4, 256)   0           ['Conv4[0][0]']                  \n",
      "                                                                                                  \n",
      " Conv5 (Conv2D)                 (None, 32, 4, 512)   1180160     ['pool4[0][0]']                  \n",
      "                                                                                                  \n",
      " BatchNormalization_1 (BatchNor  (None, 32, 4, 512)  2048        ['Conv5[0][0]']                  \n",
      " malization)                                                                                      \n",
      "                                                                                                  \n",
      " Conv6 (Conv2D)                 (None, 32, 4, 512)   2359808     ['BatchNormalization_1[0][0]']   \n",
      "                                                                                                  \n",
      " BatchNormalization_2 (BatchNor  (None, 32, 4, 512)  2048        ['Conv6[0][0]']                  \n",
      " malization)                                                                                      \n",
      "                                                                                                  \n",
      " pool6 (MaxPooling2D)           (None, 32, 2, 512)   0           ['BatchNormalization_2[0][0]']   \n",
      "                                                                                                  \n",
      " Conv7 (Conv2D)                 (None, 31, 1, 512)   1049088     ['pool6[0][0]']                  \n",
      "                                                                                                  \n",
      " reshape (Reshape)              (None, 31, 512)      0           ['Conv7[0][0]']                  \n",
      "                                                                                                  \n",
      " permute_1 (Permute)            (None, 512, 31)      0           ['reshape[0][0]']                \n",
      "                                                                                                  \n",
      " dense_1 (Dense)                (None, 512, 31)      992         ['permute_1[0][0]']              \n",
      "                                                                                                  \n",
      " dim_reduction (Lambda)         (None, 31)           0           ['dense_1[0][0]']                \n",
      "                                                                                                  \n",
      " repeat_vector_1 (RepeatVector)  (None, 512, 31)     0           ['dim_reduction[0][0]']          \n",
      "                                                                                                  \n",
      " attention_vec (Permute)        (None, 31, 512)      0           ['repeat_vector_1[0][0]']        \n",
      "                                                                                                  \n",
      " attention_mul (Multiply)       (None, 31, 512)      0           ['reshape[0][0]',                \n",
      "                                                                  'attention_vec[0][0]']          \n",
      "                                                                                                  \n",
      " bidirectional_2 (Bidirectional  (None, 31, 256)     656384      ['attention_mul[0][0]']          \n",
      " )                                                                                                \n",
      "                                                                                                  \n",
      " bidirectional_3 (Bidirectional  (None, 31, 256)     394240      ['bidirectional_2[0][0]']        \n",
      " )                                                                                                \n",
      "                                                                                                  \n",
      " last_dense (Dense)             (None, 31, 148)      38036       ['bidirectional_3[0][0]']        \n",
      "                                                                                                  \n",
      " gtruth_labels (InputLayer)     [(None, 11)]         0           []                               \n",
      "                                                                                                  \n",
      " input_length (InputLayer)      [(None, 1)]          0           []                               \n",
      "                                                                                                  \n",
      " label_length (InputLayer)      [(None, 1)]          0           []                               \n",
      "                                                                                                  \n",
      " ctc (Lambda)                   (None, 1)            0           ['last_dense[0][0]',             \n",
      "                                                                  'gtruth_labels[0][0]',          \n",
      "                                                                  'input_length[0][0]',           \n",
      "                                                                  'label_length[0][0]']           \n",
      "                                                                                                  \n",
      "==================================================================================================\n",
      "Total params: 6,642,548\n",
      "Trainable params: 6,640,500\n",
      "Non-trainable params: 2,048\n",
      "__________________________________________________________________________________________________\n"
     ]
    }
   ],
   "source": [
    "def build_word_model(alphabets, max_str_len, img_width = 128,img_height = 32):\n",
    "    # Inputs to the model\n",
    "\n",
    "    input_img = layers.Input(\n",
    "        shape=(img_width, img_height, 1), name=\"image\", dtype=\"float32\"\n",
    "    )\n",
    "    \n",
    "    # First conv block\n",
    "    x = layers.Conv2D(\n",
    "        64,\n",
    "        (3, 3),\n",
    "        activation=\"relu\",\n",
    "        kernel_initializer=\"he_normal\",\n",
    "        padding=\"same\",\n",
    "        name=\"Conv1\",\n",
    "    )(input_img)\n",
    "    x = layers.MaxPooling2D((2, 2),strides = 2, name=\"pool1\")(x)\n",
    "\n",
    "    # Second conv block\n",
    "    x = layers.Conv2D(\n",
    "        128,\n",
    "        (3, 3),\n",
    "        activation=\"relu\",\n",
    "        kernel_initializer=\"he_normal\",\n",
    "        padding=\"same\",\n",
    "        name=\"Conv2\",\n",
    "    )(x)\n",
    "    x = layers.MaxPooling2D((2, 2), strides = 2, name=\"pool2\")(x)\n",
    "\n",
    "    # Third conv block\n",
    "    x = layers.Conv2D(\n",
    "        256,\n",
    "        (3, 3),\n",
    "        activation=\"relu\",\n",
    "        kernel_initializer=\"he_normal\",\n",
    "        padding=\"same\",\n",
    "        name=\"Conv3\",\n",
    "    )(x)\n",
    "  \n",
    "\n",
    "    # Fourth conv block\n",
    "    x = layers.Conv2D(\n",
    "        256,\n",
    "        (3, 3),\n",
    "        activation=\"relu\",\n",
    "        kernel_initializer=\"he_normal\",\n",
    "        padding=\"same\",\n",
    "        name=\"Conv4\",\n",
    "    )(x)\n",
    "\n",
    "    x = layers.MaxPooling2D((1, 2), name=\"pool4\")(x)\n",
    "\n",
    "    # Fifth conv block\n",
    "    x = layers.Conv2D(\n",
    "        512,\n",
    "        (3, 3),\n",
    "        activation=\"relu\",\n",
    "        kernel_initializer=\"he_normal\",\n",
    "        padding=\"same\",\n",
    "        name=\"Conv5\",\n",
    "    )(x)\n",
    "\n",
    "    x = layers.BatchNormalization(momentum = 0.8, name=\"BatchNormalization_1\")(x)\n",
    "    \n",
    "\n",
    "    # Sixth conv block\n",
    "    x = layers.Conv2D(\n",
    "        512,\n",
    "        (3, 3),\n",
    "        activation=\"relu\",\n",
    "        kernel_initializer=\"he_normal\",\n",
    "        padding=\"same\",\n",
    "        name=\"Conv6\",\n",
    "    )(x)\n",
    "\n",
    "    x = layers.BatchNormalization(momentum = 0.8, name=\"BatchNormalization_2\")(x)\n",
    "\n",
    "    x = layers.MaxPooling2D((1, 2), name=\"pool6\")(x)\n",
    "\n",
    "    # Seventh conv block\n",
    "    x = layers.Conv2D(\n",
    "        512,\n",
    "        (2, 2),\n",
    "        activation=\"relu\",\n",
    "        kernel_initializer=\"he_normal\",\n",
    "        padding=\"valid\",\n",
    "        name=\"Conv7\",\n",
    "    )(x)\n",
    "\n",
    "\n",
    "    # The number of filters in the last layer is 512. Reshape accordingly before\n",
    "    # passing the output to the RNN part of the model\n",
    "\n",
    "    new_shape = (31,512) #Không cần downsampling #Nên coi shape lớp trước\n",
    "\n",
    "    x = layers.Reshape(target_shape=new_shape, name=\"reshape\")(x)\n",
    "\n",
    "    #x = layers.Dense(512, activation=\"relu\", name=\"dense1\")(x)\n",
    "    #x = layers.Dense(256, activation=\"relu\", name=\"dense2\")(x)\n",
    "  \n",
    "    #x = layers.Dropout(0.2)(x)\n",
    "    \n",
    "    def attention_rnn(inputs):\n",
    "        # inputs.shape = (batch_size, time_steps, input_dim)\n",
    "        input_dim = int(inputs.shape[2])\n",
    "        timestep = int(inputs.shape[1])\n",
    "        a = layers.Permute((2, 1))(inputs) #Permutes the dimensions of the input according to a given pattern.\n",
    "        a = layers.Dense(timestep, activation='softmax')(a) #// Alignment Model + Softmax\n",
    "        a = layers.Lambda(lambda x: keras.backend.mean(x, axis=1), name='dim_reduction')(a)\n",
    "        a = layers.RepeatVector(input_dim)(a)\n",
    "        a_probs = layers.Permute((2, 1), name='attention_vec')(a)\n",
    "        output_attention_mul = layers.multiply([inputs, a_probs], name='attention_mul') #// Weighted Average \n",
    "        return output_attention_mul\n",
    "\n",
    "    x = attention_rnn(x)\n",
    "    # RNNs\n",
    "    x = layers.Bidirectional(layers.LSTM(128, return_sequences=True, dropout=0.25))(x)\n",
    "    x = layers.Bidirectional(layers.LSTM(128, return_sequences=True, dropout=0.25))(x)\n",
    "\n",
    "    # Output layer\n",
    "    y_pred = layers.Dense(len(alphabets) + 1 , activation=\"softmax\", name=\"last_dense\")(x) # y pred\n",
    "    word_model = keras.models.Model(inputs=input_img, outputs=y_pred, name=\"functional_1\")\n",
    "\n",
    "    def ctc_lambda_func(args):\n",
    "        y_pred, labels, input_length, label_length = args\n",
    "        # the 2 is critical here since the first couple outputs of the RNN\n",
    "        # tend to be garbage\n",
    "        y_pred = y_pred[:, 2:, :]\n",
    "        return tf.keras.backend.ctc_batch_cost(labels, y_pred, input_length, label_length)\n",
    "\n",
    "    labels = layers.Input(name='gtruth_labels', shape=[max_str_len], dtype='float32')\n",
    "    input_length = layers.Input(name='input_length', shape=[1], dtype='int64')\n",
    "    label_length = layers.Input(name='label_length', shape=[1], dtype='int64')\n",
    "\n",
    "    ctc_loss = keras.layers.Lambda(ctc_lambda_func, output_shape=(1,), name='ctc')([y_pred, labels, input_length, label_length])\n",
    "    word_model_CTC = keras.models.Model(inputs=[input_img, labels, input_length, label_length], outputs=ctc_loss, name = \"ocr_model_v1\")\n",
    "    \n",
    "    return word_model, word_model_CTC\n",
    "\n",
    "word_model, word_model_CTC = build_word_model(alphabets = alphabets, max_str_len = max_str_len)\n",
    "word_model_CTC.summary()"
   ]
  },
  {
   "cell_type": "markdown",
   "id": "288ff4af",
   "metadata": {},
   "source": [
    "# Training\n"
   ]
  },
  {
   "cell_type": "code",
   "execution_count": 35,
   "id": "a915c64e",
   "metadata": {
    "scrolled": true
   },
   "outputs": [
    {
     "name": "stdout",
     "output_type": "stream",
     "text": [
      "WARNING:tensorflow:`period` argument is deprecated. Please use `save_freq` to specify the frequency in number of batches seen.\n"
     ]
    }
   ],
   "source": [
    "epochs = 100\n",
    "batch_size = 128\n",
    "early_stopping_patience = 30\n",
    "\n",
    "def scheduler(epoch):\n",
    "    if epoch <= 25:\n",
    "        return 1e-3  \n",
    "    elif 25 < epoch <= 30:\n",
    "        return 1e-4\n",
    "    else:\n",
    "        return 1e-5\n",
    "\n",
    "# Add early stopping\n",
    "my_callbacks = [\n",
    "    tf.keras.callbacks.LearningRateScheduler(scheduler),\n",
    "    tf.keras.callbacks.ModelCheckpoint(filepath='./model_word/word_model_{epoch:02d}_'+str(datetime_object)+'.h5', \n",
    "                                    save_freq='epoch',\n",
    "                                    monitor='val_loss',\n",
    "                                    mode='auto',\n",
    "                                    save_best_only=True,\n",
    "                                    period = 5),\n",
    "    tf.keras.callbacks.EarlyStopping(\n",
    "    monitor=\"val_loss\", patience=early_stopping_patience, restore_best_weights=True\n",
    "    )\n",
    "]\n",
    "\n",
    "word_model_CTC.compile(loss={'ctc': lambda y_true, y_pred: y_pred}, \n",
    "                    optimizer=keras.optimizers.Adam(),                  \n",
    "                    )\n",
    "\n"
   ]
  },
  {
   "cell_type": "code",
   "execution_count": null,
   "id": "08134f2b",
   "metadata": {},
   "outputs": [],
   "source": [
    "history = word_model_CTC.fit(x=[X_train, train_y, train_input_len, train_label_len], y=train_output, \n",
    "                validation_data=([X_valid, valid_y, valid_input_len, valid_label_len], valid_output),\n",
    "                epochs = epochs, \n",
    "                batch_size = batch_size,\n",
    "                callbacks = my_callbacks,\n",
    "                )\n",
    "\n",
    "\n",
    "# list all data in history\n",
    "print(history.history.keys())\n",
    "\n",
    "# summarize history for loss\n",
    "\n",
    "fig, ax = plt.subplots()\n",
    "plt.plot(history.history['loss'])\n",
    "plt.plot(history.history['val_loss'])\n",
    "plt.title('model loss')\n",
    "plt.ylabel('loss')\n",
    "plt.xlabel('epoch')\n",
    "plt.legend(['train', 'valid'], loc='upper left')\n",
    "plt.savefig('./model_word/word_model_{}_loss.png'.format(datetime_object))\n",
    "plt.show()\n",
    "\n",
    "\n",
    "with open('./model_word/word_model_{}.txt'.format(datetime_object), 'w', encoding='utf-8') as f:\n",
    "    f.write('len(X_train): {} \\nlen (X_valid): {} \\n'.format(len(X_train), len (X_valid)))\n",
    "    f.write('max_str_len: {} \\nnum_of_characters: {} \\nnum_of_timestamps: {} \\n'.format(max_str_len,num_of_characters,num_of_timestamps))\n",
    "    f.write('batch_size: {} \\nepochs: {} \\n'.format(batch_size,epochs) )"
   ]
  },
  {
   "cell_type": "code",
   "execution_count": 36,
   "id": "2be1350c",
   "metadata": {},
   "outputs": [
    {
     "data": {
      "text/plain": [
       "(94123, 11)"
      ]
     },
     "execution_count": 36,
     "metadata": {},
     "output_type": "execute_result"
    }
   ],
   "source": [
    "train_y.shape"
   ]
  },
  {
   "cell_type": "code",
   "execution_count": 37,
   "id": "6385d8a4",
   "metadata": {},
   "outputs": [
    {
     "data": {
      "text/plain": [
       "(94123, 128, 32, 1)"
      ]
     },
     "execution_count": 37,
     "metadata": {},
     "output_type": "execute_result"
    }
   ],
   "source": [
    "X_train.shape"
   ]
  },
  {
   "cell_type": "code",
   "execution_count": 30,
   "id": "cea2a6f7",
   "metadata": {},
   "outputs": [
    {
     "data": {
      "text/plain": [
       "array([29.])"
      ]
     },
     "execution_count": 30,
     "metadata": {},
     "output_type": "execute_result"
    }
   ],
   "source": [
    "train_input_len[3]"
   ]
  },
  {
   "cell_type": "code",
   "execution_count": 37,
   "id": "d0dd3893",
   "metadata": {},
   "outputs": [
    {
     "data": {
      "text/plain": [
       "array([2.])"
      ]
     },
     "execution_count": 37,
     "metadata": {},
     "output_type": "execute_result"
    }
   ],
   "source": [
    "train_label_len[0]"
   ]
  },
  {
   "cell_type": "code",
   "execution_count": 43,
   "id": "a4fc8f64",
   "metadata": {},
   "outputs": [
    {
     "data": {
      "text/plain": [
       "0.0"
      ]
     },
     "execution_count": 43,
     "metadata": {},
     "output_type": "execute_result"
    }
   ],
   "source": [
    "train_output[]"
   ]
  },
  {
   "cell_type": "markdown",
   "id": "c5c8b1e8",
   "metadata": {},
   "source": [
    "word_model.save(r'E:\\New folder/word_model_last.h5')"
   ]
  },
  {
   "cell_type": "markdown",
   "id": "9a5c9cfa",
   "metadata": {},
   "source": [
    "# Evaluation valid test"
   ]
  },
  {
   "cell_type": "code",
   "execution_count": 1,
   "id": "3db5099e",
   "metadata": {},
   "outputs": [],
   "source": [
    "def avg_wer(wer_scores, combined_ref_len):\n",
    "    return float(sum(wer_scores)) / float(combined_ref_len)\n",
    "\n",
    "\n",
    "def _levenshtein_distance(ref, hyp):\n",
    "\n",
    "    m = len(ref)\n",
    "    n = len(hyp)\n",
    "\n",
    "    # special case\n",
    "    if ref == hyp:\n",
    "        return 0\n",
    "    if m == 0:\n",
    "        return n\n",
    "    if n == 0:\n",
    "        return m\n",
    "\n",
    "    if m < n:\n",
    "        ref, hyp = hyp, ref\n",
    "        m, n = n, m\n",
    "\n",
    "    # use O(min(m, n)) space\n",
    "    distance = np.zeros((2, n + 1), dtype=np.int32)\n",
    "\n",
    "    # initialize distance matrix\n",
    "    for j in range(0,n + 1):\n",
    "        distance[0][j] = j\n",
    "\n",
    "    # calculate levenshtein distance\n",
    "    for i in range(1, m + 1):\n",
    "        prev_row_idx = (i - 1) % 2\n",
    "        cur_row_idx = i % 2\n",
    "        distance[cur_row_idx][0] = i\n",
    "        for j in range(1, n + 1):\n",
    "            if ref[i - 1] == hyp[j - 1]:\n",
    "                distance[cur_row_idx][j] = distance[prev_row_idx][j - 1]\n",
    "            else:\n",
    "                s_num = distance[prev_row_idx][j - 1] + 1\n",
    "                i_num = distance[cur_row_idx][j - 1] + 1\n",
    "                d_num = distance[prev_row_idx][j] + 1\n",
    "                distance[cur_row_idx][j] = min(s_num, i_num, d_num)\n",
    "\n",
    "    return distance[m % 2][n]\n",
    "\n",
    "\n",
    "def word_errors(reference, hypothesis, ignore_case=False, delimiter=' '):\n",
    "    if ignore_case == True:\n",
    "        reference = reference.lower()\n",
    "        hypothesis = hypothesis.lower()\n",
    "\n",
    "    ref_words = reference.split(delimiter)\n",
    "    hyp_words = hypothesis.split(delimiter)\n",
    "\n",
    "    edit_distance = _levenshtein_distance(ref_words, hyp_words)\n",
    "    return float(edit_distance), len(ref_words)\n",
    "\n",
    "\n",
    "def char_errors(reference, hypothesis, ignore_case=False, remove_space=False):\n",
    "    if ignore_case == True:\n",
    "        reference = reference.lower()\n",
    "        hypothesis = hypothesis.lower()\n",
    "\n",
    "    join_char = ' '\n",
    "    if remove_space == True:\n",
    "        join_char = ''\n",
    "\n",
    "    reference = join_char.join(filter(None, reference.split(' ')))\n",
    "    hypothesis = join_char.join(filter(None, hypothesis.split(' ')))\n",
    "\n",
    "    edit_distance = _levenshtein_distance(reference, hypothesis)\n",
    "    return float(edit_distance), len(reference)\n",
    "\n",
    "\n",
    "def wer(reference, hypothesis, ignore_case=False, delimiter=' '):\n",
    "  \n",
    "    edit_distance, ref_len = word_errors(reference, hypothesis, ignore_case,\n",
    "                                         delimiter)\n",
    "\n",
    "    if ref_len == 0:\n",
    "        raise ValueError(\"Reference's word number should be greater than 0.\")\n",
    "\n",
    "    wer = float(edit_distance) / ref_len\n",
    "    return wer\n",
    "\n",
    "\n",
    "def cer(reference, hypothesis, ignore_case=False, remove_space=False):\n",
    " \n",
    "    edit_distance, ref_len = char_errors(reference, hypothesis, ignore_case,\n",
    "                                         remove_space)\n",
    "\n",
    "    if ref_len == 0:\n",
    "        raise ValueError(\"Length of reference should be greater than 0.\")\n",
    "\n",
    "    cer = float(edit_distance) / ref_len\n",
    "    return cer"
   ]
  },
  {
   "cell_type": "code",
   "execution_count": 3,
   "id": "a951bf5b",
   "metadata": {},
   "outputs": [
    {
     "name": "stdout",
     "output_type": "stream",
     "text": [
      "WARNING:tensorflow:No training configuration found in the save file, so the model was *not* compiled. Compile it manually.\n",
      "Model: \"functional_1\"\n",
      "__________________________________________________________________________________________________\n",
      " Layer (type)                   Output Shape         Param #     Connected to                     \n",
      "==================================================================================================\n",
      " image (InputLayer)             [(None, 128, 32, 1)  0           []                               \n",
      "                                ]                                                                 \n",
      "                                                                                                  \n",
      " Conv1 (Conv2D)                 (None, 128, 32, 64)  640         ['image[0][0]']                  \n",
      "                                                                                                  \n",
      " pool1 (MaxPooling2D)           (None, 64, 16, 64)   0           ['Conv1[0][0]']                  \n",
      "                                                                                                  \n",
      " Conv2 (Conv2D)                 (None, 64, 16, 128)  73856       ['pool1[0][0]']                  \n",
      "                                                                                                  \n",
      " pool2 (MaxPooling2D)           (None, 32, 8, 128)   0           ['Conv2[0][0]']                  \n",
      "                                                                                                  \n",
      " Conv3 (Conv2D)                 (None, 32, 8, 256)   295168      ['pool2[0][0]']                  \n",
      "                                                                                                  \n",
      " Conv4 (Conv2D)                 (None, 32, 8, 256)   590080      ['Conv3[0][0]']                  \n",
      "                                                                                                  \n",
      " pool4 (MaxPooling2D)           (None, 32, 4, 256)   0           ['Conv4[0][0]']                  \n",
      "                                                                                                  \n",
      " Conv5 (Conv2D)                 (None, 32, 4, 512)   1180160     ['pool4[0][0]']                  \n",
      "                                                                                                  \n",
      " BatchNormalization_1 (BatchNor  (None, 32, 4, 512)  2048        ['Conv5[0][0]']                  \n",
      " malization)                                                                                      \n",
      "                                                                                                  \n",
      " Conv6 (Conv2D)                 (None, 32, 4, 512)   2359808     ['BatchNormalization_1[0][0]']   \n",
      "                                                                                                  \n",
      " BatchNormalization_2 (BatchNor  (None, 32, 4, 512)  2048        ['Conv6[0][0]']                  \n",
      " malization)                                                                                      \n",
      "                                                                                                  \n",
      " pool6 (MaxPooling2D)           (None, 32, 2, 512)   0           ['BatchNormalization_2[0][0]']   \n",
      "                                                                                                  \n",
      " Conv7 (Conv2D)                 (None, 31, 1, 512)   1049088     ['pool6[0][0]']                  \n",
      "                                                                                                  \n",
      " reshape (Reshape)              (None, 31, 512)      0           ['Conv7[0][0]']                  \n",
      "                                                                                                  \n",
      " permute (Permute)              (None, 512, 31)      0           ['reshape[0][0]']                \n",
      "                                                                                                  \n",
      " dense (Dense)                  (None, 512, 31)      992         ['permute[0][0]']                \n",
      "                                                                                                  \n",
      " dim_reduction (Lambda)         (None, 31)           0           ['dense[0][0]']                  \n",
      "                                                                                                  \n",
      " repeat_vector (RepeatVector)   (None, 512, 31)      0           ['dim_reduction[0][0]']          \n",
      "                                                                                                  \n",
      " attention_vec (Permute)        (None, 31, 512)      0           ['repeat_vector[0][0]']          \n",
      "                                                                                                  \n",
      " attention_mul (Multiply)       (None, 31, 512)      0           ['reshape[0][0]',                \n",
      "                                                                  'attention_vec[0][0]']          \n",
      "                                                                                                  \n",
      " bidirectional (Bidirectional)  (None, 31, 256)      656384      ['attention_mul[0][0]']          \n",
      "                                                                                                  \n",
      " bidirectional_1 (Bidirectional  (None, 31, 256)     394240      ['bidirectional[0][0]']          \n",
      " )                                                                                                \n",
      "                                                                                                  \n",
      " last_dense (Dense)             (None, 31, 148)      38036       ['bidirectional_1[0][0]']        \n",
      "                                                                                                  \n",
      "==================================================================================================\n",
      "Total params: 6,642,548\n",
      "Trainable params: 6,640,500\n",
      "Non-trainable params: 2,048\n",
      "__________________________________________________________________________________________________\n"
     ]
    }
   ],
   "source": [
    "word_model = tf.keras.models.load_model(r'E:\\AI\\Handwriten\\model_word\\word_model_last.h5')\n",
    "word_model.summary()"
   ]
  },
  {
   "cell_type": "code",
   "execution_count": 23,
   "id": "69c1f242",
   "metadata": {},
   "outputs": [
    {
     "name": "stdout",
     "output_type": "stream",
     "text": [
      "Average CER: 6.11%\n",
      "Average WER: 14.76%\n",
      "Correct characters predicted : 92.62%\n",
      "Correct words predicted      : 85.24%\n"
     ]
    }
   ],
   "source": [
    "preds = word_model.predict(X_valid)\n",
    "#print('\\n preds',preds)\n",
    "decoded = tf.keras.backend.get_value(tf.keras.backend.ctc_decode(preds, input_length=np.ones(preds.shape[0])*preds.shape[1], \n",
    "                                   greedy=True)[0][0])\n",
    "#print ('\\n decoded',decoded)\n",
    "prediction = []\n",
    "for i in range(len(X_valid)):\n",
    "    prediction.append(num_to_label(decoded[i]))\n",
    "    \n",
    "#print ('\\n predict',num_to_label(decoded[0]))\n",
    "\n",
    "y_true = y_valid\n",
    "correct_char = 0\n",
    "total_char = 0\n",
    "correct = 0\n",
    "test_cer, test_wer = [], []\n",
    "\n",
    "for i in range(len(X_valid)):\n",
    "    pr = prediction[i]\n",
    "    tr = y_true[i]\n",
    "    total_char += len(tr)\n",
    "    \n",
    "    for j in range(min(len(tr), len(pr))):\n",
    "        if tr[j] == pr[j]:\n",
    "            correct_char += 1\n",
    "            \n",
    "    if pr == tr :\n",
    "        correct += 1 \n",
    "    \n",
    "    test_cer.append(cer(tr, pr))\n",
    "    test_wer.append(wer(tr, pr))\n",
    "                  \n",
    "avg_cer = sum(test_cer)/len(test_cer)   \n",
    "avg_wer = sum(test_wer)/len(test_wer)\n",
    "\n",
    "print ('Average CER: %.2f%%' %(avg_cer*100))\n",
    "print ('Average WER: %.2f%%' %(avg_wer*100))\n",
    "print('Correct characters predicted : %.2f%%' %(correct_char*100/total_char))\n",
    "print('Correct words predicted      : %.2f%%' %(correct*100/len(X_valid)))"
   ]
  },
  {
   "cell_type": "code",
   "execution_count": 38,
   "id": "fa42dd66",
   "metadata": {},
   "outputs": [],
   "source": [
    "preds = word_model.predict(X_valid)\n",
    "decoded = tf.keras.backend.get_value(tf.keras.backend.ctc_decode(preds,input_length=np.ones(preds.shape[0])*preds.shape[1], greedy=True)[0][0])\n",
    "prediction = []\n",
    "for i in range(len(X_valid)):\n",
    "    prediction.append(num_to_label(decoded[i]))"
   ]
  },
  {
   "cell_type": "code",
   "execution_count": 49,
   "id": "22e472d1",
   "metadata": {},
   "outputs": [],
   "source": [
    "y_true = y_valid\n",
    "correct_char = 0\n",
    "total_char = 0\n",
    "correct = 0\n",
    "test_cer, test_wer = [],[]"
   ]
  },
  {
   "cell_type": "code",
   "execution_count": 42,
   "id": "ccef4c2f",
   "metadata": {},
   "outputs": [],
   "source": [
    "for i in range(len(X_valid)):\n",
    "    pr = prediction[i]\n",
    "    tr = y_true[i]\n",
    "    total_char +=len(tr)\n",
    "    "
   ]
  },
  {
   "cell_type": "code",
   "execution_count": 52,
   "id": "fad8f5cd",
   "metadata": {},
   "outputs": [
    {
     "data": {
      "text/plain": [
       "3"
      ]
     },
     "execution_count": 52,
     "metadata": {},
     "output_type": "execute_result"
    }
   ],
   "source": [
    "min(len(tr),len(pr))"
   ]
  },
  {
   "cell_type": "code",
   "execution_count": 48,
   "id": "0856120a",
   "metadata": {},
   "outputs": [
    {
     "data": {
      "text/plain": [
       "16611"
      ]
     },
     "execution_count": 48,
     "metadata": {},
     "output_type": "execute_result"
    }
   ],
   "source": []
  },
  {
   "cell_type": "code",
   "execution_count": 25,
   "id": "5a8d5c15",
   "metadata": {},
   "outputs": [
    {
     "name": "stdout",
     "output_type": "stream",
     "text": [
      "True label:  quốc\n",
      "Predicted:  quốc \n",
      "\n",
      "True label:  nói\n",
      "Predicted:  nói \n",
      "\n",
      "True label:  của\n",
      "Predicted:  của \n",
      "\n",
      "True label:  nghĩ\n",
      "Predicted:  nghĩ \n",
      "\n",
      "True label:  Sông\n",
      "Predicted:  Sông \n",
      "\n",
      "True label:  mắt\n",
      "Predicted:  mắt \n",
      "\n",
      "True label:  giờ\n",
      "Predicted:  giờ \n",
      "\n",
      "True label:  ngân\n",
      "Predicted:  ngân \n",
      "\n",
      "True label:  tham\n",
      "Predicted:  tham \n",
      "\n",
      "True label:  này\n",
      "Predicted:  này \n",
      "\n",
      "True label:  đang\n",
      "Predicted:  đang \n",
      "\n",
      "True label:  mẹ\n",
      "Predicted:  mẹ \n",
      "\n",
      "True label:  không\n",
      "Predicted:  không \n",
      "\n",
      "True label:  tổ\n",
      "Predicted:  tố \n",
      "\n",
      "True label:  Hà\n",
      "Predicted:  Hồ \n",
      "\n",
      "True label:  khi\n",
      "Predicted:  khi \n",
      "\n",
      "True label:  người\n",
      "Predicted:  người \n",
      "\n",
      "True label:  an\n",
      "Predicted:  an \n",
      "\n",
      "True label:  nuôi\n",
      "Predicted:  nuôi \n",
      "\n",
      "True label:  lần\n",
      "Predicted:  lần \n",
      "\n"
     ]
    }
   ],
   "source": [
    "for index in range (20):\n",
    "    i = random.randint(0, len(X_valid))\n",
    "    print ('True label: ',y_valid[i])\n",
    "    print ('Predicted: ',prediction[i],'\\n')"
   ]
  },
  {
   "cell_type": "code",
   "execution_count": 19,
   "id": "2aa60460",
   "metadata": {},
   "outputs": [
    {
     "name": "stdout",
     "output_type": "stream",
     "text": [
      "WARNING:tensorflow:No training configuration found in the save file, so the model was *not* compiled. Compile it manually.\n"
     ]
    }
   ],
   "source": [
    "word_model = tf.keras.models.load_model(r'C:\\Users\\Administrator\\PycharmProjects\\pythonProject\\word_model_last.h5')"
   ]
  },
  {
   "cell_type": "code",
   "execution_count": 41,
   "id": "9cdf8e3f",
   "metadata": {},
   "outputs": [],
   "source": [
    "preds = word_model.predict(X_valid)"
   ]
  },
  {
   "cell_type": "code",
   "execution_count": 42,
   "id": "349a86ed",
   "metadata": {},
   "outputs": [],
   "source": [
    "decoded = tf.keras.backend.get_value(tf.keras.backend.ctc_decode(preds, input_length=np.ones(preds.shape[0])*preds.shape[1], \n",
    "                                   greedy=True)[0][0])"
   ]
  },
  {
   "cell_type": "code",
   "execution_count": 45,
   "id": "67b3c467",
   "metadata": {},
   "outputs": [
    {
     "data": {
      "text/plain": [
       "array([45, 42, 68, 55, -1, -1, -1, -1, -1, -1, -1, -1, -1, -1, -1, -1, -1,\n",
       "       -1, -1, -1, -1, -1, -1, -1, -1, -1, -1, -1, -1, -1, -1],\n",
       "      dtype=int64)"
      ]
     },
     "execution_count": 45,
     "metadata": {},
     "output_type": "execute_result"
    }
   ],
   "source": [
    "decoded[0]"
   ]
  },
  {
   "cell_type": "code",
   "execution_count": 46,
   "id": "35427c45",
   "metadata": {},
   "outputs": [],
   "source": [
    "prediction = []\n",
    "for i in range(len(X_valid)):\n",
    "    prediction.append(num_to_label(decoded[i]))"
   ]
  },
  {
   "cell_type": "code",
   "execution_count": 47,
   "id": "4bbe4cd1",
   "metadata": {},
   "outputs": [
    {
     "data": {
      "text/plain": [
       "'khâu'"
      ]
     },
     "execution_count": 47,
     "metadata": {},
     "output_type": "execute_result"
    }
   ],
   "source": [
    "prediction[0]"
   ]
  },
  {
   "cell_type": "code",
   "execution_count": 54,
   "id": "aa267dcc",
   "metadata": {},
   "outputs": [
    {
     "data": {
      "text/plain": [
       "'nhiên'"
      ]
     },
     "execution_count": 54,
     "metadata": {},
     "output_type": "execute_result"
    }
   ],
   "source": [
    "decoded.shape #(16611, 31)\n",
    "decoded[0].shape #(31,)\n",
    "preds[0].shape #(31, 148)\n",
    "preds.shape #(16611, 31, 148)\n",
    "prediction[0]# 'nhiên'"
   ]
  },
  {
   "cell_type": "code",
   "execution_count": 32,
   "id": "9cce9d95",
   "metadata": {},
   "outputs": [
    {
     "data": {
      "text/plain": [
       "(16611, 31, 148)"
      ]
     },
     "execution_count": 32,
     "metadata": {},
     "output_type": "execute_result"
    }
   ],
   "source": [
    "preds[0].shape #(31, 148)\n",
    "preds.shape #(16611, 31, 148)"
   ]
  },
  {
   "cell_type": "code",
   "execution_count": 29,
   "id": "d136fdce",
   "metadata": {},
   "outputs": [
    {
     "data": {
      "text/plain": [
       "array([31., 31., 31., ..., 31., 31., 31.])"
      ]
     },
     "execution_count": 29,
     "metadata": {},
     "output_type": "execute_result"
    }
   ],
   "source": [
    "(np.ones(preds.shape[0])*preds.shape[1]).shape # (16611,)\n",
    "np.ones(preds.shape[0])*preds.shape[1] # array([31., 31., 31., ..., 31., 31., 31.])"
   ]
  },
  {
   "cell_type": "code",
   "execution_count": 157,
   "id": "568eb6ba",
   "metadata": {},
   "outputs": [],
   "source": [
    "decode = tf.keras.backend.get_value(tf.keras.backend.ctc_decode(gh, input_length=[31.], \n",
    "                                   greedy=True)[0][0])"
   ]
  },
  {
   "cell_type": "code",
   "execution_count": 86,
   "id": "73d50881",
   "metadata": {},
   "outputs": [
    {
     "data": {
      "text/plain": [
       "array([31., 31., 31., ..., 31., 31., 31.])"
      ]
     },
     "execution_count": 86,
     "metadata": {},
     "output_type": "execute_result"
    }
   ],
   "source": [
    "(np.ones(preds.shape[0])*preds.shape[1])"
   ]
  },
  {
   "cell_type": "code",
   "execution_count": 106,
   "id": "621a57c6",
   "metadata": {},
   "outputs": [],
   "source": [
    "decode = decode.reshape(31,)"
   ]
  },
  {
   "cell_type": "code",
   "execution_count": 107,
   "id": "42fb74cc",
   "metadata": {},
   "outputs": [
    {
     "data": {
      "text/plain": [
       "'thể'"
      ]
     },
     "execution_count": 107,
     "metadata": {},
     "output_type": "execute_result"
    }
   ],
   "source": [
    "num_to_label(decode)"
   ]
  },
  {
   "cell_type": "code",
   "execution_count": 104,
   "id": "26a684d5",
   "metadata": {},
   "outputs": [
    {
     "data": {
      "text/plain": [
       "(31,)"
      ]
     },
     "execution_count": 104,
     "metadata": {},
     "output_type": "execute_result"
    }
   ],
   "source": [
    "decoded[0].shape"
   ]
  },
  {
   "cell_type": "code",
   "execution_count": 108,
   "id": "0bfe63ec",
   "metadata": {},
   "outputs": [
    {
     "data": {
      "text/plain": [
       "array([42., 66., 48., 41., -1., -1., -1., -1., -1., -1., -1.])"
      ]
     },
     "execution_count": 108,
     "metadata": {},
     "output_type": "execute_result"
    }
   ],
   "source": [
    "train_y[122]"
   ]
  },
  {
   "cell_type": "code",
   "execution_count": 160,
   "id": "107c1dc8",
   "metadata": {},
   "outputs": [
    {
     "data": {
      "text/plain": [
       "(1, 128, 32, 1)"
      ]
     },
     "execution_count": 160,
     "metadata": {},
     "output_type": "execute_result"
    }
   ],
   "source": [
    "a.shape"
   ]
  },
  {
   "cell_type": "code",
   "execution_count": 162,
   "id": "7ebdc0c3",
   "metadata": {},
   "outputs": [],
   "source": [
    "\n"
   ]
  },
  {
   "cell_type": "code",
   "execution_count": 163,
   "id": "e0cd6b68",
   "metadata": {},
   "outputs": [
    {
     "data": {
      "text/plain": [
       "(1, 128, 32, 1)"
      ]
     },
     "execution_count": 163,
     "metadata": {},
     "output_type": "execute_result"
    }
   ],
   "source": [
    "pic.shape"
   ]
  },
  {
   "cell_type": "code",
   "execution_count": 53,
   "id": "de0a282d",
   "metadata": {},
   "outputs": [
    {
     "data": {
      "text/plain": [
       "'rô'"
      ]
     },
     "execution_count": 53,
     "metadata": {},
     "output_type": "execute_result"
    }
   ],
   "source": [
    "pic = transformed_image\n",
    "pic= pic.reshape(1,128,32,1)\n",
    "gh=word_model.predict(pic)\n",
    "decode = tf.keras.backend.get_value(tf.keras.backend.ctc_decode(gh, input_length=[31.], \n",
    "                                   greedy=True)[0][0])\n",
    "decode = decode.reshape(31,)\n",
    "num_to_label(decode)"
   ]
  },
  {
   "cell_type": "code",
   "execution_count": 60,
   "id": "aa1eefaf",
   "metadata": {},
   "outputs": [
    {
     "data": {
      "text/plain": [
       "'Nước'"
      ]
     },
     "execution_count": 60,
     "metadata": {},
     "output_type": "execute_result"
    },
    {
     "data": {
      "image/png": "[encoded data removed]",
      "text/plain": [
       "<Figure size 640x480 with 1 Axes>"
      ]
     },
     "metadata": {},
     "output_type": "display_data"
    }
   ],
   "source": [
    "import cv2\n",
    "import numpy as np\n",
    "\n",
    "img_org = cv2.imread(r'C:/Users/Administrator/Downloads/test.png',0)\n",
    "img = cv2.resize(img_org, (128, 32), cv2.INTER_CUBIC)\n",
    "img = cv2.transpose(img)\n",
    "\n",
    "# Transform image\n",
    "transformed_image = transform_image(img)\n",
    "plt.imshow(img_org)\n",
    "\n",
    "pic = transformed_image\n",
    "pic= pic.reshape(1,128,32,1)\n",
    "gh=word_model.predict(pic)\n",
    "decode = tf.keras.backend.get_value(tf.keras.backend.ctc_decode(gh, input_length=[31.], \n",
    "                                   greedy=True)[0][0])\n",
    "decode = decode.reshape(31,)\n",
    "num_to_label(decode)"
   ]
  },
  {
   "cell_type": "code",
   "execution_count": 18,
   "id": "1bebd6ab",
   "metadata": {},
   "outputs": [
    {
     "name": "stdout",
     "output_type": "stream",
     "text": [
      "WARNING:tensorflow:No training configuration found in the save file, so the model was *not* compiled. Compile it manually.\n",
      "WARNING:tensorflow:5 out of the last 5 calls to <function Model.make_predict_function.<locals>.predict_function at 0x000002E707A088B8> triggered tf.function retracing. Tracing is expensive and the excessive number of tracings could be due to (1) creating @tf.function repeatedly in a loop, (2) passing tensors with different shapes, (3) passing Python objects instead of tensors. For (1), please define your @tf.function outside of the loop. For (2), @tf.function has experimental_relax_shapes=True option that relaxes argument shapes that can avoid unnecessary retracing. For (3), please refer to https://www.tensorflow.org/guide/function#controlling_retracing and https://www.tensorflow.org/api_docs/python/tf/function for  more details.\n",
      "Nước\n"
     ]
    },
    {
     "data": {
      "image/png": "[encoded data removed]",
      "text/plain": [
       "<Figure size 640x480 with 1 Axes>"
      ]
     },
     "metadata": {},
     "output_type": "display_data"
    }
   ],
   "source": [
    "from flask import Flask, request\n",
    "import tensorflow as tf\n",
    "from tensorflow import keras\n",
    "import cv2\n",
    "import numpy as np\n",
    "import matplotlib.pyplot as plt\n",
    "app = Flask(__name__)\n",
    "\n",
    "# Load the saved .h5 model\n",
    "model = tf.keras.models.load_model(r\"./model_word/word_model_last.h5\")\n",
    "\n",
    "alphabets = '0123456789ABCDEFGHIJKLMNOPQRSTUVWXYabcdefghijklmnopqrstuvxyzÀÁÂÔÚÝàáâãèéêìíòóôõùúýĂăĐđĩũƒƠơƯưạẢảẤấẦầẩẫậắằẳẵặẹẻẽếỀềỂểễỆệỉịọỏỐốỒồổỗộớờỞởỡợụỦủứừửữựỳỷỹ'\n",
    "\n",
    "\n",
    "def label_to_num(label):\n",
    "    label_num = []\n",
    "    for ch in label:\n",
    "        label_num.append(alphabets.find(ch))\n",
    "\n",
    "    return np.array(label_num)\n",
    "\n",
    "\n",
    "def num_to_label(num):\n",
    "    ret = \"\"\n",
    "    for ch in num:\n",
    "        if ch == -1:  # CTC Blank\n",
    "            break\n",
    "        else:\n",
    "            ret += alphabets[ch]\n",
    "    return ret\n",
    "# Preprocessing function\n",
    "def preprocess_image(img):\n",
    "    img = cv2.resize(img, (128, 32), cv2.INTER_CUBIC)\n",
    "    img = cv2.transpose(img)\n",
    "\n",
    "    # Transform image\n",
    "    transformed_image = transform_image(img)\n",
    "    return transformed_image\n",
    "\n",
    "\n",
    "# Decoding function\n",
    "def decode_result(encoded_result):\n",
    "    decode = tf.keras.backend.get_value(tf.keras.backend.ctc_decode(model, input_length=[31.],greedy=True)[0][0])\n",
    "    decode = decode.reshape(31, )\n",
    "    return decode\n",
    "\n",
    "def transform_image(image):\n",
    "    image = (255 - image) * (-10/255)\n",
    "    return np.around(image)\n",
    "\n",
    "\n",
    "\n",
    "image = cv2.imread(r'C:/Users/Administrator/Downloads/test.png',0)   \n",
    "plt.imshow(image)\n",
    "# Preprocess the input image\n",
    "processed_image = preprocess_image(image)\n",
    "processed_image = processed_image.reshape(1,128,32,1)\n",
    "# Use the model to make a prediction\n",
    "# prediction = model.predict(processed_image)\n",
    "gh = model.predict(processed_image)\n",
    "decode = tf.keras.backend.get_value(tf.keras.backend.ctc_decode(gh, input_length=[31.],\n",
    "                                                                greedy=True)[0][0])\n",
    "decode = decode.reshape(31, )\n",
    "# Decode the result\n",
    "result = num_to_label(decode)\n",
    "\n",
    "print(result)\n",
    "\n"
   ]
  },
  {
   "cell_type": "code",
   "execution_count": null,
   "id": "a6f8eccb",
   "metadata": {},
   "outputs": [],
   "source": []
  },
  {
   "cell_type": "code",
   "execution_count": 3,
   "id": "8439da4a",
   "metadata": {},
   "outputs": [
    {
     "name": "stdout",
     "output_type": "stream",
     "text": [
      "WARNING:tensorflow:No training configuration found in the save file, so the model was *not* compiled. Compile it manually.\n"
     ]
    }
   ],
   "source": [
    "model = tf.keras.models.load_model(r\"./model_word/word_model_last.h5\")"
   ]
  },
  {
   "cell_type": "code",
   "execution_count": 5,
   "id": "66a7203a",
   "metadata": {},
   "outputs": [
    {
     "name": "stdout",
     "output_type": "stream",
     "text": [
      "the number of characters: 147\n"
     ]
    }
   ],
   "source": [
    "alphabets = '0123456789ABCDEFGHIJKLMNOPQRSTUVWXYabcdefghijklmnopqrstuvxyzÀÁÂÔÚÝàáâãèéêìíòóôõùúýĂăĐđĩũƒƠơƯưạẢảẤấẦầẩẫậắằẳẵặẹẻẽếỀềỂểễỆệỉịọỏỐốỒồổỗộớờỞởỡợụỦủứừửữựỳỷỹ'\n",
    "print ('the number of characters:', len(alphabets))\n",
    "#max_str_len = 15 # max length of input labels\n",
    "num_of_characters = len(alphabets) + 1 # +1 for ctc pseudo blank\n",
    "num_of_timestamps = 31  # max length of predicted labels # Đặt num_of_timestamps <= shape(last Dense model)\n",
    "\n",
    "\n",
    "def label_to_num(label):\n",
    "    label_num = []\n",
    "    for ch in label:\n",
    "        label_num.append(alphabets.find(ch))\n",
    "        \n",
    "    return np.array(label_num)\n",
    "\n",
    "def num_to_label(num):\n",
    "    ret = \"\"\n",
    "    for ch in num:\n",
    "        if ch == -1:  # CTC Blank\n",
    "            break\n",
    "        else:\n",
    "            ret+=alphabets[ch]\n",
    "    return ret"
   ]
  },
  {
   "cell_type": "code",
   "execution_count": 19,
   "id": "41c08560",
   "metadata": {},
   "outputs": [],
   "source": [
    "preds = word_model.predict(X_valid)\n",
    "#print('\\n preds',preds)\n",
    "decoded = tf.keras.backend.get_value(tf.keras.backend.ctc_decode(preds, input_length=np.ones(preds.shape[0])*preds.shape[1],greedy=True)[0][0])"
   ]
  },
  {
   "cell_type": "code",
   "execution_count": 25,
   "id": "11cdd7ce",
   "metadata": {},
   "outputs": [
    {
     "data": {
      "text/plain": [
       "(31, 148)"
      ]
     },
     "execution_count": 25,
     "metadata": {},
     "output_type": "execute_result"
    }
   ],
   "source": [
    "preds[0].shape"
   ]
  },
  {
   "cell_type": "code",
   "execution_count": 89,
   "id": "e1c95e85",
   "metadata": {},
   "outputs": [
    {
     "data": {
      "image/png": "[encoded data removed]",
      "text/plain": [
       "<Figure size 640x480 with 1 Axes>"
      ]
     },
     "metadata": {},
     "output_type": "display_data"
    },
    {
     "data": {
      "image/png": "[encoded data removed]",
      "text/plain": [
       "<Figure size 640x480 with 1 Axes>"
      ]
     },
     "metadata": {},
     "output_type": "display_data"
    },
    {
     "name": "stdout",
     "output_type": "stream",
     "text": [
      "(128, 32)\n"
     ]
    },
    {
     "data": {
      "text/plain": [
       "(1, 128, 32, 1)"
      ]
     },
     "execution_count": 89,
     "metadata": {},
     "output_type": "execute_result"
    }
   ],
   "source": [
    "def pltshow(img,caption):\n",
    "    plt.imshow(img)\n",
    "    plt.title(caption)\n",
    "    plt.show()\n",
    "import cv2\n",
    "\n",
    "img = cv2.imread(r'C:\\Users\\Administrator\\PycharmProjects\\pythonProject\\picture\\test.png',0)\n",
    "pltshow(img,'Before')\n",
    "\n",
    "def transform_image(image):\n",
    "    image = (255 - image) * (-10/255)\n",
    "    return np.around(image)\n",
    "def preprocess_image(img):\n",
    "    img = cv2.resize(img, (128, 32), cv2.INTER_CUBIC)\n",
    "    img = cv2.transpose(img)\n",
    "\n",
    "    # Transform image\n",
    "    transformed_image = transform_image(img)\n",
    "    return transformed_image\n",
    "img = preprocess_image(img)\n",
    "pltshow(img,'After')\n",
    "print(img.shape)\n",
    "img = np.array(img).reshape(-1, 128, 32, 1)\n",
    "img.shape"
   ]
  },
  {
   "cell_type": "code",
   "execution_count": 90,
   "id": "70978f5a",
   "metadata": {},
   "outputs": [
    {
     "name": "stdout",
     "output_type": "stream",
     "text": [
      "WARNING:tensorflow:No training configuration found in the save file, so the model was *not* compiled. Compile it manually.\n"
     ]
    }
   ],
   "source": [
    "model = tf.keras.models.load_model(r'C:\\Users\\Administrator\\PycharmProjects\\pythonProject\\word_model_last.h5')"
   ]
  },
  {
   "cell_type": "code",
   "execution_count": 102,
   "id": "dc914557",
   "metadata": {},
   "outputs": [
    {
     "data": {
      "text/plain": [
       "1"
      ]
     },
     "execution_count": 102,
     "metadata": {},
     "output_type": "execute_result"
    }
   ],
   "source": [
    "preds = model.predict(img)\n",
    "decoded = tf.keras.backend.get_value(tf.keras.backend.ctc_decode(preds, input_length=np.ones(preds.shape[0])*preds.shape[1], \n",
    "                                   greedy=True)[0][0])\n",
    "num_to_label(decoded[0])\n",
    "decoded.shape[0]"
   ]
  },
  {
   "cell_type": "code",
   "execution_count": 93,
   "id": "9a48bc86",
   "metadata": {},
   "outputs": [
    {
     "data": {
      "text/plain": [
       "array([31.])"
      ]
     },
     "execution_count": 93,
     "metadata": {},
     "output_type": "execute_result"
    }
   ],
   "source": [
    "np.ones(preds.shape[0])*preds.shape[1]"
   ]
  },
  {
   "cell_type": "code",
   "execution_count": 17,
   "id": "e5fed436",
   "metadata": {},
   "outputs": [
    {
     "data": {
      "text/plain": [
       "0.6666666666666666"
      ]
     },
     "execution_count": 17,
     "metadata": {},
     "output_type": "execute_result"
    }
   ],
   "source": [
    "cer('Nam','Ngạm')"
   ]
  },
  {
   "cell_type": "code",
   "execution_count": 12,
   "id": "531660e3",
   "metadata": {},
   "outputs": [
    {
     "data": {
      "text/plain": [
       "0.2"
      ]
     },
     "execution_count": 12,
     "metadata": {},
     "output_type": "execute_result"
    }
   ],
   "source": [
    "cer('kKhoa','Khoa')"
   ]
  }
 ],
 "metadata": {
  "kernelspec": {
   "display_name": "Python 3 (ipykernel)",
   "language": "python",
   "name": "python3"
  },
  "language_info": {
   "codemirror_mode": {
    "name": "ipython",
    "version": 3
   },
   "file_extension": ".py",
   "mimetype": "text/x-python",
   "name": "python",
   "nbconvert_exporter": "python",
   "pygments_lexer": "ipython3",
   "version": "3.7.16"
  }
 },
 "nbformat": 4,
 "nbformat_minor": 5
}
