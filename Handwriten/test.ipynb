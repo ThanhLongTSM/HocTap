{
 "cells": [
  {
   "cell_type": "code",
   "execution_count": 2,
   "id": "b39d7e4d",
   "metadata": {},
   "outputs": [
    {
     "data": {
      "text/html": [
       "<style>.container { width:80% !important; }</style>"
      ],
      "text/plain": [
       "<IPython.core.display.HTML object>"
      ]
     },
     "metadata": {},
     "output_type": "display_data"
    }
   ],
   "source": [
    "from IPython.display import display, HTML\n",
    "display(HTML(\"<style>.container { width:80% !important; }</style>\"))"
   ]
  },
  {
   "cell_type": "code",
   "execution_count": 3,
   "id": "bdf8601c",
   "metadata": {},
   "outputs": [],
   "source": [
    "import os\n",
    "import cv2\n",
    "import numpy as np\n",
    "import pandas as pd\n",
    "import datetime\n",
    "import random\n",
    "import csv\n",
    "\n",
    "import tensorflow as tf\n",
    "from tensorflow import keras\n",
    "from tensorflow.keras import layers\n",
    "from sklearn.model_selection import GridSearchCV, train_test_split, RepeatedStratifiedKFold,cross_val_score, KFold, StratifiedKFold\n",
    "import pyprind\n",
    "import matplotlib.pyplot as plt\n",
    "import warnings\n",
    "warnings.filterwarnings('ignore')"
   ]
  },
  {
   "cell_type": "code",
   "execution_count": 4,
   "id": "b5340d88",
   "metadata": {},
   "outputs": [],
   "source": [
    "data = []\n",
    "datetime_object = datetime.date.today()\n",
    "data  = pd.read_csv('./aug_word_data4.csv')"
   ]
  },
  {
   "cell_type": "code",
   "execution_count": 5,
   "id": "06c95b99",
   "metadata": {},
   "outputs": [
    {
     "data": {
      "text/html": [
       "<div>\n",
       "<style scoped>\n",
       "    .dataframe tbody tr th:only-of-type {\n",
       "        vertical-align: middle;\n",
       "    }\n",
       "\n",
       "    .dataframe tbody tr th {\n",
       "        vertical-align: top;\n",
       "    }\n",
       "\n",
       "    .dataframe thead th {\n",
       "        text-align: right;\n",
       "    }\n",
       "</style>\n",
       "<table border=\"1\" class=\"dataframe\">\n",
       "  <thead>\n",
       "    <tr style=\"text-align: right;\">\n",
       "      <th></th>\n",
       "      <th>label</th>\n",
       "      <th>image</th>\n",
       "    </tr>\n",
       "  </thead>\n",
       "  <tbody>\n",
       "    <tr>\n",
       "      <th>0</th>\n",
       "      <td>Bản</td>\n",
       "      <td>0.0 0.0 0.0 0.0 0.0 0.0 0.0 0.0 0.0 0.0 0.0 0....</td>\n",
       "    </tr>\n",
       "    <tr>\n",
       "      <th>1</th>\n",
       "      <td>chất</td>\n",
       "      <td>0.0 0.0 0.0 0.0 0.0 0.0 0.0 0.0 0.0 0.0 0.0 0....</td>\n",
       "    </tr>\n",
       "    <tr>\n",
       "      <th>2</th>\n",
       "      <td>của</td>\n",
       "      <td>0.0 0.0 0.0 0.0 0.0 0.0 0.0 0.0 0.0 0.0 0.0 0....</td>\n",
       "    </tr>\n",
       "    <tr>\n",
       "      <th>3</th>\n",
       "      <td>thành</td>\n",
       "      <td>0.0 0.0 0.0 0.0 0.0 0.0 0.0 0.0 0.0 0.0 0.0 0....</td>\n",
       "    </tr>\n",
       "    <tr>\n",
       "      <th>4</th>\n",
       "      <td>công</td>\n",
       "      <td>0.0 0.0 0.0 0.0 0.0 0.0 0.0 0.0 0.0 0.0 0.0 0....</td>\n",
       "    </tr>\n",
       "  </tbody>\n",
       "</table>\n",
       "</div>"
      ],
      "text/plain": [
       "   label                                              image\n",
       "0    Bản  0.0 0.0 0.0 0.0 0.0 0.0 0.0 0.0 0.0 0.0 0.0 0....\n",
       "1   chất  0.0 0.0 0.0 0.0 0.0 0.0 0.0 0.0 0.0 0.0 0.0 0....\n",
       "2    của  0.0 0.0 0.0 0.0 0.0 0.0 0.0 0.0 0.0 0.0 0.0 0....\n",
       "3  thành  0.0 0.0 0.0 0.0 0.0 0.0 0.0 0.0 0.0 0.0 0.0 0....\n",
       "4   công  0.0 0.0 0.0 0.0 0.0 0.0 0.0 0.0 0.0 0.0 0.0 0...."
      ]
     },
     "execution_count": 5,
     "metadata": {},
     "output_type": "execute_result"
    }
   ],
   "source": [
    "data.head()"
   ]
  },
  {
   "cell_type": "code",
   "execution_count": 6,
   "id": "1d7b7292",
   "metadata": {},
   "outputs": [],
   "source": [
    "labels = []\n",
    "images = []\n",
    "labels = data.iloc[:,0].to_list()\n",
    "images = data.iloc[:,1].to_list()"
   ]
  },
  {
   "cell_type": "code",
   "execution_count": 7,
   "id": "42a0eee0",
   "metadata": {},
   "outputs": [
    {
     "name": "stdout",
     "output_type": "stream",
     "text": [
      "The number of data 110746\n"
     ]
    }
   ],
   "source": [
    "print('The number of data',len(labels))"
   ]
  },
  {
   "cell_type": "code",
   "execution_count": 8,
   "id": "0e348a71",
   "metadata": {},
   "outputs": [
    {
     "name": "stdout",
     "output_type": "stream",
     "text": [
      "Max string length =  11\n"
     ]
    }
   ],
   "source": [
    "max_str_len =   max([len(str(label)) for i,label in enumerate(labels)])\n",
    "print('Max string length = ', max_str_len)"
   ]
  },
  {
   "cell_type": "code",
   "execution_count": 9,
   "id": "95f1e8c6",
   "metadata": {},
   "outputs": [],
   "source": [
    "data = [] # This code here for not exploding the RAM"
   ]
  },
  {
   "cell_type": "code",
   "execution_count": 10,
   "id": "8452c7c4",
   "metadata": {},
   "outputs": [
    {
     "name": "stdout",
     "output_type": "stream",
     "text": [
      "The number of invalid data: 12\n",
      "The number of invalid data left 110734\n"
     ]
    }
   ],
   "source": [
    "count  = 0\n",
    "for i,label in enumerate(labels):\n",
    "    if type(label) == float:\n",
    "        del labels[i]\n",
    "        del images[i]\n",
    "        count +=1\n",
    "print('The number of invalid data:',count)\n",
    "print('The number of invalid data left',len(labels))"
   ]
  },
  {
   "cell_type": "code",
   "execution_count": 11,
   "id": "47fef1eb",
   "metadata": {
    "scrolled": true
   },
   "outputs": [
    {
     "data": {
      "text/plain": [
       "array([0., 0., 0., ..., 0., 0., 0.])"
      ]
     },
     "execution_count": 11,
     "metadata": {},
     "output_type": "execute_result"
    }
   ],
   "source": [
    "a = images[0]\n",
    "np.array(a.split(' '),dtype = float)\n"
   ]
  },
  {
   "cell_type": "code",
   "execution_count": 12,
   "id": "b57a02af",
   "metadata": {},
   "outputs": [],
   "source": [
    "t  = []\n",
    "for i, image in enumerate(images):\n",
    "    image = np.array(image.split(' '),dtype = float)\n",
    "    t.append(image)\n",
    "images = []"
   ]
  },
  {
   "cell_type": "code",
   "execution_count": 13,
   "id": "a7df5d8b",
   "metadata": {},
   "outputs": [
    {
     "name": "stdout",
     "output_type": "stream",
     "text": [
      "len images: 110734\n"
     ]
    }
   ],
   "source": [
    "images = t\n",
    "t  =[]\n",
    "print('len images:',len(images))"
   ]
  },
  {
   "cell_type": "code",
   "execution_count": 14,
   "id": "abc270b4",
   "metadata": {},
   "outputs": [],
   "source": [
    "images = np.array(images).reshape(-1,128,32,1)"
   ]
  },
  {
   "cell_type": "code",
   "execution_count": 15,
   "id": "1dea24a9",
   "metadata": {},
   "outputs": [
    {
     "data": {
      "text/plain": [
       "(128, 32, 1)"
      ]
     },
     "execution_count": 15,
     "metadata": {},
     "output_type": "execute_result"
    }
   ],
   "source": [
    "images[0].shape"
   ]
  },
  {
   "cell_type": "markdown",
   "id": "2cf6cd30",
   "metadata": {},
   "source": [
    "# Split data to train_valid_test"
   ]
  },
  {
   "cell_type": "code",
   "execution_count": 16,
   "id": "89e8c80a",
   "metadata": {},
   "outputs": [
    {
     "name": "stdout",
     "output_type": "stream",
     "text": [
      "\n",
      "len(X_train) 94123\n",
      "len(X_valid) 16611\n",
      "\n",
      " X_train.shape (94123, 128, 32, 1)\n",
      "\n",
      " X_valid.shape (16611, 128, 32, 1)\n"
     ]
    }
   ],
   "source": [
    "X_train, X_valid, y_train, y_valid = train_test_split(images, labels, train_size= 0.85, shuffle = True)\n",
    "images = []\n",
    "labels = [] \n",
    "print ('\\nlen(X_train)',len(X_train))\n",
    "print ('len(X_valid)',len(X_valid))\n",
    "print ('\\n X_train.shape',X_train.shape)\n",
    "print ('\\n X_valid.shape',X_valid.shape)"
   ]
  },
  {
   "cell_type": "code",
   "execution_count": 17,
   "id": "fa2daa02",
   "metadata": {},
   "outputs": [
    {
     "data": {
      "image/png": "[encoded data removed]",
      "text/plain": [
       "<Figure size 1200x700 with 6 Axes>"
      ]
     },
     "metadata": {},
     "output_type": "display_data"
    }
   ],
   "source": [
    "plt.figure(num = 'char',figsize  = (12,7))\n",
    "for i in range(6):\n",
    "    rand = random.randint(0,len(X_train))\n",
    "    plt.subplot(3,2,i+1)\n",
    "    plt.title(y_train[rand])\n",
    "    plt.imshow(np.rot90(np.fliplr(np.squeeze(X_train[rand,:,:,]))))\n",
    "    plt.axis('off')\n",
    "plt.show()"
   ]
  },
  {
   "cell_type": "code",
   "execution_count": 18,
   "id": "17d06d74",
   "metadata": {},
   "outputs": [
    {
     "data": {
      "text/plain": [
       "array([[0., 0., 0., ..., 0., 0., 0.],\n",
       "       [0., 0., 0., ..., 0., 0., 0.],\n",
       "       [0., 0., 0., ..., 0., 0., 0.],\n",
       "       ...,\n",
       "       [0., 0., 0., ..., 0., 0., 0.],\n",
       "       [0., 0., 0., ..., 0., 0., 0.],\n",
       "       [0., 0., 0., ..., 0., 0., 0.]])"
      ]
     },
     "execution_count": 18,
     "metadata": {},
     "output_type": "execute_result"
    }
   ],
   "source": [
    "np.squeeze(X_train[0,:,:,])"
   ]
  },
  {
   "cell_type": "code",
   "execution_count": 19,
   "id": "ab5e5fb2",
   "metadata": {},
   "outputs": [
    {
     "name": "stdout",
     "output_type": "stream",
     "text": [
      "the number of characters: 147\n"
     ]
    }
   ],
   "source": [
    "alphabets = '0123456789ABCDEFGHIJKLMNOPQRSTUVWXYabcdefghijklmnopqrstuvxyzÀÁÂÔÚÝàáâãèéêìíòóôõùúýĂăĐđĩũƒƠơƯưạẢảẤấẦầẩẫậắằẳẵặẹẻẽếỀềỂểễỆệỉịọỏỐốỒồổỗộớờỞởỡợụỦủứừửữựỳỷỹ'\n",
    "print ('the number of characters:', len(alphabets))\n",
    "#max_str_len = 15 # max length of input labels\n",
    "num_of_characters = len(alphabets) + 1 # +1 for ctc pseudo blank\n",
    "num_of_timestamps = 31  # max length of predicted labels # Đặt num_of_timestamps <= shape(last Dense model)\n",
    "\n",
    "\n",
    "def label_to_num(label):\n",
    "    label_num = []\n",
    "    for ch in label:\n",
    "        label_num.append(alphabets.find(ch))\n",
    "        \n",
    "    return np.array(label_num)\n",
    "\n",
    "def num_to_label(num):\n",
    "    ret = \"\"\n",
    "    for ch in num:\n",
    "        if ch == -1:  # CTC Blank\n",
    "            break\n",
    "        else:\n",
    "            ret+=alphabets[ch]\n",
    "    return ret"
   ]
  },
  {
   "cell_type": "code",
   "execution_count": 20,
   "id": "65ce8e51",
   "metadata": {},
   "outputs": [
    {
     "data": {
      "text/plain": [
       "'LL'"
      ]
     },
     "execution_count": 20,
     "metadata": {},
     "output_type": "execute_result"
    }
   ],
   "source": [
    "num_to_label([21,21,-1])"
   ]
  },
  {
   "cell_type": "code",
   "execution_count": 21,
   "id": "43481348",
   "metadata": {},
   "outputs": [],
   "source": [
    "train_y = np.ones([len(X_train), max_str_len]) * -1\n",
    "train_label_len = np.zeros([len(X_train), 1])\n",
    "train_input_len = np.ones([len(X_train), 1]) * (num_of_timestamps-2)\n",
    "train_output = np.zeros([len(X_train)])"
   ]
  },
  {
   "cell_type": "code",
   "execution_count": 22,
   "id": "017fa871",
   "metadata": {},
   "outputs": [],
   "source": [
    "for i in range(len(X_train)):\n",
    "    train_label_len[i] = len(y_train[i])\n",
    "    train_y[i,0:len(y_train[i])] = label_to_num(y_train[i])"
   ]
  },
  {
   "cell_type": "code",
   "execution_count": 23,
   "id": "539885c1",
   "metadata": {},
   "outputs": [],
   "source": [
    "valid_y = np.ones([len(X_valid), max_str_len]) * -1\n",
    "valid_label_len = np.zeros([len(X_valid), 1])\n",
    "valid_input_len = np.ones([len(X_valid), 1]) * (num_of_timestamps-2)\n",
    "valid_output = np.zeros([len(X_valid)])\n",
    "\n",
    "for i in range(len(X_valid)):\n",
    "    valid_label_len[i] = len(y_valid[i])\n",
    "    valid_y[i, 0:len(y_valid[i])]= label_to_num(y_valid[i])  \n",
    "    "
   ]
  },
  {
   "cell_type": "code",
   "execution_count": 31,
   "id": "ee37e598",
   "metadata": {},
   "outputs": [
    {
     "name": "stdout",
     "output_type": "stream",
     "text": [
      "Model: \"functional_1\"\n",
      "_________________________________________________________________\n",
      "Layer (type)                 Output Shape              Param #   \n",
      "=================================================================\n",
      "image (InputLayer)           [(None, 128, 32, 1)]      0         \n",
      "_________________________________________________________________\n",
      "Conv1 (Conv2D)               (None, 128, 32, 64)       640       \n",
      "_________________________________________________________________\n",
      "pool1 (MaxPooling2D)         (None, 64, 16, 64)        0         \n",
      "_________________________________________________________________\n",
      "Conv2 (Conv2D)               (None, 64, 16, 128)       73856     \n",
      "_________________________________________________________________\n",
      "pool2 (MaxPooling2D)         (None, 32, 8, 128)        0         \n",
      "_________________________________________________________________\n",
      "Conv3 (Conv2D)               (None, 32, 8, 256)        295168    \n",
      "_________________________________________________________________\n",
      "Conv4 (Conv2D)               (None, 32, 8, 256)        590080    \n",
      "_________________________________________________________________\n",
      "pool4 (MaxPooling2D)         (None, 32, 4, 256)        0         \n",
      "_________________________________________________________________\n",
      "Conv5 (Conv2D)               (None, 32, 4, 512)        1180160   \n",
      "_________________________________________________________________\n",
      "BatchNormalization_1 (BatchN (None, 32, 4, 512)        2048      \n",
      "_________________________________________________________________\n",
      "Conv6 (Conv2D)               (None, 32, 4, 512)        2359808   \n",
      "_________________________________________________________________\n",
      "BatchNormalization_2 (BatchN (None, 32, 4, 512)        2048      \n",
      "_________________________________________________________________\n",
      "pool6 (MaxPooling2D)         (None, 32, 2, 512)        0         \n",
      "_________________________________________________________________\n",
      "Conv7 (Conv2D)               (None, 31, 1, 512)        1049088   \n",
      "_________________________________________________________________\n",
      "reshape (Reshape)            (None, 31, 512)           0         \n",
      "_________________________________________________________________\n",
      "dense1 (Dense)               (None, 31, 512)           262656    \n",
      "_________________________________________________________________\n",
      "dense2 (Dense)               (None, 31, 256)           131328    \n",
      "_________________________________________________________________\n",
      "dropout_1 (Dropout)          (None, 31, 256)           0         \n",
      "_________________________________________________________________\n",
      "last_dense (Dense)           (None, 31, 148)           38036     \n",
      "=================================================================\n",
      "Total params: 5,984,916\n",
      "Trainable params: 5,982,868\n",
      "Non-trainable params: 2,048\n",
      "_________________________________________________________________\n"
     ]
    }
   ],
   "source": [
    "def build_word_model(alphabets, max_str_len, img_width = 128,img_height = 32):\n",
    "    # Inputs to the model\n",
    "\n",
    "    input_img = layers.Input(\n",
    "        shape=(img_width, img_height, 1), name=\"image\", dtype=\"float32\"\n",
    "    )\n",
    "    \n",
    "    # First conv block\n",
    "    x = layers.Conv2D(\n",
    "        64,\n",
    "        (3, 3),\n",
    "        activation=\"relu\",\n",
    "        kernel_initializer=\"he_normal\",\n",
    "        padding=\"same\",\n",
    "        name=\"Conv1\",\n",
    "    )(input_img)\n",
    "    x = layers.MaxPooling2D((2, 2),strides = 2, name=\"pool1\")(x)\n",
    "\n",
    "    # Second conv block\n",
    "    x = layers.Conv2D(\n",
    "        128,\n",
    "        (3, 3),\n",
    "        activation=\"relu\",\n",
    "        kernel_initializer=\"he_normal\",\n",
    "        padding=\"same\",\n",
    "        name=\"Conv2\",\n",
    "    )(x)\n",
    "    x = layers.MaxPooling2D((2, 2), strides = 2, name=\"pool2\")(x)\n",
    "\n",
    "    # Third conv block\n",
    "    x = layers.Conv2D(\n",
    "        256,\n",
    "        (3, 3),\n",
    "        activation=\"relu\",\n",
    "        kernel_initializer=\"he_normal\",\n",
    "        padding=\"same\",\n",
    "        name=\"Conv3\",\n",
    "    )(x)\n",
    "  \n",
    "\n",
    "    # Fourth conv block\n",
    "    x = layers.Conv2D(\n",
    "        256,\n",
    "        (3, 3),\n",
    "        activation=\"relu\",\n",
    "        kernel_initializer=\"he_normal\",\n",
    "        padding=\"same\",\n",
    "        name=\"Conv4\",\n",
    "    )(x)\n",
    "\n",
    "    x = layers.MaxPooling2D((1, 2), name=\"pool4\")(x)\n",
    "\n",
    "    # Fifth conv block\n",
    "    x = layers.Conv2D(\n",
    "        512,\n",
    "        (3, 3),\n",
    "        activation=\"relu\",\n",
    "        kernel_initializer=\"he_normal\",\n",
    "        padding=\"same\",\n",
    "        name=\"Conv5\",\n",
    "    )(x)\n",
    "\n",
    "    x = layers.BatchNormalization(momentum = 0.8, name=\"BatchNormalization_1\")(x)\n",
    "    \n",
    "\n",
    "    # Sixth conv block\n",
    "    x = layers.Conv2D(\n",
    "        512,\n",
    "        (3, 3),\n",
    "        activation=\"relu\",\n",
    "        kernel_initializer=\"he_normal\",\n",
    "        padding=\"same\",\n",
    "        name=\"Conv6\",\n",
    "    )(x)\n",
    "\n",
    "    x = layers.BatchNormalization(momentum = 0.8, name=\"BatchNormalization_2\")(x)\n",
    "\n",
    "    x = layers.MaxPooling2D((1, 2), name=\"pool6\")(x)\n",
    "\n",
    "    # Seventh conv block\n",
    "    x = layers.Conv2D(\n",
    "        512,\n",
    "        (2, 2),\n",
    "        activation=\"relu\",\n",
    "        kernel_initializer=\"he_normal\",\n",
    "        padding=\"valid\",\n",
    "        name=\"Conv7\",\n",
    "    )(x)\n",
    "\n",
    "\n",
    "    # The number of filters in the last layer is 512. Reshape accordingly before\n",
    "    # passing the output to the RNN part of the model\n",
    "\n",
    "    new_shape = (31,512) #Không cần downsampling #Nên coi shape lớp trước\n",
    "\n",
    "    x = layers.Reshape(target_shape=new_shape, name=\"reshape\")(x)    \n",
    "    x = layers.Dense(512, activation=\"relu\", name=\"dense1\")(x)\n",
    "    x = layers.Dense(256, activation=\"relu\", name=\"dense2\")(x)\n",
    "  \n",
    "    x = layers.Dropout(0.2)(x)\n",
    "\n",
    "#     def attention_rnn(inputs):\n",
    "#         # inputs.shape = (batch_size, time_steps, input_dim)\n",
    "#         input_dim = int(inputs.shape[2])\n",
    "#         timestep = int(inputs.shape[1])\n",
    "#         a = layers.Permute((2, 1))(inputs) #Permutes the dimensions of the input according to a given pattern.\n",
    "#         a = layers.Dense(timestep, activation='softmax')(a) #// Alignment Model + Softmax\n",
    "#         a = layers.Lambda(lambda x: keras.backend.mean(x, axis=1), name='dim_reduction')(a)\n",
    "#         a = layers.RepeatVector(input_dim)(a)\n",
    "#         a_probs = layers.Permute((2, 1), name='attention_vec')(a)\n",
    "#         output_attention_mul = layers.multiply([inputs, a_probs], name='attention_mul') #// Weighted Average \n",
    "#         return output_attention_mul\n",
    "\n",
    "#     x = attention_rnn(x)\n",
    "#     # RNNs\n",
    "#     x = layers.Bidirectional(layers.LSTM(128, return_sequences=True, dropout=0.25))(x)\n",
    "#     x = layers.Bidirectional(layers.LSTM(128, return_sequences=True, dropout=0.25))(x)\n",
    "    y_pred = layers.Dense(len(alphabets) + 1 , activation=\"softmax\", name=\"last_dense\")(x) # y pred\n",
    "    word_model = keras.models.Model(inputs=input_img, outputs=y_pred, name=\"functional_1\")\n",
    "    return word_model\n",
    "x  = build_word_model(alphabets = alphabets, max_str_len = max_str_len)\n",
    "x.summary()"
   ]
  },
  {
   "cell_type": "code",
   "execution_count": 7,
   "id": "aa231c2c",
   "metadata": {},
   "outputs": [
    {
     "name": "stdout",
     "output_type": "stream",
     "text": [
      "WARNING:tensorflow:No training configuration found in the save file, so the model was *not* compiled. Compile it manually.\n"
     ]
    }
   ],
   "source": [
    "alphabets = '0123456789ABCDEFGHIJKLMNOPQRSTUVWXYabcdefghijklmnopqrstuvxyzÀÁÂÔÚÝàáâãèéêìíòóôõùúýĂăĐđĩũƒƠơƯưạẢảẤấẦầẩẫậắằẳẵặẹẻẽếỀềỂểễỆệỉịọỏỐốỒồổỗộớờỞởỡợụỦủứừửữựỳỷỹ'\n",
    "import tensorflow as tf\n",
    "import base64\n",
    "from tensorflow import keras\n",
    "import numpy as np\n",
    "import cv2\n",
    "import matplotlib.pyplot as plt\n",
    "model = tf.keras.models.load_model('./word_model_last.h5')\n",
    "def label_to_num(label):\n",
    "    label_num = []\n",
    "    for ch in label:\n",
    "        label_num.append(alphabets.find(ch))\n",
    "\n",
    "    return np.array(label_num)\n",
    "\n",
    "def num_to_label(num):\n",
    "    ret = \"\"\n",
    "    for ch in num:\n",
    "        if ch == -1:  # CTC Blank\n",
    "            break\n",
    "        else:\n",
    "            ret += alphabets[ch]\n",
    "    return ret\n",
    "\n",
    "def readImage(path):\n",
    "    img = cv2.imread(path,0)\n",
    "    return img  #(128,32)\n",
    "\n",
    "def transform_image(image):\n",
    "    image = (255 - image) * (-10/255)\n",
    "    return np.around(image)\n",
    "def preprocess_image(img):\n",
    "\n",
    "    img = cv2.resize(img, (128, 32), cv2.INTER_CUBIC)\n",
    "    img = cv2.transpose(img)\n",
    "\n",
    "    # Transform image\n",
    "    transformed_image = transform_image(img)\n",
    "    '''\n",
    "    Next step must reshape image to (-1,128,32,1 )\n",
    "    '''\n",
    "    return transformed_image\n",
    "\n",
    "def predict(img):\n",
    "    preds = model.predict(img)\n",
    "    decoded = tf.keras.backend.get_value(\n",
    "        tf.keras.backend.ctc_decode(preds, input_length=np.ones(preds.shape[0]) * preds.shape[1],\n",
    "                                    greedy=True)[0][0])\n",
    "    prediction = []\n",
    "    for i in range(decoded.shape[0]):\n",
    "        prediction.append(num_to_label(decoded[i]))\n",
    "    return prediction\n",
    "\n",
    "def ShowPicture(pic,title):\n",
    "    plt.imshow(pic)\n",
    "    plt.title(title)\n",
    "    plt.show()\n",
    "    plt.xticks([])\n",
    "    plt.yticks([])\n",
    "    plt.axis('off')\n",
    "\n",
    "def base64_to_picture(anh_base64):\n",
    "    try:\n",
    "        anh_base64 = np.fromstring(base64.b64decode(anh_base64), dtype=np.uint8)\n",
    "        anh_base64 = cv2.imdecode(anh_base64, cv2.IMREAD_ANYCOLOR)\n",
    "    except:\n",
    "        return None\n",
    "    return anh_base64"
   ]
  },
  {
   "cell_type": "code",
   "execution_count": 18,
   "id": "aefb06f8",
   "metadata": {},
   "outputs": [],
   "source": [
    "import tensorflow as tf\n",
    "from tensorflow import keras\n",
    "import numpy as np\n",
    "from keras.preprocessing import image\n",
    "from keras.models import load_model\n",
    "from flask import jsonify"
   ]
  },
  {
   "cell_type": "code",
   "execution_count": 20,
   "id": "e86bc2e1",
   "metadata": {},
   "outputs": [],
   "source": [
    "img = image.load_img('./cac.png',color_mode='grayscale')\n",
    "img = image.img_to_array(img)\n",
    "img = preprocess_image(img)\n",
    "img = img.reshape(-1,128,32,1)\n",
    "prediction = predict(img)"
   ]
  },
  {
   "cell_type": "code",
   "execution_count": 21,
   "id": "bcd6efc5",
   "metadata": {},
   "outputs": [
    {
     "data": {
      "text/plain": [
       "\"['Cặc']\""
      ]
     },
     "execution_count": 21,
     "metadata": {},
     "output_type": "execute_result"
    }
   ],
   "source": [
    "str(prediction)"
   ]
  }
 ],
 "metadata": {
  "kernelspec": {
   "display_name": "Python 3 (ipykernel)",
   "language": "python",
   "name": "python3"
  },
  "language_info": {
   "codemirror_mode": {
    "name": "ipython",
    "version": 3
   },
   "file_extension": ".py",
   "mimetype": "text/x-python",
   "name": "python",
   "nbconvert_exporter": "python",
   "pygments_lexer": "ipython3",
   "version": "3.7.15"
  }
 },
 "nbformat": 4,
 "nbformat_minor": 5
}
