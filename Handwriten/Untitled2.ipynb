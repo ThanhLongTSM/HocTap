{
 "cells": [
  {
   "cell_type": "code",
   "execution_count": 1,
   "id": "d3fbcea6",
   "metadata": {},
   "outputs": [
    {
     "name": "stdout",
     "output_type": "stream",
     "text": [
      "Collecting editdistance\n",
      "  Using cached editdistance-0.6.2-cp37-cp37m-win_amd64.whl (22 kB)\n",
      "Installing collected packages: editdistance\n",
      "Successfully installed editdistance-0.6.2\n",
      "Note: you may need to restart the kernel to use updated packages.\n"
     ]
    }
   ],
   "source": [
    "pip install editdistance"
   ]
  },
  {
   "cell_type": "code",
   "execution_count": 3,
   "id": "3302d461",
   "metadata": {},
   "outputs": [
    {
     "data": {
      "text/plain": [
       "2"
      ]
     },
     "execution_count": 3,
     "metadata": {},
     "output_type": "execute_result"
    }
   ],
   "source": [
    "import editdistance\n",
    "editdistance.eval('Thanh','Thhhh')"
   ]
  },
  {
   "cell_type": "code",
   "execution_count": 4,
   "id": "eb4f6cdd",
   "metadata": {},
   "outputs": [],
   "source": [
    "def cer(hypothesis, truth):\n",
    "    return editdistance.eval(hypothesis, truth) / max(len(hypothesis), len(truth))"
   ]
  },
  {
   "cell_type": "code",
   "execution_count": 8,
   "id": "3594af67",
   "metadata": {},
   "outputs": [],
   "source": [
    "def wer(hypothesis, truth):\n",
    "    hypothesis_words = hypothesis.split()\n",
    "    truth_words = truth.split()\n",
    "\n",
    "    # Tính toán ma trận khoảng cách giữa hai danh sách các từ\n",
    "    matrix = editdistance.Matrix(len(hypothesis_words) + 1, len(truth_words) + 1)\n",
    "    for i in range(len(hypothesis_words) + 1):\n",
    "        for j in range(len(truth_words) + 1):\n",
    "            if i == 0:\n",
    "                matrix[i][j] = j\n",
    "            elif j == 0:\n",
    "                matrix[i][j] = i\n",
    "            else:\n",
    "                matrix[i][j] = min(matrix[i-1][j-1] + (0 if hypothesis_words[i-1] == truth_words[j-1] else 1),\n",
    "                                   matrix[i][j-1] + 1,\n",
    "                                   matrix[i-1][j] + 1)\n",
    "\n",
    "    # Trả về Word Error Rate\n",
    "    return matrix[len(hypothesis_words)][len(truth_words)] / max(len(hypothesis_words), len(truth_words))"
   ]
  },
  {
   "cell_type": "code",
   "execution_count": 13,
   "id": "9428ff64",
   "metadata": {},
   "outputs": [
    {
     "data": {
      "text/plain": [
       "0.0"
      ]
     },
     "execution_count": 13,
     "metadata": {},
     "output_type": "execute_result"
    }
   ],
   "source": [
    "cer('Thành','Thành')"
   ]
  }
 ],
 "metadata": {
  "kernelspec": {
   "display_name": "Python 3 (ipykernel)",
   "language": "python",
   "name": "python3"
  },
  "language_info": {
   "codemirror_mode": {
    "name": "ipython",
    "version": 3
   },
   "file_extension": ".py",
   "mimetype": "text/x-python",
   "name": "python",
   "nbconvert_exporter": "python",
   "pygments_lexer": "ipython3",
   "version": "3.7.16"
  }
 },
 "nbformat": 4,
 "nbformat_minor": 5
}
